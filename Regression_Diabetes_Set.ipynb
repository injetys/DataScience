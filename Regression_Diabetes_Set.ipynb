{
  "nbformat": 4,
  "nbformat_minor": 0,
  "metadata": {
    "colab": {
      "name": "Regression - Diabetes Set.ipynb",
      "provenance": [],
      "collapsed_sections": []
    },
    "kernelspec": {
      "name": "python3",
      "display_name": "Python 3"
    }
  },
  "cells": [
    {
      "cell_type": "markdown",
      "metadata": {
        "id": "Vjn2YAEhbXob"
      },
      "source": [
        "This activity is adapted from the Scikit-Learn example at https://scikit-learn.org/stable/auto_examples/linear_model/plot_ols.html#sphx-glr-auto-examples-linear-model-plot-ols-py"
      ]
    },
    {
      "cell_type": "markdown",
      "metadata": {
        "id": "eVRwsNTZbk9w"
      },
      "source": [
        "# Introduction to regression: Diabetes dataset\n",
        "\n",
        "First we load our dataset. This is a built-in dataset that is part of the Scikit-Learn library. So, there is no external file to load and parse."
      ]
    },
    {
      "cell_type": "code",
      "metadata": {
        "id": "y_vGiJIsbGbY"
      },
      "source": [
        "# Code source: Jaques Grobler\n",
        "# License: BSD 3 clause\n",
        "\n",
        "import matplotlib.pyplot as plt\n",
        "import numpy as np\n",
        "from sklearn import datasets, linear_model\n",
        "from sklearn.metrics import mean_squared_error, r2_score\n",
        "\n",
        "# Load the diabetes dataset\n",
        "diabetes = datasets.load_diabetes()"
      ],
      "execution_count": null,
      "outputs": []
    },
    {
      "cell_type": "markdown",
      "metadata": {
        "id": "x0TC4W3td3GP"
      },
      "source": [
        "## What are we working with?\n",
        "Let's look at the structure of our data. The data structure returned from our load_diabetes() method is a dictionary. Let's see what the keys are."
      ]
    },
    {
      "cell_type": "code",
      "metadata": {
        "id": "DX1LQmW9eNVS"
      },
      "source": [
        "print(diabetes.keys())"
      ],
      "execution_count": null,
      "outputs": []
    },
    {
      "cell_type": "markdown",
      "metadata": {
        "id": "SXOQmp-8fSus"
      },
      "source": [
        "What are the features?"
      ]
    },
    {
      "cell_type": "code",
      "metadata": {
        "id": "l25y7HykfU0F"
      },
      "source": [
        "print(diabetes['feature_names'])"
      ],
      "execution_count": null,
      "outputs": []
    },
    {
      "cell_type": "markdown",
      "metadata": {
        "id": "UXtevVGmfcXV"
      },
      "source": [
        "What do some of the feature vectors look like?"
      ]
    },
    {
      "cell_type": "code",
      "metadata": {
        "id": "0oTMym0CwVKw"
      },
      "source": [
        "print(diabetes['data'][:5])"
      ],
      "execution_count": null,
      "outputs": []
    },
    {
      "cell_type": "markdown",
      "metadata": {
        "id": "uAbWi8ZmxD5e"
      },
      "source": [
        "Can also access the *data* and *target* through class fields `data` and `target`"
      ]
    },
    {
      "cell_type": "code",
      "metadata": {
        "id": "us3GF-Zpwn16"
      },
      "source": [
        "print(diabetes.data[:5])"
      ],
      "execution_count": null,
      "outputs": []
    },
    {
      "cell_type": "markdown",
      "metadata": {
        "id": "exqBF1RAxbpy"
      },
      "source": [
        "What is the output for the first few instances?"
      ]
    },
    {
      "cell_type": "code",
      "metadata": {
        "id": "UW9ywkfSxQv9"
      },
      "source": [
        "print(diabetes.target[:5])"
      ],
      "execution_count": null,
      "outputs": []
    },
    {
      "cell_type": "markdown",
      "metadata": {
        "id": "tZtP65N2xmlc"
      },
      "source": [
        "## What's with our feature values?\n",
        "The output looks like what we saw in the original data set, but the attributes do not. \n",
        "\n",
        "For instance, for the first patient, their age is 0.038 and their gender is 0.05? \n",
        "\n",
        "*What's going on?*\n",
        "\n",
        "According to the documentation, the data has been scaled so each attribute has zero mean and a variance of 1. \n",
        "\n",
        "https://web.stanford.edu/~hastie/Papers/LARS/diabetes.sdata.txt\n",
        "\n",
        "This is a common scaling technique (*Standard scaling*). \n",
        "\n",
        "https://scikit-learn.org/stable/modules/generated/sklearn.preprocessing.StandardScaler.html\n",
        "\n",
        "We will talk more about different transformation techniques that we can apply to our data in the future.  Here we have some features with large values such as 80-130 (BP) and other others with small values such as 1-2 (sex). We can get poor performance if our attributes have significantly different ranges."
      ]
    },
    {
      "cell_type": "markdown",
      "metadata": {
        "id": "vhseE9XIdM5a"
      },
      "source": [
        "## Only use one feature\n",
        "For an example that is easy to visualize, we will just use one of the features (BMI). Ignoring the other features will mostly likely give us worse predictions. But our goal is to understand what is going on at this point.\n",
        "\n"
      ]
    },
    {
      "cell_type": "code",
      "metadata": {
        "id": "nqW6rM_l3HGM"
      },
      "source": [
        "# Use only one feature (BMI). BMI is column 3 (index=2) of the feature vectors.\n",
        "diabetes_X = diabetes.data[:, np.newaxis, 2]"
      ],
      "execution_count": null,
      "outputs": []
    },
    {
      "cell_type": "code",
      "metadata": {
        "id": "Pr0wcB_o3PZ-"
      },
      "source": [
        "print(diabetes_X[:5])"
      ],
      "execution_count": null,
      "outputs": []
    },
    {
      "cell_type": "markdown",
      "metadata": {
        "id": "acov5foy2Jfi"
      },
      "source": [
        "## Split our dataset\n",
        "We need to split our dataset into *training* and *test* sets. \n",
        "\n",
        "We split both the feature vectors (`data`) and the output (`target`).\n",
        "\n",
        "\n",
        "*  Training set: used for *learning* the model\n",
        "*   Test set: used for *evaluating* our trained model\n",
        "\n"
      ]
    },
    {
      "cell_type": "code",
      "metadata": {
        "id": "MekNyJ7B2qrX"
      },
      "source": [
        "# Split the data into training/testing sets\n",
        "from sklearn.model_selection import train_test_split\n",
        "diabetes_X_train, diabetes_X_test, diabetes_y_train, diabetes_y_test = train_test_split(\n",
        "    diabetes_X, diabetes.target, train_size=0.8, random_state=0)\n",
        "\n",
        "print('Training set size: {}'.format(len(diabetes_X_train)))\n",
        "print('Test set size: {}'.format(len(diabetes_X_test)))"
      ],
      "execution_count": null,
      "outputs": []
    },
    {
      "cell_type": "markdown",
      "metadata": {
        "id": "U0wQp0DwtnoC"
      },
      "source": [
        "## Create instance of the model object\n",
        "Before training, we must create an instance of our linear regression class."
      ]
    },
    {
      "cell_type": "code",
      "metadata": {
        "id": "kj09ZkAtuJBP"
      },
      "source": [
        "# Create linear regression object\n",
        "regr = linear_model.LinearRegression()"
      ],
      "execution_count": null,
      "outputs": []
    },
    {
      "cell_type": "markdown",
      "metadata": {
        "id": "uY22B2zkuLb9"
      },
      "source": [
        "## Train the model\n",
        "We train the model on our training set. \n",
        "\n",
        "With Scikit-Learn, *training* is done using the `fit(x,y)` function, where `x` is the list of training feature vectors (*input*) and `y` is the corresponding list of target values (*output*). \n",
        "\n",
        "All classifier and regressor classes inherit the `fit` function."
      ]
    },
    {
      "cell_type": "code",
      "metadata": {
        "id": "WSwqxy-Yu8Hh"
      },
      "source": [
        "# Train the model using the training sets\n",
        "regr.fit(diabetes_X_train, diabetes_y_train)"
      ],
      "execution_count": null,
      "outputs": []
    },
    {
      "cell_type": "code",
      "metadata": {
        "id": "-igSZ2qDwFTJ"
      },
      "source": [
        "# The coefficients for our line\n",
        "print('Coefficients: \\n', regr.coef_)"
      ],
      "execution_count": null,
      "outputs": []
    },
    {
      "cell_type": "markdown",
      "metadata": {
        "id": "2VWTKlGfu_Ri"
      },
      "source": [
        "## Evaluate the mode (Is it good?)\n",
        "How good is our model in practice? \n",
        "\n",
        "Training gives us a model that minimizes error on the training set. But, if the training set is not representative of the real world, then the model will do poorly in practice."
      ]
    },
    {
      "cell_type": "code",
      "metadata": {
        "id": "C29eI8NmdFLI"
      },
      "source": [
        "# Make predictions using the testing set\n",
        "diabetes_y_pred = regr.predict(diabetes_X_test)"
      ],
      "execution_count": null,
      "outputs": []
    },
    {
      "cell_type": "code",
      "metadata": {
        "id": "F2810G5sxChV"
      },
      "source": [
        "# Plot outputs\n",
        "plt.scatter(diabetes_X_test, diabetes_y_test,  color='black')\n",
        "plt.plot(diabetes_X_test, diabetes_y_pred, color='blue', linewidth=3)\n",
        "\n",
        "plt.xticks(())\n",
        "plt.yticks(())\n",
        "\n",
        "plt.show()"
      ],
      "execution_count": null,
      "outputs": []
    },
    {
      "cell_type": "markdown",
      "metadata": {
        "id": "scmAGPhexkUX"
      },
      "source": [
        "## Measuring error\n",
        "While plots are nice, there are many possible lines that fit the data. Some better than others. Visually, it can be difficult to tell which is a better fit. \n",
        "\n",
        "We would like to quantify the error. For this, we will use the *Root Mean Square Error* (RMSE).\n",
        "\n",
        "$$ error = \\sqrt{\\frac{1}{m}\\sum\\limits_{i=1}^{m}{(predicted_i - correct_i)^2}} $$\n",
        "\n",
        "\n",
        "Scikit-Learn has a function for calculating *mean squared error* (MSE). To get RMSE, we just compute the square root of the value returned by this function.\n",
        "\n"
      ]
    },
    {
      "cell_type": "code",
      "metadata": {
        "id": "H8K50AtdwgPk"
      },
      "source": [
        "# The root mean squared error (RMSE)\n",
        "print(\"Root mean squared error: %.2f\"\n",
        "      % np.sqrt(mean_squared_error(diabetes_y_test, diabetes_y_pred)))"
      ],
      "execution_count": null,
      "outputs": []
    },
    {
      "cell_type": "markdown",
      "metadata": {
        "id": "hleauI3N0kk3"
      },
      "source": [
        "## Use all features?\n",
        "With this example, we only used one of the 10 attributes (or features). What if our model used all 10? "
      ]
    },
    {
      "cell_type": "code",
      "metadata": {
        "id": "72X_No9NzVFT"
      },
      "source": [
        "# Split the data into training/testing sets\n",
        "from sklearn.model_selection import train_test_split\n",
        "diabetes_X_train, diabetes_X_test, diabetes_y_train, diabetes_y_test = train_test_split(\n",
        "    diabetes.data, diabetes.target, train_size=0.8, random_state=0)\n",
        "\n",
        "# Create linear regression object\n",
        "regr = linear_model.LinearRegression()\n",
        "\n",
        "# Train the model using the training sets\n",
        "regr.fit(diabetes_X_train, diabetes_y_train)\n",
        "\n",
        "# Make predictions using the testing set\n",
        "diabetes_y_pred = regr.predict(diabetes_X_test)\n",
        "\n",
        "# The root mean squared error (RMSE)\n",
        "print(\"Root mean squared error: %.2f\"\n",
        "      % np.sqrt(mean_squared_error(diabetes_y_test, diabetes_y_pred)))"
      ],
      "execution_count": null,
      "outputs": []
    },
    {
      "cell_type": "markdown",
      "metadata": {
        "id": "KsiWgZfBBcDn"
      },
      "source": [
        "# (30 pts) Lab activity 02 - Regression with synthetic data (Due Wed, Sept 9 by 11:59 PM)\n",
        "At times ML practitioners work with *synthetic* or data generated using a given mathematical model. \n",
        "\n",
        "The use of synthetic data allows practioners to control the characteristics of the datasets in order learn the capabilities and limits of given ML algorithms. \n",
        "\n",
        "In this activity, you will use a model to generate a dataset. Then you will perform regression on this dataset."
      ]
    },
    {
      "cell_type": "markdown",
      "metadata": {
        "id": "ndkS1O5zFd4O"
      },
      "source": [
        "## (1) Generate the data\n",
        "Scikit-learn has various generators for creating datasets with different properties. \n",
        "\n",
        "We will use the `make_regression` function for creating a dataset for testing regression algorithms.\n",
        "\n",
        "For details on `make_regression` see:\n",
        "\n",
        "https://scikit-learn.org/stable/modules/generated/sklearn.datasets.make_regression.html\n",
        "\n",
        "### About the data\n",
        "Our data will have the following properties.\n",
        "1. Number of samples (`n_samples`): 1000\n",
        "2. Number of features (`n_features`): 1 \n",
        "3. Number of output values (`n_targets`): 1\n",
        "4. Standard deviation of gaussian noise added to generated points (`noise`): 5.0\n",
        "\n",
        "We are just generating one feature per sample for the sake of this exercise, so we can easily visualize our data."
      ]
    },
    {
      "cell_type": "code",
      "metadata": {
        "id": "UOz8sJkKFcV7"
      },
      "source": [
        "from sklearn.datasets import make_regression\n",
        "\n",
        "# !!! Take note of the following statement. !!!\n",
        "# You will use it later in the lab for datasets with different noise values.\n",
        "data, targets = make_regression(n_samples=1000, n_features=1, n_targets=1, noise=5.0)"
      ],
      "execution_count": null,
      "outputs": []
    },
    {
      "cell_type": "markdown",
      "metadata": {
        "id": "ALTdGV0dHra3"
      },
      "source": [
        "## (2) What does our data look like?"
      ]
    },
    {
      "cell_type": "markdown",
      "metadata": {
        "id": "9_64B6T8c2rb"
      },
      "source": [
        "Display the feature values for the first 5 instances."
      ]
    },
    {
      "cell_type": "code",
      "metadata": {
        "id": "GEf4sUhJHv1t"
      },
      "source": [
        ""
      ],
      "execution_count": null,
      "outputs": []
    },
    {
      "cell_type": "markdown",
      "metadata": {
        "id": "zVnJLqY7c-BW"
      },
      "source": [
        "Display the output (i.e. targets) for the first 5 instances."
      ]
    },
    {
      "cell_type": "code",
      "metadata": {
        "id": "BFyApr3BdFif"
      },
      "source": [
        ""
      ],
      "execution_count": null,
      "outputs": []
    },
    {
      "cell_type": "markdown",
      "metadata": {
        "id": "cZdyT9avbGjG"
      },
      "source": [
        "## (3) Split the data\n",
        "Split the dataset into training (80%) and test (20%) sets. "
      ]
    },
    {
      "cell_type": "code",
      "metadata": {
        "id": "j9kPTY2xbTEB"
      },
      "source": [
        ""
      ],
      "execution_count": null,
      "outputs": []
    },
    {
      "cell_type": "markdown",
      "metadata": {
        "id": "nwyu-KElbefy"
      },
      "source": [
        "Display the sizes of the training and test sets. \n",
        "\n",
        "*(you should have 800 training instances and 200 test instances)*"
      ]
    },
    {
      "cell_type": "code",
      "metadata": {
        "id": "oOZIQN06bfqV"
      },
      "source": [
        "\n",
        "\n"
      ],
      "execution_count": null,
      "outputs": []
    },
    {
      "cell_type": "markdown",
      "metadata": {
        "id": "YMhUaBOQblgL"
      },
      "source": [
        "## (4) Train the model\n",
        "Train a linear regression model on your training set."
      ]
    },
    {
      "cell_type": "code",
      "metadata": {
        "id": "gxwxWyqJbw6h"
      },
      "source": [
        "# create the model\n"
      ],
      "execution_count": null,
      "outputs": []
    },
    {
      "cell_type": "code",
      "metadata": {
        "id": "A-kJZX0sb8eA"
      },
      "source": [
        "# train model\n"
      ],
      "execution_count": null,
      "outputs": []
    },
    {
      "cell_type": "markdown",
      "metadata": {
        "id": "mxHZ8deqcGrV"
      },
      "source": [
        "## (5) Evaluate the trained model\n",
        "Output your model's error (RMSE) on the test set."
      ]
    },
    {
      "cell_type": "code",
      "metadata": {
        "id": "zXkT4PdjcHpe"
      },
      "source": [
        "# Make predictions using the testing set\n",
        "\n",
        "\n",
        "# The root mean squared error (RMSE)\n"
      ],
      "execution_count": null,
      "outputs": []
    },
    {
      "cell_type": "markdown",
      "metadata": {
        "id": "rTmH1dZogb6f"
      },
      "source": [
        "As we did earlier with the diabetes dataset, plot the samples in the test set along with the predicted values."
      ]
    },
    {
      "cell_type": "code",
      "metadata": {
        "id": "-0HvpgaEchSu"
      },
      "source": [
        "# Plot outputs\n",
        "\n"
      ],
      "execution_count": null,
      "outputs": []
    },
    {
      "cell_type": "markdown",
      "metadata": {
        "id": "se7VK4nPeF0D"
      },
      "source": [
        "## (6) Repeat with different amounts of noise\n",
        "\n",
        "Repeat the steps you just did with data generated with `noise=10.0` and `noise=0.5`.\n",
        "\n",
        "1. What is the error with data generated with noise = 10.0?\n"
      ]
    },
    {
      "cell_type": "code",
      "metadata": {
        "id": "pmQa86Mce30Q"
      },
      "source": [
        "# create the data\n",
        "\n",
        "\n",
        "# split the data\n",
        "\n",
        "\n",
        "# create the model\n",
        "\n",
        "\n",
        "# train model\n",
        "\n",
        "\n",
        "# Make predictions using the testing set\n",
        "\n",
        "\n",
        "# The root mean squared error (RMSE)\n",
        "\n",
        "\n",
        "# Plot outputs\n"
      ],
      "execution_count": null,
      "outputs": []
    },
    {
      "cell_type": "markdown",
      "metadata": {
        "id": "uyvW0wmngO6c"
      },
      "source": [
        "2. What is the error with data generated with noise = 0.5?"
      ]
    },
    {
      "cell_type": "code",
      "metadata": {
        "id": "kbiEm3AdfX77"
      },
      "source": [
        "# create the data\n",
        "\n",
        "\n",
        "# split the data\n",
        "\n",
        "\n",
        "# create the model\n",
        "\n",
        "\n",
        "# train model\n",
        "\n",
        "\n",
        "# Make predictions using the testing set\n",
        "\n",
        "\n",
        "# The root mean squared error (RMSE)\n",
        "\n",
        "\n",
        "# Plot outputs\n"
      ],
      "execution_count": null,
      "outputs": []
    },
    {
      "cell_type": "markdown",
      "metadata": {
        "id": "1CRBmoELg5OZ"
      },
      "source": [
        "3. Do you notice a pattern with the error with these three experiments?\n",
        "\n"
      ]
    },
    {
      "cell_type": "markdown",
      "metadata": {
        "id": "A_Yz7IqU-JvM"
      },
      "source": [
        ""
      ]
    },
    {
      "cell_type": "markdown",
      "metadata": {
        "id": "SiE36ksiqoZA"
      },
      "source": [
        "# (10 pts) Participation quiz - Regression\n",
        "\n",
        "Answer the following questions for participation credit for today's class."
      ]
    },
    {
      "cell_type": "markdown",
      "metadata": {
        "id": "olxsGrNhqtA2"
      },
      "source": [
        "## (1) What is one thing that you learned in class today?"
      ]
    },
    {
      "cell_type": "markdown",
      "metadata": {
        "id": "jB0viwXHq3BI"
      },
      "source": [
        ""
      ]
    },
    {
      "cell_type": "markdown",
      "metadata": {
        "id": "dd7G2bIlqtav"
      },
      "source": [
        "## (2) What is one question that you have related to today's class?"
      ]
    },
    {
      "cell_type": "markdown",
      "metadata": {
        "id": "mi8lEgK0q30X"
      },
      "source": [
        ""
      ]
    },
    {
      "cell_type": "markdown",
      "metadata": {
        "id": "RrX_68XrOa1g"
      },
      "source": [
        "## (3) Given the linear model\n",
        "\n",
        "$$ w = [ -1, 3, 2]^T $$\n",
        "\n",
        "Suppose our features are $x_0$ = 1, $x_1$ = age, $x_2$ = BMI, what is the predicted output for the following patient?\n",
        "\n",
        "- Age = 53\n",
        "- BMI = 27"
      ]
    },
    {
      "cell_type": "markdown",
      "metadata": {
        "id": "IxGoTEtsYqS2"
      },
      "source": [
        ""
      ]
    }
  ]
}