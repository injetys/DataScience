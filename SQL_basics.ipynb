{
  "nbformat": 4,
  "nbformat_minor": 0,
  "metadata": {
    "colab": {
      "name": "SQL_basics.ipynb",
      "provenance": [],
      "collapsed_sections": [
        "cIpobgPab3p2",
        "NZLtEt2Kb3p-",
        "ptjPQAA3b3qH",
        "OB4zAh5wb3qL",
        "0BjGKWa4b3qQ",
        "grIs_5azb3qn",
        "9X-DTr0-b3qv",
        "rY6HmBkKb3q6",
        "z306nYmtb3rH",
        "dLPRF6Ghb3rL",
        "S3qcoSQOb3rS",
        "dNlku5sCb3ro",
        "1sg3-5Nyb3rp",
        "yDX-BuHJb3rx",
        "h0NpZT2Xb3r2",
        "mxbgqu0mb3r7",
        "JFRf4Ti8b3sG",
        "P8_XhFfnb3sH",
        "7m1fFzNmb3sP",
        "8QUYvbR3b3sW",
        "UxlXN31Ob3sZ"
      ]
    },
    "kernelspec": {
      "display_name": "Python 3",
      "language": "python",
      "name": "python3"
    }
  },
  "cells": [
    {
      "cell_type": "markdown",
      "metadata": {
        "id": "D_gSeRlfb3ow"
      },
      "source": [
        "# Databases 1\n",
        "\n",
        "This notebook is based on the Berkley DS100 course notebook, available [here](http://www.ds100.org/sp18/assets/lectures/lec11/sql_introduction_part1.html)."
      ]
    },
    {
      "cell_type": "markdown",
      "metadata": {
        "id": "avGg7ldhb3o2"
      },
      "source": [
        "# Introduction to SQL\n",
        "\n",
        "In this notebook we walk through basic SQL queries and review how to interact with SQL from Python. We will be using the [core sqlalchemy library](https://docs.sqlalchemy.org/en/latest/core/tutorial.html) as an abstraction layer on-top of the underlying database management system. We will not be using the sophisticated object relational management features available in sqlalchemy."
      ]
    },
    {
      "cell_type": "code",
      "metadata": {
        "id": "eJZCjPEcb3o7"
      },
      "source": [
        "import sqlalchemy"
      ],
      "execution_count": null,
      "outputs": []
    },
    {
      "cell_type": "markdown",
      "metadata": {
        "id": "WcO0dZhtb3pE"
      },
      "source": [
        "## Connecting to the Database\n",
        "\n",
        "For the first part of this assignment we will create and connect to a local SQLite database on your computer. SQLite is a simple file oriented database management \"library.\" In the following we launch a SQLite database stored in the `myfirst.db` file in the local folder."
      ]
    },
    {
      "cell_type": "code",
      "metadata": {
        "id": "XeYAcANAb3pF"
      },
      "source": [
        "# Delete the database if it already exists.\n",
        "# We want to start from scratch each time the notebook runs.\n",
        "from pathlib import Path\n",
        "dbfile = Path(\"myfirst.db\")\n",
        "if dbfile.exists():\n",
        "    dbfile.unlink()\n",
        "\n",
        "sqlite_uri = \"sqlite:///myfirst.db\"\n",
        "sqlite_engine = sqlalchemy.create_engine(sqlite_uri)"
      ],
      "execution_count": null,
      "outputs": []
    },
    {
      "cell_type": "markdown",
      "metadata": {
        "id": "DptVDgf_b3pL"
      },
      "source": [
        "On the first call there should be no tables present in the file."
      ]
    },
    {
      "cell_type": "code",
      "metadata": {
        "id": "9LZsZyi-b3pN",
        "colab": {
          "base_uri": "https://localhost:8080/",
          "height": 34
        },
        "outputId": "71663aff-3c27-4e72-d9af-65110ab720ba"
      },
      "source": [
        "sqlite_engine.table_names()"
      ],
      "execution_count": null,
      "outputs": [
        {
          "output_type": "execute_result",
          "data": {
            "text/plain": [
              "[]"
            ]
          },
          "metadata": {
            "tags": []
          },
          "execution_count": 3
        }
      ]
    },
    {
      "cell_type": "markdown",
      "metadata": {
        "id": "3_npqciEb3pS"
      },
      "source": [
        "## Creating a Table\n",
        "\n",
        "To start, we are going to define a toy relation (a.k.a. a table), populate it with some toy data, and work through some basic SQL. First, let's create the table of students.\n",
        "\n",
        "The table contains columns:\n",
        "\n",
        "* **name**: Text and unique (Primary Key)\n",
        "* **gpa**: Float with range constraints\n",
        "* **age**: Integer\n",
        "* **dept**: Text\n",
        "* **sex**: Char (e.g., 'M', 'F')\n",
        "Note that each column has a fixed data type.\n",
        "\n",
        "**The DBMS will enforce these types as data is inserted.**\n",
        "\n",
        "Note also the definition of a primary key, as we discussed in the lecture.\n",
        "\n",
        "**The DBMS will enforce the uniqueness of values in the key columns.**"
      ]
    },
    {
      "cell_type": "code",
      "metadata": {
        "id": "peE2rq2Nb3pT"
      },
      "source": [
        "sql_expr = \"\"\"\n",
        "CREATE TABLE students(\n",
        "    name TEXT PRIMARY KEY, \n",
        "    gpa FLOAT CHECK (gpa >= 0.0 and gpa <= 4.0), \n",
        "    age INTEGER, \n",
        "    dept TEXT, \n",
        "    gender CHAR);\n",
        "\"\"\"\n",
        "result = sqlite_engine.execute(sql_expr)"
      ],
      "execution_count": null,
      "outputs": []
    },
    {
      "cell_type": "markdown",
      "metadata": {
        "id": "Yctmvehob3pY"
      },
      "source": [
        "The query returns a sqlalchemy `ResultProxy` object:"
      ]
    },
    {
      "cell_type": "code",
      "metadata": {
        "id": "tqSuQtLDb3pb"
      },
      "source": [
        "result?\n",
        "# You can close the pop-up that results from running this cell\n",
        "# after you have examined its contents."
      ],
      "execution_count": null,
      "outputs": []
    },
    {
      "cell_type": "markdown",
      "metadata": {
        "id": "-aqBZOKGb3pg"
      },
      "source": [
        "We can check to see if the result object contains any data:"
      ]
    },
    {
      "cell_type": "code",
      "metadata": {
        "id": "Ropn1KKAb3ph",
        "colab": {
          "base_uri": "https://localhost:8080/",
          "height": 34
        },
        "outputId": "61245eb1-3a8f-4939-a0a9-a422c8c571bf"
      },
      "source": [
        "result.returns_rows"
      ],
      "execution_count": null,
      "outputs": [
        {
          "output_type": "execute_result",
          "data": {
            "text/plain": [
              "False"
            ]
          },
          "metadata": {
            "tags": []
          },
          "execution_count": 6
        }
      ]
    },
    {
      "cell_type": "markdown",
      "metadata": {
        "id": "v5OJHSVQb3pl"
      },
      "source": [
        "## Inserting Values into the Table\n",
        "\n",
        "Now let's manually insert some values into the table. Note that:\n",
        "\n",
        "* strings in SQL must be quoted with a single quote ' character.\n",
        "* insertions need to have values in the same order as the columns in the `create table` statement!"
      ]
    },
    {
      "cell_type": "code",
      "metadata": {
        "id": "xmOvXakVb3pn"
      },
      "source": [
        "sql_expr = \"\"\"\n",
        "INSERT INTO students VALUES \n",
        "  ('Sergey Brin', 2.8, 40, 'CS', 'M'),\n",
        "  ('Danah Boyd', 3.9, 35, 'CS', 'F'),\n",
        "  ('Bill Gates', 1.0, 60, 'CS', 'M'),\n",
        "  ('Hillary Mason', 4.0, 35, 'DATASCI', 'F'),\n",
        "  ('Mike Olson', 3.7, 50, 'CS', 'M'),\n",
        "  ('Mark Zuckerberg', 4.0, 30, 'CS', 'M'),\n",
        "  ('Sheryl Sandberg', 4.0, 47, 'BUSINESS', 'F'),\n",
        "  ('Susan Wojcicki', 4.0, 46, 'BUSINESS', 'F'),\n",
        "  ('Marissa Meyer', 4.0, 45, 'BUSINESS', 'F');\n",
        "\n",
        "\"\"\"\n",
        "result = sqlite_engine.execute(sql_expr)"
      ],
      "execution_count": null,
      "outputs": []
    },
    {
      "cell_type": "markdown",
      "metadata": {
        "id": "ZDwO6fqdb3ps"
      },
      "source": [
        "Again we see that this query returns nothing:"
      ]
    },
    {
      "cell_type": "code",
      "metadata": {
        "id": "zO9vLJCMb3pt",
        "colab": {
          "base_uri": "https://localhost:8080/",
          "height": 34
        },
        "outputId": "dc80526a-8452-4808-ab1a-8924d238befc"
      },
      "source": [
        "result.returns_rows"
      ],
      "execution_count": null,
      "outputs": [
        {
          "output_type": "execute_result",
          "data": {
            "text/plain": [
              "False"
            ]
          },
          "metadata": {
            "tags": []
          },
          "execution_count": 8
        }
      ]
    },
    {
      "cell_type": "code",
      "metadata": {
        "id": "UpKp9TUtb3pw"
      },
      "source": [
        "# TASK 1: Insert yourself into the students table as a new row.\n",
        "# Give yourself a GPA of 4.0 (hey, it's your table, why not?)\n",
        "\n",
        "sql_expr = \"\"\"\n",
        "INSERT\tINTO\tstudents\t\t\n",
        "VALUES\n",
        "      ('Steven Injety',\t4.0,\t18,\t'Data Science',\t'M');\n",
        "      \n",
        "    \"\"\"\n",
        "\n",
        "result = sqlite_engine.execute(sql_expr)"
      ],
      "execution_count": null,
      "outputs": []
    },
    {
      "cell_type": "markdown",
      "metadata": {
        "id": "cIpobgPab3p2"
      },
      "source": [
        "## Querying the Table\n",
        "\n",
        "Now that we have populated the table we can construct a query to extract the results."
      ]
    },
    {
      "cell_type": "code",
      "metadata": {
        "id": "2n72KQlsb3p3"
      },
      "source": [
        "sql_expr = \"\"\"\n",
        "SELECT * FROM students;\n",
        "\"\"\"\n",
        "result = sqlite_engine.execute(sql_expr)"
      ],
      "execution_count": null,
      "outputs": []
    },
    {
      "cell_type": "code",
      "metadata": {
        "id": "GmTmMyxAb3p7",
        "colab": {
          "base_uri": "https://localhost:8080/",
          "height": 34
        },
        "outputId": "6fe6d72d-324b-402e-e896-fc3a22a8b818"
      },
      "source": [
        "result.returns_rows"
      ],
      "execution_count": null,
      "outputs": [
        {
          "output_type": "execute_result",
          "data": {
            "text/plain": [
              "True"
            ]
          },
          "metadata": {
            "tags": []
          },
          "execution_count": 11
        }
      ]
    },
    {
      "cell_type": "markdown",
      "metadata": {
        "id": "NZLtEt2Kb3p-"
      },
      "source": [
        "### Iterating the Cursor\n",
        "The query returns a persistent connection in the form of a cursor which can be used to read data from the database."
      ]
    },
    {
      "cell_type": "code",
      "metadata": {
        "id": "CacByeYjb3p_",
        "colab": {
          "base_uri": "https://localhost:8080/",
          "height": 187
        },
        "outputId": "19754ce0-7a73-4a9c-c1d4-bc97e0bad3c4"
      },
      "source": [
        "[r for r in result.cursor]"
      ],
      "execution_count": null,
      "outputs": [
        {
          "output_type": "execute_result",
          "data": {
            "text/plain": [
              "[('Sergey Brin', 2.8, 40, 'CS', 'M'),\n",
              " ('Danah Boyd', 3.9, 35, 'CS', 'F'),\n",
              " ('Bill Gates', 1.0, 60, 'CS', 'M'),\n",
              " ('Hillary Mason', 4.0, 35, 'DATASCI', 'F'),\n",
              " ('Mike Olson', 3.7, 50, 'CS', 'M'),\n",
              " ('Mark Zuckerberg', 4.0, 30, 'CS', 'M'),\n",
              " ('Sheryl Sandberg', 4.0, 47, 'BUSINESS', 'F'),\n",
              " ('Susan Wojcicki', 4.0, 46, 'BUSINESS', 'F'),\n",
              " ('Marissa Meyer', 4.0, 45, 'BUSINESS', 'F'),\n",
              " ('Steven Injety', 4.0, 18, 'Data Science', 'M')]"
            ]
          },
          "metadata": {
            "tags": []
          },
          "execution_count": 12
        }
      ]
    },
    {
      "cell_type": "markdown",
      "metadata": {
        "id": "gneRg1u7b3qC"
      },
      "source": [
        "However, as we read the cursor we advance it and so it can only be used once:"
      ]
    },
    {
      "cell_type": "code",
      "metadata": {
        "id": "57h12riRb3qD",
        "colab": {
          "base_uri": "https://localhost:8080/",
          "height": 34
        },
        "outputId": "2e7aa4f5-d4b3-448f-9cdf-0b8194f04934"
      },
      "source": [
        "[r for r in result.cursor]"
      ],
      "execution_count": null,
      "outputs": [
        {
          "output_type": "execute_result",
          "data": {
            "text/plain": [
              "[]"
            ]
          },
          "metadata": {
            "tags": []
          },
          "execution_count": 13
        }
      ]
    },
    {
      "cell_type": "markdown",
      "metadata": {
        "id": "ptjPQAA3b3qH"
      },
      "source": [
        "### Using Pandas to Query the Database\n",
        "You can also use Pandas to query the database. Here we pass the engine (or a connection) into the [pandas.read_sql](https://pandas.pydata.org/pandas-docs/stable/generated/pandas.read_sql.html) function:"
      ]
    },
    {
      "cell_type": "code",
      "metadata": {
        "id": "3NRK83UCb3qI",
        "colab": {
          "base_uri": "https://localhost:8080/",
          "height": 359
        },
        "outputId": "4a117edf-f2f8-496e-b680-c9ee21fba3ab"
      },
      "source": [
        "import pandas as pd\n",
        "\n",
        "sql_expr = \"\"\"\n",
        "SELECT * FROM students;\n",
        "\"\"\"\n",
        "pd.read_sql(sql_expr, sqlite_engine)"
      ],
      "execution_count": null,
      "outputs": [
        {
          "output_type": "execute_result",
          "data": {
            "text/html": [
              "<div>\n",
              "<style scoped>\n",
              "    .dataframe tbody tr th:only-of-type {\n",
              "        vertical-align: middle;\n",
              "    }\n",
              "\n",
              "    .dataframe tbody tr th {\n",
              "        vertical-align: top;\n",
              "    }\n",
              "\n",
              "    .dataframe thead th {\n",
              "        text-align: right;\n",
              "    }\n",
              "</style>\n",
              "<table border=\"1\" class=\"dataframe\">\n",
              "  <thead>\n",
              "    <tr style=\"text-align: right;\">\n",
              "      <th></th>\n",
              "      <th>name</th>\n",
              "      <th>gpa</th>\n",
              "      <th>age</th>\n",
              "      <th>dept</th>\n",
              "      <th>gender</th>\n",
              "    </tr>\n",
              "  </thead>\n",
              "  <tbody>\n",
              "    <tr>\n",
              "      <th>0</th>\n",
              "      <td>Sergey Brin</td>\n",
              "      <td>2.8</td>\n",
              "      <td>40</td>\n",
              "      <td>CS</td>\n",
              "      <td>M</td>\n",
              "    </tr>\n",
              "    <tr>\n",
              "      <th>1</th>\n",
              "      <td>Danah Boyd</td>\n",
              "      <td>3.9</td>\n",
              "      <td>35</td>\n",
              "      <td>CS</td>\n",
              "      <td>F</td>\n",
              "    </tr>\n",
              "    <tr>\n",
              "      <th>2</th>\n",
              "      <td>Bill Gates</td>\n",
              "      <td>1.0</td>\n",
              "      <td>60</td>\n",
              "      <td>CS</td>\n",
              "      <td>M</td>\n",
              "    </tr>\n",
              "    <tr>\n",
              "      <th>3</th>\n",
              "      <td>Hillary Mason</td>\n",
              "      <td>4.0</td>\n",
              "      <td>35</td>\n",
              "      <td>DATASCI</td>\n",
              "      <td>F</td>\n",
              "    </tr>\n",
              "    <tr>\n",
              "      <th>4</th>\n",
              "      <td>Mike Olson</td>\n",
              "      <td>3.7</td>\n",
              "      <td>50</td>\n",
              "      <td>CS</td>\n",
              "      <td>M</td>\n",
              "    </tr>\n",
              "    <tr>\n",
              "      <th>5</th>\n",
              "      <td>Mark Zuckerberg</td>\n",
              "      <td>4.0</td>\n",
              "      <td>30</td>\n",
              "      <td>CS</td>\n",
              "      <td>M</td>\n",
              "    </tr>\n",
              "    <tr>\n",
              "      <th>6</th>\n",
              "      <td>Sheryl Sandberg</td>\n",
              "      <td>4.0</td>\n",
              "      <td>47</td>\n",
              "      <td>BUSINESS</td>\n",
              "      <td>F</td>\n",
              "    </tr>\n",
              "    <tr>\n",
              "      <th>7</th>\n",
              "      <td>Susan Wojcicki</td>\n",
              "      <td>4.0</td>\n",
              "      <td>46</td>\n",
              "      <td>BUSINESS</td>\n",
              "      <td>F</td>\n",
              "    </tr>\n",
              "    <tr>\n",
              "      <th>8</th>\n",
              "      <td>Marissa Meyer</td>\n",
              "      <td>4.0</td>\n",
              "      <td>45</td>\n",
              "      <td>BUSINESS</td>\n",
              "      <td>F</td>\n",
              "    </tr>\n",
              "    <tr>\n",
              "      <th>9</th>\n",
              "      <td>Steven Injety</td>\n",
              "      <td>4.0</td>\n",
              "      <td>18</td>\n",
              "      <td>Data Science</td>\n",
              "      <td>M</td>\n",
              "    </tr>\n",
              "  </tbody>\n",
              "</table>\n",
              "</div>"
            ],
            "text/plain": [
              "              name  gpa  age          dept gender\n",
              "0      Sergey Brin  2.8   40            CS      M\n",
              "1       Danah Boyd  3.9   35            CS      F\n",
              "2       Bill Gates  1.0   60            CS      M\n",
              "3    Hillary Mason  4.0   35       DATASCI      F\n",
              "4       Mike Olson  3.7   50            CS      M\n",
              "5  Mark Zuckerberg  4.0   30            CS      M\n",
              "6  Sheryl Sandberg  4.0   47      BUSINESS      F\n",
              "7   Susan Wojcicki  4.0   46      BUSINESS      F\n",
              "8    Marissa Meyer  4.0   45      BUSINESS      F\n",
              "9    Steven Injety  4.0   18  Data Science      M"
            ]
          },
          "metadata": {
            "tags": []
          },
          "execution_count": 14
        }
      ]
    },
    {
      "cell_type": "markdown",
      "metadata": {
        "id": "OB4zAh5wb3qL"
      },
      "source": [
        "## Primary Key Integrity Constraint\n",
        "What happens if we try to insert another record with the same primary key (name)?"
      ]
    },
    {
      "cell_type": "code",
      "metadata": {
        "id": "W1oarwqvb3qN",
        "colab": {
          "base_uri": "https://localhost:8080/",
          "height": 54
        },
        "outputId": "9b512e45-a472-4c6b-8264-30419f24025c"
      },
      "source": [
        "sql_expr = \"\"\"\n",
        "INSERT INTO students VALUES ('Bill Gates', 4.0, 60, 'BUSINESS', 'M')\n",
        "\"\"\"\n",
        "try:\n",
        "    result = sqlite_engine.execute(sql_expr)\n",
        "except Exception as e:\n",
        "    print(e)"
      ],
      "execution_count": null,
      "outputs": [
        {
          "output_type": "stream",
          "text": [
            "(sqlite3.IntegrityError) UNIQUE constraint failed: students.name [SQL: \"\\nINSERT INTO students VALUES ('Bill Gates', 4.0, 60, 'BUSINESS', 'M')\\n\"] (Background on this error at: http://sqlalche.me/e/gkpj)\n"
          ],
          "name": "stdout"
        }
      ]
    },
    {
      "cell_type": "markdown",
      "metadata": {
        "id": "VGQ3BC_Rb3qP"
      },
      "source": [
        "Notice in the above block of code we use `try:` and `except Exception as e:`. This accomplishes two goals:\n",
        "\n",
        "1. This syntax catches the exception and prevents the notebook from terminating when the error occurs (we are expecting this error!)\n",
        "2. This syntax also hides the full stack trace and only shows us the important message containing the final error."
      ]
    },
    {
      "cell_type": "markdown",
      "metadata": {
        "id": "0BjGKWa4b3qQ"
      },
      "source": [
        "## Saving a Dataframe to a Database\n",
        "We can also populate the database using Pandas. In the following we first obtain the Tips dataset from the seaborn visualization library as a dataframe:"
      ]
    },
    {
      "cell_type": "code",
      "metadata": {
        "id": "_veM68pmb3qR",
        "colab": {
          "base_uri": "https://localhost:8080/",
          "height": 204
        },
        "outputId": "add2bfb2-bb4f-4f7b-f20f-97c5015f7ce0"
      },
      "source": [
        "import seaborn as sns\n",
        "\n",
        "tips_df = sns.load_dataset(\"tips\")\n",
        "tips_df.head()"
      ],
      "execution_count": null,
      "outputs": [
        {
          "output_type": "execute_result",
          "data": {
            "text/html": [
              "<div>\n",
              "<style scoped>\n",
              "    .dataframe tbody tr th:only-of-type {\n",
              "        vertical-align: middle;\n",
              "    }\n",
              "\n",
              "    .dataframe tbody tr th {\n",
              "        vertical-align: top;\n",
              "    }\n",
              "\n",
              "    .dataframe thead th {\n",
              "        text-align: right;\n",
              "    }\n",
              "</style>\n",
              "<table border=\"1\" class=\"dataframe\">\n",
              "  <thead>\n",
              "    <tr style=\"text-align: right;\">\n",
              "      <th></th>\n",
              "      <th>total_bill</th>\n",
              "      <th>tip</th>\n",
              "      <th>sex</th>\n",
              "      <th>smoker</th>\n",
              "      <th>day</th>\n",
              "      <th>time</th>\n",
              "      <th>size</th>\n",
              "    </tr>\n",
              "  </thead>\n",
              "  <tbody>\n",
              "    <tr>\n",
              "      <th>0</th>\n",
              "      <td>16.99</td>\n",
              "      <td>1.01</td>\n",
              "      <td>Female</td>\n",
              "      <td>No</td>\n",
              "      <td>Sun</td>\n",
              "      <td>Dinner</td>\n",
              "      <td>2</td>\n",
              "    </tr>\n",
              "    <tr>\n",
              "      <th>1</th>\n",
              "      <td>10.34</td>\n",
              "      <td>1.66</td>\n",
              "      <td>Male</td>\n",
              "      <td>No</td>\n",
              "      <td>Sun</td>\n",
              "      <td>Dinner</td>\n",
              "      <td>3</td>\n",
              "    </tr>\n",
              "    <tr>\n",
              "      <th>2</th>\n",
              "      <td>21.01</td>\n",
              "      <td>3.50</td>\n",
              "      <td>Male</td>\n",
              "      <td>No</td>\n",
              "      <td>Sun</td>\n",
              "      <td>Dinner</td>\n",
              "      <td>3</td>\n",
              "    </tr>\n",
              "    <tr>\n",
              "      <th>3</th>\n",
              "      <td>23.68</td>\n",
              "      <td>3.31</td>\n",
              "      <td>Male</td>\n",
              "      <td>No</td>\n",
              "      <td>Sun</td>\n",
              "      <td>Dinner</td>\n",
              "      <td>2</td>\n",
              "    </tr>\n",
              "    <tr>\n",
              "      <th>4</th>\n",
              "      <td>24.59</td>\n",
              "      <td>3.61</td>\n",
              "      <td>Female</td>\n",
              "      <td>No</td>\n",
              "      <td>Sun</td>\n",
              "      <td>Dinner</td>\n",
              "      <td>4</td>\n",
              "    </tr>\n",
              "  </tbody>\n",
              "</table>\n",
              "</div>"
            ],
            "text/plain": [
              "   total_bill   tip     sex smoker  day    time  size\n",
              "0       16.99  1.01  Female     No  Sun  Dinner     2\n",
              "1       10.34  1.66    Male     No  Sun  Dinner     3\n",
              "2       21.01  3.50    Male     No  Sun  Dinner     3\n",
              "3       23.68  3.31    Male     No  Sun  Dinner     2\n",
              "4       24.59  3.61  Female     No  Sun  Dinner     4"
            ]
          },
          "metadata": {
            "tags": []
          },
          "execution_count": 16
        }
      ]
    },
    {
      "cell_type": "markdown",
      "metadata": {
        "id": "iV3xq5JSb3qU"
      },
      "source": [
        "We can then use the `pandas.to_sql` command to put the data in our SQLlite database:"
      ]
    },
    {
      "cell_type": "code",
      "metadata": {
        "id": "fHO5J6iob3qV"
      },
      "source": [
        "tips_df.to_sql(\"tips\", sqlite_engine)"
      ],
      "execution_count": null,
      "outputs": []
    },
    {
      "cell_type": "markdown",
      "metadata": {
        "id": "73d783P_b3qZ"
      },
      "source": [
        "We can see that a new table has been added:"
      ]
    },
    {
      "cell_type": "code",
      "metadata": {
        "id": "53tutBSsb3qa",
        "colab": {
          "base_uri": "https://localhost:8080/",
          "height": 34
        },
        "outputId": "548029cc-eb34-48d5-af37-1f8aeb333d2f"
      },
      "source": [
        "sqlite_engine.table_names()"
      ],
      "execution_count": null,
      "outputs": [
        {
          "output_type": "execute_result",
          "data": {
            "text/plain": [
              "['students', 'tips']"
            ]
          },
          "metadata": {
            "tags": []
          },
          "execution_count": 18
        }
      ]
    },
    {
      "cell_type": "markdown",
      "metadata": {
        "id": "0MUJUBM_b3qh"
      },
      "source": [
        "We can also query the table:"
      ]
    },
    {
      "cell_type": "code",
      "metadata": {
        "id": "-cGi2zXkb3qi",
        "colab": {
          "base_uri": "https://localhost:8080/",
          "height": 328
        },
        "outputId": "d51fd6ae-da14-4634-9949-4ccc04bf8d32"
      },
      "source": [
        "sql_expr = \"\"\"\n",
        "SELECT * FROM tips\n",
        "WHERE size > 4;\n",
        "\"\"\"\n",
        "pd.read_sql(sql_expr, sqlite_engine)"
      ],
      "execution_count": null,
      "outputs": [
        {
          "output_type": "execute_result",
          "data": {
            "text/html": [
              "<div>\n",
              "<style scoped>\n",
              "    .dataframe tbody tr th:only-of-type {\n",
              "        vertical-align: middle;\n",
              "    }\n",
              "\n",
              "    .dataframe tbody tr th {\n",
              "        vertical-align: top;\n",
              "    }\n",
              "\n",
              "    .dataframe thead th {\n",
              "        text-align: right;\n",
              "    }\n",
              "</style>\n",
              "<table border=\"1\" class=\"dataframe\">\n",
              "  <thead>\n",
              "    <tr style=\"text-align: right;\">\n",
              "      <th></th>\n",
              "      <th>index</th>\n",
              "      <th>total_bill</th>\n",
              "      <th>tip</th>\n",
              "      <th>sex</th>\n",
              "      <th>smoker</th>\n",
              "      <th>day</th>\n",
              "      <th>time</th>\n",
              "      <th>size</th>\n",
              "    </tr>\n",
              "  </thead>\n",
              "  <tbody>\n",
              "    <tr>\n",
              "      <th>0</th>\n",
              "      <td>125</td>\n",
              "      <td>29.80</td>\n",
              "      <td>4.20</td>\n",
              "      <td>Female</td>\n",
              "      <td>No</td>\n",
              "      <td>Thur</td>\n",
              "      <td>Lunch</td>\n",
              "      <td>6</td>\n",
              "    </tr>\n",
              "    <tr>\n",
              "      <th>1</th>\n",
              "      <td>141</td>\n",
              "      <td>34.30</td>\n",
              "      <td>6.70</td>\n",
              "      <td>Male</td>\n",
              "      <td>No</td>\n",
              "      <td>Thur</td>\n",
              "      <td>Lunch</td>\n",
              "      <td>6</td>\n",
              "    </tr>\n",
              "    <tr>\n",
              "      <th>2</th>\n",
              "      <td>142</td>\n",
              "      <td>41.19</td>\n",
              "      <td>5.00</td>\n",
              "      <td>Male</td>\n",
              "      <td>No</td>\n",
              "      <td>Thur</td>\n",
              "      <td>Lunch</td>\n",
              "      <td>5</td>\n",
              "    </tr>\n",
              "    <tr>\n",
              "      <th>3</th>\n",
              "      <td>143</td>\n",
              "      <td>27.05</td>\n",
              "      <td>5.00</td>\n",
              "      <td>Female</td>\n",
              "      <td>No</td>\n",
              "      <td>Thur</td>\n",
              "      <td>Lunch</td>\n",
              "      <td>6</td>\n",
              "    </tr>\n",
              "    <tr>\n",
              "      <th>4</th>\n",
              "      <td>155</td>\n",
              "      <td>29.85</td>\n",
              "      <td>5.14</td>\n",
              "      <td>Female</td>\n",
              "      <td>No</td>\n",
              "      <td>Sun</td>\n",
              "      <td>Dinner</td>\n",
              "      <td>5</td>\n",
              "    </tr>\n",
              "    <tr>\n",
              "      <th>5</th>\n",
              "      <td>156</td>\n",
              "      <td>48.17</td>\n",
              "      <td>5.00</td>\n",
              "      <td>Male</td>\n",
              "      <td>No</td>\n",
              "      <td>Sun</td>\n",
              "      <td>Dinner</td>\n",
              "      <td>6</td>\n",
              "    </tr>\n",
              "    <tr>\n",
              "      <th>6</th>\n",
              "      <td>185</td>\n",
              "      <td>20.69</td>\n",
              "      <td>5.00</td>\n",
              "      <td>Male</td>\n",
              "      <td>No</td>\n",
              "      <td>Sun</td>\n",
              "      <td>Dinner</td>\n",
              "      <td>5</td>\n",
              "    </tr>\n",
              "    <tr>\n",
              "      <th>7</th>\n",
              "      <td>187</td>\n",
              "      <td>30.46</td>\n",
              "      <td>2.00</td>\n",
              "      <td>Male</td>\n",
              "      <td>Yes</td>\n",
              "      <td>Sun</td>\n",
              "      <td>Dinner</td>\n",
              "      <td>5</td>\n",
              "    </tr>\n",
              "    <tr>\n",
              "      <th>8</th>\n",
              "      <td>216</td>\n",
              "      <td>28.15</td>\n",
              "      <td>3.00</td>\n",
              "      <td>Male</td>\n",
              "      <td>Yes</td>\n",
              "      <td>Sat</td>\n",
              "      <td>Dinner</td>\n",
              "      <td>5</td>\n",
              "    </tr>\n",
              "  </tbody>\n",
              "</table>\n",
              "</div>"
            ],
            "text/plain": [
              "   index  total_bill   tip     sex smoker   day    time  size\n",
              "0    125       29.80  4.20  Female     No  Thur   Lunch     6\n",
              "1    141       34.30  6.70    Male     No  Thur   Lunch     6\n",
              "2    142       41.19  5.00    Male     No  Thur   Lunch     5\n",
              "3    143       27.05  5.00  Female     No  Thur   Lunch     6\n",
              "4    155       29.85  5.14  Female     No   Sun  Dinner     5\n",
              "5    156       48.17  5.00    Male     No   Sun  Dinner     6\n",
              "6    185       20.69  5.00    Male     No   Sun  Dinner     5\n",
              "7    187       30.46  2.00    Male    Yes   Sun  Dinner     5\n",
              "8    216       28.15  3.00    Male    Yes   Sat  Dinner     5"
            ]
          },
          "metadata": {
            "tags": []
          },
          "execution_count": 19
        }
      ]
    },
    {
      "cell_type": "markdown",
      "metadata": {
        "id": "grIs_5azb3qn"
      },
      "source": [
        "## Exploring the Schema\n",
        "There is no mechanism in standard SQL to access the schema associated with each database management systems. However sqlalchemy provides a simple abstraction layer. I found the following [SQL Alchemy Quick Reference Sheet](https://www.pythonsheets.com/notes/python-sqlalchemy.html) to be very helpful."
      ]
    },
    {
      "cell_type": "code",
      "metadata": {
        "id": "ijU2s0Tib3qo",
        "colab": {
          "base_uri": "https://localhost:8080/",
          "height": 34
        },
        "outputId": "5ba884db-ffdc-4a42-c3fb-2a6395ca43ca"
      },
      "source": [
        "inspector = sqlalchemy.inspect(sqlite_engine)\n",
        "inspector.get_table_names()"
      ],
      "execution_count": null,
      "outputs": [
        {
          "output_type": "execute_result",
          "data": {
            "text/plain": [
              "['students', 'tips']"
            ]
          },
          "metadata": {
            "tags": []
          },
          "execution_count": 20
        }
      ]
    },
    {
      "cell_type": "code",
      "metadata": {
        "id": "CeKluqsAb3qs",
        "colab": {
          "base_uri": "https://localhost:8080/",
          "height": 102
        },
        "outputId": "9a8c870d-1d38-4c8c-feb0-d33b5f85e4ee"
      },
      "source": [
        "# Get column information\n",
        "for col in inspector.get_columns(\"students\"):\n",
        "    print(col)"
      ],
      "execution_count": null,
      "outputs": [
        {
          "output_type": "stream",
          "text": [
            "{'name': 'name', 'type': TEXT(), 'nullable': True, 'default': None, 'autoincrement': 'auto', 'primary_key': 1}\n",
            "{'name': 'gpa', 'type': FLOAT(), 'nullable': True, 'default': None, 'autoincrement': 'auto', 'primary_key': 0}\n",
            "{'name': 'age', 'type': INTEGER(), 'nullable': True, 'default': None, 'autoincrement': 'auto', 'primary_key': 0}\n",
            "{'name': 'dept', 'type': TEXT(), 'nullable': True, 'default': None, 'autoincrement': 'auto', 'primary_key': 0}\n",
            "{'name': 'gender', 'type': CHAR(), 'nullable': True, 'default': None, 'autoincrement': 'auto', 'primary_key': 0}\n"
          ],
          "name": "stdout"
        }
      ]
    },
    {
      "cell_type": "markdown",
      "metadata": {
        "id": "9X-DTr0-b3qv"
      },
      "source": [
        "## Dropping Tables\n",
        "The drop command is used to remove tables from the database (be carefull!):"
      ]
    },
    {
      "cell_type": "code",
      "metadata": {
        "id": "HhWLBzFEb3qw",
        "colab": {
          "base_uri": "https://localhost:8080/",
          "height": 34
        },
        "outputId": "b65db643-808b-4f04-cea3-360b60a157ab"
      },
      "source": [
        "sql_expr = \"\"\"\n",
        "DROP TABLE tips;\n",
        "\"\"\"\n",
        "sqlite_engine.execute(sql_expr)"
      ],
      "execution_count": null,
      "outputs": [
        {
          "output_type": "execute_result",
          "data": {
            "text/plain": [
              "<sqlalchemy.engine.result.ResultProxy at 0x7f07deb28b70>"
            ]
          },
          "metadata": {
            "tags": []
          },
          "execution_count": 22
        }
      ]
    },
    {
      "cell_type": "markdown",
      "metadata": {
        "id": "4K-ROLFob3q0"
      },
      "source": [
        "Notice that the tips table no longer exists:"
      ]
    },
    {
      "cell_type": "code",
      "metadata": {
        "id": "xMXi0fGtb3q1",
        "colab": {
          "base_uri": "https://localhost:8080/",
          "height": 34
        },
        "outputId": "65b74c3e-934c-419b-b8ec-f88efd81c4e3"
      },
      "source": [
        "sqlite_engine.table_names()"
      ],
      "execution_count": null,
      "outputs": [
        {
          "output_type": "execute_result",
          "data": {
            "text/plain": [
              "['students']"
            ]
          },
          "metadata": {
            "tags": []
          },
          "execution_count": 23
        }
      ]
    },
    {
      "cell_type": "markdown",
      "metadata": {
        "id": "rY6HmBkKb3q6"
      },
      "source": [
        "## UPDATE values\n",
        "What is Bill Gates' GPA?"
      ]
    },
    {
      "cell_type": "code",
      "metadata": {
        "id": "nrH1zbV5b3q6",
        "colab": {
          "base_uri": "https://localhost:8080/",
          "height": 80
        },
        "outputId": "c64f9572-fecb-4e1f-c955-87d28a59ea68"
      },
      "source": [
        "sql_expr = \"\"\"\n",
        "SELECT * FROM students\n",
        "WHERE name LIKE  '%Bill%' -- SQL like regular expression\n",
        "\"\"\"\n",
        "pd.read_sql(sql_expr, sqlite_engine)"
      ],
      "execution_count": null,
      "outputs": [
        {
          "output_type": "execute_result",
          "data": {
            "text/html": [
              "<div>\n",
              "<style scoped>\n",
              "    .dataframe tbody tr th:only-of-type {\n",
              "        vertical-align: middle;\n",
              "    }\n",
              "\n",
              "    .dataframe tbody tr th {\n",
              "        vertical-align: top;\n",
              "    }\n",
              "\n",
              "    .dataframe thead th {\n",
              "        text-align: right;\n",
              "    }\n",
              "</style>\n",
              "<table border=\"1\" class=\"dataframe\">\n",
              "  <thead>\n",
              "    <tr style=\"text-align: right;\">\n",
              "      <th></th>\n",
              "      <th>name</th>\n",
              "      <th>gpa</th>\n",
              "      <th>age</th>\n",
              "      <th>dept</th>\n",
              "      <th>gender</th>\n",
              "    </tr>\n",
              "  </thead>\n",
              "  <tbody>\n",
              "    <tr>\n",
              "      <th>0</th>\n",
              "      <td>Bill Gates</td>\n",
              "      <td>1.0</td>\n",
              "      <td>60</td>\n",
              "      <td>CS</td>\n",
              "      <td>M</td>\n",
              "    </tr>\n",
              "  </tbody>\n",
              "</table>\n",
              "</div>"
            ],
            "text/plain": [
              "         name  gpa  age dept gender\n",
              "0  Bill Gates  1.0   60   CS      M"
            ]
          },
          "metadata": {
            "tags": []
          },
          "execution_count": 24
        }
      ]
    },
    {
      "cell_type": "markdown",
      "metadata": {
        "id": "6WDIJryyb3q9"
      },
      "source": [
        "Wow, Bill has a low GPA let's lend him a hand."
      ]
    },
    {
      "cell_type": "code",
      "metadata": {
        "id": "915hoQE7b3q_",
        "colab": {
          "base_uri": "https://localhost:8080/",
          "height": 34
        },
        "outputId": "4df376d2-1ad9-4c26-c247-a8c56e6bc0ee"
      },
      "source": [
        "sql_expr = \"\"\"\n",
        "UPDATE students\n",
        "SET gpa = 1.0 + gpa\n",
        "WHERE LOWER(name) = 'bill gates';\n",
        "\"\"\"\n",
        "sqlite_engine.execute(sql_expr)"
      ],
      "execution_count": null,
      "outputs": [
        {
          "output_type": "execute_result",
          "data": {
            "text/plain": [
              "<sqlalchemy.engine.result.ResultProxy at 0x7f07deb281d0>"
            ]
          },
          "metadata": {
            "tags": []
          },
          "execution_count": 25
        }
      ]
    },
    {
      "cell_type": "markdown",
      "metadata": {
        "id": "N1WSlJQnb3rB"
      },
      "source": [
        "And let's check the table now:"
      ]
    },
    {
      "cell_type": "code",
      "metadata": {
        "id": "dg7qjf8Nb3rE",
        "colab": {
          "base_uri": "https://localhost:8080/",
          "height": 80
        },
        "outputId": "5c2e1666-5205-4742-8ecb-3b340f5945f8"
      },
      "source": [
        "sql_expr = \"\"\"\n",
        "SELECT * FROM students\n",
        "WHERE name LIKE  '%Bill%' -- SQL like regular expression\n",
        "\"\"\"\n",
        "pd.read_sql(sql_expr, sqlite_engine)"
      ],
      "execution_count": null,
      "outputs": [
        {
          "output_type": "execute_result",
          "data": {
            "text/html": [
              "<div>\n",
              "<style scoped>\n",
              "    .dataframe tbody tr th:only-of-type {\n",
              "        vertical-align: middle;\n",
              "    }\n",
              "\n",
              "    .dataframe tbody tr th {\n",
              "        vertical-align: top;\n",
              "    }\n",
              "\n",
              "    .dataframe thead th {\n",
              "        text-align: right;\n",
              "    }\n",
              "</style>\n",
              "<table border=\"1\" class=\"dataframe\">\n",
              "  <thead>\n",
              "    <tr style=\"text-align: right;\">\n",
              "      <th></th>\n",
              "      <th>name</th>\n",
              "      <th>gpa</th>\n",
              "      <th>age</th>\n",
              "      <th>dept</th>\n",
              "      <th>gender</th>\n",
              "    </tr>\n",
              "  </thead>\n",
              "  <tbody>\n",
              "    <tr>\n",
              "      <th>0</th>\n",
              "      <td>Bill Gates</td>\n",
              "      <td>2.0</td>\n",
              "      <td>60</td>\n",
              "      <td>CS</td>\n",
              "      <td>M</td>\n",
              "    </tr>\n",
              "  </tbody>\n",
              "</table>\n",
              "</div>"
            ],
            "text/plain": [
              "         name  gpa  age dept gender\n",
              "0  Bill Gates  2.0   60   CS      M"
            ]
          },
          "metadata": {
            "tags": []
          },
          "execution_count": 26
        }
      ]
    },
    {
      "cell_type": "markdown",
      "metadata": {
        "id": "z306nYmtb3rH"
      },
      "source": [
        "### Important Note\n",
        "In the update statement we decide which rows get updated based entirely on the values in each row, as checked by the where clause. **There is no notion of any information outside the values in the row**--e.g. there are no \"object identifiers\" or \"row numbers\"... everything is *just the data and only the data*."
      ]
    },
    {
      "cell_type": "code",
      "metadata": {
        "id": "Q6QluFMkb3rI",
        "colab": {
          "base_uri": "https://localhost:8080/",
          "height": 34
        },
        "outputId": "a038f1fb-83d6-43b0-cdb0-c16a117db246"
      },
      "source": [
        "# TASK 2: Two years have passed since the data in the table were\n",
        "# collected.  Update the ages to add two years.  This may take\n",
        "# two sql commands since, presumably, you entered your own age\n",
        "# correctly.\n",
        "\n",
        "sql_expr = \"\"\"\n",
        "UPDATE students\n",
        "SET age = 2 + age\n",
        "WHERE gpa > 0;\n",
        "\"\"\"\n",
        "sqlite_engine.execute(sql_expr)"
      ],
      "execution_count": null,
      "outputs": [
        {
          "output_type": "execute_result",
          "data": {
            "text/plain": [
              "<sqlalchemy.engine.result.ResultProxy at 0x7f07deb28668>"
            ]
          },
          "metadata": {
            "tags": []
          },
          "execution_count": 27
        }
      ]
    },
    {
      "cell_type": "markdown",
      "metadata": {
        "id": "dLPRF6Ghb3rL"
      },
      "source": [
        "## Integrity Constraints\n",
        "The integrity constraints we imposed earlier can be used to improve data quality.\n",
        "\n",
        "Suppose Mark logged into the database and tried to give himself a 5.0?"
      ]
    },
    {
      "cell_type": "code",
      "metadata": {
        "id": "IGfT_1-Kb3rN",
        "colab": {
          "base_uri": "https://localhost:8080/",
          "height": 54
        },
        "outputId": "5500a5e7-fb17-463b-d231-8896d8f1ed32"
      },
      "source": [
        "try:\n",
        "    sql_expr = \"\"\"\n",
        "        UPDATE students\n",
        "        SET gpa = 5.0\n",
        "        WHERE LOWER(name) LIKE '%zuck%';\n",
        "        \"\"\"\n",
        "    sqlite_engine.execute(sql_expr)\n",
        "except Exception as e:\n",
        "    print(e)"
      ],
      "execution_count": null,
      "outputs": [
        {
          "output_type": "stream",
          "text": [
            "(sqlite3.IntegrityError) CHECK constraint failed: students [SQL: \"\\n        UPDATE students\\n        SET gpa = 5.0\\n        WHERE LOWER(name) LIKE '%zuck%';\\n        \"] (Background on this error at: http://sqlalche.me/e/gkpj)\n"
          ],
          "name": "stdout"
        }
      ]
    },
    {
      "cell_type": "markdown",
      "metadata": {
        "id": "U840V_Upb3rQ"
      },
      "source": [
        "The above code fails. Why? (check the gpa.)"
      ]
    },
    {
      "cell_type": "markdown",
      "metadata": {
        "id": "S3qcoSQOb3rS"
      },
      "source": [
        "## Deleting Records\n",
        "We can delete rows in much the same way we update rows:"
      ]
    },
    {
      "cell_type": "code",
      "metadata": {
        "id": "kPRH6fnOb3rV",
        "colab": {
          "base_uri": "https://localhost:8080/",
          "height": 34
        },
        "outputId": "96816214-068e-4947-89e6-218308767377"
      },
      "source": [
        "sql_expr = \"\"\"\n",
        "DELETE FROM students \n",
        "    WHERE name = 'Sergey Brin'\n",
        "\"\"\"\n",
        "sqlite_engine.execute(sql_expr)"
      ],
      "execution_count": null,
      "outputs": [
        {
          "output_type": "execute_result",
          "data": {
            "text/plain": [
              "<sqlalchemy.engine.result.ResultProxy at 0x7f07deacb208>"
            ]
          },
          "metadata": {
            "tags": []
          },
          "execution_count": 29
        }
      ]
    },
    {
      "cell_type": "markdown",
      "metadata": {
        "id": "95H0FMQ6b3rX"
      },
      "source": [
        "Notice we can rerun the above command multiple times. Why?"
      ]
    },
    {
      "cell_type": "code",
      "metadata": {
        "id": "CYnV2bPSb3rY",
        "colab": {
          "base_uri": "https://localhost:8080/",
          "height": 328
        },
        "outputId": "8c5f4131-a950-43ef-f809-3b7cd49ae09b"
      },
      "source": [
        "sql_expr = \"\"\"\n",
        "SELECT * FROM students;\n",
        "\"\"\"\n",
        "pd.read_sql(sql_expr, sqlite_engine)"
      ],
      "execution_count": null,
      "outputs": [
        {
          "output_type": "execute_result",
          "data": {
            "text/html": [
              "<div>\n",
              "<style scoped>\n",
              "    .dataframe tbody tr th:only-of-type {\n",
              "        vertical-align: middle;\n",
              "    }\n",
              "\n",
              "    .dataframe tbody tr th {\n",
              "        vertical-align: top;\n",
              "    }\n",
              "\n",
              "    .dataframe thead th {\n",
              "        text-align: right;\n",
              "    }\n",
              "</style>\n",
              "<table border=\"1\" class=\"dataframe\">\n",
              "  <thead>\n",
              "    <tr style=\"text-align: right;\">\n",
              "      <th></th>\n",
              "      <th>name</th>\n",
              "      <th>gpa</th>\n",
              "      <th>age</th>\n",
              "      <th>dept</th>\n",
              "      <th>gender</th>\n",
              "    </tr>\n",
              "  </thead>\n",
              "  <tbody>\n",
              "    <tr>\n",
              "      <th>0</th>\n",
              "      <td>Danah Boyd</td>\n",
              "      <td>3.9</td>\n",
              "      <td>37</td>\n",
              "      <td>CS</td>\n",
              "      <td>F</td>\n",
              "    </tr>\n",
              "    <tr>\n",
              "      <th>1</th>\n",
              "      <td>Bill Gates</td>\n",
              "      <td>2.0</td>\n",
              "      <td>62</td>\n",
              "      <td>CS</td>\n",
              "      <td>M</td>\n",
              "    </tr>\n",
              "    <tr>\n",
              "      <th>2</th>\n",
              "      <td>Hillary Mason</td>\n",
              "      <td>4.0</td>\n",
              "      <td>37</td>\n",
              "      <td>DATASCI</td>\n",
              "      <td>F</td>\n",
              "    </tr>\n",
              "    <tr>\n",
              "      <th>3</th>\n",
              "      <td>Mike Olson</td>\n",
              "      <td>3.7</td>\n",
              "      <td>52</td>\n",
              "      <td>CS</td>\n",
              "      <td>M</td>\n",
              "    </tr>\n",
              "    <tr>\n",
              "      <th>4</th>\n",
              "      <td>Mark Zuckerberg</td>\n",
              "      <td>4.0</td>\n",
              "      <td>32</td>\n",
              "      <td>CS</td>\n",
              "      <td>M</td>\n",
              "    </tr>\n",
              "    <tr>\n",
              "      <th>5</th>\n",
              "      <td>Sheryl Sandberg</td>\n",
              "      <td>4.0</td>\n",
              "      <td>49</td>\n",
              "      <td>BUSINESS</td>\n",
              "      <td>F</td>\n",
              "    </tr>\n",
              "    <tr>\n",
              "      <th>6</th>\n",
              "      <td>Susan Wojcicki</td>\n",
              "      <td>4.0</td>\n",
              "      <td>48</td>\n",
              "      <td>BUSINESS</td>\n",
              "      <td>F</td>\n",
              "    </tr>\n",
              "    <tr>\n",
              "      <th>7</th>\n",
              "      <td>Marissa Meyer</td>\n",
              "      <td>4.0</td>\n",
              "      <td>47</td>\n",
              "      <td>BUSINESS</td>\n",
              "      <td>F</td>\n",
              "    </tr>\n",
              "    <tr>\n",
              "      <th>8</th>\n",
              "      <td>Steven Injety</td>\n",
              "      <td>4.0</td>\n",
              "      <td>20</td>\n",
              "      <td>Data Science</td>\n",
              "      <td>M</td>\n",
              "    </tr>\n",
              "  </tbody>\n",
              "</table>\n",
              "</div>"
            ],
            "text/plain": [
              "              name  gpa  age          dept gender\n",
              "0       Danah Boyd  3.9   37            CS      F\n",
              "1       Bill Gates  2.0   62            CS      M\n",
              "2    Hillary Mason  4.0   37       DATASCI      F\n",
              "3       Mike Olson  3.7   52            CS      M\n",
              "4  Mark Zuckerberg  4.0   32            CS      M\n",
              "5  Sheryl Sandberg  4.0   49      BUSINESS      F\n",
              "6   Susan Wojcicki  4.0   48      BUSINESS      F\n",
              "7    Marissa Meyer  4.0   47      BUSINESS      F\n",
              "8    Steven Injety  4.0   20  Data Science      M"
            ]
          },
          "metadata": {
            "tags": []
          },
          "execution_count": 30
        }
      ]
    },
    {
      "cell_type": "markdown",
      "metadata": {
        "id": "SPlPRl52b3rb"
      },
      "source": [
        "Restoring Sergey"
      ]
    },
    {
      "cell_type": "code",
      "metadata": {
        "id": "WEoElhrPb3rc",
        "colab": {
          "base_uri": "https://localhost:8080/",
          "height": 34
        },
        "outputId": "36940a2d-7c82-4978-ae05-dd20bd1854c7"
      },
      "source": [
        "sql_expr = \"\"\"\n",
        "INSERT INTO students VALUES\n",
        "    ('Sergey Brin', 4.0, 40, 'CS', 'M');\n",
        "\"\"\"\n",
        "sqlite_engine.execute(sql_expr)"
      ],
      "execution_count": null,
      "outputs": [
        {
          "output_type": "execute_result",
          "data": {
            "text/plain": [
              "<sqlalchemy.engine.result.ResultProxy at 0x7f07deb38e80>"
            ]
          },
          "metadata": {
            "tags": []
          },
          "execution_count": 31
        }
      ]
    },
    {
      "cell_type": "markdown",
      "metadata": {
        "id": "9MabJrtnb3rg"
      },
      "source": [
        "The above computation cannot be run more than once:"
      ]
    },
    {
      "cell_type": "code",
      "metadata": {
        "id": "YGqzy4MCb3rh",
        "colab": {
          "base_uri": "https://localhost:8080/",
          "height": 54
        },
        "outputId": "2132c053-fad3-4583-d3f4-317406fa77a3"
      },
      "source": [
        "try:\n",
        "    sql_expr = \"\"\"\n",
        "    INSERT INTO students VALUES\n",
        "        ('Sergey Brin', 4.0, 40, 'CS', 'M');\n",
        "    \"\"\"\n",
        "    sqlite_engine.execute(sql_expr)\n",
        "except Exception as e:\n",
        "    print(e)\n"
      ],
      "execution_count": null,
      "outputs": [
        {
          "output_type": "stream",
          "text": [
            "(sqlite3.IntegrityError) UNIQUE constraint failed: students.name [SQL: \"\\n    INSERT INTO students VALUES\\n        ('Sergey Brin', 4.0, 40, 'CS', 'M');\\n    \"] (Background on this error at: http://sqlalche.me/e/gkpj)\n"
          ],
          "name": "stdout"
        }
      ]
    },
    {
      "cell_type": "markdown",
      "metadata": {
        "id": "TNzDJcvQb3rj"
      },
      "source": [
        "Notice that the order of the records has changed. We actually have no guarantee on where Sergey is inserted in the database."
      ]
    },
    {
      "cell_type": "code",
      "metadata": {
        "id": "SRARgBQQb3rk",
        "colab": {
          "base_uri": "https://localhost:8080/",
          "height": 359
        },
        "outputId": "c9e1b7e4-2aa4-4a03-9096-dff865910220"
      },
      "source": [
        "sql_expr = \"\"\"\n",
        "SELECT * FROM students;\n",
        "\"\"\"\n",
        "pd.read_sql(sql_expr, sqlite_engine)"
      ],
      "execution_count": null,
      "outputs": [
        {
          "output_type": "execute_result",
          "data": {
            "text/html": [
              "<div>\n",
              "<style scoped>\n",
              "    .dataframe tbody tr th:only-of-type {\n",
              "        vertical-align: middle;\n",
              "    }\n",
              "\n",
              "    .dataframe tbody tr th {\n",
              "        vertical-align: top;\n",
              "    }\n",
              "\n",
              "    .dataframe thead th {\n",
              "        text-align: right;\n",
              "    }\n",
              "</style>\n",
              "<table border=\"1\" class=\"dataframe\">\n",
              "  <thead>\n",
              "    <tr style=\"text-align: right;\">\n",
              "      <th></th>\n",
              "      <th>name</th>\n",
              "      <th>gpa</th>\n",
              "      <th>age</th>\n",
              "      <th>dept</th>\n",
              "      <th>gender</th>\n",
              "    </tr>\n",
              "  </thead>\n",
              "  <tbody>\n",
              "    <tr>\n",
              "      <th>0</th>\n",
              "      <td>Danah Boyd</td>\n",
              "      <td>3.9</td>\n",
              "      <td>37</td>\n",
              "      <td>CS</td>\n",
              "      <td>F</td>\n",
              "    </tr>\n",
              "    <tr>\n",
              "      <th>1</th>\n",
              "      <td>Bill Gates</td>\n",
              "      <td>2.0</td>\n",
              "      <td>62</td>\n",
              "      <td>CS</td>\n",
              "      <td>M</td>\n",
              "    </tr>\n",
              "    <tr>\n",
              "      <th>2</th>\n",
              "      <td>Hillary Mason</td>\n",
              "      <td>4.0</td>\n",
              "      <td>37</td>\n",
              "      <td>DATASCI</td>\n",
              "      <td>F</td>\n",
              "    </tr>\n",
              "    <tr>\n",
              "      <th>3</th>\n",
              "      <td>Mike Olson</td>\n",
              "      <td>3.7</td>\n",
              "      <td>52</td>\n",
              "      <td>CS</td>\n",
              "      <td>M</td>\n",
              "    </tr>\n",
              "    <tr>\n",
              "      <th>4</th>\n",
              "      <td>Mark Zuckerberg</td>\n",
              "      <td>4.0</td>\n",
              "      <td>32</td>\n",
              "      <td>CS</td>\n",
              "      <td>M</td>\n",
              "    </tr>\n",
              "    <tr>\n",
              "      <th>5</th>\n",
              "      <td>Sheryl Sandberg</td>\n",
              "      <td>4.0</td>\n",
              "      <td>49</td>\n",
              "      <td>BUSINESS</td>\n",
              "      <td>F</td>\n",
              "    </tr>\n",
              "    <tr>\n",
              "      <th>6</th>\n",
              "      <td>Susan Wojcicki</td>\n",
              "      <td>4.0</td>\n",
              "      <td>48</td>\n",
              "      <td>BUSINESS</td>\n",
              "      <td>F</td>\n",
              "    </tr>\n",
              "    <tr>\n",
              "      <th>7</th>\n",
              "      <td>Marissa Meyer</td>\n",
              "      <td>4.0</td>\n",
              "      <td>47</td>\n",
              "      <td>BUSINESS</td>\n",
              "      <td>F</td>\n",
              "    </tr>\n",
              "    <tr>\n",
              "      <th>8</th>\n",
              "      <td>Steven Injety</td>\n",
              "      <td>4.0</td>\n",
              "      <td>20</td>\n",
              "      <td>Data Science</td>\n",
              "      <td>M</td>\n",
              "    </tr>\n",
              "    <tr>\n",
              "      <th>9</th>\n",
              "      <td>Sergey Brin</td>\n",
              "      <td>4.0</td>\n",
              "      <td>40</td>\n",
              "      <td>CS</td>\n",
              "      <td>M</td>\n",
              "    </tr>\n",
              "  </tbody>\n",
              "</table>\n",
              "</div>"
            ],
            "text/plain": [
              "              name  gpa  age          dept gender\n",
              "0       Danah Boyd  3.9   37            CS      F\n",
              "1       Bill Gates  2.0   62            CS      M\n",
              "2    Hillary Mason  4.0   37       DATASCI      F\n",
              "3       Mike Olson  3.7   52            CS      M\n",
              "4  Mark Zuckerberg  4.0   32            CS      M\n",
              "5  Sheryl Sandberg  4.0   49      BUSINESS      F\n",
              "6   Susan Wojcicki  4.0   48      BUSINESS      F\n",
              "7    Marissa Meyer  4.0   47      BUSINESS      F\n",
              "8    Steven Injety  4.0   20  Data Science      M\n",
              "9      Sergey Brin  4.0   40            CS      M"
            ]
          },
          "metadata": {
            "tags": []
          },
          "execution_count": 33
        }
      ]
    },
    {
      "cell_type": "markdown",
      "metadata": {
        "id": "dNlku5sCb3ro"
      },
      "source": [
        "## SELECT Queries\n",
        "Now let's start looking at some slightly more interesting queries. The canonical SQL query block includes the following clauses, in the order they appear. Square brackets indicate optional clauses.\n",
        "\n",
        "```SQL\n",
        "SELECT ...\n",
        "  FROM ...\n",
        "[WHERE ...]\n",
        "[GROUP BY ...]\n",
        "[HAVING ...]\n",
        "[ORDER BY ...]\n",
        "[LIMIT ...];\n",
        "``` \n",
        "Query blocks can reference one or more tables, and be nested in various ways. Before we worry about multi-table queries or nested queries, we'll work our way through examples that exercise all of these clauses on a single table."
      ]
    },
    {
      "cell_type": "markdown",
      "metadata": {
        "id": "1sg3-5Nyb3rp"
      },
      "source": [
        "### The `SELECT` LIST\n",
        "The `SELECT` list determines which columns to include in the output."
      ]
    },
    {
      "cell_type": "code",
      "metadata": {
        "id": "2QYUJiL8b3rp",
        "colab": {
          "base_uri": "https://localhost:8080/",
          "height": 359
        },
        "outputId": "bee704aa-f292-4343-f8a4-2d301a25a273"
      },
      "source": [
        "sql_expr = \"\"\"\n",
        "SELECT name\n",
        "FROM students;\n",
        "\"\"\"\n",
        "pd.read_sql(sql_expr, sqlite_engine)"
      ],
      "execution_count": null,
      "outputs": [
        {
          "output_type": "execute_result",
          "data": {
            "text/html": [
              "<div>\n",
              "<style scoped>\n",
              "    .dataframe tbody tr th:only-of-type {\n",
              "        vertical-align: middle;\n",
              "    }\n",
              "\n",
              "    .dataframe tbody tr th {\n",
              "        vertical-align: top;\n",
              "    }\n",
              "\n",
              "    .dataframe thead th {\n",
              "        text-align: right;\n",
              "    }\n",
              "</style>\n",
              "<table border=\"1\" class=\"dataframe\">\n",
              "  <thead>\n",
              "    <tr style=\"text-align: right;\">\n",
              "      <th></th>\n",
              "      <th>name</th>\n",
              "    </tr>\n",
              "  </thead>\n",
              "  <tbody>\n",
              "    <tr>\n",
              "      <th>0</th>\n",
              "      <td>Bill Gates</td>\n",
              "    </tr>\n",
              "    <tr>\n",
              "      <th>1</th>\n",
              "      <td>Danah Boyd</td>\n",
              "    </tr>\n",
              "    <tr>\n",
              "      <th>2</th>\n",
              "      <td>Hillary Mason</td>\n",
              "    </tr>\n",
              "    <tr>\n",
              "      <th>3</th>\n",
              "      <td>Marissa Meyer</td>\n",
              "    </tr>\n",
              "    <tr>\n",
              "      <th>4</th>\n",
              "      <td>Mark Zuckerberg</td>\n",
              "    </tr>\n",
              "    <tr>\n",
              "      <th>5</th>\n",
              "      <td>Mike Olson</td>\n",
              "    </tr>\n",
              "    <tr>\n",
              "      <th>6</th>\n",
              "      <td>Sergey Brin</td>\n",
              "    </tr>\n",
              "    <tr>\n",
              "      <th>7</th>\n",
              "      <td>Sheryl Sandberg</td>\n",
              "    </tr>\n",
              "    <tr>\n",
              "      <th>8</th>\n",
              "      <td>Steven Injety</td>\n",
              "    </tr>\n",
              "    <tr>\n",
              "      <th>9</th>\n",
              "      <td>Susan Wojcicki</td>\n",
              "    </tr>\n",
              "  </tbody>\n",
              "</table>\n",
              "</div>"
            ],
            "text/plain": [
              "              name\n",
              "0       Bill Gates\n",
              "1       Danah Boyd\n",
              "2    Hillary Mason\n",
              "3    Marissa Meyer\n",
              "4  Mark Zuckerberg\n",
              "5       Mike Olson\n",
              "6      Sergey Brin\n",
              "7  Sheryl Sandberg\n",
              "8    Steven Injety\n",
              "9   Susan Wojcicki"
            ]
          },
          "metadata": {
            "tags": []
          },
          "execution_count": 34
        }
      ]
    },
    {
      "cell_type": "code",
      "metadata": {
        "id": "fmtjFzo5b3rv",
        "colab": {
          "base_uri": "https://localhost:8080/",
          "height": 359
        },
        "outputId": "64275089-3406-4759-e8a7-416b321bf1af"
      },
      "source": [
        "# TASK 3: Output the name and department columns in the same Pandas\n",
        "# DataFrame.  Hint, multiple column names are separated by commas\n",
        "# in the SELECT part of the query.\n",
        "\n",
        "sql_expr = \"\"\"\n",
        "SELECT name, dept\n",
        "FROM students;\n",
        "\"\"\"\n",
        "pd.read_sql(sql_expr, sqlite_engine)"
      ],
      "execution_count": null,
      "outputs": [
        {
          "output_type": "execute_result",
          "data": {
            "text/html": [
              "<div>\n",
              "<style scoped>\n",
              "    .dataframe tbody tr th:only-of-type {\n",
              "        vertical-align: middle;\n",
              "    }\n",
              "\n",
              "    .dataframe tbody tr th {\n",
              "        vertical-align: top;\n",
              "    }\n",
              "\n",
              "    .dataframe thead th {\n",
              "        text-align: right;\n",
              "    }\n",
              "</style>\n",
              "<table border=\"1\" class=\"dataframe\">\n",
              "  <thead>\n",
              "    <tr style=\"text-align: right;\">\n",
              "      <th></th>\n",
              "      <th>name</th>\n",
              "      <th>dept</th>\n",
              "    </tr>\n",
              "  </thead>\n",
              "  <tbody>\n",
              "    <tr>\n",
              "      <th>0</th>\n",
              "      <td>Danah Boyd</td>\n",
              "      <td>CS</td>\n",
              "    </tr>\n",
              "    <tr>\n",
              "      <th>1</th>\n",
              "      <td>Bill Gates</td>\n",
              "      <td>CS</td>\n",
              "    </tr>\n",
              "    <tr>\n",
              "      <th>2</th>\n",
              "      <td>Hillary Mason</td>\n",
              "      <td>DATASCI</td>\n",
              "    </tr>\n",
              "    <tr>\n",
              "      <th>3</th>\n",
              "      <td>Mike Olson</td>\n",
              "      <td>CS</td>\n",
              "    </tr>\n",
              "    <tr>\n",
              "      <th>4</th>\n",
              "      <td>Mark Zuckerberg</td>\n",
              "      <td>CS</td>\n",
              "    </tr>\n",
              "    <tr>\n",
              "      <th>5</th>\n",
              "      <td>Sheryl Sandberg</td>\n",
              "      <td>BUSINESS</td>\n",
              "    </tr>\n",
              "    <tr>\n",
              "      <th>6</th>\n",
              "      <td>Susan Wojcicki</td>\n",
              "      <td>BUSINESS</td>\n",
              "    </tr>\n",
              "    <tr>\n",
              "      <th>7</th>\n",
              "      <td>Marissa Meyer</td>\n",
              "      <td>BUSINESS</td>\n",
              "    </tr>\n",
              "    <tr>\n",
              "      <th>8</th>\n",
              "      <td>Steven Injety</td>\n",
              "      <td>Data Science</td>\n",
              "    </tr>\n",
              "    <tr>\n",
              "      <th>9</th>\n",
              "      <td>Sergey Brin</td>\n",
              "      <td>CS</td>\n",
              "    </tr>\n",
              "  </tbody>\n",
              "</table>\n",
              "</div>"
            ],
            "text/plain": [
              "              name          dept\n",
              "0       Danah Boyd            CS\n",
              "1       Bill Gates            CS\n",
              "2    Hillary Mason       DATASCI\n",
              "3       Mike Olson            CS\n",
              "4  Mark Zuckerberg            CS\n",
              "5  Sheryl Sandberg      BUSINESS\n",
              "6   Susan Wojcicki      BUSINESS\n",
              "7    Marissa Meyer      BUSINESS\n",
              "8    Steven Injety  Data Science\n",
              "9      Sergey Brin            CS"
            ]
          },
          "metadata": {
            "tags": []
          },
          "execution_count": 35
        }
      ]
    },
    {
      "cell_type": "markdown",
      "metadata": {
        "id": "yDX-BuHJb3rx"
      },
      "source": [
        "### Functions in the Selection List\n",
        "SQL has a wide range of functions that can be applied to each attribute in the select list. Notice that we can alias (name) the columns with `AS`. The complete list of built in PostreSQL functions is available [here](https://www.postgresql.org/docs/9.2/functions.html)."
      ]
    },
    {
      "cell_type": "code",
      "metadata": {
        "id": "QePeKUecb3rz",
        "colab": {
          "base_uri": "https://localhost:8080/",
          "height": 359
        },
        "outputId": "d945d453-6dd0-4211-bc5b-322b91a27401"
      },
      "source": [
        "sql_expr = \"\"\"\n",
        "SELECT UPPER(name) AS n, LOWER(dept) as d, gpa/4.0 AS GPA_ratio\n",
        "FROM students;\n",
        "\"\"\"\n",
        "pd.read_sql(sql_expr, sqlite_engine)"
      ],
      "execution_count": null,
      "outputs": [
        {
          "output_type": "execute_result",
          "data": {
            "text/html": [
              "<div>\n",
              "<style scoped>\n",
              "    .dataframe tbody tr th:only-of-type {\n",
              "        vertical-align: middle;\n",
              "    }\n",
              "\n",
              "    .dataframe tbody tr th {\n",
              "        vertical-align: top;\n",
              "    }\n",
              "\n",
              "    .dataframe thead th {\n",
              "        text-align: right;\n",
              "    }\n",
              "</style>\n",
              "<table border=\"1\" class=\"dataframe\">\n",
              "  <thead>\n",
              "    <tr style=\"text-align: right;\">\n",
              "      <th></th>\n",
              "      <th>n</th>\n",
              "      <th>d</th>\n",
              "      <th>GPA_ratio</th>\n",
              "    </tr>\n",
              "  </thead>\n",
              "  <tbody>\n",
              "    <tr>\n",
              "      <th>0</th>\n",
              "      <td>DANAH BOYD</td>\n",
              "      <td>cs</td>\n",
              "      <td>0.975</td>\n",
              "    </tr>\n",
              "    <tr>\n",
              "      <th>1</th>\n",
              "      <td>BILL GATES</td>\n",
              "      <td>cs</td>\n",
              "      <td>0.500</td>\n",
              "    </tr>\n",
              "    <tr>\n",
              "      <th>2</th>\n",
              "      <td>HILLARY MASON</td>\n",
              "      <td>datasci</td>\n",
              "      <td>1.000</td>\n",
              "    </tr>\n",
              "    <tr>\n",
              "      <th>3</th>\n",
              "      <td>MIKE OLSON</td>\n",
              "      <td>cs</td>\n",
              "      <td>0.925</td>\n",
              "    </tr>\n",
              "    <tr>\n",
              "      <th>4</th>\n",
              "      <td>MARK ZUCKERBERG</td>\n",
              "      <td>cs</td>\n",
              "      <td>1.000</td>\n",
              "    </tr>\n",
              "    <tr>\n",
              "      <th>5</th>\n",
              "      <td>SHERYL SANDBERG</td>\n",
              "      <td>business</td>\n",
              "      <td>1.000</td>\n",
              "    </tr>\n",
              "    <tr>\n",
              "      <th>6</th>\n",
              "      <td>SUSAN WOJCICKI</td>\n",
              "      <td>business</td>\n",
              "      <td>1.000</td>\n",
              "    </tr>\n",
              "    <tr>\n",
              "      <th>7</th>\n",
              "      <td>MARISSA MEYER</td>\n",
              "      <td>business</td>\n",
              "      <td>1.000</td>\n",
              "    </tr>\n",
              "    <tr>\n",
              "      <th>8</th>\n",
              "      <td>STEVEN INJETY</td>\n",
              "      <td>data science</td>\n",
              "      <td>1.000</td>\n",
              "    </tr>\n",
              "    <tr>\n",
              "      <th>9</th>\n",
              "      <td>SERGEY BRIN</td>\n",
              "      <td>cs</td>\n",
              "      <td>1.000</td>\n",
              "    </tr>\n",
              "  </tbody>\n",
              "</table>\n",
              "</div>"
            ],
            "text/plain": [
              "                 n             d  GPA_ratio\n",
              "0       DANAH BOYD            cs      0.975\n",
              "1       BILL GATES            cs      0.500\n",
              "2    HILLARY MASON       datasci      1.000\n",
              "3       MIKE OLSON            cs      0.925\n",
              "4  MARK ZUCKERBERG            cs      1.000\n",
              "5  SHERYL SANDBERG      business      1.000\n",
              "6   SUSAN WOJCICKI      business      1.000\n",
              "7    MARISSA MEYER      business      1.000\n",
              "8    STEVEN INJETY  data science      1.000\n",
              "9      SERGEY BRIN            cs      1.000"
            ]
          },
          "metadata": {
            "tags": []
          },
          "execution_count": 36
        }
      ]
    },
    {
      "cell_type": "markdown",
      "metadata": {
        "id": "Pwt5engob3r1"
      },
      "source": [
        "Unfortunately, sqlite has very limited functionality. However, most modern full featured database management systems will offer a rich set of transformations."
      ]
    },
    {
      "cell_type": "markdown",
      "metadata": {
        "id": "h0NpZT2Xb3r2"
      },
      "source": [
        "### Selecting Distinct Rows\n",
        "As we know, SQL is a multiset logic, preserving the meaning of the number of duplicates in query results. Sometimes, however, we don't want to keep the duplicates, we want to eliminate them. This is done simply by adding the keyword `DISTINCT` after the `SELECT` statement:"
      ]
    },
    {
      "cell_type": "code",
      "metadata": {
        "id": "Ze0QJHekb3r3",
        "colab": {
          "base_uri": "https://localhost:8080/",
          "height": 173
        },
        "outputId": "45d74fed-72ef-45e5-8300-c0cefc1f38b3"
      },
      "source": [
        "sql_expr = \"\"\"\n",
        "SELECT DISTINCT dept\n",
        "FROM students;\n",
        "\"\"\"\n",
        "pd.read_sql(sql_expr, sqlite_engine)"
      ],
      "execution_count": null,
      "outputs": [
        {
          "output_type": "execute_result",
          "data": {
            "text/html": [
              "<div>\n",
              "<style scoped>\n",
              "    .dataframe tbody tr th:only-of-type {\n",
              "        vertical-align: middle;\n",
              "    }\n",
              "\n",
              "    .dataframe tbody tr th {\n",
              "        vertical-align: top;\n",
              "    }\n",
              "\n",
              "    .dataframe thead th {\n",
              "        text-align: right;\n",
              "    }\n",
              "</style>\n",
              "<table border=\"1\" class=\"dataframe\">\n",
              "  <thead>\n",
              "    <tr style=\"text-align: right;\">\n",
              "      <th></th>\n",
              "      <th>dept</th>\n",
              "    </tr>\n",
              "  </thead>\n",
              "  <tbody>\n",
              "    <tr>\n",
              "      <th>0</th>\n",
              "      <td>CS</td>\n",
              "    </tr>\n",
              "    <tr>\n",
              "      <th>1</th>\n",
              "      <td>DATASCI</td>\n",
              "    </tr>\n",
              "    <tr>\n",
              "      <th>2</th>\n",
              "      <td>BUSINESS</td>\n",
              "    </tr>\n",
              "    <tr>\n",
              "      <th>3</th>\n",
              "      <td>Data Science</td>\n",
              "    </tr>\n",
              "  </tbody>\n",
              "</table>\n",
              "</div>"
            ],
            "text/plain": [
              "           dept\n",
              "0            CS\n",
              "1       DATASCI\n",
              "2      BUSINESS\n",
              "3  Data Science"
            ]
          },
          "metadata": {
            "tags": []
          },
          "execution_count": 37
        }
      ]
    },
    {
      "cell_type": "markdown",
      "metadata": {
        "id": "sroI8dNnb3r6"
      },
      "source": [
        "Which rows are used when taking the distinct entries? Does it really matter?"
      ]
    },
    {
      "cell_type": "markdown",
      "metadata": {
        "id": "mxbgqu0mb3r7"
      },
      "source": [
        "### The `WHERE` Clause\n",
        "The `WHERE` clause determines which rows of to include by specifying a predicate (boolean expression). Rows (tuples) that satisfy this expression are returned."
      ]
    },
    {
      "cell_type": "code",
      "metadata": {
        "id": "NhelaqjUb3r8",
        "colab": {
          "base_uri": "https://localhost:8080/",
          "height": 204
        },
        "outputId": "69a10674-0a3b-4688-a74d-8f076e9d5a28"
      },
      "source": [
        "sql_expr = \"\"\"\n",
        "SELECT name, gpa\n",
        "FROM students\n",
        "WHERE dept = 'CS'\n",
        "\"\"\"\n",
        "pd.read_sql(sql_expr, sqlite_engine)"
      ],
      "execution_count": null,
      "outputs": [
        {
          "output_type": "execute_result",
          "data": {
            "text/html": [
              "<div>\n",
              "<style scoped>\n",
              "    .dataframe tbody tr th:only-of-type {\n",
              "        vertical-align: middle;\n",
              "    }\n",
              "\n",
              "    .dataframe tbody tr th {\n",
              "        vertical-align: top;\n",
              "    }\n",
              "\n",
              "    .dataframe thead th {\n",
              "        text-align: right;\n",
              "    }\n",
              "</style>\n",
              "<table border=\"1\" class=\"dataframe\">\n",
              "  <thead>\n",
              "    <tr style=\"text-align: right;\">\n",
              "      <th></th>\n",
              "      <th>name</th>\n",
              "      <th>gpa</th>\n",
              "    </tr>\n",
              "  </thead>\n",
              "  <tbody>\n",
              "    <tr>\n",
              "      <th>0</th>\n",
              "      <td>Danah Boyd</td>\n",
              "      <td>3.9</td>\n",
              "    </tr>\n",
              "    <tr>\n",
              "      <th>1</th>\n",
              "      <td>Bill Gates</td>\n",
              "      <td>2.0</td>\n",
              "    </tr>\n",
              "    <tr>\n",
              "      <th>2</th>\n",
              "      <td>Mike Olson</td>\n",
              "      <td>3.7</td>\n",
              "    </tr>\n",
              "    <tr>\n",
              "      <th>3</th>\n",
              "      <td>Mark Zuckerberg</td>\n",
              "      <td>4.0</td>\n",
              "    </tr>\n",
              "    <tr>\n",
              "      <th>4</th>\n",
              "      <td>Sergey Brin</td>\n",
              "      <td>4.0</td>\n",
              "    </tr>\n",
              "  </tbody>\n",
              "</table>\n",
              "</div>"
            ],
            "text/plain": [
              "              name  gpa\n",
              "0       Danah Boyd  3.9\n",
              "1       Bill Gates  2.0\n",
              "2       Mike Olson  3.7\n",
              "3  Mark Zuckerberg  4.0\n",
              "4      Sergey Brin  4.0"
            ]
          },
          "metadata": {
            "tags": []
          },
          "execution_count": 38
        }
      ]
    },
    {
      "cell_type": "markdown",
      "metadata": {
        "id": "sHUgBq6Tb3r-"
      },
      "source": [
        "And of course we can specify both rows and columns explicitly. If we have a primary key, we can filter things down to even the cell level via a select list of one column, and a where clause checking equality on the primary key columns:"
      ]
    },
    {
      "cell_type": "code",
      "metadata": {
        "id": "N1tfdvhNb3sA",
        "colab": {
          "base_uri": "https://localhost:8080/",
          "height": 80
        },
        "outputId": "4ee54b78-c419-431c-ebfc-f8a0dc94eb6c"
      },
      "source": [
        "sql_expr = \"\"\"\n",
        "SELECT gpa\n",
        "FROM students\n",
        "WHERE name = 'Bill Gates';\n",
        "\"\"\"\n",
        "pd.read_sql(sql_expr, sqlite_engine)"
      ],
      "execution_count": null,
      "outputs": [
        {
          "output_type": "execute_result",
          "data": {
            "text/html": [
              "<div>\n",
              "<style scoped>\n",
              "    .dataframe tbody tr th:only-of-type {\n",
              "        vertical-align: middle;\n",
              "    }\n",
              "\n",
              "    .dataframe tbody tr th {\n",
              "        vertical-align: top;\n",
              "    }\n",
              "\n",
              "    .dataframe thead th {\n",
              "        text-align: right;\n",
              "    }\n",
              "</style>\n",
              "<table border=\"1\" class=\"dataframe\">\n",
              "  <thead>\n",
              "    <tr style=\"text-align: right;\">\n",
              "      <th></th>\n",
              "      <th>gpa</th>\n",
              "    </tr>\n",
              "  </thead>\n",
              "  <tbody>\n",
              "    <tr>\n",
              "      <th>0</th>\n",
              "      <td>2.0</td>\n",
              "    </tr>\n",
              "  </tbody>\n",
              "</table>\n",
              "</div>"
            ],
            "text/plain": [
              "   gpa\n",
              "0  2.0"
            ]
          },
          "metadata": {
            "tags": []
          },
          "execution_count": 39
        }
      ]
    },
    {
      "cell_type": "markdown",
      "metadata": {
        "id": "JFRf4Ti8b3sG"
      },
      "source": [
        "### SQL is Closed Over Tables!\n",
        "Note that even this \"single-celled\" response still has a uniform data type of a *relation*.\n",
        "\n",
        "SQL expressions take in tables and always produce tables. How does this compare to Pandas?\n",
        "\n",
        "Now that you can slice and dice tables into columns, rows and cells, you have enough knowledge to poke around in a database. Let's move on to skills that you'll need as a data scientist."
      ]
    },
    {
      "cell_type": "markdown",
      "metadata": {
        "id": "P8_XhFfnb3sH"
      },
      "source": [
        "## Group By Aggregation\n",
        "`GROUP BY` aggregation in SQL is a lot like the group by in Pandas. SQL provides a family of `[aggregate functions]` for use in the `select` clause. In the simplest form, queries with aggregates in the `select` clause generate a single row of output, with each aggregate function performing a summary of all the rows of input. You can have many aggregate functions in your select clause:\n",
        "\n",
        "A list of built-in aggregate functions in PostgreSQL is [here](https://www.postgresql.org/docs/current/functions-aggregate.html). In our case, the query we are looking for is as follows.\n",
        "\n",
        "In the following we compute the average GPA as well as the number of students in each department:"
      ]
    },
    {
      "cell_type": "code",
      "metadata": {
        "id": "S1nk3Ur-b3sK",
        "colab": {
          "base_uri": "https://localhost:8080/",
          "height": 173
        },
        "outputId": "3a16af0e-dcef-411e-ac57-13f701d0b829"
      },
      "source": [
        "sql_expr = \"\"\"\n",
        "SELECT dept, AVG(gpa) as avg_gpa, COUNT(*) as count\n",
        "FROM students\n",
        "GROUP BY dept\n",
        "\"\"\"\n",
        "pd.read_sql(sql_expr, sqlite_engine)"
      ],
      "execution_count": null,
      "outputs": [
        {
          "output_type": "execute_result",
          "data": {
            "text/html": [
              "<div>\n",
              "<style scoped>\n",
              "    .dataframe tbody tr th:only-of-type {\n",
              "        vertical-align: middle;\n",
              "    }\n",
              "\n",
              "    .dataframe tbody tr th {\n",
              "        vertical-align: top;\n",
              "    }\n",
              "\n",
              "    .dataframe thead th {\n",
              "        text-align: right;\n",
              "    }\n",
              "</style>\n",
              "<table border=\"1\" class=\"dataframe\">\n",
              "  <thead>\n",
              "    <tr style=\"text-align: right;\">\n",
              "      <th></th>\n",
              "      <th>dept</th>\n",
              "      <th>avg_gpa</th>\n",
              "      <th>count</th>\n",
              "    </tr>\n",
              "  </thead>\n",
              "  <tbody>\n",
              "    <tr>\n",
              "      <th>0</th>\n",
              "      <td>BUSINESS</td>\n",
              "      <td>4.00</td>\n",
              "      <td>3</td>\n",
              "    </tr>\n",
              "    <tr>\n",
              "      <th>1</th>\n",
              "      <td>CS</td>\n",
              "      <td>3.52</td>\n",
              "      <td>5</td>\n",
              "    </tr>\n",
              "    <tr>\n",
              "      <th>2</th>\n",
              "      <td>DATASCI</td>\n",
              "      <td>4.00</td>\n",
              "      <td>1</td>\n",
              "    </tr>\n",
              "    <tr>\n",
              "      <th>3</th>\n",
              "      <td>Data Science</td>\n",
              "      <td>4.00</td>\n",
              "      <td>1</td>\n",
              "    </tr>\n",
              "  </tbody>\n",
              "</table>\n",
              "</div>"
            ],
            "text/plain": [
              "           dept  avg_gpa  count\n",
              "0      BUSINESS     4.00      3\n",
              "1            CS     3.52      5\n",
              "2       DATASCI     4.00      1\n",
              "3  Data Science     4.00      1"
            ]
          },
          "metadata": {
            "tags": []
          },
          "execution_count": 40
        }
      ]
    },
    {
      "cell_type": "markdown",
      "metadata": {
        "id": "I3uxjjJZb3sL"
      },
      "source": [
        "We can use the `HAVING` clause to apply a predicate to groups."
      ]
    },
    {
      "cell_type": "code",
      "metadata": {
        "id": "zeEZLUweb3sL",
        "colab": {
          "base_uri": "https://localhost:8080/",
          "height": 111
        },
        "outputId": "98010ad4-527f-459e-daa3-4b37cba92313"
      },
      "source": [
        "sql_expr = \"\"\"\n",
        "SELECT dept, AVG(gpa) as avg_gpa, COUNT(*)\n",
        "FROM students\n",
        "GROUP BY dept\n",
        "HAVING COUNT(*) >= 2\n",
        "\"\"\"\n",
        "pd.read_sql(sql_expr, sqlite_engine)"
      ],
      "execution_count": null,
      "outputs": [
        {
          "output_type": "execute_result",
          "data": {
            "text/html": [
              "<div>\n",
              "<style scoped>\n",
              "    .dataframe tbody tr th:only-of-type {\n",
              "        vertical-align: middle;\n",
              "    }\n",
              "\n",
              "    .dataframe tbody tr th {\n",
              "        vertical-align: top;\n",
              "    }\n",
              "\n",
              "    .dataframe thead th {\n",
              "        text-align: right;\n",
              "    }\n",
              "</style>\n",
              "<table border=\"1\" class=\"dataframe\">\n",
              "  <thead>\n",
              "    <tr style=\"text-align: right;\">\n",
              "      <th></th>\n",
              "      <th>dept</th>\n",
              "      <th>avg_gpa</th>\n",
              "      <th>COUNT(*)</th>\n",
              "    </tr>\n",
              "  </thead>\n",
              "  <tbody>\n",
              "    <tr>\n",
              "      <th>0</th>\n",
              "      <td>BUSINESS</td>\n",
              "      <td>4.00</td>\n",
              "      <td>3</td>\n",
              "    </tr>\n",
              "    <tr>\n",
              "      <th>1</th>\n",
              "      <td>CS</td>\n",
              "      <td>3.52</td>\n",
              "      <td>5</td>\n",
              "    </tr>\n",
              "  </tbody>\n",
              "</table>\n",
              "</div>"
            ],
            "text/plain": [
              "       dept  avg_gpa  COUNT(*)\n",
              "0  BUSINESS     4.00         3\n",
              "1        CS     3.52         5"
            ]
          },
          "metadata": {
            "tags": []
          },
          "execution_count": 41
        }
      ]
    },
    {
      "cell_type": "code",
      "metadata": {
        "id": "ouwKyT5mb3sN",
        "colab": {
          "base_uri": "https://localhost:8080/",
          "height": 80
        },
        "outputId": "ed8eee03-2187-4686-e9a1-41fce8447801"
      },
      "source": [
        "sql_expr = \"\"\"\n",
        "SELECT dept, AVG(gpa) as avg_gpa, COUNT(*) as count\n",
        "FROM students\n",
        "WHERE gender = 'F'\n",
        "GROUP BY dept\n",
        "HAVING COUNT(*) >= 2\n",
        "\"\"\"\n",
        "pd.read_sql(sql_expr, sqlite_engine)"
      ],
      "execution_count": null,
      "outputs": [
        {
          "output_type": "execute_result",
          "data": {
            "text/html": [
              "<div>\n",
              "<style scoped>\n",
              "    .dataframe tbody tr th:only-of-type {\n",
              "        vertical-align: middle;\n",
              "    }\n",
              "\n",
              "    .dataframe tbody tr th {\n",
              "        vertical-align: top;\n",
              "    }\n",
              "\n",
              "    .dataframe thead th {\n",
              "        text-align: right;\n",
              "    }\n",
              "</style>\n",
              "<table border=\"1\" class=\"dataframe\">\n",
              "  <thead>\n",
              "    <tr style=\"text-align: right;\">\n",
              "      <th></th>\n",
              "      <th>dept</th>\n",
              "      <th>avg_gpa</th>\n",
              "      <th>count</th>\n",
              "    </tr>\n",
              "  </thead>\n",
              "  <tbody>\n",
              "    <tr>\n",
              "      <th>0</th>\n",
              "      <td>BUSINESS</td>\n",
              "      <td>4.0</td>\n",
              "      <td>3</td>\n",
              "    </tr>\n",
              "  </tbody>\n",
              "</table>\n",
              "</div>"
            ],
            "text/plain": [
              "       dept  avg_gpa  count\n",
              "0  BUSINESS      4.0      3"
            ]
          },
          "metadata": {
            "tags": []
          },
          "execution_count": 42
        }
      ]
    },
    {
      "cell_type": "markdown",
      "metadata": {
        "id": "7m1fFzNmb3sP"
      },
      "source": [
        "### Ordering the output\n",
        "As a nicety, SQL allows you to order your output rows, in either ascending (ASC) or descending (DESC) order of the values in columns. For example:"
      ]
    },
    {
      "cell_type": "code",
      "metadata": {
        "id": "-wqw5bxJb3sP",
        "colab": {
          "base_uri": "https://localhost:8080/",
          "height": 359
        },
        "outputId": "768facf8-1012-45e0-850e-0a03dcf7c32a"
      },
      "source": [
        "sql_expr = \"\"\"\n",
        "SELECT *\n",
        "FROM students\n",
        "ORDER BY gpa;\n",
        "\"\"\"\n",
        "pd.read_sql(sql_expr, sqlite_engine)"
      ],
      "execution_count": null,
      "outputs": [
        {
          "output_type": "execute_result",
          "data": {
            "text/html": [
              "<div>\n",
              "<style scoped>\n",
              "    .dataframe tbody tr th:only-of-type {\n",
              "        vertical-align: middle;\n",
              "    }\n",
              "\n",
              "    .dataframe tbody tr th {\n",
              "        vertical-align: top;\n",
              "    }\n",
              "\n",
              "    .dataframe thead th {\n",
              "        text-align: right;\n",
              "    }\n",
              "</style>\n",
              "<table border=\"1\" class=\"dataframe\">\n",
              "  <thead>\n",
              "    <tr style=\"text-align: right;\">\n",
              "      <th></th>\n",
              "      <th>name</th>\n",
              "      <th>gpa</th>\n",
              "      <th>age</th>\n",
              "      <th>dept</th>\n",
              "      <th>gender</th>\n",
              "    </tr>\n",
              "  </thead>\n",
              "  <tbody>\n",
              "    <tr>\n",
              "      <th>0</th>\n",
              "      <td>Bill Gates</td>\n",
              "      <td>2.0</td>\n",
              "      <td>62</td>\n",
              "      <td>CS</td>\n",
              "      <td>M</td>\n",
              "    </tr>\n",
              "    <tr>\n",
              "      <th>1</th>\n",
              "      <td>Mike Olson</td>\n",
              "      <td>3.7</td>\n",
              "      <td>52</td>\n",
              "      <td>CS</td>\n",
              "      <td>M</td>\n",
              "    </tr>\n",
              "    <tr>\n",
              "      <th>2</th>\n",
              "      <td>Danah Boyd</td>\n",
              "      <td>3.9</td>\n",
              "      <td>37</td>\n",
              "      <td>CS</td>\n",
              "      <td>F</td>\n",
              "    </tr>\n",
              "    <tr>\n",
              "      <th>3</th>\n",
              "      <td>Hillary Mason</td>\n",
              "      <td>4.0</td>\n",
              "      <td>37</td>\n",
              "      <td>DATASCI</td>\n",
              "      <td>F</td>\n",
              "    </tr>\n",
              "    <tr>\n",
              "      <th>4</th>\n",
              "      <td>Mark Zuckerberg</td>\n",
              "      <td>4.0</td>\n",
              "      <td>32</td>\n",
              "      <td>CS</td>\n",
              "      <td>M</td>\n",
              "    </tr>\n",
              "    <tr>\n",
              "      <th>5</th>\n",
              "      <td>Sheryl Sandberg</td>\n",
              "      <td>4.0</td>\n",
              "      <td>49</td>\n",
              "      <td>BUSINESS</td>\n",
              "      <td>F</td>\n",
              "    </tr>\n",
              "    <tr>\n",
              "      <th>6</th>\n",
              "      <td>Susan Wojcicki</td>\n",
              "      <td>4.0</td>\n",
              "      <td>48</td>\n",
              "      <td>BUSINESS</td>\n",
              "      <td>F</td>\n",
              "    </tr>\n",
              "    <tr>\n",
              "      <th>7</th>\n",
              "      <td>Marissa Meyer</td>\n",
              "      <td>4.0</td>\n",
              "      <td>47</td>\n",
              "      <td>BUSINESS</td>\n",
              "      <td>F</td>\n",
              "    </tr>\n",
              "    <tr>\n",
              "      <th>8</th>\n",
              "      <td>Steven Injety</td>\n",
              "      <td>4.0</td>\n",
              "      <td>20</td>\n",
              "      <td>Data Science</td>\n",
              "      <td>M</td>\n",
              "    </tr>\n",
              "    <tr>\n",
              "      <th>9</th>\n",
              "      <td>Sergey Brin</td>\n",
              "      <td>4.0</td>\n",
              "      <td>40</td>\n",
              "      <td>CS</td>\n",
              "      <td>M</td>\n",
              "    </tr>\n",
              "  </tbody>\n",
              "</table>\n",
              "</div>"
            ],
            "text/plain": [
              "              name  gpa  age          dept gender\n",
              "0       Bill Gates  2.0   62            CS      M\n",
              "1       Mike Olson  3.7   52            CS      M\n",
              "2       Danah Boyd  3.9   37            CS      F\n",
              "3    Hillary Mason  4.0   37       DATASCI      F\n",
              "4  Mark Zuckerberg  4.0   32            CS      M\n",
              "5  Sheryl Sandberg  4.0   49      BUSINESS      F\n",
              "6   Susan Wojcicki  4.0   48      BUSINESS      F\n",
              "7    Marissa Meyer  4.0   47      BUSINESS      F\n",
              "8    Steven Injety  4.0   20  Data Science      M\n",
              "9      Sergey Brin  4.0   40            CS      M"
            ]
          },
          "metadata": {
            "tags": []
          },
          "execution_count": 43
        }
      ]
    },
    {
      "cell_type": "code",
      "metadata": {
        "id": "OhuOBQkwb3sR",
        "colab": {
          "base_uri": "https://localhost:8080/",
          "height": 359
        },
        "outputId": "f4438396-05cb-4fd5-c82d-8c69e4b7546d"
      },
      "source": [
        "sql_expr = \"\"\"\n",
        "SELECT *\n",
        "FROM students\n",
        "ORDER BY gpa, age;\n",
        "\"\"\"\n",
        "pd.read_sql(sql_expr, sqlite_engine)"
      ],
      "execution_count": null,
      "outputs": [
        {
          "output_type": "execute_result",
          "data": {
            "text/html": [
              "<div>\n",
              "<style scoped>\n",
              "    .dataframe tbody tr th:only-of-type {\n",
              "        vertical-align: middle;\n",
              "    }\n",
              "\n",
              "    .dataframe tbody tr th {\n",
              "        vertical-align: top;\n",
              "    }\n",
              "\n",
              "    .dataframe thead th {\n",
              "        text-align: right;\n",
              "    }\n",
              "</style>\n",
              "<table border=\"1\" class=\"dataframe\">\n",
              "  <thead>\n",
              "    <tr style=\"text-align: right;\">\n",
              "      <th></th>\n",
              "      <th>name</th>\n",
              "      <th>gpa</th>\n",
              "      <th>age</th>\n",
              "      <th>dept</th>\n",
              "      <th>gender</th>\n",
              "    </tr>\n",
              "  </thead>\n",
              "  <tbody>\n",
              "    <tr>\n",
              "      <th>0</th>\n",
              "      <td>Bill Gates</td>\n",
              "      <td>2.0</td>\n",
              "      <td>62</td>\n",
              "      <td>CS</td>\n",
              "      <td>M</td>\n",
              "    </tr>\n",
              "    <tr>\n",
              "      <th>1</th>\n",
              "      <td>Mike Olson</td>\n",
              "      <td>3.7</td>\n",
              "      <td>52</td>\n",
              "      <td>CS</td>\n",
              "      <td>M</td>\n",
              "    </tr>\n",
              "    <tr>\n",
              "      <th>2</th>\n",
              "      <td>Danah Boyd</td>\n",
              "      <td>3.9</td>\n",
              "      <td>37</td>\n",
              "      <td>CS</td>\n",
              "      <td>F</td>\n",
              "    </tr>\n",
              "    <tr>\n",
              "      <th>3</th>\n",
              "      <td>Steven Injety</td>\n",
              "      <td>4.0</td>\n",
              "      <td>20</td>\n",
              "      <td>Data Science</td>\n",
              "      <td>M</td>\n",
              "    </tr>\n",
              "    <tr>\n",
              "      <th>4</th>\n",
              "      <td>Mark Zuckerberg</td>\n",
              "      <td>4.0</td>\n",
              "      <td>32</td>\n",
              "      <td>CS</td>\n",
              "      <td>M</td>\n",
              "    </tr>\n",
              "    <tr>\n",
              "      <th>5</th>\n",
              "      <td>Hillary Mason</td>\n",
              "      <td>4.0</td>\n",
              "      <td>37</td>\n",
              "      <td>DATASCI</td>\n",
              "      <td>F</td>\n",
              "    </tr>\n",
              "    <tr>\n",
              "      <th>6</th>\n",
              "      <td>Sergey Brin</td>\n",
              "      <td>4.0</td>\n",
              "      <td>40</td>\n",
              "      <td>CS</td>\n",
              "      <td>M</td>\n",
              "    </tr>\n",
              "    <tr>\n",
              "      <th>7</th>\n",
              "      <td>Marissa Meyer</td>\n",
              "      <td>4.0</td>\n",
              "      <td>47</td>\n",
              "      <td>BUSINESS</td>\n",
              "      <td>F</td>\n",
              "    </tr>\n",
              "    <tr>\n",
              "      <th>8</th>\n",
              "      <td>Susan Wojcicki</td>\n",
              "      <td>4.0</td>\n",
              "      <td>48</td>\n",
              "      <td>BUSINESS</td>\n",
              "      <td>F</td>\n",
              "    </tr>\n",
              "    <tr>\n",
              "      <th>9</th>\n",
              "      <td>Sheryl Sandberg</td>\n",
              "      <td>4.0</td>\n",
              "      <td>49</td>\n",
              "      <td>BUSINESS</td>\n",
              "      <td>F</td>\n",
              "    </tr>\n",
              "  </tbody>\n",
              "</table>\n",
              "</div>"
            ],
            "text/plain": [
              "              name  gpa  age          dept gender\n",
              "0       Bill Gates  2.0   62            CS      M\n",
              "1       Mike Olson  3.7   52            CS      M\n",
              "2       Danah Boyd  3.9   37            CS      F\n",
              "3    Steven Injety  4.0   20  Data Science      M\n",
              "4  Mark Zuckerberg  4.0   32            CS      M\n",
              "5    Hillary Mason  4.0   37       DATASCI      F\n",
              "6      Sergey Brin  4.0   40            CS      M\n",
              "7    Marissa Meyer  4.0   47      BUSINESS      F\n",
              "8   Susan Wojcicki  4.0   48      BUSINESS      F\n",
              "9  Sheryl Sandberg  4.0   49      BUSINESS      F"
            ]
          },
          "metadata": {
            "tags": []
          },
          "execution_count": 44
        }
      ]
    },
    {
      "cell_type": "code",
      "metadata": {
        "id": "Sw1RXLxob3sT",
        "colab": {
          "base_uri": "https://localhost:8080/",
          "height": 359
        },
        "outputId": "e447e763-1d4b-4b1c-9170-ce0cfac122a4"
      },
      "source": [
        "# TASK 4 Display the names, gps and gender of CS students\n",
        "# Order the students, first by gender, then by name \n",
        "\n",
        "sql_expr = \"\"\"\n",
        "SELECT name, gpa, gender\n",
        "FROM students\n",
        "ORDER BY gender, name;\n",
        "\"\"\"\n",
        "pd.read_sql(sql_expr, sqlite_engine)"
      ],
      "execution_count": null,
      "outputs": [
        {
          "output_type": "execute_result",
          "data": {
            "text/html": [
              "<div>\n",
              "<style scoped>\n",
              "    .dataframe tbody tr th:only-of-type {\n",
              "        vertical-align: middle;\n",
              "    }\n",
              "\n",
              "    .dataframe tbody tr th {\n",
              "        vertical-align: top;\n",
              "    }\n",
              "\n",
              "    .dataframe thead th {\n",
              "        text-align: right;\n",
              "    }\n",
              "</style>\n",
              "<table border=\"1\" class=\"dataframe\">\n",
              "  <thead>\n",
              "    <tr style=\"text-align: right;\">\n",
              "      <th></th>\n",
              "      <th>name</th>\n",
              "      <th>gpa</th>\n",
              "      <th>gender</th>\n",
              "    </tr>\n",
              "  </thead>\n",
              "  <tbody>\n",
              "    <tr>\n",
              "      <th>0</th>\n",
              "      <td>Danah Boyd</td>\n",
              "      <td>3.9</td>\n",
              "      <td>F</td>\n",
              "    </tr>\n",
              "    <tr>\n",
              "      <th>1</th>\n",
              "      <td>Hillary Mason</td>\n",
              "      <td>4.0</td>\n",
              "      <td>F</td>\n",
              "    </tr>\n",
              "    <tr>\n",
              "      <th>2</th>\n",
              "      <td>Marissa Meyer</td>\n",
              "      <td>4.0</td>\n",
              "      <td>F</td>\n",
              "    </tr>\n",
              "    <tr>\n",
              "      <th>3</th>\n",
              "      <td>Sheryl Sandberg</td>\n",
              "      <td>4.0</td>\n",
              "      <td>F</td>\n",
              "    </tr>\n",
              "    <tr>\n",
              "      <th>4</th>\n",
              "      <td>Susan Wojcicki</td>\n",
              "      <td>4.0</td>\n",
              "      <td>F</td>\n",
              "    </tr>\n",
              "    <tr>\n",
              "      <th>5</th>\n",
              "      <td>Bill Gates</td>\n",
              "      <td>2.0</td>\n",
              "      <td>M</td>\n",
              "    </tr>\n",
              "    <tr>\n",
              "      <th>6</th>\n",
              "      <td>Mark Zuckerberg</td>\n",
              "      <td>4.0</td>\n",
              "      <td>M</td>\n",
              "    </tr>\n",
              "    <tr>\n",
              "      <th>7</th>\n",
              "      <td>Mike Olson</td>\n",
              "      <td>3.7</td>\n",
              "      <td>M</td>\n",
              "    </tr>\n",
              "    <tr>\n",
              "      <th>8</th>\n",
              "      <td>Sergey Brin</td>\n",
              "      <td>4.0</td>\n",
              "      <td>M</td>\n",
              "    </tr>\n",
              "    <tr>\n",
              "      <th>9</th>\n",
              "      <td>Steven Injety</td>\n",
              "      <td>4.0</td>\n",
              "      <td>M</td>\n",
              "    </tr>\n",
              "  </tbody>\n",
              "</table>\n",
              "</div>"
            ],
            "text/plain": [
              "              name  gpa gender\n",
              "0       Danah Boyd  3.9      F\n",
              "1    Hillary Mason  4.0      F\n",
              "2    Marissa Meyer  4.0      F\n",
              "3  Sheryl Sandberg  4.0      F\n",
              "4   Susan Wojcicki  4.0      F\n",
              "5       Bill Gates  2.0      M\n",
              "6  Mark Zuckerberg  4.0      M\n",
              "7       Mike Olson  3.7      M\n",
              "8      Sergey Brin  4.0      M\n",
              "9    Steven Injety  4.0      M"
            ]
          },
          "metadata": {
            "tags": []
          },
          "execution_count": 45
        }
      ]
    },
    {
      "cell_type": "code",
      "metadata": {
        "id": "cG9GgwQ4b3sU",
        "colab": {
          "base_uri": "https://localhost:8080/",
          "height": 359
        },
        "outputId": "edb314df-b613-48f3-f7f5-c28a93fcaf01"
      },
      "source": [
        "sql_expr = \"\"\"\n",
        "SELECT *\n",
        "FROM students\n",
        "ORDER BY gpa DESC, age ASC;\n",
        "\"\"\"\n",
        "pd.read_sql(sql_expr, sqlite_engine)"
      ],
      "execution_count": null,
      "outputs": [
        {
          "output_type": "execute_result",
          "data": {
            "text/html": [
              "<div>\n",
              "<style scoped>\n",
              "    .dataframe tbody tr th:only-of-type {\n",
              "        vertical-align: middle;\n",
              "    }\n",
              "\n",
              "    .dataframe tbody tr th {\n",
              "        vertical-align: top;\n",
              "    }\n",
              "\n",
              "    .dataframe thead th {\n",
              "        text-align: right;\n",
              "    }\n",
              "</style>\n",
              "<table border=\"1\" class=\"dataframe\">\n",
              "  <thead>\n",
              "    <tr style=\"text-align: right;\">\n",
              "      <th></th>\n",
              "      <th>name</th>\n",
              "      <th>gpa</th>\n",
              "      <th>age</th>\n",
              "      <th>dept</th>\n",
              "      <th>gender</th>\n",
              "    </tr>\n",
              "  </thead>\n",
              "  <tbody>\n",
              "    <tr>\n",
              "      <th>0</th>\n",
              "      <td>Steven Injety</td>\n",
              "      <td>4.0</td>\n",
              "      <td>20</td>\n",
              "      <td>Data Science</td>\n",
              "      <td>M</td>\n",
              "    </tr>\n",
              "    <tr>\n",
              "      <th>1</th>\n",
              "      <td>Mark Zuckerberg</td>\n",
              "      <td>4.0</td>\n",
              "      <td>32</td>\n",
              "      <td>CS</td>\n",
              "      <td>M</td>\n",
              "    </tr>\n",
              "    <tr>\n",
              "      <th>2</th>\n",
              "      <td>Hillary Mason</td>\n",
              "      <td>4.0</td>\n",
              "      <td>37</td>\n",
              "      <td>DATASCI</td>\n",
              "      <td>F</td>\n",
              "    </tr>\n",
              "    <tr>\n",
              "      <th>3</th>\n",
              "      <td>Sergey Brin</td>\n",
              "      <td>4.0</td>\n",
              "      <td>40</td>\n",
              "      <td>CS</td>\n",
              "      <td>M</td>\n",
              "    </tr>\n",
              "    <tr>\n",
              "      <th>4</th>\n",
              "      <td>Marissa Meyer</td>\n",
              "      <td>4.0</td>\n",
              "      <td>47</td>\n",
              "      <td>BUSINESS</td>\n",
              "      <td>F</td>\n",
              "    </tr>\n",
              "    <tr>\n",
              "      <th>5</th>\n",
              "      <td>Susan Wojcicki</td>\n",
              "      <td>4.0</td>\n",
              "      <td>48</td>\n",
              "      <td>BUSINESS</td>\n",
              "      <td>F</td>\n",
              "    </tr>\n",
              "    <tr>\n",
              "      <th>6</th>\n",
              "      <td>Sheryl Sandberg</td>\n",
              "      <td>4.0</td>\n",
              "      <td>49</td>\n",
              "      <td>BUSINESS</td>\n",
              "      <td>F</td>\n",
              "    </tr>\n",
              "    <tr>\n",
              "      <th>7</th>\n",
              "      <td>Danah Boyd</td>\n",
              "      <td>3.9</td>\n",
              "      <td>37</td>\n",
              "      <td>CS</td>\n",
              "      <td>F</td>\n",
              "    </tr>\n",
              "    <tr>\n",
              "      <th>8</th>\n",
              "      <td>Mike Olson</td>\n",
              "      <td>3.7</td>\n",
              "      <td>52</td>\n",
              "      <td>CS</td>\n",
              "      <td>M</td>\n",
              "    </tr>\n",
              "    <tr>\n",
              "      <th>9</th>\n",
              "      <td>Bill Gates</td>\n",
              "      <td>2.0</td>\n",
              "      <td>62</td>\n",
              "      <td>CS</td>\n",
              "      <td>M</td>\n",
              "    </tr>\n",
              "  </tbody>\n",
              "</table>\n",
              "</div>"
            ],
            "text/plain": [
              "              name  gpa  age          dept gender\n",
              "0    Steven Injety  4.0   20  Data Science      M\n",
              "1  Mark Zuckerberg  4.0   32            CS      M\n",
              "2    Hillary Mason  4.0   37       DATASCI      F\n",
              "3      Sergey Brin  4.0   40            CS      M\n",
              "4    Marissa Meyer  4.0   47      BUSINESS      F\n",
              "5   Susan Wojcicki  4.0   48      BUSINESS      F\n",
              "6  Sheryl Sandberg  4.0   49      BUSINESS      F\n",
              "7       Danah Boyd  3.9   37            CS      F\n",
              "8       Mike Olson  3.7   52            CS      M\n",
              "9       Bill Gates  2.0   62            CS      M"
            ]
          },
          "metadata": {
            "tags": []
          },
          "execution_count": 46
        }
      ]
    },
    {
      "cell_type": "markdown",
      "metadata": {
        "id": "8QUYvbR3b3sW"
      },
      "source": [
        "## `LIMIT` Clause\n",
        "The limit clause limits the number of elements returned."
      ]
    },
    {
      "cell_type": "code",
      "metadata": {
        "id": "AxSbtEmGb3sX",
        "colab": {
          "base_uri": "https://localhost:8080/",
          "height": 142
        },
        "outputId": "730a4cb3-b9bc-451d-c369-7b0dabe7f50e"
      },
      "source": [
        "sql_expr = \"\"\"\n",
        "SELECT * FROM students \n",
        "LIMIT 3\n",
        "\"\"\"\n",
        "pd.read_sql(sql_expr, sqlite_engine)"
      ],
      "execution_count": null,
      "outputs": [
        {
          "output_type": "execute_result",
          "data": {
            "text/html": [
              "<div>\n",
              "<style scoped>\n",
              "    .dataframe tbody tr th:only-of-type {\n",
              "        vertical-align: middle;\n",
              "    }\n",
              "\n",
              "    .dataframe tbody tr th {\n",
              "        vertical-align: top;\n",
              "    }\n",
              "\n",
              "    .dataframe thead th {\n",
              "        text-align: right;\n",
              "    }\n",
              "</style>\n",
              "<table border=\"1\" class=\"dataframe\">\n",
              "  <thead>\n",
              "    <tr style=\"text-align: right;\">\n",
              "      <th></th>\n",
              "      <th>name</th>\n",
              "      <th>gpa</th>\n",
              "      <th>age</th>\n",
              "      <th>dept</th>\n",
              "      <th>gender</th>\n",
              "    </tr>\n",
              "  </thead>\n",
              "  <tbody>\n",
              "    <tr>\n",
              "      <th>0</th>\n",
              "      <td>Danah Boyd</td>\n",
              "      <td>3.9</td>\n",
              "      <td>37</td>\n",
              "      <td>CS</td>\n",
              "      <td>F</td>\n",
              "    </tr>\n",
              "    <tr>\n",
              "      <th>1</th>\n",
              "      <td>Bill Gates</td>\n",
              "      <td>2.0</td>\n",
              "      <td>62</td>\n",
              "      <td>CS</td>\n",
              "      <td>M</td>\n",
              "    </tr>\n",
              "    <tr>\n",
              "      <th>2</th>\n",
              "      <td>Hillary Mason</td>\n",
              "      <td>4.0</td>\n",
              "      <td>37</td>\n",
              "      <td>DATASCI</td>\n",
              "      <td>F</td>\n",
              "    </tr>\n",
              "  </tbody>\n",
              "</table>\n",
              "</div>"
            ],
            "text/plain": [
              "            name  gpa  age     dept gender\n",
              "0     Danah Boyd  3.9   37       CS      F\n",
              "1     Bill Gates  2.0   62       CS      M\n",
              "2  Hillary Mason  4.0   37  DATASCI      F"
            ]
          },
          "metadata": {
            "tags": []
          },
          "execution_count": 47
        }
      ]
    },
    {
      "cell_type": "markdown",
      "metadata": {
        "id": "UxlXN31Ob3sZ"
      },
      "source": [
        "**Why do we use the `LIMIT` clause?**\n",
        "\n",
        "Often the database we are querying is massive and retrieving the entire table as we are debugging the query can be costly in time and system resources. However, we should avoid using LIMIT when constructing a sample of the data.\n",
        "\n",
        "**Which elements are returned?**\n",
        "\n",
        "While this depends on the order of elements which could be arbitrary beyond anything specified by the ORDER BY clauses.\n",
        "\n",
        "**Is this a random sample?**\n",
        "\n",
        "No, be careful!\n",
        "\n",
        "### Super-Appropriate xkcd\n",
        "\n",
        "<img src=\"https://imgs.xkcd.com/comics/exploits_of_a_mom.png\">"
      ]
    },
    {
      "cell_type": "code",
      "metadata": {
        "id": "NXB6O2qWb3sZ"
      },
      "source": [
        "# Task 5: Point at the comic and laugh because\n",
        "# you get the joke, now that you know about SQL \n",
        "# commands."
      ],
      "execution_count": null,
      "outputs": []
    }
  ]
}