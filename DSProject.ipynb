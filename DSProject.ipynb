{
  "nbformat": 4,
  "nbformat_minor": 0,
  "metadata": {
    "colab": {
      "name": "DSProject.ipynb",
      "provenance": [],
      "collapsed_sections": []
    },
    "kernelspec": {
      "name": "python3",
      "display_name": "Python 3"
    }
  },
  "cells": [
    {
      "cell_type": "code",
      "metadata": {
        "id": "upqwCl-R5Y1U",
        "colab": {
          "resources": {
            "http://localhost:8080/nbextensions/google.colab/files.js": {
              "data": "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",
              "ok": true,
              "headers": [
                [
                  "content-type",
                  "application/javascript"
                ]
              ],
              "status": 200,
              "status_text": ""
            }
          },
          "base_uri": "https://localhost:8080/",
          "height": 108
        },
        "outputId": "b5730a0c-118d-40c5-8b1a-91c99b30a01b"
      },
      "source": [
        "from google.colab import files  #unzip data\n",
        "#download Fifa19 dataset from Kaggle!\n",
        "\n",
        "uploaded = files.upload()\n",
        "\n",
        "!unzip fifa19"
      ],
      "execution_count": null,
      "outputs": [
        {
          "output_type": "display_data",
          "data": {
            "text/html": [
              "\n",
              "     <input type=\"file\" id=\"files-20f6133a-1d66-4b9b-99ec-f1eab3632e4f\" name=\"files[]\" multiple disabled />\n",
              "     <output id=\"result-20f6133a-1d66-4b9b-99ec-f1eab3632e4f\">\n",
              "      Upload widget is only available when the cell has been executed in the\n",
              "      current browser session. Please rerun this cell to enable.\n",
              "      </output>\n",
              "      <script src=\"/nbextensions/google.colab/files.js\"></script> "
            ],
            "text/plain": [
              "<IPython.core.display.HTML object>"
            ]
          },
          "metadata": {
            "tags": []
          }
        },
        {
          "output_type": "stream",
          "text": [
            "Saving fifa19.zip to fifa19.zip\n",
            "Archive:  fifa19.zip\n",
            "  inflating: data.csv                \n"
          ],
          "name": "stdout"
        }
      ]
    },
    {
      "cell_type": "code",
      "metadata": {
        "id": "or3zM8uX5b6o",
        "colab": {
          "base_uri": "https://localhost:8080/",
          "height": 595
        },
        "outputId": "a12ee0d5-8c03-437e-a711-1772bfa57d68"
      },
      "source": [
        "import pandas as pd  #read data\n",
        "import numpy as np\n",
        "\n",
        "imdb_df = pd.read_csv('data.csv')\n",
        "imdb_df.head(10)"
      ],
      "execution_count": null,
      "outputs": [
        {
          "output_type": "execute_result",
          "data": {
            "text/html": [
              "<div>\n",
              "<style scoped>\n",
              "    .dataframe tbody tr th:only-of-type {\n",
              "        vertical-align: middle;\n",
              "    }\n",
              "\n",
              "    .dataframe tbody tr th {\n",
              "        vertical-align: top;\n",
              "    }\n",
              "\n",
              "    .dataframe thead th {\n",
              "        text-align: right;\n",
              "    }\n",
              "</style>\n",
              "<table border=\"1\" class=\"dataframe\">\n",
              "  <thead>\n",
              "    <tr style=\"text-align: right;\">\n",
              "      <th></th>\n",
              "      <th>Unnamed: 0</th>\n",
              "      <th>ID</th>\n",
              "      <th>Name</th>\n",
              "      <th>Age</th>\n",
              "      <th>Photo</th>\n",
              "      <th>Nationality</th>\n",
              "      <th>Flag</th>\n",
              "      <th>Overall</th>\n",
              "      <th>Potential</th>\n",
              "      <th>Club</th>\n",
              "      <th>...</th>\n",
              "      <th>Composure</th>\n",
              "      <th>Marking</th>\n",
              "      <th>StandingTackle</th>\n",
              "      <th>SlidingTackle</th>\n",
              "      <th>GKDiving</th>\n",
              "      <th>GKHandling</th>\n",
              "      <th>GKKicking</th>\n",
              "      <th>GKPositioning</th>\n",
              "      <th>GKReflexes</th>\n",
              "      <th>Release Clause</th>\n",
              "    </tr>\n",
              "  </thead>\n",
              "  <tbody>\n",
              "    <tr>\n",
              "      <th>0</th>\n",
              "      <td>0</td>\n",
              "      <td>158023</td>\n",
              "      <td>L. Messi</td>\n",
              "      <td>31</td>\n",
              "      <td>https://cdn.sofifa.org/players/4/19/158023.png</td>\n",
              "      <td>Argentina</td>\n",
              "      <td>https://cdn.sofifa.org/flags/52.png</td>\n",
              "      <td>94</td>\n",
              "      <td>94</td>\n",
              "      <td>FC Barcelona</td>\n",
              "      <td>...</td>\n",
              "      <td>96.0</td>\n",
              "      <td>33.0</td>\n",
              "      <td>28.0</td>\n",
              "      <td>26.0</td>\n",
              "      <td>6.0</td>\n",
              "      <td>11.0</td>\n",
              "      <td>15.0</td>\n",
              "      <td>14.0</td>\n",
              "      <td>8.0</td>\n",
              "      <td>€226.5M</td>\n",
              "    </tr>\n",
              "    <tr>\n",
              "      <th>1</th>\n",
              "      <td>1</td>\n",
              "      <td>20801</td>\n",
              "      <td>Cristiano Ronaldo</td>\n",
              "      <td>33</td>\n",
              "      <td>https://cdn.sofifa.org/players/4/19/20801.png</td>\n",
              "      <td>Portugal</td>\n",
              "      <td>https://cdn.sofifa.org/flags/38.png</td>\n",
              "      <td>94</td>\n",
              "      <td>94</td>\n",
              "      <td>Juventus</td>\n",
              "      <td>...</td>\n",
              "      <td>95.0</td>\n",
              "      <td>28.0</td>\n",
              "      <td>31.0</td>\n",
              "      <td>23.0</td>\n",
              "      <td>7.0</td>\n",
              "      <td>11.0</td>\n",
              "      <td>15.0</td>\n",
              "      <td>14.0</td>\n",
              "      <td>11.0</td>\n",
              "      <td>€127.1M</td>\n",
              "    </tr>\n",
              "    <tr>\n",
              "      <th>2</th>\n",
              "      <td>2</td>\n",
              "      <td>190871</td>\n",
              "      <td>Neymar Jr</td>\n",
              "      <td>26</td>\n",
              "      <td>https://cdn.sofifa.org/players/4/19/190871.png</td>\n",
              "      <td>Brazil</td>\n",
              "      <td>https://cdn.sofifa.org/flags/54.png</td>\n",
              "      <td>92</td>\n",
              "      <td>93</td>\n",
              "      <td>Paris Saint-Germain</td>\n",
              "      <td>...</td>\n",
              "      <td>94.0</td>\n",
              "      <td>27.0</td>\n",
              "      <td>24.0</td>\n",
              "      <td>33.0</td>\n",
              "      <td>9.0</td>\n",
              "      <td>9.0</td>\n",
              "      <td>15.0</td>\n",
              "      <td>15.0</td>\n",
              "      <td>11.0</td>\n",
              "      <td>€228.1M</td>\n",
              "    </tr>\n",
              "    <tr>\n",
              "      <th>3</th>\n",
              "      <td>3</td>\n",
              "      <td>193080</td>\n",
              "      <td>De Gea</td>\n",
              "      <td>27</td>\n",
              "      <td>https://cdn.sofifa.org/players/4/19/193080.png</td>\n",
              "      <td>Spain</td>\n",
              "      <td>https://cdn.sofifa.org/flags/45.png</td>\n",
              "      <td>91</td>\n",
              "      <td>93</td>\n",
              "      <td>Manchester United</td>\n",
              "      <td>...</td>\n",
              "      <td>68.0</td>\n",
              "      <td>15.0</td>\n",
              "      <td>21.0</td>\n",
              "      <td>13.0</td>\n",
              "      <td>90.0</td>\n",
              "      <td>85.0</td>\n",
              "      <td>87.0</td>\n",
              "      <td>88.0</td>\n",
              "      <td>94.0</td>\n",
              "      <td>€138.6M</td>\n",
              "    </tr>\n",
              "    <tr>\n",
              "      <th>4</th>\n",
              "      <td>4</td>\n",
              "      <td>192985</td>\n",
              "      <td>K. De Bruyne</td>\n",
              "      <td>27</td>\n",
              "      <td>https://cdn.sofifa.org/players/4/19/192985.png</td>\n",
              "      <td>Belgium</td>\n",
              "      <td>https://cdn.sofifa.org/flags/7.png</td>\n",
              "      <td>91</td>\n",
              "      <td>92</td>\n",
              "      <td>Manchester City</td>\n",
              "      <td>...</td>\n",
              "      <td>88.0</td>\n",
              "      <td>68.0</td>\n",
              "      <td>58.0</td>\n",
              "      <td>51.0</td>\n",
              "      <td>15.0</td>\n",
              "      <td>13.0</td>\n",
              "      <td>5.0</td>\n",
              "      <td>10.0</td>\n",
              "      <td>13.0</td>\n",
              "      <td>€196.4M</td>\n",
              "    </tr>\n",
              "    <tr>\n",
              "      <th>5</th>\n",
              "      <td>5</td>\n",
              "      <td>183277</td>\n",
              "      <td>E. Hazard</td>\n",
              "      <td>27</td>\n",
              "      <td>https://cdn.sofifa.org/players/4/19/183277.png</td>\n",
              "      <td>Belgium</td>\n",
              "      <td>https://cdn.sofifa.org/flags/7.png</td>\n",
              "      <td>91</td>\n",
              "      <td>91</td>\n",
              "      <td>Chelsea</td>\n",
              "      <td>...</td>\n",
              "      <td>91.0</td>\n",
              "      <td>34.0</td>\n",
              "      <td>27.0</td>\n",
              "      <td>22.0</td>\n",
              "      <td>11.0</td>\n",
              "      <td>12.0</td>\n",
              "      <td>6.0</td>\n",
              "      <td>8.0</td>\n",
              "      <td>8.0</td>\n",
              "      <td>€172.1M</td>\n",
              "    </tr>\n",
              "    <tr>\n",
              "      <th>6</th>\n",
              "      <td>6</td>\n",
              "      <td>177003</td>\n",
              "      <td>L. Modrić</td>\n",
              "      <td>32</td>\n",
              "      <td>https://cdn.sofifa.org/players/4/19/177003.png</td>\n",
              "      <td>Croatia</td>\n",
              "      <td>https://cdn.sofifa.org/flags/10.png</td>\n",
              "      <td>91</td>\n",
              "      <td>91</td>\n",
              "      <td>Real Madrid</td>\n",
              "      <td>...</td>\n",
              "      <td>84.0</td>\n",
              "      <td>60.0</td>\n",
              "      <td>76.0</td>\n",
              "      <td>73.0</td>\n",
              "      <td>13.0</td>\n",
              "      <td>9.0</td>\n",
              "      <td>7.0</td>\n",
              "      <td>14.0</td>\n",
              "      <td>9.0</td>\n",
              "      <td>€137.4M</td>\n",
              "    </tr>\n",
              "    <tr>\n",
              "      <th>7</th>\n",
              "      <td>7</td>\n",
              "      <td>176580</td>\n",
              "      <td>L. Suárez</td>\n",
              "      <td>31</td>\n",
              "      <td>https://cdn.sofifa.org/players/4/19/176580.png</td>\n",
              "      <td>Uruguay</td>\n",
              "      <td>https://cdn.sofifa.org/flags/60.png</td>\n",
              "      <td>91</td>\n",
              "      <td>91</td>\n",
              "      <td>FC Barcelona</td>\n",
              "      <td>...</td>\n",
              "      <td>85.0</td>\n",
              "      <td>62.0</td>\n",
              "      <td>45.0</td>\n",
              "      <td>38.0</td>\n",
              "      <td>27.0</td>\n",
              "      <td>25.0</td>\n",
              "      <td>31.0</td>\n",
              "      <td>33.0</td>\n",
              "      <td>37.0</td>\n",
              "      <td>€164M</td>\n",
              "    </tr>\n",
              "    <tr>\n",
              "      <th>8</th>\n",
              "      <td>8</td>\n",
              "      <td>155862</td>\n",
              "      <td>Sergio Ramos</td>\n",
              "      <td>32</td>\n",
              "      <td>https://cdn.sofifa.org/players/4/19/155862.png</td>\n",
              "      <td>Spain</td>\n",
              "      <td>https://cdn.sofifa.org/flags/45.png</td>\n",
              "      <td>91</td>\n",
              "      <td>91</td>\n",
              "      <td>Real Madrid</td>\n",
              "      <td>...</td>\n",
              "      <td>82.0</td>\n",
              "      <td>87.0</td>\n",
              "      <td>92.0</td>\n",
              "      <td>91.0</td>\n",
              "      <td>11.0</td>\n",
              "      <td>8.0</td>\n",
              "      <td>9.0</td>\n",
              "      <td>7.0</td>\n",
              "      <td>11.0</td>\n",
              "      <td>€104.6M</td>\n",
              "    </tr>\n",
              "    <tr>\n",
              "      <th>9</th>\n",
              "      <td>9</td>\n",
              "      <td>200389</td>\n",
              "      <td>J. Oblak</td>\n",
              "      <td>25</td>\n",
              "      <td>https://cdn.sofifa.org/players/4/19/200389.png</td>\n",
              "      <td>Slovenia</td>\n",
              "      <td>https://cdn.sofifa.org/flags/44.png</td>\n",
              "      <td>90</td>\n",
              "      <td>93</td>\n",
              "      <td>Atlético Madrid</td>\n",
              "      <td>...</td>\n",
              "      <td>70.0</td>\n",
              "      <td>27.0</td>\n",
              "      <td>12.0</td>\n",
              "      <td>18.0</td>\n",
              "      <td>86.0</td>\n",
              "      <td>92.0</td>\n",
              "      <td>78.0</td>\n",
              "      <td>88.0</td>\n",
              "      <td>89.0</td>\n",
              "      <td>€144.5M</td>\n",
              "    </tr>\n",
              "  </tbody>\n",
              "</table>\n",
              "<p>10 rows × 89 columns</p>\n",
              "</div>"
            ],
            "text/plain": [
              "   Unnamed: 0      ID               Name  Age  \\\n",
              "0           0  158023           L. Messi   31   \n",
              "1           1   20801  Cristiano Ronaldo   33   \n",
              "2           2  190871          Neymar Jr   26   \n",
              "3           3  193080             De Gea   27   \n",
              "4           4  192985       K. De Bruyne   27   \n",
              "5           5  183277          E. Hazard   27   \n",
              "6           6  177003          L. Modrić   32   \n",
              "7           7  176580          L. Suárez   31   \n",
              "8           8  155862       Sergio Ramos   32   \n",
              "9           9  200389           J. Oblak   25   \n",
              "\n",
              "                                            Photo Nationality  \\\n",
              "0  https://cdn.sofifa.org/players/4/19/158023.png   Argentina   \n",
              "1   https://cdn.sofifa.org/players/4/19/20801.png    Portugal   \n",
              "2  https://cdn.sofifa.org/players/4/19/190871.png      Brazil   \n",
              "3  https://cdn.sofifa.org/players/4/19/193080.png       Spain   \n",
              "4  https://cdn.sofifa.org/players/4/19/192985.png     Belgium   \n",
              "5  https://cdn.sofifa.org/players/4/19/183277.png     Belgium   \n",
              "6  https://cdn.sofifa.org/players/4/19/177003.png     Croatia   \n",
              "7  https://cdn.sofifa.org/players/4/19/176580.png     Uruguay   \n",
              "8  https://cdn.sofifa.org/players/4/19/155862.png       Spain   \n",
              "9  https://cdn.sofifa.org/players/4/19/200389.png    Slovenia   \n",
              "\n",
              "                                  Flag  Overall  Potential  \\\n",
              "0  https://cdn.sofifa.org/flags/52.png       94         94   \n",
              "1  https://cdn.sofifa.org/flags/38.png       94         94   \n",
              "2  https://cdn.sofifa.org/flags/54.png       92         93   \n",
              "3  https://cdn.sofifa.org/flags/45.png       91         93   \n",
              "4   https://cdn.sofifa.org/flags/7.png       91         92   \n",
              "5   https://cdn.sofifa.org/flags/7.png       91         91   \n",
              "6  https://cdn.sofifa.org/flags/10.png       91         91   \n",
              "7  https://cdn.sofifa.org/flags/60.png       91         91   \n",
              "8  https://cdn.sofifa.org/flags/45.png       91         91   \n",
              "9  https://cdn.sofifa.org/flags/44.png       90         93   \n",
              "\n",
              "                  Club      ...       Composure Marking StandingTackle  \\\n",
              "0         FC Barcelona      ...            96.0    33.0           28.0   \n",
              "1             Juventus      ...            95.0    28.0           31.0   \n",
              "2  Paris Saint-Germain      ...            94.0    27.0           24.0   \n",
              "3    Manchester United      ...            68.0    15.0           21.0   \n",
              "4      Manchester City      ...            88.0    68.0           58.0   \n",
              "5              Chelsea      ...            91.0    34.0           27.0   \n",
              "6          Real Madrid      ...            84.0    60.0           76.0   \n",
              "7         FC Barcelona      ...            85.0    62.0           45.0   \n",
              "8          Real Madrid      ...            82.0    87.0           92.0   \n",
              "9      Atlético Madrid      ...            70.0    27.0           12.0   \n",
              "\n",
              "   SlidingTackle GKDiving  GKHandling  GKKicking  GKPositioning GKReflexes  \\\n",
              "0           26.0      6.0        11.0       15.0           14.0        8.0   \n",
              "1           23.0      7.0        11.0       15.0           14.0       11.0   \n",
              "2           33.0      9.0         9.0       15.0           15.0       11.0   \n",
              "3           13.0     90.0        85.0       87.0           88.0       94.0   \n",
              "4           51.0     15.0        13.0        5.0           10.0       13.0   \n",
              "5           22.0     11.0        12.0        6.0            8.0        8.0   \n",
              "6           73.0     13.0         9.0        7.0           14.0        9.0   \n",
              "7           38.0     27.0        25.0       31.0           33.0       37.0   \n",
              "8           91.0     11.0         8.0        9.0            7.0       11.0   \n",
              "9           18.0     86.0        92.0       78.0           88.0       89.0   \n",
              "\n",
              "  Release Clause  \n",
              "0        €226.5M  \n",
              "1        €127.1M  \n",
              "2        €228.1M  \n",
              "3        €138.6M  \n",
              "4        €196.4M  \n",
              "5        €172.1M  \n",
              "6        €137.4M  \n",
              "7          €164M  \n",
              "8        €104.6M  \n",
              "9        €144.5M  \n",
              "\n",
              "[10 rows x 89 columns]"
            ]
          },
          "metadata": {
            "tags": []
          },
          "execution_count": 2
        }
      ]
    },
    {
      "cell_type": "code",
      "metadata": {
        "id": "iLS7kRRs5b8W",
        "colab": {
          "base_uri": "https://localhost:8080/",
          "height": 194
        },
        "outputId": "986c87fb-2396-48f5-b3f5-0b4166984565"
      },
      "source": [
        "#drop unnecessary data\n",
        "\n",
        "imdb_df.drop([\"ID\", \"Photo\", \"Flag\", \"Club Logo\", \"Name\", \"Jersey Number\", \"Joined\", \"Loaned From\", \"Contract Valid Until\", \"LS\", \"ST\", \"RS\", \"LW\", \"LF\", \"CF\", \"RF\", \"RW\", \"LAM\", \"CAM\", \"RAM\", \"LM\", \"LCM\", \"CM\", \"RCM\", \"RM\", \"LWB\", \"LDM\", \"CDM\", \"RDM\", \"RWB\", \"LB\", \"LCB\", \"CB\", \"RCB\", \"RB\"], axis = 1, inplace = True) \n",
        "\n",
        "\n",
        "imdb_df.head(2)"
      ],
      "execution_count": null,
      "outputs": [
        {
          "output_type": "execute_result",
          "data": {
            "text/html": [
              "<div>\n",
              "<style scoped>\n",
              "    .dataframe tbody tr th:only-of-type {\n",
              "        vertical-align: middle;\n",
              "    }\n",
              "\n",
              "    .dataframe tbody tr th {\n",
              "        vertical-align: top;\n",
              "    }\n",
              "\n",
              "    .dataframe thead th {\n",
              "        text-align: right;\n",
              "    }\n",
              "</style>\n",
              "<table border=\"1\" class=\"dataframe\">\n",
              "  <thead>\n",
              "    <tr style=\"text-align: right;\">\n",
              "      <th></th>\n",
              "      <th>Unnamed: 0</th>\n",
              "      <th>Age</th>\n",
              "      <th>Nationality</th>\n",
              "      <th>Overall</th>\n",
              "      <th>Potential</th>\n",
              "      <th>Club</th>\n",
              "      <th>Value</th>\n",
              "      <th>Wage</th>\n",
              "      <th>Special</th>\n",
              "      <th>Preferred Foot</th>\n",
              "      <th>...</th>\n",
              "      <th>Composure</th>\n",
              "      <th>Marking</th>\n",
              "      <th>StandingTackle</th>\n",
              "      <th>SlidingTackle</th>\n",
              "      <th>GKDiving</th>\n",
              "      <th>GKHandling</th>\n",
              "      <th>GKKicking</th>\n",
              "      <th>GKPositioning</th>\n",
              "      <th>GKReflexes</th>\n",
              "      <th>Release Clause</th>\n",
              "    </tr>\n",
              "  </thead>\n",
              "  <tbody>\n",
              "    <tr>\n",
              "      <th>0</th>\n",
              "      <td>0</td>\n",
              "      <td>31</td>\n",
              "      <td>Argentina</td>\n",
              "      <td>94</td>\n",
              "      <td>94</td>\n",
              "      <td>FC Barcelona</td>\n",
              "      <td>€110.5M</td>\n",
              "      <td>€565K</td>\n",
              "      <td>2202</td>\n",
              "      <td>Left</td>\n",
              "      <td>...</td>\n",
              "      <td>96.0</td>\n",
              "      <td>33.0</td>\n",
              "      <td>28.0</td>\n",
              "      <td>26.0</td>\n",
              "      <td>6.0</td>\n",
              "      <td>11.0</td>\n",
              "      <td>15.0</td>\n",
              "      <td>14.0</td>\n",
              "      <td>8.0</td>\n",
              "      <td>€226.5M</td>\n",
              "    </tr>\n",
              "    <tr>\n",
              "      <th>1</th>\n",
              "      <td>1</td>\n",
              "      <td>33</td>\n",
              "      <td>Portugal</td>\n",
              "      <td>94</td>\n",
              "      <td>94</td>\n",
              "      <td>Juventus</td>\n",
              "      <td>€77M</td>\n",
              "      <td>€405K</td>\n",
              "      <td>2228</td>\n",
              "      <td>Right</td>\n",
              "      <td>...</td>\n",
              "      <td>95.0</td>\n",
              "      <td>28.0</td>\n",
              "      <td>31.0</td>\n",
              "      <td>23.0</td>\n",
              "      <td>7.0</td>\n",
              "      <td>11.0</td>\n",
              "      <td>15.0</td>\n",
              "      <td>14.0</td>\n",
              "      <td>11.0</td>\n",
              "      <td>€127.1M</td>\n",
              "    </tr>\n",
              "  </tbody>\n",
              "</table>\n",
              "<p>2 rows × 54 columns</p>\n",
              "</div>"
            ],
            "text/plain": [
              "   Unnamed: 0  Age Nationality  Overall  Potential          Club    Value  \\\n",
              "0           0   31   Argentina       94         94  FC Barcelona  €110.5M   \n",
              "1           1   33    Portugal       94         94      Juventus     €77M   \n",
              "\n",
              "    Wage  Special Preferred Foot       ...        Composure  Marking  \\\n",
              "0  €565K     2202           Left       ...             96.0     33.0   \n",
              "1  €405K     2228          Right       ...             95.0     28.0   \n",
              "\n",
              "   StandingTackle SlidingTackle GKDiving GKHandling GKKicking GKPositioning  \\\n",
              "0            28.0          26.0      6.0       11.0      15.0          14.0   \n",
              "1            31.0          23.0      7.0       11.0      15.0          14.0   \n",
              "\n",
              "  GKReflexes  Release Clause  \n",
              "0        8.0         €226.5M  \n",
              "1       11.0         €127.1M  \n",
              "\n",
              "[2 rows x 54 columns]"
            ]
          },
          "metadata": {
            "tags": []
          },
          "execution_count": 3
        }
      ]
    },
    {
      "cell_type": "code",
      "metadata": {
        "id": "kD0D3Dwt5b_U",
        "colab": {
          "base_uri": "https://localhost:8080/",
          "height": 34
        },
        "outputId": "81ff456d-28d7-490a-9e7d-75c4535eb91f"
      },
      "source": [
        "Age = imdb_df.Age  #Checking if everything works\n",
        "\n",
        "Age.mean()"
      ],
      "execution_count": null,
      "outputs": [
        {
          "output_type": "execute_result",
          "data": {
            "text/plain": [
              "25.122205745043114"
            ]
          },
          "metadata": {
            "tags": []
          },
          "execution_count": 4
        }
      ]
    },
    {
      "cell_type": "code",
      "metadata": {
        "id": "l-AH7ZXD5cBC",
        "colab": {
          "base_uri": "https://localhost:8080/",
          "height": 674
        },
        "outputId": "80797b34-b113-4c42-dc93-7c9fbc9e0125"
      },
      "source": [
        "Height = imdb_df['Height'] = imdb_df['Height'].str.replace(\"'\", '.')  #CReplace ' with fullstop\n",
        "\n",
        "Height.shape"
      ],
      "execution_count": null,
      "outputs": [
        {
          "output_type": "error",
          "ename": "AttributeError",
          "evalue": "ignored",
          "traceback": [
            "\u001b[0;31m---------------------------------------------------------------------------\u001b[0m",
            "\u001b[0;31mAttributeError\u001b[0m                            Traceback (most recent call last)",
            "\u001b[0;32m<ipython-input-85-7fa92eb04199>\u001b[0m in \u001b[0;36m<module>\u001b[0;34m()\u001b[0m\n\u001b[0;32m----> 1\u001b[0;31m \u001b[0mHeight\u001b[0m \u001b[0;34m=\u001b[0m \u001b[0mimdb_df\u001b[0m\u001b[0;34m[\u001b[0m\u001b[0;34m'Height'\u001b[0m\u001b[0;34m]\u001b[0m \u001b[0;34m=\u001b[0m \u001b[0mimdb_df\u001b[0m\u001b[0;34m[\u001b[0m\u001b[0;34m'Height'\u001b[0m\u001b[0;34m]\u001b[0m\u001b[0;34m.\u001b[0m\u001b[0mstr\u001b[0m\u001b[0;34m.\u001b[0m\u001b[0mreplace\u001b[0m\u001b[0;34m(\u001b[0m\u001b[0;34m\"'\"\u001b[0m\u001b[0;34m,\u001b[0m \u001b[0;34m'.'\u001b[0m\u001b[0;34m)\u001b[0m  \u001b[0;31m#CReplace ' with fullstop\u001b[0m\u001b[0;34m\u001b[0m\u001b[0;34m\u001b[0m\u001b[0m\n\u001b[0m\u001b[1;32m      2\u001b[0m \u001b[0;34m\u001b[0m\u001b[0m\n\u001b[1;32m      3\u001b[0m \u001b[0mHeight\u001b[0m\u001b[0;34m.\u001b[0m\u001b[0mmax\u001b[0m\u001b[0;34m\u001b[0m\u001b[0;34m\u001b[0m\u001b[0m\n",
            "\u001b[0;32m/usr/local/lib/python3.6/dist-packages/pandas/core/generic.py\u001b[0m in \u001b[0;36m__getattr__\u001b[0;34m(self, name)\u001b[0m\n\u001b[1;32m   4370\u001b[0m         if (name in self._internal_names_set or name in self._metadata or\n\u001b[1;32m   4371\u001b[0m                 name in self._accessors):\n\u001b[0;32m-> 4372\u001b[0;31m             \u001b[0;32mreturn\u001b[0m \u001b[0mobject\u001b[0m\u001b[0;34m.\u001b[0m\u001b[0m__getattribute__\u001b[0m\u001b[0;34m(\u001b[0m\u001b[0mself\u001b[0m\u001b[0;34m,\u001b[0m \u001b[0mname\u001b[0m\u001b[0;34m)\u001b[0m\u001b[0;34m\u001b[0m\u001b[0;34m\u001b[0m\u001b[0m\n\u001b[0m\u001b[1;32m   4373\u001b[0m         \u001b[0;32melse\u001b[0m\u001b[0;34m:\u001b[0m\u001b[0;34m\u001b[0m\u001b[0;34m\u001b[0m\u001b[0m\n\u001b[1;32m   4374\u001b[0m             \u001b[0;32mif\u001b[0m \u001b[0mself\u001b[0m\u001b[0;34m.\u001b[0m\u001b[0m_info_axis\u001b[0m\u001b[0;34m.\u001b[0m\u001b[0m_can_hold_identifiers_and_holds_name\u001b[0m\u001b[0;34m(\u001b[0m\u001b[0mname\u001b[0m\u001b[0;34m)\u001b[0m\u001b[0;34m:\u001b[0m\u001b[0;34m\u001b[0m\u001b[0;34m\u001b[0m\u001b[0m\n",
            "\u001b[0;32m/usr/local/lib/python3.6/dist-packages/pandas/core/accessor.py\u001b[0m in \u001b[0;36m__get__\u001b[0;34m(self, obj, cls)\u001b[0m\n\u001b[1;32m    131\u001b[0m             \u001b[0;31m# we're accessing the attribute of the class, i.e., Dataset.geo\u001b[0m\u001b[0;34m\u001b[0m\u001b[0;34m\u001b[0m\u001b[0;34m\u001b[0m\u001b[0m\n\u001b[1;32m    132\u001b[0m             \u001b[0;32mreturn\u001b[0m \u001b[0mself\u001b[0m\u001b[0;34m.\u001b[0m\u001b[0m_accessor\u001b[0m\u001b[0;34m\u001b[0m\u001b[0;34m\u001b[0m\u001b[0m\n\u001b[0;32m--> 133\u001b[0;31m         \u001b[0maccessor_obj\u001b[0m \u001b[0;34m=\u001b[0m \u001b[0mself\u001b[0m\u001b[0;34m.\u001b[0m\u001b[0m_accessor\u001b[0m\u001b[0;34m(\u001b[0m\u001b[0mobj\u001b[0m\u001b[0;34m)\u001b[0m\u001b[0;34m\u001b[0m\u001b[0;34m\u001b[0m\u001b[0m\n\u001b[0m\u001b[1;32m    134\u001b[0m         \u001b[0;31m# Replace the property with the accessor object. Inspired by:\u001b[0m\u001b[0;34m\u001b[0m\u001b[0;34m\u001b[0m\u001b[0;34m\u001b[0m\u001b[0m\n\u001b[1;32m    135\u001b[0m         \u001b[0;31m# http://www.pydanny.com/cached-property.html\u001b[0m\u001b[0;34m\u001b[0m\u001b[0;34m\u001b[0m\u001b[0;34m\u001b[0m\u001b[0m\n",
            "\u001b[0;32m/usr/local/lib/python3.6/dist-packages/pandas/core/strings.py\u001b[0m in \u001b[0;36m__init__\u001b[0;34m(self, data)\u001b[0m\n\u001b[1;32m   1893\u001b[0m \u001b[0;34m\u001b[0m\u001b[0m\n\u001b[1;32m   1894\u001b[0m     \u001b[0;32mdef\u001b[0m \u001b[0m__init__\u001b[0m\u001b[0;34m(\u001b[0m\u001b[0mself\u001b[0m\u001b[0;34m,\u001b[0m \u001b[0mdata\u001b[0m\u001b[0;34m)\u001b[0m\u001b[0;34m:\u001b[0m\u001b[0;34m\u001b[0m\u001b[0;34m\u001b[0m\u001b[0m\n\u001b[0;32m-> 1895\u001b[0;31m         \u001b[0mself\u001b[0m\u001b[0;34m.\u001b[0m\u001b[0m_validate\u001b[0m\u001b[0;34m(\u001b[0m\u001b[0mdata\u001b[0m\u001b[0;34m)\u001b[0m\u001b[0;34m\u001b[0m\u001b[0;34m\u001b[0m\u001b[0m\n\u001b[0m\u001b[1;32m   1896\u001b[0m         \u001b[0mself\u001b[0m\u001b[0;34m.\u001b[0m\u001b[0m_is_categorical\u001b[0m \u001b[0;34m=\u001b[0m \u001b[0mis_categorical_dtype\u001b[0m\u001b[0;34m(\u001b[0m\u001b[0mdata\u001b[0m\u001b[0;34m)\u001b[0m\u001b[0;34m\u001b[0m\u001b[0;34m\u001b[0m\u001b[0m\n\u001b[1;32m   1897\u001b[0m \u001b[0;34m\u001b[0m\u001b[0m\n",
            "\u001b[0;32m/usr/local/lib/python3.6/dist-packages/pandas/core/strings.py\u001b[0m in \u001b[0;36m_validate\u001b[0;34m(data)\u001b[0m\n\u001b[1;32m   1915\u001b[0m             \u001b[0;31m# (instead of test for object dtype), but that isn't practical for\u001b[0m\u001b[0;34m\u001b[0m\u001b[0;34m\u001b[0m\u001b[0;34m\u001b[0m\u001b[0m\n\u001b[1;32m   1916\u001b[0m             \u001b[0;31m# performance reasons until we have a str dtype (GH 9343)\u001b[0m\u001b[0;34m\u001b[0m\u001b[0;34m\u001b[0m\u001b[0;34m\u001b[0m\u001b[0m\n\u001b[0;32m-> 1917\u001b[0;31m             raise AttributeError(\"Can only use .str accessor with string \"\n\u001b[0m\u001b[1;32m   1918\u001b[0m                                  \u001b[0;34m\"values, which use np.object_ dtype in \"\u001b[0m\u001b[0;34m\u001b[0m\u001b[0;34m\u001b[0m\u001b[0m\n\u001b[1;32m   1919\u001b[0m                                  \"pandas\")\n",
            "\u001b[0;31mAttributeError\u001b[0m: Can only use .str accessor with string values, which use np.object_ dtype in pandas"
          ]
        }
      ]
    },
    {
      "cell_type": "code",
      "metadata": {
        "id": "CDLmqd2S5cDJ",
        "colab": {
          "base_uri": "https://localhost:8080/",
          "height": 34
        },
        "outputId": "bf8dd0a1-c8eb-4afa-c7b6-bd8f7b841431"
      },
      "source": [
        "imdb_df[\"Height\"] = imdb_df.Height.astype(float)  #Converting to float\n",
        "\n",
        "Height = imdb_df.Height\n",
        "\n",
        "Height.min()"
      ],
      "execution_count": null,
      "outputs": [
        {
          "output_type": "execute_result",
          "data": {
            "text/plain": [
              "5.1"
            ]
          },
          "metadata": {
            "tags": []
          },
          "execution_count": 87
        }
      ]
    },
    {
      "cell_type": "code",
      "metadata": {
        "id": "6BvaDmjE5cF4",
        "colab": {
          "base_uri": "https://localhost:8080/",
          "height": 68
        },
        "outputId": "cfc46cd6-9ba2-4bad-ada5-2bfbf6b4ab0b"
      },
      "source": [
        "Weight = imdb_df['Weight'] = imdb_df['Weight'].str.replace(\"lbs\", '')  #drop lbs to perform calculations\n",
        "Weight.head(2)"
      ],
      "execution_count": null,
      "outputs": [
        {
          "output_type": "execute_result",
          "data": {
            "text/plain": [
              "0    159\n",
              "1    183\n",
              "Name: Weight, dtype: object"
            ]
          },
          "metadata": {
            "tags": []
          },
          "execution_count": 7
        }
      ]
    },
    {
      "cell_type": "code",
      "metadata": {
        "id": "oooT_JCq5cK-",
        "colab": {
          "base_uri": "https://localhost:8080/",
          "height": 34
        },
        "outputId": "55b5b9c7-4258-4c32-f662-5edfa92db403"
      },
      "source": [
        "imdb_df[\"Weight\"] = imdb_df.Weight.astype(float)\n",
        "\n",
        "Weight = imdb_df.Weight\n",
        "\n",
        "Weight.min()"
      ],
      "execution_count": null,
      "outputs": [
        {
          "output_type": "execute_result",
          "data": {
            "text/plain": [
              "110.0"
            ]
          },
          "metadata": {
            "tags": []
          },
          "execution_count": 88
        }
      ]
    },
    {
      "cell_type": "code",
      "metadata": {
        "id": "H3_EdYgbHXJq"
      },
      "source": [
        "imdb_df.rename(columns={\"Release Clause\":\"ReleaseClause\"},   #Remove space in the title release clause\n",
        "                 inplace=True)"
      ],
      "execution_count": null,
      "outputs": []
    },
    {
      "cell_type": "code",
      "metadata": {
        "id": "dWaR7u4-IrR9",
        "colab": {
          "base_uri": "https://localhost:8080/",
          "height": 1071
        },
        "outputId": "20671967-2941-4bd3-99ee-8cfcc92760f5"
      },
      "source": [
        "imdb_df['ReleaseClause'] = imdb_df['ReleaseClause'].str.replace(\"K\", ' ')       #removing unwanted char in data\n",
        "imdb_df['ReleaseClause']"
      ],
      "execution_count": null,
      "outputs": [
        {
          "output_type": "execute_result",
          "data": {
            "text/plain": [
              "0        €226.5M\n",
              "1        €127.1M\n",
              "2        €228.1M\n",
              "3        €138.6M\n",
              "4        €196.4M\n",
              "5        €172.1M\n",
              "6        €137.4M\n",
              "7          €164M\n",
              "8        €104.6M\n",
              "9        €144.5M\n",
              "10       €127.1M\n",
              "11       €156.8M\n",
              "12        €90.2M\n",
              "13         €111M\n",
              "14       €121.3M\n",
              "15       €153.5M\n",
              "16       €160.7M\n",
              "17       €165.8M\n",
              "18       €123.3M\n",
              "19       €113.7M\n",
              "20       €105.6M\n",
              "21         €111M\n",
              "22        €62.7M\n",
              "23       €119.3M\n",
              "24        €44.6M\n",
              "25       €166.1M\n",
              "26       €137.3M\n",
              "27       €126.4M\n",
              "28           NaN\n",
              "29       €105.4M\n",
              "          ...   \n",
              "18177      €193 \n",
              "18178       €94 \n",
              "18179      €119 \n",
              "18180       €78 \n",
              "18181      €109 \n",
              "18182      €101 \n",
              "18183        NaN\n",
              "18184       €78 \n",
              "18185       €88 \n",
              "18186      €167 \n",
              "18187       €66 \n",
              "18188      €143 \n",
              "18189      €125 \n",
              "18190      €165 \n",
              "18191      €119 \n",
              "18192      €119 \n",
              "18193       €99 \n",
              "18194      €109 \n",
              "18195      €153 \n",
              "18196      €113 \n",
              "18197       €88 \n",
              "18198      €165 \n",
              "18199      €175 \n",
              "18200      €143 \n",
              "18201      €153 \n",
              "18202      €143 \n",
              "18203      €113 \n",
              "18204      €165 \n",
              "18205      €143 \n",
              "18206      €165 \n",
              "Name: ReleaseClause, Length: 18207, dtype: object"
            ]
          },
          "metadata": {
            "tags": []
          },
          "execution_count": 10
        }
      ]
    },
    {
      "cell_type": "code",
      "metadata": {
        "id": "y6OApt7AI46E",
        "colab": {
          "base_uri": "https://localhost:8080/",
          "height": 1071
        },
        "outputId": "70ba4825-55fe-49cf-a488-244a33527d29"
      },
      "source": [
        "imdb_df['ReleaseClause'] = imdb_df['ReleaseClause'].str.replace(\"€\", ' ')\n",
        "imdb_df['ReleaseClause'] = imdb_df['ReleaseClause'].str.replace(\"M\", ' ')  #Drop the signs and letter\n",
        "imdb_df['ReleaseClause']"
      ],
      "execution_count": null,
      "outputs": [
        {
          "output_type": "execute_result",
          "data": {
            "text/plain": [
              "0         226.5 \n",
              "1         127.1 \n",
              "2         228.1 \n",
              "3         138.6 \n",
              "4         196.4 \n",
              "5         172.1 \n",
              "6         137.4 \n",
              "7           164 \n",
              "8         104.6 \n",
              "9         144.5 \n",
              "10        127.1 \n",
              "11        156.8 \n",
              "12         90.2 \n",
              "13          111 \n",
              "14        121.3 \n",
              "15        153.5 \n",
              "16        160.7 \n",
              "17        165.8 \n",
              "18        123.3 \n",
              "19        113.7 \n",
              "20        105.6 \n",
              "21          111 \n",
              "22         62.7 \n",
              "23        119.3 \n",
              "24         44.6 \n",
              "25        166.1 \n",
              "26        137.3 \n",
              "27        126.4 \n",
              "28           NaN\n",
              "29        105.4 \n",
              "          ...   \n",
              "18177       193 \n",
              "18178        94 \n",
              "18179       119 \n",
              "18180        78 \n",
              "18181       109 \n",
              "18182       101 \n",
              "18183        NaN\n",
              "18184        78 \n",
              "18185        88 \n",
              "18186       167 \n",
              "18187        66 \n",
              "18188       143 \n",
              "18189       125 \n",
              "18190       165 \n",
              "18191       119 \n",
              "18192       119 \n",
              "18193        99 \n",
              "18194       109 \n",
              "18195       153 \n",
              "18196       113 \n",
              "18197        88 \n",
              "18198       165 \n",
              "18199       175 \n",
              "18200       143 \n",
              "18201       153 \n",
              "18202       143 \n",
              "18203       113 \n",
              "18204       165 \n",
              "18205       143 \n",
              "18206       165 \n",
              "Name: ReleaseClause, Length: 18207, dtype: object"
            ]
          },
          "metadata": {
            "tags": []
          },
          "execution_count": 11
        }
      ]
    },
    {
      "cell_type": "code",
      "metadata": {
        "id": "ZmrLBf745cMn",
        "colab": {
          "base_uri": "https://localhost:8080/",
          "height": 595
        },
        "outputId": "8e785df3-af81-4cc4-e5da-f037b937781a"
      },
      "source": [
        "#Question 1 and 2\n",
        "\n",
        "PhysicalAttributes = imdb_df.drop([\"Club\", \"Value\", \"Wage\", \"Preferred Foot\", \"International Reputation\", \"Crossing\", \"Finishing\", \"HeadingAccuracy\", \"ShortPassing\", \"Volleys\", \"Dribbling\", \"Curve\", \"FKAccuracy\", \"LongPassing\", \"BallControl\", \"ShotPower\", \"LongShots\", \"Aggression\", \"Interceptions\", \"Positioning\", \"Vision\", \"Penalties\", \"Composure\", \"Marking\", \"StandingTackle\", \"SlidingTackle\", \"GKDiving\", \"GKHandling\", \"GKKicking\", \"GKPositioning\", \"GKReflexes\", \"ReleaseClause\"],axis = 1) \n",
        "\n",
        "PhysicalAttributes.head(10)"
      ],
      "execution_count": null,
      "outputs": [
        {
          "output_type": "execute_result",
          "data": {
            "text/html": [
              "<div>\n",
              "<style scoped>\n",
              "    .dataframe tbody tr th:only-of-type {\n",
              "        vertical-align: middle;\n",
              "    }\n",
              "\n",
              "    .dataframe tbody tr th {\n",
              "        vertical-align: top;\n",
              "    }\n",
              "\n",
              "    .dataframe thead th {\n",
              "        text-align: right;\n",
              "    }\n",
              "</style>\n",
              "<table border=\"1\" class=\"dataframe\">\n",
              "  <thead>\n",
              "    <tr style=\"text-align: right;\">\n",
              "      <th></th>\n",
              "      <th>Unnamed: 0</th>\n",
              "      <th>Age</th>\n",
              "      <th>Nationality</th>\n",
              "      <th>Overall</th>\n",
              "      <th>Potential</th>\n",
              "      <th>Special</th>\n",
              "      <th>Weak Foot</th>\n",
              "      <th>Skill Moves</th>\n",
              "      <th>Work Rate</th>\n",
              "      <th>Body Type</th>\n",
              "      <th>...</th>\n",
              "      <th>Height</th>\n",
              "      <th>Weight</th>\n",
              "      <th>Acceleration</th>\n",
              "      <th>SprintSpeed</th>\n",
              "      <th>Agility</th>\n",
              "      <th>Reactions</th>\n",
              "      <th>Balance</th>\n",
              "      <th>Jumping</th>\n",
              "      <th>Stamina</th>\n",
              "      <th>Strength</th>\n",
              "    </tr>\n",
              "  </thead>\n",
              "  <tbody>\n",
              "    <tr>\n",
              "      <th>0</th>\n",
              "      <td>0</td>\n",
              "      <td>31</td>\n",
              "      <td>Argentina</td>\n",
              "      <td>94</td>\n",
              "      <td>94</td>\n",
              "      <td>2202</td>\n",
              "      <td>4.0</td>\n",
              "      <td>4.0</td>\n",
              "      <td>Medium/ Medium</td>\n",
              "      <td>Messi</td>\n",
              "      <td>...</td>\n",
              "      <td>5.70</td>\n",
              "      <td>159.0</td>\n",
              "      <td>91.0</td>\n",
              "      <td>86.0</td>\n",
              "      <td>91.0</td>\n",
              "      <td>95.0</td>\n",
              "      <td>95.0</td>\n",
              "      <td>68.0</td>\n",
              "      <td>72.0</td>\n",
              "      <td>59.0</td>\n",
              "    </tr>\n",
              "    <tr>\n",
              "      <th>1</th>\n",
              "      <td>1</td>\n",
              "      <td>33</td>\n",
              "      <td>Portugal</td>\n",
              "      <td>94</td>\n",
              "      <td>94</td>\n",
              "      <td>2228</td>\n",
              "      <td>4.0</td>\n",
              "      <td>5.0</td>\n",
              "      <td>High/ Low</td>\n",
              "      <td>C. Ronaldo</td>\n",
              "      <td>...</td>\n",
              "      <td>6.20</td>\n",
              "      <td>183.0</td>\n",
              "      <td>89.0</td>\n",
              "      <td>91.0</td>\n",
              "      <td>87.0</td>\n",
              "      <td>96.0</td>\n",
              "      <td>70.0</td>\n",
              "      <td>95.0</td>\n",
              "      <td>88.0</td>\n",
              "      <td>79.0</td>\n",
              "    </tr>\n",
              "    <tr>\n",
              "      <th>2</th>\n",
              "      <td>2</td>\n",
              "      <td>26</td>\n",
              "      <td>Brazil</td>\n",
              "      <td>92</td>\n",
              "      <td>93</td>\n",
              "      <td>2143</td>\n",
              "      <td>5.0</td>\n",
              "      <td>5.0</td>\n",
              "      <td>High/ Medium</td>\n",
              "      <td>Neymar</td>\n",
              "      <td>...</td>\n",
              "      <td>5.90</td>\n",
              "      <td>150.0</td>\n",
              "      <td>94.0</td>\n",
              "      <td>90.0</td>\n",
              "      <td>96.0</td>\n",
              "      <td>94.0</td>\n",
              "      <td>84.0</td>\n",
              "      <td>61.0</td>\n",
              "      <td>81.0</td>\n",
              "      <td>49.0</td>\n",
              "    </tr>\n",
              "    <tr>\n",
              "      <th>3</th>\n",
              "      <td>3</td>\n",
              "      <td>27</td>\n",
              "      <td>Spain</td>\n",
              "      <td>91</td>\n",
              "      <td>93</td>\n",
              "      <td>1471</td>\n",
              "      <td>3.0</td>\n",
              "      <td>1.0</td>\n",
              "      <td>Medium/ Medium</td>\n",
              "      <td>Lean</td>\n",
              "      <td>...</td>\n",
              "      <td>6.40</td>\n",
              "      <td>168.0</td>\n",
              "      <td>57.0</td>\n",
              "      <td>58.0</td>\n",
              "      <td>60.0</td>\n",
              "      <td>90.0</td>\n",
              "      <td>43.0</td>\n",
              "      <td>67.0</td>\n",
              "      <td>43.0</td>\n",
              "      <td>64.0</td>\n",
              "    </tr>\n",
              "    <tr>\n",
              "      <th>4</th>\n",
              "      <td>4</td>\n",
              "      <td>27</td>\n",
              "      <td>Belgium</td>\n",
              "      <td>91</td>\n",
              "      <td>92</td>\n",
              "      <td>2281</td>\n",
              "      <td>5.0</td>\n",
              "      <td>4.0</td>\n",
              "      <td>High/ High</td>\n",
              "      <td>Normal</td>\n",
              "      <td>...</td>\n",
              "      <td>5.11</td>\n",
              "      <td>154.0</td>\n",
              "      <td>78.0</td>\n",
              "      <td>76.0</td>\n",
              "      <td>79.0</td>\n",
              "      <td>91.0</td>\n",
              "      <td>77.0</td>\n",
              "      <td>63.0</td>\n",
              "      <td>90.0</td>\n",
              "      <td>75.0</td>\n",
              "    </tr>\n",
              "    <tr>\n",
              "      <th>5</th>\n",
              "      <td>5</td>\n",
              "      <td>27</td>\n",
              "      <td>Belgium</td>\n",
              "      <td>91</td>\n",
              "      <td>91</td>\n",
              "      <td>2142</td>\n",
              "      <td>4.0</td>\n",
              "      <td>4.0</td>\n",
              "      <td>High/ Medium</td>\n",
              "      <td>Normal</td>\n",
              "      <td>...</td>\n",
              "      <td>5.80</td>\n",
              "      <td>163.0</td>\n",
              "      <td>94.0</td>\n",
              "      <td>88.0</td>\n",
              "      <td>95.0</td>\n",
              "      <td>90.0</td>\n",
              "      <td>94.0</td>\n",
              "      <td>56.0</td>\n",
              "      <td>83.0</td>\n",
              "      <td>66.0</td>\n",
              "    </tr>\n",
              "    <tr>\n",
              "      <th>6</th>\n",
              "      <td>6</td>\n",
              "      <td>32</td>\n",
              "      <td>Croatia</td>\n",
              "      <td>91</td>\n",
              "      <td>91</td>\n",
              "      <td>2280</td>\n",
              "      <td>4.0</td>\n",
              "      <td>4.0</td>\n",
              "      <td>High/ High</td>\n",
              "      <td>Lean</td>\n",
              "      <td>...</td>\n",
              "      <td>5.80</td>\n",
              "      <td>146.0</td>\n",
              "      <td>80.0</td>\n",
              "      <td>72.0</td>\n",
              "      <td>93.0</td>\n",
              "      <td>90.0</td>\n",
              "      <td>94.0</td>\n",
              "      <td>68.0</td>\n",
              "      <td>89.0</td>\n",
              "      <td>58.0</td>\n",
              "    </tr>\n",
              "    <tr>\n",
              "      <th>7</th>\n",
              "      <td>7</td>\n",
              "      <td>31</td>\n",
              "      <td>Uruguay</td>\n",
              "      <td>91</td>\n",
              "      <td>91</td>\n",
              "      <td>2346</td>\n",
              "      <td>4.0</td>\n",
              "      <td>3.0</td>\n",
              "      <td>High/ Medium</td>\n",
              "      <td>Normal</td>\n",
              "      <td>...</td>\n",
              "      <td>6.00</td>\n",
              "      <td>190.0</td>\n",
              "      <td>86.0</td>\n",
              "      <td>75.0</td>\n",
              "      <td>82.0</td>\n",
              "      <td>92.0</td>\n",
              "      <td>83.0</td>\n",
              "      <td>69.0</td>\n",
              "      <td>90.0</td>\n",
              "      <td>83.0</td>\n",
              "    </tr>\n",
              "    <tr>\n",
              "      <th>8</th>\n",
              "      <td>8</td>\n",
              "      <td>32</td>\n",
              "      <td>Spain</td>\n",
              "      <td>91</td>\n",
              "      <td>91</td>\n",
              "      <td>2201</td>\n",
              "      <td>3.0</td>\n",
              "      <td>3.0</td>\n",
              "      <td>High/ Medium</td>\n",
              "      <td>Normal</td>\n",
              "      <td>...</td>\n",
              "      <td>6.00</td>\n",
              "      <td>181.0</td>\n",
              "      <td>76.0</td>\n",
              "      <td>75.0</td>\n",
              "      <td>78.0</td>\n",
              "      <td>85.0</td>\n",
              "      <td>66.0</td>\n",
              "      <td>93.0</td>\n",
              "      <td>84.0</td>\n",
              "      <td>83.0</td>\n",
              "    </tr>\n",
              "    <tr>\n",
              "      <th>9</th>\n",
              "      <td>9</td>\n",
              "      <td>25</td>\n",
              "      <td>Slovenia</td>\n",
              "      <td>90</td>\n",
              "      <td>93</td>\n",
              "      <td>1331</td>\n",
              "      <td>3.0</td>\n",
              "      <td>1.0</td>\n",
              "      <td>Medium/ Medium</td>\n",
              "      <td>Normal</td>\n",
              "      <td>...</td>\n",
              "      <td>6.20</td>\n",
              "      <td>192.0</td>\n",
              "      <td>43.0</td>\n",
              "      <td>60.0</td>\n",
              "      <td>67.0</td>\n",
              "      <td>86.0</td>\n",
              "      <td>49.0</td>\n",
              "      <td>76.0</td>\n",
              "      <td>41.0</td>\n",
              "      <td>78.0</td>\n",
              "    </tr>\n",
              "  </tbody>\n",
              "</table>\n",
              "<p>10 rows × 22 columns</p>\n",
              "</div>"
            ],
            "text/plain": [
              "   Unnamed: 0  Age Nationality  Overall  Potential  Special  Weak Foot  \\\n",
              "0           0   31   Argentina       94         94     2202        4.0   \n",
              "1           1   33    Portugal       94         94     2228        4.0   \n",
              "2           2   26      Brazil       92         93     2143        5.0   \n",
              "3           3   27       Spain       91         93     1471        3.0   \n",
              "4           4   27     Belgium       91         92     2281        5.0   \n",
              "5           5   27     Belgium       91         91     2142        4.0   \n",
              "6           6   32     Croatia       91         91     2280        4.0   \n",
              "7           7   31     Uruguay       91         91     2346        4.0   \n",
              "8           8   32       Spain       91         91     2201        3.0   \n",
              "9           9   25    Slovenia       90         93     1331        3.0   \n",
              "\n",
              "   Skill Moves       Work Rate   Body Type    ...    Height Weight  \\\n",
              "0          4.0  Medium/ Medium       Messi    ...      5.70  159.0   \n",
              "1          5.0       High/ Low  C. Ronaldo    ...      6.20  183.0   \n",
              "2          5.0    High/ Medium      Neymar    ...      5.90  150.0   \n",
              "3          1.0  Medium/ Medium        Lean    ...      6.40  168.0   \n",
              "4          4.0      High/ High      Normal    ...      5.11  154.0   \n",
              "5          4.0    High/ Medium      Normal    ...      5.80  163.0   \n",
              "6          4.0      High/ High        Lean    ...      5.80  146.0   \n",
              "7          3.0    High/ Medium      Normal    ...      6.00  190.0   \n",
              "8          3.0    High/ Medium      Normal    ...      6.00  181.0   \n",
              "9          1.0  Medium/ Medium      Normal    ...      6.20  192.0   \n",
              "\n",
              "   Acceleration  SprintSpeed  Agility  Reactions  Balance  Jumping  Stamina  \\\n",
              "0          91.0         86.0     91.0       95.0     95.0     68.0     72.0   \n",
              "1          89.0         91.0     87.0       96.0     70.0     95.0     88.0   \n",
              "2          94.0         90.0     96.0       94.0     84.0     61.0     81.0   \n",
              "3          57.0         58.0     60.0       90.0     43.0     67.0     43.0   \n",
              "4          78.0         76.0     79.0       91.0     77.0     63.0     90.0   \n",
              "5          94.0         88.0     95.0       90.0     94.0     56.0     83.0   \n",
              "6          80.0         72.0     93.0       90.0     94.0     68.0     89.0   \n",
              "7          86.0         75.0     82.0       92.0     83.0     69.0     90.0   \n",
              "8          76.0         75.0     78.0       85.0     66.0     93.0     84.0   \n",
              "9          43.0         60.0     67.0       86.0     49.0     76.0     41.0   \n",
              "\n",
              "   Strength  \n",
              "0      59.0  \n",
              "1      79.0  \n",
              "2      49.0  \n",
              "3      64.0  \n",
              "4      75.0  \n",
              "5      66.0  \n",
              "6      58.0  \n",
              "7      83.0  \n",
              "8      83.0  \n",
              "9      78.0  \n",
              "\n",
              "[10 rows x 22 columns]"
            ]
          },
          "metadata": {
            "tags": []
          },
          "execution_count": 12
        }
      ]
    },
    {
      "cell_type": "code",
      "metadata": {
        "id": "C9cCEg095cSu",
        "colab": {
          "base_uri": "https://localhost:8080/",
          "height": 34
        },
        "outputId": "42dd3067-bec7-4e29-8c20-b5fbd7b2143d"
      },
      "source": [
        "#Question 2\n",
        "greatplayers = imdb_df.drop(imdb_df[imdb_df.Overall < 90].index)\n",
        "greatplayers.shape"
      ],
      "execution_count": null,
      "outputs": [
        {
          "output_type": "execute_result",
          "data": {
            "text/plain": [
              "(14, 54)"
            ]
          },
          "metadata": {
            "tags": []
          },
          "execution_count": 14
        }
      ]
    },
    {
      "cell_type": "code",
      "metadata": {
        "id": "otM0VaImJmTQ",
        "colab": {
          "base_uri": "https://localhost:8080/",
          "height": 51
        },
        "outputId": "a4841bfd-bf7d-41f2-ca9a-d5ede36d927b"
      },
      "source": [
        "greatHeight = greatplayers.Height.mean()  #getting average height and weight of great players\n",
        "greatWeight = greatplayers.Weight.mean()\n",
        "\n",
        "print(\"The average height of a good player is: \",greatHeight)\n",
        "print(\"The average weight of a good player is: \",greatWeight)"
      ],
      "execution_count": null,
      "outputs": [
        {
          "output_type": "stream",
          "text": [
            "The average height of a good player is:  5.936428571428571\n",
            "The average weight of a good player is:  167.85714285714286\n"
          ],
          "name": "stdout"
        }
      ]
    },
    {
      "cell_type": "code",
      "metadata": {
        "id": "FRryfexPEhYK",
        "colab": {
          "base_uri": "https://localhost:8080/",
          "height": 34
        },
        "outputId": "0a849724-2702-4afa-8836-0d0bc03ea100"
      },
      "source": [
        "goodplayers = imdb_df.drop(imdb_df[imdb_df.Overall < 80].index)\n",
        "\n",
        "goodplayers = goodplayers.drop(goodplayers[goodplayers.Overall > 89].index)\n",
        "\n",
        "goodplayers.shape"
      ],
      "execution_count": null,
      "outputs": [
        {
          "output_type": "execute_result",
          "data": {
            "text/plain": [
              "(541, 54)"
            ]
          },
          "metadata": {
            "tags": []
          },
          "execution_count": 16
        }
      ]
    },
    {
      "cell_type": "code",
      "metadata": {
        "id": "G5wFiHKJKY6G",
        "colab": {
          "base_uri": "https://localhost:8080/",
          "height": 51
        },
        "outputId": "af92c1a8-8565-4c41-88ea-a3cda428e0d4"
      },
      "source": [
        "goodHeight = goodplayers.Height.mean()   #getting average height and weight of good players\n",
        "goodWeight = goodplayers.Weight.mean()\n",
        "\n",
        "print(\"The average height of a good player is: \",goodHeight)\n",
        "print(\"The average weight of a good player is: \",goodWeight)"
      ],
      "execution_count": null,
      "outputs": [
        {
          "output_type": "stream",
          "text": [
            "The average height of a good player is:  5.849260628465799\n",
            "The average weight of a good player is:  170.47689463955638\n"
          ],
          "name": "stdout"
        }
      ]
    },
    {
      "cell_type": "code",
      "metadata": {
        "id": "Gm-rFitu5cX4",
        "colab": {
          "base_uri": "https://localhost:8080/",
          "height": 34
        },
        "outputId": "70a2a181-d5f6-4682-d4bc-fbb6f9623e14"
      },
      "source": [
        "decentplayers = imdb_df.drop(imdb_df[imdb_df.Overall < 70].index)  #getting average height and weight of decent players\n",
        "\n",
        "decentplayers = decentplayers.drop(decentplayers[decentplayers.Overall > 79].index)\n",
        "\n",
        "decentplayers.shape"
      ],
      "execution_count": null,
      "outputs": [
        {
          "output_type": "execute_result",
          "data": {
            "text/plain": [
              "(5083, 54)"
            ]
          },
          "metadata": {
            "tags": []
          },
          "execution_count": 18
        }
      ]
    },
    {
      "cell_type": "code",
      "metadata": {
        "id": "3YPq9A6fLoeC",
        "colab": {
          "base_uri": "https://localhost:8080/",
          "height": 51
        },
        "outputId": "c9e7475b-1a9e-487c-8be2-71dd27da1b79"
      },
      "source": [
        "decentHeight = decentplayers.Height.mean()\n",
        "decentWeight = decentplayers.Weight.mean()\n",
        "\n",
        "print(\"The average height of a decent player is: \",decentHeight)\n",
        "print(\"The average weight of a decent player is: \",decentWeight)"
      ],
      "execution_count": null,
      "outputs": [
        {
          "output_type": "stream",
          "text": [
            "The average height of a decent player is:  5.811628959276035\n",
            "The average weight of a decent player is:  168.09817037182765\n"
          ],
          "name": "stdout"
        }
      ]
    },
    {
      "cell_type": "code",
      "metadata": {
        "id": "Fc9rdrYI5cJ7",
        "colab": {
          "base_uri": "https://localhost:8080/",
          "height": 34
        },
        "outputId": "3bcf90df-d29a-4904-c8d8-be3fb3039bb7"
      },
      "source": [
        "averageplayers = imdb_df.drop(imdb_df[imdb_df.Overall < 60].index)  #getting average height and weight of average players\n",
        "\n",
        "averageplayers = averageplayers.drop(averageplayers[averageplayers.Overall > 69].index)\n",
        "\n",
        "averageplayers.shape"
      ],
      "execution_count": null,
      "outputs": [
        {
          "output_type": "execute_result",
          "data": {
            "text/plain": [
              "(9665, 54)"
            ]
          },
          "metadata": {
            "tags": []
          },
          "execution_count": 20
        }
      ]
    },
    {
      "cell_type": "code",
      "metadata": {
        "id": "TpuKT2IPLzPG",
        "colab": {
          "base_uri": "https://localhost:8080/",
          "height": 51
        },
        "outputId": "264c000d-f4b2-442f-8a98-0afb367e6391"
      },
      "source": [
        "averageHeight = averageplayers.Height.mean()\n",
        "averageWeight = averageplayers.Weight.mean()\n",
        "\n",
        "print(\"The average height of an average player is: \",averageHeight)\n",
        "print(\"The average weight of an average player is: \",averageWeight)"
      ],
      "execution_count": null,
      "outputs": [
        {
          "output_type": "stream",
          "text": [
            "The average height of an average player is:  5.794947488821795\n",
            "The average weight of an average player is:  165.93209940729957\n"
          ],
          "name": "stdout"
        }
      ]
    },
    {
      "cell_type": "code",
      "metadata": {
        "id": "PiMUDqEU6GOD",
        "colab": {
          "base_uri": "https://localhost:8080/",
          "height": 34
        },
        "outputId": "43f2f5a8-4d17-4464-ee73-e90a610cacc4"
      },
      "source": [
        "okplayers = imdb_df.drop(imdb_df[imdb_df.Overall < 50].index)  #getting average height and weight of ok players\n",
        "\n",
        "okplayers = okplayers.drop(okplayers[okplayers.Overall > 59].index)\n",
        "\n",
        "okplayers.shape"
      ],
      "execution_count": null,
      "outputs": [
        {
          "output_type": "execute_result",
          "data": {
            "text/plain": [
              "(2815, 54)"
            ]
          },
          "metadata": {
            "tags": []
          },
          "execution_count": 22
        }
      ]
    },
    {
      "cell_type": "code",
      "metadata": {
        "id": "xXT9RWM8MD7q",
        "colab": {
          "base_uri": "https://localhost:8080/",
          "height": 51
        },
        "outputId": "def83d51-9e63-427d-e5f4-164ac19e9ca6"
      },
      "source": [
        "okHeight = okplayers.Height.mean()\n",
        "okWeight = okplayers.Weight.mean()\n",
        "\n",
        "print(\"The average height of an ok player is: \",okHeight)\n",
        "print(\"The average weight of an ok player is: \",okWeight)"
      ],
      "execution_count": null,
      "outputs": [
        {
          "output_type": "stream",
          "text": [
            "The average height of an ok player is:  5.7721882770871025\n",
            "The average weight of an ok player is:  161.65719360568383\n"
          ],
          "name": "stdout"
        }
      ]
    },
    {
      "cell_type": "code",
      "metadata": {
        "id": "ov4TlXX76GP6",
        "colab": {
          "base_uri": "https://localhost:8080/",
          "height": 34
        },
        "outputId": "8008af43-6f1c-4fa4-95d5-3934a72844be"
      },
      "source": [
        "trashplayers = imdb_df.drop(imdb_df[imdb_df.Overall < 0].index)   #getting average height and weight of trash players\n",
        "\n",
        "trashplayers = trashplayers.drop(trashplayers[trashplayers.Overall > 49].index)\n",
        "\n",
        "trashplayers.shape"
      ],
      "execution_count": null,
      "outputs": [
        {
          "output_type": "execute_result",
          "data": {
            "text/plain": [
              "(89, 54)"
            ]
          },
          "metadata": {
            "tags": []
          },
          "execution_count": 24
        }
      ]
    },
    {
      "cell_type": "code",
      "metadata": {
        "id": "PG4bxNq0MQis",
        "colab": {
          "base_uri": "https://localhost:8080/",
          "height": 51
        },
        "outputId": "b097f92e-d27f-465c-ec0e-b5688ff8688c"
      },
      "source": [
        "trashHeight = trashplayers.Height.mean()\n",
        "trashWeight = trashplayers.Weight.mean()\n",
        "\n",
        "print(\"The average height of a trash player is: \",trashHeight)\n",
        "print(\"The average weight of a trash player is: \",trashWeight)"
      ],
      "execution_count": null,
      "outputs": [
        {
          "output_type": "stream",
          "text": [
            "The average height of a trash player is:  5.703370786516858\n",
            "The average weight of a trash player is:  159.1011235955056\n"
          ],
          "name": "stdout"
        }
      ]
    },
    {
      "cell_type": "code",
      "metadata": {
        "id": "nvr2H1HJ6GSc",
        "colab": {
          "base_uri": "https://localhost:8080/",
          "height": 34
        },
        "outputId": "fa736a65-deb6-43fe-b550-fc580669e422"
      },
      "source": [
        "medium_rates = imdb_df[imdb_df[\"Work Rate\"] == \"Medium/ Medium\"].shape  #Checking how many players have this work rate\n",
        "medium_rates"
      ],
      "execution_count": null,
      "outputs": [
        {
          "output_type": "execute_result",
          "data": {
            "text/plain": [
              "(9810, 54)"
            ]
          },
          "metadata": {
            "tags": []
          },
          "execution_count": 26
        }
      ]
    },
    {
      "cell_type": "code",
      "metadata": {
        "id": "ZSru5wkYMuUp",
        "colab": {
          "base_uri": "https://localhost:8080/",
          "height": 34
        },
        "outputId": "6f243d2e-1e5a-4ba9-964c-de8cf01ff9b4"
      },
      "source": [
        "medium_ratesgood = goodplayers[goodplayers[\"Work Rate\"] == \"Medium/ Medium\"].shape    #Checking how many good players have this work rate\n",
        "medium_ratesgood"
      ],
      "execution_count": null,
      "outputs": [
        {
          "output_type": "execute_result",
          "data": {
            "text/plain": [
              "(184, 54)"
            ]
          },
          "metadata": {
            "tags": []
          },
          "execution_count": 27
        }
      ]
    },
    {
      "cell_type": "code",
      "metadata": {
        "id": "RCHSBXqT6GUW",
        "colab": {
          "base_uri": "https://localhost:8080/",
          "height": 34
        },
        "outputId": "1755ab57-1f59-4c0e-b33d-1fd5d0a4fb0b"
      },
      "source": [
        "high_rates = imdb_df[imdb_df[\"Work Rate\"] == \"High/ High\"].shape  #Checking how many players have this work rate\n",
        "high_rates"
      ],
      "execution_count": null,
      "outputs": [
        {
          "output_type": "execute_result",
          "data": {
            "text/plain": [
              "(1015, 54)"
            ]
          },
          "metadata": {
            "tags": []
          },
          "execution_count": 28
        }
      ]
    },
    {
      "cell_type": "code",
      "metadata": {
        "id": "Gf5ergAyM-Fg",
        "colab": {
          "base_uri": "https://localhost:8080/",
          "height": 34
        },
        "outputId": "101d9acd-2224-4433-f755-7e92e38aaa77"
      },
      "source": [
        "high_ratesgood = goodplayers[goodplayers[\"Work Rate\"] == \"High/ High\"].shape   #Checking how many good players have this work rate\n",
        "high_ratesgood"
      ],
      "execution_count": null,
      "outputs": [
        {
          "output_type": "execute_result",
          "data": {
            "text/plain": [
              "(87, 54)"
            ]
          },
          "metadata": {
            "tags": []
          },
          "execution_count": 29
        }
      ]
    },
    {
      "cell_type": "code",
      "metadata": {
        "id": "Ng5xm6F16GXc",
        "colab": {
          "base_uri": "https://localhost:8080/",
          "height": 34
        },
        "outputId": "ac69423c-0bdb-424f-f87a-e336f3c9c689"
      },
      "source": [
        "low_rates = imdb_df[imdb_df[\"Work Rate\"] == \"Low/ Low\"].shape   #Checking how many players have this work rate\n",
        "low_rates"
      ],
      "execution_count": null,
      "outputs": [
        {
          "output_type": "execute_result",
          "data": {
            "text/plain": [
              "(34, 54)"
            ]
          },
          "metadata": {
            "tags": []
          },
          "execution_count": 30
        }
      ]
    },
    {
      "cell_type": "code",
      "metadata": {
        "id": "3-nUAKiLNIz0",
        "colab": {
          "base_uri": "https://localhost:8080/",
          "height": 34
        },
        "outputId": "3cbc75ad-1a1e-406b-a723-d766528a6d96"
      },
      "source": [
        "low_ratesgood = goodplayers[goodplayers[\"Work Rate\"] == \"Low/ Low\"].shape   #Checking how many good players have this work rate\n",
        "low_ratesgood"
      ],
      "execution_count": null,
      "outputs": [
        {
          "output_type": "execute_result",
          "data": {
            "text/plain": [
              "(0, 54)"
            ]
          },
          "metadata": {
            "tags": []
          },
          "execution_count": 31
        }
      ]
    },
    {
      "cell_type": "code",
      "metadata": {
        "id": "G2Ig8cxr6GZC",
        "colab": {
          "base_uri": "https://localhost:8080/",
          "height": 34
        },
        "outputId": "ae9b8c7f-bbf9-4c33-924e-6bf782047ea0"
      },
      "source": [
        "highmixlow_rates = imdb_df[imdb_df[\"Work Rate\"] == \"High/ Low\"].shape  #Checking how many players have this work rate\n",
        "highmixlow_rates"
      ],
      "execution_count": null,
      "outputs": [
        {
          "output_type": "execute_result",
          "data": {
            "text/plain": [
              "(699, 54)"
            ]
          },
          "metadata": {
            "tags": []
          },
          "execution_count": 32
        }
      ]
    },
    {
      "cell_type": "code",
      "metadata": {
        "id": "AibYI0fXNZhm",
        "colab": {
          "base_uri": "https://localhost:8080/",
          "height": 34
        },
        "outputId": "63111ba1-b66b-4a73-cbca-55da1b2b2758"
      },
      "source": [
        "highmixlow_ratesgood = goodplayers[goodplayers[\"Work Rate\"] == \"High/ Low\"].shape   #Checking how many good players have this work rate\n",
        "highmixlow_ratesgood"
      ],
      "execution_count": null,
      "outputs": [
        {
          "output_type": "execute_result",
          "data": {
            "text/plain": [
              "(27, 54)"
            ]
          },
          "metadata": {
            "tags": []
          },
          "execution_count": 33
        }
      ]
    },
    {
      "cell_type": "code",
      "metadata": {
        "id": "mhxvkKoK6GaT",
        "colab": {
          "base_uri": "https://localhost:8080/",
          "height": 34
        },
        "outputId": "605f8804-b348-4d63-80e5-967aa2f47b02"
      },
      "source": [
        "highmixmed_rates = imdb_df[imdb_df[\"Work Rate\"] == \"Medium/ High\"].shape   #Checking how many players have this work rate\n",
        "highmixmed_rates"
      ],
      "execution_count": null,
      "outputs": [
        {
          "output_type": "execute_result",
          "data": {
            "text/plain": [
              "(1690, 54)"
            ]
          },
          "metadata": {
            "tags": []
          },
          "execution_count": 34
        }
      ]
    },
    {
      "cell_type": "code",
      "metadata": {
        "id": "RknP-1XFNhpK",
        "colab": {
          "base_uri": "https://localhost:8080/",
          "height": 34
        },
        "outputId": "7ab391b2-e196-4625-8872-7f6e7e416add"
      },
      "source": [
        "highmixmed_ratesgood = goodplayers[goodplayers[\"Work Rate\"] == \"Medium/ High\"].shape   #Checking how many good players have this work rate\n",
        "highmixmed_ratesgood"
      ],
      "execution_count": null,
      "outputs": [
        {
          "output_type": "execute_result",
          "data": {
            "text/plain": [
              "(74, 54)"
            ]
          },
          "metadata": {
            "tags": []
          },
          "execution_count": 35
        }
      ]
    },
    {
      "cell_type": "code",
      "metadata": {
        "id": "zswKEEyu6Gbo",
        "colab": {
          "base_uri": "https://localhost:8080/",
          "height": 34
        },
        "outputId": "a9aa336b-92ea-4d11-cb33-a783c8c6bad3"
      },
      "source": [
        "mediumMixlow_rates = imdb_df[imdb_df[\"Work Rate\"] == \"Medium/ Low\"].shape   #Checking how many players have this work rate\n",
        "mediumMixlow_rates"
      ],
      "execution_count": null,
      "outputs": [
        {
          "output_type": "execute_result",
          "data": {
            "text/plain": [
              "(850, 54)"
            ]
          },
          "metadata": {
            "tags": []
          },
          "execution_count": 36
        }
      ]
    },
    {
      "cell_type": "code",
      "metadata": {
        "id": "RGSMMGgQNwgS",
        "colab": {
          "base_uri": "https://localhost:8080/",
          "height": 34
        },
        "outputId": "c34add07-8363-4cfa-96ae-979fb9f7371b"
      },
      "source": [
        "mediumMixlow_ratesgood = goodplayers[goodplayers[\"Work Rate\"] == \"Medium/ Low\"].shape   #Checking how many good players have this work rate\n",
        "mediumMixlow_ratesgood"
      ],
      "execution_count": null,
      "outputs": [
        {
          "output_type": "execute_result",
          "data": {
            "text/plain": [
              "(18, 54)"
            ]
          },
          "metadata": {
            "tags": []
          },
          "execution_count": 37
        }
      ]
    },
    {
      "cell_type": "code",
      "metadata": {
        "id": "2ksvMTgO6Geb",
        "colab": {
          "base_uri": "https://localhost:8080/",
          "height": 34
        },
        "outputId": "cb9eb06a-2135-4a6a-f3c5-244fe337929b"
      },
      "source": [
        "mediumMixhigh_rates = imdb_df[imdb_df[\"Work Rate\"] == \"Medium/ High\"].shape    #Checking how many players have this work rate\n",
        "mediumMixhigh_rates"
      ],
      "execution_count": null,
      "outputs": [
        {
          "output_type": "execute_result",
          "data": {
            "text/plain": [
              "(1690, 54)"
            ]
          },
          "metadata": {
            "tags": []
          },
          "execution_count": 38
        }
      ]
    },
    {
      "cell_type": "code",
      "metadata": {
        "id": "-QfigKrNN8VQ",
        "colab": {
          "base_uri": "https://localhost:8080/",
          "height": 34
        },
        "outputId": "5905930b-61b7-4d74-ea7d-41a71297b0d1"
      },
      "source": [
        "mediumMixhigh_ratesgood = goodplayers[goodplayers[\"Work Rate\"] == \"Medium/ High\"].shape   #Checking how many good players have this work rate\n",
        "mediumMixhigh_ratesgood"
      ],
      "execution_count": null,
      "outputs": [
        {
          "output_type": "execute_result",
          "data": {
            "text/plain": [
              "(74, 54)"
            ]
          },
          "metadata": {
            "tags": []
          },
          "execution_count": 39
        }
      ]
    },
    {
      "cell_type": "code",
      "metadata": {
        "id": "QBswi6iY6Gm4",
        "colab": {
          "base_uri": "https://localhost:8080/",
          "height": 34
        },
        "outputId": "69f2f4b6-a9d1-4d70-b40c-822d6df7b3b6"
      },
      "source": [
        "lowmixmed_rates = imdb_df[imdb_df[\"Work Rate\"] == \"Low/ Medium\"].shape   #Checking how many players have this work rate\n",
        "lowmixmed_rates"
      ],
      "execution_count": null,
      "outputs": [
        {
          "output_type": "execute_result",
          "data": {
            "text/plain": [
              "(449, 54)"
            ]
          },
          "metadata": {
            "tags": []
          },
          "execution_count": 40
        }
      ]
    },
    {
      "cell_type": "code",
      "metadata": {
        "id": "Y6lQUZLNOIG9",
        "colab": {
          "base_uri": "https://localhost:8080/",
          "height": 34
        },
        "outputId": "c32bdd0c-bf0a-498c-da19-bd8c9dab7074"
      },
      "source": [
        "lowmixmed_ratesgood = goodplayers[goodplayers[\"Work Rate\"] == \"Low/ Medium\"].shape  #Checking how many good players have this work rate\n",
        "lowmixmed_ratesgood"
      ],
      "execution_count": null,
      "outputs": [
        {
          "output_type": "execute_result",
          "data": {
            "text/plain": [
              "(5, 54)"
            ]
          },
          "metadata": {
            "tags": []
          },
          "execution_count": 41
        }
      ]
    },
    {
      "cell_type": "code",
      "metadata": {
        "id": "JGoXI7aK6GsN",
        "colab": {
          "base_uri": "https://localhost:8080/",
          "height": 34
        },
        "outputId": "a5edfb5e-afc2-4ff7-dd6a-3bae6b639a47"
      },
      "source": [
        "lowmixhigh_rates = imdb_df[imdb_df[\"Work Rate\"] == \"Low/ High\"].shape   #Checking how many players have this work rate\n",
        "lowmixhigh_rates"
      ],
      "execution_count": null,
      "outputs": [
        {
          "output_type": "execute_result",
          "data": {
            "text/plain": [
              "(439, 54)"
            ]
          },
          "metadata": {
            "tags": []
          },
          "execution_count": 42
        }
      ]
    },
    {
      "cell_type": "code",
      "metadata": {
        "id": "FYfDUu2hORFt",
        "colab": {
          "base_uri": "https://localhost:8080/",
          "height": 34
        },
        "outputId": "718ce168-187a-4b47-8b27-309b2a973d7d"
      },
      "source": [
        "lowmixhigh_ratesgood = goodplayers[goodplayers[\"Work Rate\"] == \"Low/ High\"].shape   #Checking how many good players have this work rate\n",
        "lowmixhigh_ratesgood"
      ],
      "execution_count": null,
      "outputs": [
        {
          "output_type": "execute_result",
          "data": {
            "text/plain": [
              "(9, 54)"
            ]
          },
          "metadata": {
            "tags": []
          },
          "execution_count": 43
        }
      ]
    },
    {
      "cell_type": "code",
      "metadata": {
        "id": "j0xwnRiPSBp9",
        "colab": {
          "base_uri": "https://localhost:8080/",
          "height": 204
        },
        "outputId": "6e045874-cacd-49b9-a4e0-dcced2c3cc9c"
      },
      "source": [
        "#Dataframe of the means of each level of player\n",
        "\n",
        "q1df = pd.DataFrame({\n",
        "              'Height': [5.849260628465799, 5.811628959276035, 5.794947488821795, 5.7721882770871025, 5.703370786516858],\n",
        "              'Weight': [170.47689463955638, 168.09817037182765, 165.93209940729957, 161.65719360568383, 159.1011235955056],\n",
        "    'Player Level': ['Good', 'Decent', \n",
        "                               'Average', 'OK', 'Trash']})\n",
        "\n",
        "q1df"
      ],
      "execution_count": null,
      "outputs": [
        {
          "output_type": "execute_result",
          "data": {
            "text/html": [
              "<div>\n",
              "<style scoped>\n",
              "    .dataframe tbody tr th:only-of-type {\n",
              "        vertical-align: middle;\n",
              "    }\n",
              "\n",
              "    .dataframe tbody tr th {\n",
              "        vertical-align: top;\n",
              "    }\n",
              "\n",
              "    .dataframe thead th {\n",
              "        text-align: right;\n",
              "    }\n",
              "</style>\n",
              "<table border=\"1\" class=\"dataframe\">\n",
              "  <thead>\n",
              "    <tr style=\"text-align: right;\">\n",
              "      <th></th>\n",
              "      <th>Height</th>\n",
              "      <th>Weight</th>\n",
              "      <th>Player Level</th>\n",
              "    </tr>\n",
              "  </thead>\n",
              "  <tbody>\n",
              "    <tr>\n",
              "      <th>0</th>\n",
              "      <td>5.849261</td>\n",
              "      <td>170.476895</td>\n",
              "      <td>Good</td>\n",
              "    </tr>\n",
              "    <tr>\n",
              "      <th>1</th>\n",
              "      <td>5.811629</td>\n",
              "      <td>168.098170</td>\n",
              "      <td>Decent</td>\n",
              "    </tr>\n",
              "    <tr>\n",
              "      <th>2</th>\n",
              "      <td>5.794947</td>\n",
              "      <td>165.932099</td>\n",
              "      <td>Average</td>\n",
              "    </tr>\n",
              "    <tr>\n",
              "      <th>3</th>\n",
              "      <td>5.772188</td>\n",
              "      <td>161.657194</td>\n",
              "      <td>OK</td>\n",
              "    </tr>\n",
              "    <tr>\n",
              "      <th>4</th>\n",
              "      <td>5.703371</td>\n",
              "      <td>159.101124</td>\n",
              "      <td>Trash</td>\n",
              "    </tr>\n",
              "  </tbody>\n",
              "</table>\n",
              "</div>"
            ],
            "text/plain": [
              "     Height      Weight Player Level\n",
              "0  5.849261  170.476895         Good\n",
              "1  5.811629  168.098170       Decent\n",
              "2  5.794947  165.932099      Average\n",
              "3  5.772188  161.657194           OK\n",
              "4  5.703371  159.101124        Trash"
            ]
          },
          "metadata": {
            "tags": []
          },
          "execution_count": 44
        }
      ]
    },
    {
      "cell_type": "code",
      "metadata": {
        "id": "CDN3PK8MOgXD",
        "colab": {
          "base_uri": "https://localhost:8080/",
          "height": 524
        },
        "outputId": "6cd3729f-d22c-49e5-ece7-a8b1aa4b2ef3"
      },
      "source": [
        "#Question 1 graph\n",
        "\n",
        "%matplotlib inline\n",
        "import matplotlib.pyplot as plt; plt.rcdefaults()\n",
        "import numpy as np\n",
        "import seaborn as sns\n",
        "\n",
        "x, y = 'Height', 'Weight'\n",
        "\n",
        "sns.lmplot(x=x, y=y, data=q1df, hue='Player Level', fit_reg=False)\n",
        "ax = plt.gca()\n",
        "ax.set_ylabel('Weight')"
      ],
      "execution_count": null,
      "outputs": [
        {
          "output_type": "execute_result",
          "data": {
            "text/plain": [
              "Text(44.31499999999998, 0.5, 'Weight')"
            ]
          },
          "metadata": {
            "tags": []
          },
          "execution_count": 45
        },
        {
          "output_type": "display_data",
          "data": {
            "image/png": "[encoded data removed]",
            "text/plain": [
              "<Figure size 608x500 with 1 Axes>"
            ]
          },
          "metadata": {
            "tags": []
          }
        }
      ]
    },
    {
      "cell_type": "code",
      "metadata": {
        "id": "3G0mWKOJTLx4",
        "colab": {
          "base_uri": "https://localhost:8080/",
          "height": 452
        },
        "outputId": "a52bfb2d-02c5-4952-84dd-b73d29f3be51"
      },
      "source": [
        "#Question 2 graph\n",
        "\n",
        "objects = ('Med/Med', 'High/ High', 'Low/Low', 'High/Low', 'Med/High', 'Low/Med', 'Low/ High')\n",
        "y_pos = np.arange(len(objects))\n",
        "performance = [184,87,0,27,74,5, 9]\n",
        " \n",
        "plt.bar(y_pos, performance, align='center', alpha=0.5)\n",
        "plt.xticks(y_pos, objects)\n",
        "plt.ylabel('Occurence of Work Ethic')\n",
        "plt.title('Type of Work Ethic')\n",
        " \n",
        "plt.show()"
      ],
      "execution_count": null,
      "outputs": [
        {
          "output_type": "display_data",
          "data": {
            "image/png": "[encoded data removed]",
            "text/plain": [
              "<Figure size 640x480 with 1 Axes>"
            ]
          },
          "metadata": {
            "tags": []
          }
        }
      ]
    },
    {
      "cell_type": "code",
      "metadata": {
        "id": "yTGKF2Ee7vXA",
        "colab": {
          "base_uri": "https://localhost:8080/",
          "height": 163
        },
        "outputId": "e1770e01-1245-4cca-d753-b95d2996bc0c"
      },
      "source": [
        "#Question 3\n",
        "\n",
        "Belgium_Players = imdb_df[imdb_df[\"Nationality\"] == \"Belgium\"]\n",
        "Belgium_Players.head(1)"
      ],
      "execution_count": null,
      "outputs": [
        {
          "output_type": "execute_result",
          "data": {
            "text/html": [
              "<div>\n",
              "<style scoped>\n",
              "    .dataframe tbody tr th:only-of-type {\n",
              "        vertical-align: middle;\n",
              "    }\n",
              "\n",
              "    .dataframe tbody tr th {\n",
              "        vertical-align: top;\n",
              "    }\n",
              "\n",
              "    .dataframe thead th {\n",
              "        text-align: right;\n",
              "    }\n",
              "</style>\n",
              "<table border=\"1\" class=\"dataframe\">\n",
              "  <thead>\n",
              "    <tr style=\"text-align: right;\">\n",
              "      <th></th>\n",
              "      <th>Unnamed: 0</th>\n",
              "      <th>Age</th>\n",
              "      <th>Nationality</th>\n",
              "      <th>Overall</th>\n",
              "      <th>Potential</th>\n",
              "      <th>Club</th>\n",
              "      <th>Value</th>\n",
              "      <th>Wage</th>\n",
              "      <th>Special</th>\n",
              "      <th>Preferred Foot</th>\n",
              "      <th>...</th>\n",
              "      <th>Composure</th>\n",
              "      <th>Marking</th>\n",
              "      <th>StandingTackle</th>\n",
              "      <th>SlidingTackle</th>\n",
              "      <th>GKDiving</th>\n",
              "      <th>GKHandling</th>\n",
              "      <th>GKKicking</th>\n",
              "      <th>GKPositioning</th>\n",
              "      <th>GKReflexes</th>\n",
              "      <th>ReleaseClause</th>\n",
              "    </tr>\n",
              "  </thead>\n",
              "  <tbody>\n",
              "    <tr>\n",
              "      <th>4</th>\n",
              "      <td>4</td>\n",
              "      <td>27</td>\n",
              "      <td>Belgium</td>\n",
              "      <td>91</td>\n",
              "      <td>92</td>\n",
              "      <td>Manchester City</td>\n",
              "      <td>€102M</td>\n",
              "      <td>€355K</td>\n",
              "      <td>2281</td>\n",
              "      <td>Right</td>\n",
              "      <td>...</td>\n",
              "      <td>88.0</td>\n",
              "      <td>68.0</td>\n",
              "      <td>58.0</td>\n",
              "      <td>51.0</td>\n",
              "      <td>15.0</td>\n",
              "      <td>13.0</td>\n",
              "      <td>5.0</td>\n",
              "      <td>10.0</td>\n",
              "      <td>13.0</td>\n",
              "      <td>196.4</td>\n",
              "    </tr>\n",
              "  </tbody>\n",
              "</table>\n",
              "<p>1 rows × 54 columns</p>\n",
              "</div>"
            ],
            "text/plain": [
              "   Unnamed: 0  Age Nationality  Overall  Potential             Club  Value  \\\n",
              "4           4   27     Belgium       91         92  Manchester City  €102M   \n",
              "\n",
              "    Wage  Special Preferred Foot      ...        Composure  Marking  \\\n",
              "4  €355K     2281          Right      ...             88.0     68.0   \n",
              "\n",
              "   StandingTackle SlidingTackle GKDiving GKHandling GKKicking  GKPositioning  \\\n",
              "4            58.0          51.0     15.0       13.0       5.0           10.0   \n",
              "\n",
              "   GKReflexes  ReleaseClause  \n",
              "4        13.0         196.4   \n",
              "\n",
              "[1 rows x 54 columns]"
            ]
          },
          "metadata": {
            "tags": []
          },
          "execution_count": 47
        }
      ]
    },
    {
      "cell_type": "code",
      "metadata": {
        "id": "VddO9kS0-Vei",
        "colab": {
          "base_uri": "https://localhost:8080/",
          "height": 136
        },
        "outputId": "d48986f3-6d4a-4752-8727-156c26616ba1"
      },
      "source": [
        "Belgium_Players[\"ReleaseClause\"] = Belgium_Players.ReleaseClause.astype(float)    #getting belgium player data\n",
        "\n",
        "BELrelease = Belgium_Players.ReleaseClause\n",
        "\n",
        "BELrelease.mean()"
      ],
      "execution_count": null,
      "outputs": [
        {
          "output_type": "stream",
          "text": [
            "/usr/local/lib/python3.6/dist-packages/ipykernel_launcher.py:1: SettingWithCopyWarning: \n",
            "A value is trying to be set on a copy of a slice from a DataFrame.\n",
            "Try using .loc[row_indexer,col_indexer] = value instead\n",
            "\n",
            "See the caveats in the documentation: http://pandas.pydata.org/pandas-docs/stable/indexing.html#indexing-view-versus-copy\n",
            "  \"\"\"Entry point for launching an IPython kernel.\n"
          ],
          "name": "stderr"
        },
        {
          "output_type": "execute_result",
          "data": {
            "text/plain": [
              "186.76883116883113"
            ]
          },
          "metadata": {
            "tags": []
          },
          "execution_count": 48
        }
      ]
    },
    {
      "cell_type": "code",
      "metadata": {
        "id": "FOybuWFp9h_Q",
        "colab": {
          "base_uri": "https://localhost:8080/",
          "height": 34
        },
        "outputId": "b828234f-a2ad-4e2f-b31b-0d018e362e80"
      },
      "source": [
        "BEL = BELrelease.mean()    #Calculate mean\n",
        "BEL"
      ],
      "execution_count": null,
      "outputs": [
        {
          "output_type": "execute_result",
          "data": {
            "text/plain": [
              "186.76883116883113"
            ]
          },
          "metadata": {
            "tags": []
          },
          "execution_count": 49
        }
      ]
    },
    {
      "cell_type": "code",
      "metadata": {
        "id": "s_nLVVcE9iDi",
        "colab": {
          "base_uri": "https://localhost:8080/",
          "height": 146
        },
        "outputId": "f003eb22-142d-48cd-c041-f932862c7eb2"
      },
      "source": [
        "France_Players = imdb_df[imdb_df[\"Nationality\"] == \"France\"]   #getting France player data\n",
        "\n",
        "France_Players.head(1)"
      ],
      "execution_count": null,
      "outputs": [
        {
          "output_type": "execute_result",
          "data": {
            "text/html": [
              "<div>\n",
              "<style scoped>\n",
              "    .dataframe tbody tr th:only-of-type {\n",
              "        vertical-align: middle;\n",
              "    }\n",
              "\n",
              "    .dataframe tbody tr th {\n",
              "        vertical-align: top;\n",
              "    }\n",
              "\n",
              "    .dataframe thead th {\n",
              "        text-align: right;\n",
              "    }\n",
              "</style>\n",
              "<table border=\"1\" class=\"dataframe\">\n",
              "  <thead>\n",
              "    <tr style=\"text-align: right;\">\n",
              "      <th></th>\n",
              "      <th>Unnamed: 0</th>\n",
              "      <th>Age</th>\n",
              "      <th>Nationality</th>\n",
              "      <th>Overall</th>\n",
              "      <th>Potential</th>\n",
              "      <th>Club</th>\n",
              "      <th>Value</th>\n",
              "      <th>Wage</th>\n",
              "      <th>Special</th>\n",
              "      <th>Preferred Foot</th>\n",
              "      <th>...</th>\n",
              "      <th>Composure</th>\n",
              "      <th>Marking</th>\n",
              "      <th>StandingTackle</th>\n",
              "      <th>SlidingTackle</th>\n",
              "      <th>GKDiving</th>\n",
              "      <th>GKHandling</th>\n",
              "      <th>GKKicking</th>\n",
              "      <th>GKPositioning</th>\n",
              "      <th>GKReflexes</th>\n",
              "      <th>ReleaseClause</th>\n",
              "    </tr>\n",
              "  </thead>\n",
              "  <tbody>\n",
              "    <tr>\n",
              "      <th>14</th>\n",
              "      <td>14</td>\n",
              "      <td>27</td>\n",
              "      <td>France</td>\n",
              "      <td>89</td>\n",
              "      <td>90</td>\n",
              "      <td>Chelsea</td>\n",
              "      <td>€63M</td>\n",
              "      <td>€225K</td>\n",
              "      <td>2189</td>\n",
              "      <td>Right</td>\n",
              "      <td>...</td>\n",
              "      <td>85.0</td>\n",
              "      <td>90.0</td>\n",
              "      <td>91.0</td>\n",
              "      <td>85.0</td>\n",
              "      <td>15.0</td>\n",
              "      <td>12.0</td>\n",
              "      <td>10.0</td>\n",
              "      <td>7.0</td>\n",
              "      <td>10.0</td>\n",
              "      <td>121.3</td>\n",
              "    </tr>\n",
              "  </tbody>\n",
              "</table>\n",
              "<p>1 rows × 54 columns</p>\n",
              "</div>"
            ],
            "text/plain": [
              "    Unnamed: 0  Age Nationality  Overall  Potential     Club Value   Wage  \\\n",
              "14          14   27      France       89         90  Chelsea  €63M  €225K   \n",
              "\n",
              "    Special Preferred Foot      ...        Composure  Marking  StandingTackle  \\\n",
              "14     2189          Right      ...             85.0     90.0            91.0   \n",
              "\n",
              "   SlidingTackle GKDiving GKHandling GKKicking  GKPositioning  GKReflexes  \\\n",
              "14          85.0     15.0       12.0      10.0            7.0        10.0   \n",
              "\n",
              "    ReleaseClause  \n",
              "14         121.3   \n",
              "\n",
              "[1 rows x 54 columns]"
            ]
          },
          "metadata": {
            "tags": []
          },
          "execution_count": 50
        }
      ]
    },
    {
      "cell_type": "code",
      "metadata": {
        "id": "2XipRF3qElED",
        "colab": {
          "base_uri": "https://localhost:8080/",
          "height": 136
        },
        "outputId": "630a3cf0-7bb1-4e2e-f316-9e615efaf598"
      },
      "source": [
        "France_Players[\"ReleaseClause\"] = France_Players.ReleaseClause.astype(float)   #convert to float\n",
        "\n",
        "FRArelease = France_Players.ReleaseClause\n",
        "\n",
        "FRArelease.mean()"
      ],
      "execution_count": null,
      "outputs": [
        {
          "output_type": "stream",
          "text": [
            "/usr/local/lib/python3.6/dist-packages/ipykernel_launcher.py:1: SettingWithCopyWarning: \n",
            "A value is trying to be set on a copy of a slice from a DataFrame.\n",
            "Try using .loc[row_indexer,col_indexer] = value instead\n",
            "\n",
            "See the caveats in the documentation: http://pandas.pydata.org/pandas-docs/stable/indexing.html#indexing-view-versus-copy\n",
            "  \"\"\"Entry point for launching an IPython kernel.\n"
          ],
          "name": "stderr"
        },
        {
          "output_type": "execute_result",
          "data": {
            "text/plain": [
              "176.25111371629544"
            ]
          },
          "metadata": {
            "tags": []
          },
          "execution_count": 51
        }
      ]
    },
    {
      "cell_type": "code",
      "metadata": {
        "id": "twPzWPyzEo5y",
        "colab": {
          "base_uri": "https://localhost:8080/",
          "height": 34
        },
        "outputId": "e981b32b-54d2-4921-d2fd-2cffbda85344"
      },
      "source": [
        "FRA = FRArelease.mean()  #Calculate mean\n",
        "FRA"
      ],
      "execution_count": null,
      "outputs": [
        {
          "output_type": "execute_result",
          "data": {
            "text/plain": [
              "176.25111371629544"
            ]
          },
          "metadata": {
            "tags": []
          },
          "execution_count": 52
        }
      ]
    },
    {
      "cell_type": "code",
      "metadata": {
        "id": "9ViUgnQ6E2Xj",
        "colab": {
          "base_uri": "https://localhost:8080/",
          "height": 180
        },
        "outputId": "25333e37-f6dd-4ce2-a717-5e9d596449bf"
      },
      "source": [
        "Brazil_Players = imdb_df[imdb_df[\"Nationality\"] == \"Brazil\"]   #getting Brazil player data\n",
        "\n",
        "Brazil_Players.head(1)"
      ],
      "execution_count": null,
      "outputs": [
        {
          "output_type": "execute_result",
          "data": {
            "text/html": [
              "<div>\n",
              "<style scoped>\n",
              "    .dataframe tbody tr th:only-of-type {\n",
              "        vertical-align: middle;\n",
              "    }\n",
              "\n",
              "    .dataframe tbody tr th {\n",
              "        vertical-align: top;\n",
              "    }\n",
              "\n",
              "    .dataframe thead th {\n",
              "        text-align: right;\n",
              "    }\n",
              "</style>\n",
              "<table border=\"1\" class=\"dataframe\">\n",
              "  <thead>\n",
              "    <tr style=\"text-align: right;\">\n",
              "      <th></th>\n",
              "      <th>Unnamed: 0</th>\n",
              "      <th>Age</th>\n",
              "      <th>Nationality</th>\n",
              "      <th>Overall</th>\n",
              "      <th>Potential</th>\n",
              "      <th>Club</th>\n",
              "      <th>Value</th>\n",
              "      <th>Wage</th>\n",
              "      <th>Special</th>\n",
              "      <th>Preferred Foot</th>\n",
              "      <th>...</th>\n",
              "      <th>Composure</th>\n",
              "      <th>Marking</th>\n",
              "      <th>StandingTackle</th>\n",
              "      <th>SlidingTackle</th>\n",
              "      <th>GKDiving</th>\n",
              "      <th>GKHandling</th>\n",
              "      <th>GKKicking</th>\n",
              "      <th>GKPositioning</th>\n",
              "      <th>GKReflexes</th>\n",
              "      <th>ReleaseClause</th>\n",
              "    </tr>\n",
              "  </thead>\n",
              "  <tbody>\n",
              "    <tr>\n",
              "      <th>2</th>\n",
              "      <td>2</td>\n",
              "      <td>26</td>\n",
              "      <td>Brazil</td>\n",
              "      <td>92</td>\n",
              "      <td>93</td>\n",
              "      <td>Paris Saint-Germain</td>\n",
              "      <td>€118.5M</td>\n",
              "      <td>€290K</td>\n",
              "      <td>2143</td>\n",
              "      <td>Right</td>\n",
              "      <td>...</td>\n",
              "      <td>94.0</td>\n",
              "      <td>27.0</td>\n",
              "      <td>24.0</td>\n",
              "      <td>33.0</td>\n",
              "      <td>9.0</td>\n",
              "      <td>9.0</td>\n",
              "      <td>15.0</td>\n",
              "      <td>15.0</td>\n",
              "      <td>11.0</td>\n",
              "      <td>228.1</td>\n",
              "    </tr>\n",
              "  </tbody>\n",
              "</table>\n",
              "<p>1 rows × 54 columns</p>\n",
              "</div>"
            ],
            "text/plain": [
              "   Unnamed: 0  Age Nationality  Overall  Potential                 Club  \\\n",
              "2           2   26      Brazil       92         93  Paris Saint-Germain   \n",
              "\n",
              "     Value   Wage  Special Preferred Foot      ...        Composure  Marking  \\\n",
              "2  €118.5M  €290K     2143          Right      ...             94.0     27.0   \n",
              "\n",
              "   StandingTackle SlidingTackle GKDiving GKHandling GKKicking  GKPositioning  \\\n",
              "2            24.0          33.0      9.0        9.0      15.0           15.0   \n",
              "\n",
              "   GKReflexes  ReleaseClause  \n",
              "2        11.0         228.1   \n",
              "\n",
              "[1 rows x 54 columns]"
            ]
          },
          "metadata": {
            "tags": []
          },
          "execution_count": 53
        }
      ]
    },
    {
      "cell_type": "code",
      "metadata": {
        "id": "3dzqmey1FEO3",
        "colab": {
          "base_uri": "https://localhost:8080/",
          "height": 136
        },
        "outputId": "4b6484f3-7ab2-4468-8021-36dcb12dfa77"
      },
      "source": [
        "Brazil_Players[\"ReleaseClause\"] = Brazil_Players.ReleaseClause.astype(float)   #convert to float\n",
        "\n",
        "BRArelease = Brazil_Players.ReleaseClause\n",
        "\n",
        "BRArelease.mean()"
      ],
      "execution_count": null,
      "outputs": [
        {
          "output_type": "stream",
          "text": [
            "/usr/local/lib/python3.6/dist-packages/ipykernel_launcher.py:1: SettingWithCopyWarning: \n",
            "A value is trying to be set on a copy of a slice from a DataFrame.\n",
            "Try using .loc[row_indexer,col_indexer] = value instead\n",
            "\n",
            "See the caveats in the documentation: http://pandas.pydata.org/pandas-docs/stable/indexing.html#indexing-view-versus-copy\n",
            "  \"\"\"Entry point for launching an IPython kernel.\n"
          ],
          "name": "stderr"
        },
        {
          "output_type": "execute_result",
          "data": {
            "text/plain": [
              "120.24225888324872"
            ]
          },
          "metadata": {
            "tags": []
          },
          "execution_count": 54
        }
      ]
    },
    {
      "cell_type": "code",
      "metadata": {
        "id": "SuiUH2--FM6j",
        "colab": {
          "base_uri": "https://localhost:8080/",
          "height": 34
        },
        "outputId": "33382963-c7bc-4717-b92e-be85c91f9abf"
      },
      "source": [
        "BRA = BRArelease.mean()  #Calculate mean\n",
        "BRA"
      ],
      "execution_count": null,
      "outputs": [
        {
          "output_type": "execute_result",
          "data": {
            "text/plain": [
              "120.24225888324872"
            ]
          },
          "metadata": {
            "tags": []
          },
          "execution_count": 55
        }
      ]
    },
    {
      "cell_type": "code",
      "metadata": {
        "id": "7lfl8Gi3FWVr",
        "colab": {
          "base_uri": "https://localhost:8080/",
          "height": 163
        },
        "outputId": "ef17309b-2358-4b3e-cd66-278c20b3f413"
      },
      "source": [
        "England_Players = imdb_df[imdb_df[\"Nationality\"] == \"England\"]    #getting England player data\n",
        "\n",
        "England_Players.head(1)"
      ],
      "execution_count": null,
      "outputs": [
        {
          "output_type": "execute_result",
          "data": {
            "text/html": [
              "<div>\n",
              "<style scoped>\n",
              "    .dataframe tbody tr th:only-of-type {\n",
              "        vertical-align: middle;\n",
              "    }\n",
              "\n",
              "    .dataframe tbody tr th {\n",
              "        vertical-align: top;\n",
              "    }\n",
              "\n",
              "    .dataframe thead th {\n",
              "        text-align: right;\n",
              "    }\n",
              "</style>\n",
              "<table border=\"1\" class=\"dataframe\">\n",
              "  <thead>\n",
              "    <tr style=\"text-align: right;\">\n",
              "      <th></th>\n",
              "      <th>Unnamed: 0</th>\n",
              "      <th>Age</th>\n",
              "      <th>Nationality</th>\n",
              "      <th>Overall</th>\n",
              "      <th>Potential</th>\n",
              "      <th>Club</th>\n",
              "      <th>Value</th>\n",
              "      <th>Wage</th>\n",
              "      <th>Special</th>\n",
              "      <th>Preferred Foot</th>\n",
              "      <th>...</th>\n",
              "      <th>Composure</th>\n",
              "      <th>Marking</th>\n",
              "      <th>StandingTackle</th>\n",
              "      <th>SlidingTackle</th>\n",
              "      <th>GKDiving</th>\n",
              "      <th>GKHandling</th>\n",
              "      <th>GKKicking</th>\n",
              "      <th>GKPositioning</th>\n",
              "      <th>GKReflexes</th>\n",
              "      <th>ReleaseClause</th>\n",
              "    </tr>\n",
              "  </thead>\n",
              "  <tbody>\n",
              "    <tr>\n",
              "      <th>16</th>\n",
              "      <td>16</td>\n",
              "      <td>24</td>\n",
              "      <td>England</td>\n",
              "      <td>89</td>\n",
              "      <td>91</td>\n",
              "      <td>Tottenham Hotspur</td>\n",
              "      <td>€83.5M</td>\n",
              "      <td>€205K</td>\n",
              "      <td>2165</td>\n",
              "      <td>Right</td>\n",
              "      <td>...</td>\n",
              "      <td>89.0</td>\n",
              "      <td>56.0</td>\n",
              "      <td>36.0</td>\n",
              "      <td>38.0</td>\n",
              "      <td>8.0</td>\n",
              "      <td>10.0</td>\n",
              "      <td>11.0</td>\n",
              "      <td>14.0</td>\n",
              "      <td>11.0</td>\n",
              "      <td>160.7</td>\n",
              "    </tr>\n",
              "  </tbody>\n",
              "</table>\n",
              "<p>1 rows × 54 columns</p>\n",
              "</div>"
            ],
            "text/plain": [
              "    Unnamed: 0  Age Nationality  Overall  Potential               Club  \\\n",
              "16          16   24     England       89         91  Tottenham Hotspur   \n",
              "\n",
              "     Value   Wage  Special Preferred Foot      ...        Composure  Marking  \\\n",
              "16  €83.5M  €205K     2165          Right      ...             89.0     56.0   \n",
              "\n",
              "    StandingTackle SlidingTackle GKDiving GKHandling GKKicking  GKPositioning  \\\n",
              "16            36.0          38.0      8.0       10.0      11.0           14.0   \n",
              "\n",
              "    GKReflexes  ReleaseClause  \n",
              "16        11.0         160.7   \n",
              "\n",
              "[1 rows x 54 columns]"
            ]
          },
          "metadata": {
            "tags": []
          },
          "execution_count": 56
        }
      ]
    },
    {
      "cell_type": "code",
      "metadata": {
        "id": "NZAddfy1FWZx",
        "colab": {
          "base_uri": "https://localhost:8080/",
          "height": 119
        },
        "outputId": "38872d8a-8b04-48c8-b0b3-e567590f9616"
      },
      "source": [
        "England_Players[\"ReleaseClause\"] = England_Players.ReleaseClause.astype(float)  #convert to float\n",
        "\n",
        "ENGrelease = England_Players.ReleaseClause"
      ],
      "execution_count": null,
      "outputs": [
        {
          "output_type": "stream",
          "text": [
            "/usr/local/lib/python3.6/dist-packages/ipykernel_launcher.py:1: SettingWithCopyWarning: \n",
            "A value is trying to be set on a copy of a slice from a DataFrame.\n",
            "Try using .loc[row_indexer,col_indexer] = value instead\n",
            "\n",
            "See the caveats in the documentation: http://pandas.pydata.org/pandas-docs/stable/indexing.html#indexing-view-versus-copy\n",
            "  \"\"\"Entry point for launching an IPython kernel.\n"
          ],
          "name": "stderr"
        }
      ]
    },
    {
      "cell_type": "code",
      "metadata": {
        "id": "LRZKqNmnFWcF",
        "colab": {
          "base_uri": "https://localhost:8080/",
          "height": 34
        },
        "outputId": "7a2607d5-0dc4-4821-8224-56efb2222908"
      },
      "source": [
        "ENG = ENGrelease.mean()   #Calculate mean\n",
        "ENG"
      ],
      "execution_count": null,
      "outputs": [
        {
          "output_type": "execute_result",
          "data": {
            "text/plain": [
              "262.37667796610174"
            ]
          },
          "metadata": {
            "tags": []
          },
          "execution_count": 58
        }
      ]
    },
    {
      "cell_type": "code",
      "metadata": {
        "id": "bxsLi5DWFWYm",
        "colab": {
          "base_uri": "https://localhost:8080/",
          "height": 163
        },
        "outputId": "787bc98c-caaf-4b89-c24a-ee53126e5188"
      },
      "source": [
        "Croatia_Players = imdb_df[imdb_df[\"Nationality\"] == \"Croatia\"]   #getting Croatia player data\n",
        "\n",
        "Croatia_Players.head(1)"
      ],
      "execution_count": null,
      "outputs": [
        {
          "output_type": "execute_result",
          "data": {
            "text/html": [
              "<div>\n",
              "<style scoped>\n",
              "    .dataframe tbody tr th:only-of-type {\n",
              "        vertical-align: middle;\n",
              "    }\n",
              "\n",
              "    .dataframe tbody tr th {\n",
              "        vertical-align: top;\n",
              "    }\n",
              "\n",
              "    .dataframe thead th {\n",
              "        text-align: right;\n",
              "    }\n",
              "</style>\n",
              "<table border=\"1\" class=\"dataframe\">\n",
              "  <thead>\n",
              "    <tr style=\"text-align: right;\">\n",
              "      <th></th>\n",
              "      <th>Unnamed: 0</th>\n",
              "      <th>Age</th>\n",
              "      <th>Nationality</th>\n",
              "      <th>Overall</th>\n",
              "      <th>Potential</th>\n",
              "      <th>Club</th>\n",
              "      <th>Value</th>\n",
              "      <th>Wage</th>\n",
              "      <th>Special</th>\n",
              "      <th>Preferred Foot</th>\n",
              "      <th>...</th>\n",
              "      <th>Composure</th>\n",
              "      <th>Marking</th>\n",
              "      <th>StandingTackle</th>\n",
              "      <th>SlidingTackle</th>\n",
              "      <th>GKDiving</th>\n",
              "      <th>GKHandling</th>\n",
              "      <th>GKKicking</th>\n",
              "      <th>GKPositioning</th>\n",
              "      <th>GKReflexes</th>\n",
              "      <th>ReleaseClause</th>\n",
              "    </tr>\n",
              "  </thead>\n",
              "  <tbody>\n",
              "    <tr>\n",
              "      <th>6</th>\n",
              "      <td>6</td>\n",
              "      <td>32</td>\n",
              "      <td>Croatia</td>\n",
              "      <td>91</td>\n",
              "      <td>91</td>\n",
              "      <td>Real Madrid</td>\n",
              "      <td>€67M</td>\n",
              "      <td>€420K</td>\n",
              "      <td>2280</td>\n",
              "      <td>Right</td>\n",
              "      <td>...</td>\n",
              "      <td>84.0</td>\n",
              "      <td>60.0</td>\n",
              "      <td>76.0</td>\n",
              "      <td>73.0</td>\n",
              "      <td>13.0</td>\n",
              "      <td>9.0</td>\n",
              "      <td>7.0</td>\n",
              "      <td>14.0</td>\n",
              "      <td>9.0</td>\n",
              "      <td>137.4</td>\n",
              "    </tr>\n",
              "  </tbody>\n",
              "</table>\n",
              "<p>1 rows × 54 columns</p>\n",
              "</div>"
            ],
            "text/plain": [
              "   Unnamed: 0  Age Nationality  Overall  Potential         Club Value   Wage  \\\n",
              "6           6   32     Croatia       91         91  Real Madrid  €67M  €420K   \n",
              "\n",
              "   Special Preferred Foot      ...        Composure  Marking  StandingTackle  \\\n",
              "6     2280          Right      ...             84.0     60.0            76.0   \n",
              "\n",
              "  SlidingTackle GKDiving GKHandling GKKicking  GKPositioning  GKReflexes  \\\n",
              "6          73.0     13.0        9.0       7.0           14.0         9.0   \n",
              "\n",
              "   ReleaseClause  \n",
              "6         137.4   \n",
              "\n",
              "[1 rows x 54 columns]"
            ]
          },
          "metadata": {
            "tags": []
          },
          "execution_count": 59
        }
      ]
    },
    {
      "cell_type": "code",
      "metadata": {
        "id": "7LQOcF-kFWXb",
        "colab": {
          "base_uri": "https://localhost:8080/",
          "height": 119
        },
        "outputId": "6966ee66-22df-4583-ae4c-7656c7adcec1"
      },
      "source": [
        "Croatia_Players[\"ReleaseClause\"] = Croatia_Players.ReleaseClause.astype(float)    #convert to float\n",
        "\n",
        "CROrelease = Croatia_Players.ReleaseClause"
      ],
      "execution_count": null,
      "outputs": [
        {
          "output_type": "stream",
          "text": [
            "/usr/local/lib/python3.6/dist-packages/ipykernel_launcher.py:1: SettingWithCopyWarning: \n",
            "A value is trying to be set on a copy of a slice from a DataFrame.\n",
            "Try using .loc[row_indexer,col_indexer] = value instead\n",
            "\n",
            "See the caveats in the documentation: http://pandas.pydata.org/pandas-docs/stable/indexing.html#indexing-view-versus-copy\n",
            "  \"\"\"Entry point for launching an IPython kernel.\n"
          ],
          "name": "stderr"
        }
      ]
    },
    {
      "cell_type": "code",
      "metadata": {
        "id": "69CkzYYNFWUR",
        "colab": {
          "base_uri": "https://localhost:8080/",
          "height": 34
        },
        "outputId": "3863faf4-7c34-42bd-dbcb-30b9d3a677b0"
      },
      "source": [
        "CRO = CROrelease.mean()   #Calculate mean\n",
        "\n",
        "CRO"
      ],
      "execution_count": null,
      "outputs": [
        {
          "output_type": "execute_result",
          "data": {
            "text/plain": [
              "156.43982300884957"
            ]
          },
          "metadata": {
            "tags": []
          },
          "execution_count": 61
        }
      ]
    },
    {
      "cell_type": "code",
      "metadata": {
        "id": "SfeWmBq7GCUe",
        "colab": {
          "base_uri": "https://localhost:8080/",
          "height": 163
        },
        "outputId": "17b2bcb9-a8ac-4614-e23e-b710ad720e9d"
      },
      "source": [
        "Uruguay_Players = imdb_df[imdb_df[\"Nationality\"] == \"Uruguay\"]    #getting Uruguay player data\n",
        "\n",
        "Uruguay_Players.head(1)"
      ],
      "execution_count": null,
      "outputs": [
        {
          "output_type": "execute_result",
          "data": {
            "text/html": [
              "<div>\n",
              "<style scoped>\n",
              "    .dataframe tbody tr th:only-of-type {\n",
              "        vertical-align: middle;\n",
              "    }\n",
              "\n",
              "    .dataframe tbody tr th {\n",
              "        vertical-align: top;\n",
              "    }\n",
              "\n",
              "    .dataframe thead th {\n",
              "        text-align: right;\n",
              "    }\n",
              "</style>\n",
              "<table border=\"1\" class=\"dataframe\">\n",
              "  <thead>\n",
              "    <tr style=\"text-align: right;\">\n",
              "      <th></th>\n",
              "      <th>Unnamed: 0</th>\n",
              "      <th>Age</th>\n",
              "      <th>Nationality</th>\n",
              "      <th>Overall</th>\n",
              "      <th>Potential</th>\n",
              "      <th>Club</th>\n",
              "      <th>Value</th>\n",
              "      <th>Wage</th>\n",
              "      <th>Special</th>\n",
              "      <th>Preferred Foot</th>\n",
              "      <th>...</th>\n",
              "      <th>Composure</th>\n",
              "      <th>Marking</th>\n",
              "      <th>StandingTackle</th>\n",
              "      <th>SlidingTackle</th>\n",
              "      <th>GKDiving</th>\n",
              "      <th>GKHandling</th>\n",
              "      <th>GKKicking</th>\n",
              "      <th>GKPositioning</th>\n",
              "      <th>GKReflexes</th>\n",
              "      <th>ReleaseClause</th>\n",
              "    </tr>\n",
              "  </thead>\n",
              "  <tbody>\n",
              "    <tr>\n",
              "      <th>7</th>\n",
              "      <td>7</td>\n",
              "      <td>31</td>\n",
              "      <td>Uruguay</td>\n",
              "      <td>91</td>\n",
              "      <td>91</td>\n",
              "      <td>FC Barcelona</td>\n",
              "      <td>€80M</td>\n",
              "      <td>€455K</td>\n",
              "      <td>2346</td>\n",
              "      <td>Right</td>\n",
              "      <td>...</td>\n",
              "      <td>85.0</td>\n",
              "      <td>62.0</td>\n",
              "      <td>45.0</td>\n",
              "      <td>38.0</td>\n",
              "      <td>27.0</td>\n",
              "      <td>25.0</td>\n",
              "      <td>31.0</td>\n",
              "      <td>33.0</td>\n",
              "      <td>37.0</td>\n",
              "      <td>164</td>\n",
              "    </tr>\n",
              "  </tbody>\n",
              "</table>\n",
              "<p>1 rows × 54 columns</p>\n",
              "</div>"
            ],
            "text/plain": [
              "   Unnamed: 0  Age Nationality  Overall  Potential          Club Value   Wage  \\\n",
              "7           7   31     Uruguay       91         91  FC Barcelona  €80M  €455K   \n",
              "\n",
              "   Special Preferred Foot      ...        Composure  Marking  StandingTackle  \\\n",
              "7     2346          Right      ...             85.0     62.0            45.0   \n",
              "\n",
              "  SlidingTackle GKDiving GKHandling GKKicking  GKPositioning  GKReflexes  \\\n",
              "7          38.0     27.0       25.0      31.0           33.0        37.0   \n",
              "\n",
              "   ReleaseClause  \n",
              "7           164   \n",
              "\n",
              "[1 rows x 54 columns]"
            ]
          },
          "metadata": {
            "tags": []
          },
          "execution_count": 62
        }
      ]
    },
    {
      "cell_type": "code",
      "metadata": {
        "id": "z3piXV8rGCb6",
        "colab": {
          "base_uri": "https://localhost:8080/",
          "height": 119
        },
        "outputId": "ae82adbe-a407-4be5-8a0b-b17906475972"
      },
      "source": [
        "Uruguay_Players[\"ReleaseClause\"] = Uruguay_Players.ReleaseClause.astype(float)   #convert to float\n",
        "\n",
        "URUrelease = Uruguay_Players.ReleaseClause"
      ],
      "execution_count": null,
      "outputs": [
        {
          "output_type": "stream",
          "text": [
            "/usr/local/lib/python3.6/dist-packages/ipykernel_launcher.py:1: SettingWithCopyWarning: \n",
            "A value is trying to be set on a copy of a slice from a DataFrame.\n",
            "Try using .loc[row_indexer,col_indexer] = value instead\n",
            "\n",
            "See the caveats in the documentation: http://pandas.pydata.org/pandas-docs/stable/indexing.html#indexing-view-versus-copy\n",
            "  \"\"\"Entry point for launching an IPython kernel.\n"
          ],
          "name": "stderr"
        }
      ]
    },
    {
      "cell_type": "code",
      "metadata": {
        "id": "nO2fMBcIGCi0",
        "colab": {
          "base_uri": "https://localhost:8080/",
          "height": 34
        },
        "outputId": "7fc38f7c-c98c-4028-b543-abb13169d5d7"
      },
      "source": [
        "URU = URUrelease.mean()   #Calculate mean\n",
        "\n",
        "URU"
      ],
      "execution_count": null,
      "outputs": [
        {
          "output_type": "execute_result",
          "data": {
            "text/plain": [
              "149.29924812030077"
            ]
          },
          "metadata": {
            "tags": []
          },
          "execution_count": 64
        }
      ]
    },
    {
      "cell_type": "code",
      "metadata": {
        "id": "CcFrtBAuGCtG",
        "colab": {
          "base_uri": "https://localhost:8080/",
          "height": 146
        },
        "outputId": "5f837a95-ca43-4531-eee7-086638893bc2"
      },
      "source": [
        "Portugal_Players = imdb_df[imdb_df[\"Nationality\"] == \"Portugal\"]   #getting Portugal player data\n",
        "\n",
        "Portugal_Players.head(1)"
      ],
      "execution_count": null,
      "outputs": [
        {
          "output_type": "execute_result",
          "data": {
            "text/html": [
              "<div>\n",
              "<style scoped>\n",
              "    .dataframe tbody tr th:only-of-type {\n",
              "        vertical-align: middle;\n",
              "    }\n",
              "\n",
              "    .dataframe tbody tr th {\n",
              "        vertical-align: top;\n",
              "    }\n",
              "\n",
              "    .dataframe thead th {\n",
              "        text-align: right;\n",
              "    }\n",
              "</style>\n",
              "<table border=\"1\" class=\"dataframe\">\n",
              "  <thead>\n",
              "    <tr style=\"text-align: right;\">\n",
              "      <th></th>\n",
              "      <th>Unnamed: 0</th>\n",
              "      <th>Age</th>\n",
              "      <th>Nationality</th>\n",
              "      <th>Overall</th>\n",
              "      <th>Potential</th>\n",
              "      <th>Club</th>\n",
              "      <th>Value</th>\n",
              "      <th>Wage</th>\n",
              "      <th>Special</th>\n",
              "      <th>Preferred Foot</th>\n",
              "      <th>...</th>\n",
              "      <th>Composure</th>\n",
              "      <th>Marking</th>\n",
              "      <th>StandingTackle</th>\n",
              "      <th>SlidingTackle</th>\n",
              "      <th>GKDiving</th>\n",
              "      <th>GKHandling</th>\n",
              "      <th>GKKicking</th>\n",
              "      <th>GKPositioning</th>\n",
              "      <th>GKReflexes</th>\n",
              "      <th>ReleaseClause</th>\n",
              "    </tr>\n",
              "  </thead>\n",
              "  <tbody>\n",
              "    <tr>\n",
              "      <th>1</th>\n",
              "      <td>1</td>\n",
              "      <td>33</td>\n",
              "      <td>Portugal</td>\n",
              "      <td>94</td>\n",
              "      <td>94</td>\n",
              "      <td>Juventus</td>\n",
              "      <td>€77M</td>\n",
              "      <td>€405K</td>\n",
              "      <td>2228</td>\n",
              "      <td>Right</td>\n",
              "      <td>...</td>\n",
              "      <td>95.0</td>\n",
              "      <td>28.0</td>\n",
              "      <td>31.0</td>\n",
              "      <td>23.0</td>\n",
              "      <td>7.0</td>\n",
              "      <td>11.0</td>\n",
              "      <td>15.0</td>\n",
              "      <td>14.0</td>\n",
              "      <td>11.0</td>\n",
              "      <td>127.1</td>\n",
              "    </tr>\n",
              "  </tbody>\n",
              "</table>\n",
              "<p>1 rows × 54 columns</p>\n",
              "</div>"
            ],
            "text/plain": [
              "   Unnamed: 0  Age Nationality  Overall  Potential      Club Value   Wage  \\\n",
              "1           1   33    Portugal       94         94  Juventus  €77M  €405K   \n",
              "\n",
              "   Special Preferred Foot      ...        Composure  Marking  StandingTackle  \\\n",
              "1     2228          Right      ...             95.0     28.0            31.0   \n",
              "\n",
              "  SlidingTackle GKDiving GKHandling GKKicking  GKPositioning  GKReflexes  \\\n",
              "1          23.0      7.0       11.0      15.0           14.0        11.0   \n",
              "\n",
              "   ReleaseClause  \n",
              "1         127.1   \n",
              "\n",
              "[1 rows x 54 columns]"
            ]
          },
          "metadata": {
            "tags": []
          },
          "execution_count": 65
        }
      ]
    },
    {
      "cell_type": "code",
      "metadata": {
        "id": "dxlfTRSxGC2Q",
        "colab": {
          "base_uri": "https://localhost:8080/",
          "height": 119
        },
        "outputId": "4775cfb6-740b-4126-f473-23b12e70a8a3"
      },
      "source": [
        "Portugal_Players[\"ReleaseClause\"] = Portugal_Players.ReleaseClause.astype(float)  #convert to float\n",
        "\n",
        "PORrelease = Portugal_Players.ReleaseClause"
      ],
      "execution_count": null,
      "outputs": [
        {
          "output_type": "stream",
          "text": [
            "/usr/local/lib/python3.6/dist-packages/ipykernel_launcher.py:1: SettingWithCopyWarning: \n",
            "A value is trying to be set on a copy of a slice from a DataFrame.\n",
            "Try using .loc[row_indexer,col_indexer] = value instead\n",
            "\n",
            "See the caveats in the documentation: http://pandas.pydata.org/pandas-docs/stable/indexing.html#indexing-view-versus-copy\n",
            "  \"\"\"Entry point for launching an IPython kernel.\n"
          ],
          "name": "stderr"
        }
      ]
    },
    {
      "cell_type": "code",
      "metadata": {
        "id": "Mv6AoRrAGC_p",
        "colab": {
          "base_uri": "https://localhost:8080/",
          "height": 34
        },
        "outputId": "788764cb-f80e-4742-c241-da93bf861a08"
      },
      "source": [
        "POR = PORrelease.mean()   #Calculate mean\n",
        "\n",
        "POR"
      ],
      "execution_count": null,
      "outputs": [
        {
          "output_type": "execute_result",
          "data": {
            "text/plain": [
              "72.24551724137932"
            ]
          },
          "metadata": {
            "tags": []
          },
          "execution_count": 67
        }
      ]
    },
    {
      "cell_type": "code",
      "metadata": {
        "id": "XsV1gYwRGDIt",
        "colab": {
          "base_uri": "https://localhost:8080/",
          "height": 163
        },
        "outputId": "075c5a45-a2ea-44d3-b71f-e8c4d1756ca8"
      },
      "source": [
        "Switzerland_Players = imdb_df[imdb_df[\"Nationality\"] == \"Switzerland\"]  #getting Switzerland player data\n",
        "\n",
        "Switzerland_Players.head(1)"
      ],
      "execution_count": null,
      "outputs": [
        {
          "output_type": "execute_result",
          "data": {
            "text/html": [
              "<div>\n",
              "<style scoped>\n",
              "    .dataframe tbody tr th:only-of-type {\n",
              "        vertical-align: middle;\n",
              "    }\n",
              "\n",
              "    .dataframe tbody tr th {\n",
              "        vertical-align: top;\n",
              "    }\n",
              "\n",
              "    .dataframe thead th {\n",
              "        text-align: right;\n",
              "    }\n",
              "</style>\n",
              "<table border=\"1\" class=\"dataframe\">\n",
              "  <thead>\n",
              "    <tr style=\"text-align: right;\">\n",
              "      <th></th>\n",
              "      <th>Unnamed: 0</th>\n",
              "      <th>Age</th>\n",
              "      <th>Nationality</th>\n",
              "      <th>Overall</th>\n",
              "      <th>Potential</th>\n",
              "      <th>Club</th>\n",
              "      <th>Value</th>\n",
              "      <th>Wage</th>\n",
              "      <th>Special</th>\n",
              "      <th>Preferred Foot</th>\n",
              "      <th>...</th>\n",
              "      <th>Composure</th>\n",
              "      <th>Marking</th>\n",
              "      <th>StandingTackle</th>\n",
              "      <th>SlidingTackle</th>\n",
              "      <th>GKDiving</th>\n",
              "      <th>GKHandling</th>\n",
              "      <th>GKKicking</th>\n",
              "      <th>GKPositioning</th>\n",
              "      <th>GKReflexes</th>\n",
              "      <th>ReleaseClause</th>\n",
              "    </tr>\n",
              "  </thead>\n",
              "  <tbody>\n",
              "    <tr>\n",
              "      <th>214</th>\n",
              "      <td>214</td>\n",
              "      <td>29</td>\n",
              "      <td>Switzerland</td>\n",
              "      <td>83</td>\n",
              "      <td>84</td>\n",
              "      <td>Borussia Mönchengladbach</td>\n",
              "      <td>€20M</td>\n",
              "      <td>€35K</td>\n",
              "      <td>1299</td>\n",
              "      <td>Right</td>\n",
              "      <td>...</td>\n",
              "      <td>57.0</td>\n",
              "      <td>9.0</td>\n",
              "      <td>19.0</td>\n",
              "      <td>12.0</td>\n",
              "      <td>78.0</td>\n",
              "      <td>84.0</td>\n",
              "      <td>80.0</td>\n",
              "      <td>80.0</td>\n",
              "      <td>85.0</td>\n",
              "      <td>35.5</td>\n",
              "    </tr>\n",
              "  </tbody>\n",
              "</table>\n",
              "<p>1 rows × 54 columns</p>\n",
              "</div>"
            ],
            "text/plain": [
              "     Unnamed: 0  Age  Nationality  Overall  Potential  \\\n",
              "214         214   29  Switzerland       83         84   \n",
              "\n",
              "                         Club Value  Wage  Special Preferred Foot  \\\n",
              "214  Borussia Mönchengladbach  €20M  €35K     1299          Right   \n",
              "\n",
              "         ...        Composure  Marking  StandingTackle SlidingTackle GKDiving  \\\n",
              "214      ...             57.0      9.0            19.0          12.0     78.0   \n",
              "\n",
              "    GKHandling GKKicking  GKPositioning  GKReflexes  ReleaseClause  \n",
              "214       84.0      80.0           80.0        85.0          35.5   \n",
              "\n",
              "[1 rows x 54 columns]"
            ]
          },
          "metadata": {
            "tags": []
          },
          "execution_count": 68
        }
      ]
    },
    {
      "cell_type": "code",
      "metadata": {
        "id": "gt8qAokpGDSI",
        "colab": {
          "base_uri": "https://localhost:8080/",
          "height": 119
        },
        "outputId": "15fd4e83-567a-4ef4-80bb-69c637e4140b"
      },
      "source": [
        "Switzerland_Players[\"ReleaseClause\"] = Switzerland_Players.ReleaseClause.astype(float)  #convert to float\n",
        "\n",
        "SWIrelease = Switzerland_Players.ReleaseClause"
      ],
      "execution_count": null,
      "outputs": [
        {
          "output_type": "stream",
          "text": [
            "/usr/local/lib/python3.6/dist-packages/ipykernel_launcher.py:1: SettingWithCopyWarning: \n",
            "A value is trying to be set on a copy of a slice from a DataFrame.\n",
            "Try using .loc[row_indexer,col_indexer] = value instead\n",
            "\n",
            "See the caveats in the documentation: http://pandas.pydata.org/pandas-docs/stable/indexing.html#indexing-view-versus-copy\n",
            "  \"\"\"Entry point for launching an IPython kernel.\n"
          ],
          "name": "stderr"
        }
      ]
    },
    {
      "cell_type": "code",
      "metadata": {
        "id": "DSrIYD5NGDdD",
        "colab": {
          "base_uri": "https://localhost:8080/",
          "height": 34
        },
        "outputId": "73f1fa89-dd6a-4b30-8499-880c622c1714"
      },
      "source": [
        "SWI = SWIrelease.mean()   #Calculate mean\n",
        "\n",
        "SWI"
      ],
      "execution_count": null,
      "outputs": [
        {
          "output_type": "execute_result",
          "data": {
            "text/plain": [
              "212.9151219512195"
            ]
          },
          "metadata": {
            "tags": []
          },
          "execution_count": 70
        }
      ]
    },
    {
      "cell_type": "code",
      "metadata": {
        "id": "KXvgZXezGDmx",
        "colab": {
          "base_uri": "https://localhost:8080/",
          "height": 163
        },
        "outputId": "37f43ae8-289d-4019-97d6-a17b76ded449"
      },
      "source": [
        "Spain_Players = imdb_df[imdb_df[\"Nationality\"] == \"Spain\"]   #getting Spain player data\n",
        "\n",
        "Spain_Players.head(1)"
      ],
      "execution_count": null,
      "outputs": [
        {
          "output_type": "execute_result",
          "data": {
            "text/html": [
              "<div>\n",
              "<style scoped>\n",
              "    .dataframe tbody tr th:only-of-type {\n",
              "        vertical-align: middle;\n",
              "    }\n",
              "\n",
              "    .dataframe tbody tr th {\n",
              "        vertical-align: top;\n",
              "    }\n",
              "\n",
              "    .dataframe thead th {\n",
              "        text-align: right;\n",
              "    }\n",
              "</style>\n",
              "<table border=\"1\" class=\"dataframe\">\n",
              "  <thead>\n",
              "    <tr style=\"text-align: right;\">\n",
              "      <th></th>\n",
              "      <th>Unnamed: 0</th>\n",
              "      <th>Age</th>\n",
              "      <th>Nationality</th>\n",
              "      <th>Overall</th>\n",
              "      <th>Potential</th>\n",
              "      <th>Club</th>\n",
              "      <th>Value</th>\n",
              "      <th>Wage</th>\n",
              "      <th>Special</th>\n",
              "      <th>Preferred Foot</th>\n",
              "      <th>...</th>\n",
              "      <th>Composure</th>\n",
              "      <th>Marking</th>\n",
              "      <th>StandingTackle</th>\n",
              "      <th>SlidingTackle</th>\n",
              "      <th>GKDiving</th>\n",
              "      <th>GKHandling</th>\n",
              "      <th>GKKicking</th>\n",
              "      <th>GKPositioning</th>\n",
              "      <th>GKReflexes</th>\n",
              "      <th>ReleaseClause</th>\n",
              "    </tr>\n",
              "  </thead>\n",
              "  <tbody>\n",
              "    <tr>\n",
              "      <th>3</th>\n",
              "      <td>3</td>\n",
              "      <td>27</td>\n",
              "      <td>Spain</td>\n",
              "      <td>91</td>\n",
              "      <td>93</td>\n",
              "      <td>Manchester United</td>\n",
              "      <td>€72M</td>\n",
              "      <td>€260K</td>\n",
              "      <td>1471</td>\n",
              "      <td>Right</td>\n",
              "      <td>...</td>\n",
              "      <td>68.0</td>\n",
              "      <td>15.0</td>\n",
              "      <td>21.0</td>\n",
              "      <td>13.0</td>\n",
              "      <td>90.0</td>\n",
              "      <td>85.0</td>\n",
              "      <td>87.0</td>\n",
              "      <td>88.0</td>\n",
              "      <td>94.0</td>\n",
              "      <td>138.6</td>\n",
              "    </tr>\n",
              "  </tbody>\n",
              "</table>\n",
              "<p>1 rows × 54 columns</p>\n",
              "</div>"
            ],
            "text/plain": [
              "   Unnamed: 0  Age Nationality  Overall  Potential               Club Value  \\\n",
              "3           3   27       Spain       91         93  Manchester United  €72M   \n",
              "\n",
              "    Wage  Special Preferred Foot      ...        Composure  Marking  \\\n",
              "3  €260K     1471          Right      ...             68.0     15.0   \n",
              "\n",
              "   StandingTackle SlidingTackle GKDiving GKHandling GKKicking  GKPositioning  \\\n",
              "3            21.0          13.0     90.0       85.0      87.0           88.0   \n",
              "\n",
              "   GKReflexes  ReleaseClause  \n",
              "3        94.0         138.6   \n",
              "\n",
              "[1 rows x 54 columns]"
            ]
          },
          "metadata": {
            "tags": []
          },
          "execution_count": 71
        }
      ]
    },
    {
      "cell_type": "code",
      "metadata": {
        "id": "4l5VR8ocGDyY",
        "colab": {
          "base_uri": "https://localhost:8080/",
          "height": 119
        },
        "outputId": "67e0e59e-9f97-4609-d1ef-79aeaade0da4"
      },
      "source": [
        "Spain_Players[\"ReleaseClause\"] = Spain_Players.ReleaseClause.astype(float)   #convert to float\n",
        "\n",
        "SPArelease = Spain_Players.ReleaseClause"
      ],
      "execution_count": null,
      "outputs": [
        {
          "output_type": "stream",
          "text": [
            "/usr/local/lib/python3.6/dist-packages/ipykernel_launcher.py:1: SettingWithCopyWarning: \n",
            "A value is trying to be set on a copy of a slice from a DataFrame.\n",
            "Try using .loc[row_indexer,col_indexer] = value instead\n",
            "\n",
            "See the caveats in the documentation: http://pandas.pydata.org/pandas-docs/stable/indexing.html#indexing-view-versus-copy\n",
            "  \"\"\"Entry point for launching an IPython kernel.\n"
          ],
          "name": "stderr"
        }
      ]
    },
    {
      "cell_type": "code",
      "metadata": {
        "id": "nUl8qDtvGD7z",
        "colab": {
          "base_uri": "https://localhost:8080/",
          "height": 34
        },
        "outputId": "e87fdea2-018f-4427-8d9f-d52d86bab3a8"
      },
      "source": [
        "SPA = SPArelease.mean()  #Calculate mean\n",
        "\n",
        "SPA"
      ],
      "execution_count": null,
      "outputs": [
        {
          "output_type": "execute_result",
          "data": {
            "text/plain": [
              "158.1381930184805"
            ]
          },
          "metadata": {
            "tags": []
          },
          "execution_count": 73
        }
      ]
    },
    {
      "cell_type": "code",
      "metadata": {
        "id": "dsYsNddlHb7J",
        "colab": {
          "base_uri": "https://localhost:8080/",
          "height": 163
        },
        "outputId": "92952f60-b81b-4189-b3b0-0396a87f412f"
      },
      "source": [
        "Denmark_Players = imdb_df[imdb_df[\"Nationality\"] == \"Denmark\"]   #getting Denmark player data\n",
        "\n",
        "Denmark_Players.head(1)"
      ],
      "execution_count": null,
      "outputs": [
        {
          "output_type": "execute_result",
          "data": {
            "text/html": [
              "<div>\n",
              "<style scoped>\n",
              "    .dataframe tbody tr th:only-of-type {\n",
              "        vertical-align: middle;\n",
              "    }\n",
              "\n",
              "    .dataframe tbody tr th {\n",
              "        vertical-align: top;\n",
              "    }\n",
              "\n",
              "    .dataframe thead th {\n",
              "        text-align: right;\n",
              "    }\n",
              "</style>\n",
              "<table border=\"1\" class=\"dataframe\">\n",
              "  <thead>\n",
              "    <tr style=\"text-align: right;\">\n",
              "      <th></th>\n",
              "      <th>Unnamed: 0</th>\n",
              "      <th>Age</th>\n",
              "      <th>Nationality</th>\n",
              "      <th>Overall</th>\n",
              "      <th>Potential</th>\n",
              "      <th>Club</th>\n",
              "      <th>Value</th>\n",
              "      <th>Wage</th>\n",
              "      <th>Special</th>\n",
              "      <th>Preferred Foot</th>\n",
              "      <th>...</th>\n",
              "      <th>Composure</th>\n",
              "      <th>Marking</th>\n",
              "      <th>StandingTackle</th>\n",
              "      <th>SlidingTackle</th>\n",
              "      <th>GKDiving</th>\n",
              "      <th>GKHandling</th>\n",
              "      <th>GKKicking</th>\n",
              "      <th>GKPositioning</th>\n",
              "      <th>GKReflexes</th>\n",
              "      <th>ReleaseClause</th>\n",
              "    </tr>\n",
              "  </thead>\n",
              "  <tbody>\n",
              "    <tr>\n",
              "      <th>31</th>\n",
              "      <td>31</td>\n",
              "      <td>26</td>\n",
              "      <td>Denmark</td>\n",
              "      <td>88</td>\n",
              "      <td>91</td>\n",
              "      <td>Tottenham Hotspur</td>\n",
              "      <td>€73.5M</td>\n",
              "      <td>€205K</td>\n",
              "      <td>2117</td>\n",
              "      <td>Right</td>\n",
              "      <td>...</td>\n",
              "      <td>88.0</td>\n",
              "      <td>59.0</td>\n",
              "      <td>57.0</td>\n",
              "      <td>22.0</td>\n",
              "      <td>9.0</td>\n",
              "      <td>14.0</td>\n",
              "      <td>7.0</td>\n",
              "      <td>7.0</td>\n",
              "      <td>6.0</td>\n",
              "      <td>141.5</td>\n",
              "    </tr>\n",
              "  </tbody>\n",
              "</table>\n",
              "<p>1 rows × 54 columns</p>\n",
              "</div>"
            ],
            "text/plain": [
              "    Unnamed: 0  Age Nationality  Overall  Potential               Club  \\\n",
              "31          31   26     Denmark       88         91  Tottenham Hotspur   \n",
              "\n",
              "     Value   Wage  Special Preferred Foot      ...        Composure  Marking  \\\n",
              "31  €73.5M  €205K     2117          Right      ...             88.0     59.0   \n",
              "\n",
              "    StandingTackle SlidingTackle GKDiving GKHandling GKKicking  GKPositioning  \\\n",
              "31            57.0          22.0      9.0       14.0       7.0            7.0   \n",
              "\n",
              "    GKReflexes  ReleaseClause  \n",
              "31         6.0         141.5   \n",
              "\n",
              "[1 rows x 54 columns]"
            ]
          },
          "metadata": {
            "tags": []
          },
          "execution_count": 74
        }
      ]
    },
    {
      "cell_type": "code",
      "metadata": {
        "id": "mv_zFIh9HcC2",
        "colab": {
          "base_uri": "https://localhost:8080/",
          "height": 119
        },
        "outputId": "262bc6cc-832c-4a17-e365-42dadb8a5983"
      },
      "source": [
        "Denmark_Players[\"ReleaseClause\"] = Denmark_Players.ReleaseClause.astype(float)   #convert to float\n",
        "\n",
        "DENrelease = Denmark_Players.ReleaseClause"
      ],
      "execution_count": null,
      "outputs": [
        {
          "output_type": "stream",
          "text": [
            "/usr/local/lib/python3.6/dist-packages/ipykernel_launcher.py:1: SettingWithCopyWarning: \n",
            "A value is trying to be set on a copy of a slice from a DataFrame.\n",
            "Try using .loc[row_indexer,col_indexer] = value instead\n",
            "\n",
            "See the caveats in the documentation: http://pandas.pydata.org/pandas-docs/stable/indexing.html#indexing-view-versus-copy\n",
            "  \"\"\"Entry point for launching an IPython kernel.\n"
          ],
          "name": "stderr"
        }
      ]
    },
    {
      "cell_type": "code",
      "metadata": {
        "id": "szx9ma3AHcLh",
        "colab": {
          "base_uri": "https://localhost:8080/",
          "height": 34
        },
        "outputId": "e5fe9350-ef43-4acf-93fd-e3bb7253f07f"
      },
      "source": [
        "DEN = DENrelease.mean()\n",
        "\n",
        "DEN"
      ],
      "execution_count": null,
      "outputs": [
        {
          "output_type": "execute_result",
          "data": {
            "text/plain": [
              "272.6972049689441"
            ]
          },
          "metadata": {
            "tags": []
          },
          "execution_count": 76
        }
      ]
    },
    {
      "cell_type": "code",
      "metadata": {
        "id": "UsoiUhs5W0Si",
        "colab": {
          "base_uri": "https://localhost:8080/",
          "height": 359
        },
        "outputId": "fa6c805a-e791-4054-c52e-591ed6044d0c"
      },
      "source": [
        "#dataframe to create a table\n",
        "\n",
        "q3df = pd.DataFrame({\n",
        "    \n",
        "    'Country Name': ['Belgium','France','Brazil', 'England',\n",
        "              'Croatia',\n",
        "              'Uruguay',\n",
        "              'Portugal',\n",
        "              'Switzerland',\n",
        "              'Spain',\n",
        "              'Denmark'], 'Average Release Clause': [186.76883116883113, 176.25111371629544, 120.24225888324872, 262.37667796610174, 156.43982300884957, 149.29924812030077, 72.24551724137932, 212.9151219512195, 158.1381930184805, 272.6972049689441]})\n",
        "\n",
        "q3df"
      ],
      "execution_count": null,
      "outputs": [
        {
          "output_type": "execute_result",
          "data": {
            "text/html": [
              "<div>\n",
              "<style scoped>\n",
              "    .dataframe tbody tr th:only-of-type {\n",
              "        vertical-align: middle;\n",
              "    }\n",
              "\n",
              "    .dataframe tbody tr th {\n",
              "        vertical-align: top;\n",
              "    }\n",
              "\n",
              "    .dataframe thead th {\n",
              "        text-align: right;\n",
              "    }\n",
              "</style>\n",
              "<table border=\"1\" class=\"dataframe\">\n",
              "  <thead>\n",
              "    <tr style=\"text-align: right;\">\n",
              "      <th></th>\n",
              "      <th>Country Name</th>\n",
              "      <th>Average Release Clause</th>\n",
              "    </tr>\n",
              "  </thead>\n",
              "  <tbody>\n",
              "    <tr>\n",
              "      <th>0</th>\n",
              "      <td>Belgium</td>\n",
              "      <td>186.768831</td>\n",
              "    </tr>\n",
              "    <tr>\n",
              "      <th>1</th>\n",
              "      <td>France</td>\n",
              "      <td>176.251114</td>\n",
              "    </tr>\n",
              "    <tr>\n",
              "      <th>2</th>\n",
              "      <td>Brazil</td>\n",
              "      <td>120.242259</td>\n",
              "    </tr>\n",
              "    <tr>\n",
              "      <th>3</th>\n",
              "      <td>England</td>\n",
              "      <td>262.376678</td>\n",
              "    </tr>\n",
              "    <tr>\n",
              "      <th>4</th>\n",
              "      <td>Croatia</td>\n",
              "      <td>156.439823</td>\n",
              "    </tr>\n",
              "    <tr>\n",
              "      <th>5</th>\n",
              "      <td>Uruguay</td>\n",
              "      <td>149.299248</td>\n",
              "    </tr>\n",
              "    <tr>\n",
              "      <th>6</th>\n",
              "      <td>Portugal</td>\n",
              "      <td>72.245517</td>\n",
              "    </tr>\n",
              "    <tr>\n",
              "      <th>7</th>\n",
              "      <td>Switzerland</td>\n",
              "      <td>212.915122</td>\n",
              "    </tr>\n",
              "    <tr>\n",
              "      <th>8</th>\n",
              "      <td>Spain</td>\n",
              "      <td>158.138193</td>\n",
              "    </tr>\n",
              "    <tr>\n",
              "      <th>9</th>\n",
              "      <td>Denmark</td>\n",
              "      <td>272.697205</td>\n",
              "    </tr>\n",
              "  </tbody>\n",
              "</table>\n",
              "</div>"
            ],
            "text/plain": [
              "  Country Name  Average Release Clause\n",
              "0      Belgium              186.768831\n",
              "1       France              176.251114\n",
              "2       Brazil              120.242259\n",
              "3      England              262.376678\n",
              "4      Croatia              156.439823\n",
              "5      Uruguay              149.299248\n",
              "6     Portugal               72.245517\n",
              "7  Switzerland              212.915122\n",
              "8        Spain              158.138193\n",
              "9      Denmark              272.697205"
            ]
          },
          "metadata": {
            "tags": []
          },
          "execution_count": 77
        }
      ]
    },
    {
      "cell_type": "code",
      "metadata": {
        "id": "5u10mhHrdogb",
        "colab": {
          "base_uri": "https://localhost:8080/",
          "height": 452
        },
        "outputId": "5571f206-f56a-4f9f-ad5f-8ad94f042322"
      },
      "source": [
        "#plot the data\n",
        "\n",
        "%matplotlib inline\n",
        "import matplotlib.pyplot as plt; plt.rcdefaults()\n",
        "import numpy as np\n",
        "import seaborn as sns\n",
        "\n",
        "objects = ('BEL', 'FRA', 'BRA', 'ENG', 'CRO', 'URU', 'POR', 'SWI', 'SPA', 'DEN')\n",
        "y_pos = np.arange(len(objects))\n",
        "performance = [186,176,120,262,156,149,72, 212, 158, 272]\n",
        " \n",
        "plt.bar(y_pos, performance, align='center', alpha=0.3)\n",
        "plt.xticks(y_pos, objects)\n",
        "plt.ylabel('Release Clause')\n",
        "plt.title('Geographical Region')\n",
        " \n",
        "plt.show()"
      ],
      "execution_count": null,
      "outputs": [
        {
          "output_type": "display_data",
          "data": {
            "image/png": "[encoded data removed]",
            "text/plain": [
              "<Figure size 640x480 with 1 Axes>"
            ]
          },
          "metadata": {
            "tags": []
          }
        }
      ]
    },
    {
      "cell_type": "code",
      "metadata": {
        "id": "PEDIkj-P6Gq-"
      },
      "source": [
        "#Question 4\n"
      ],
      "execution_count": null,
      "outputs": []
    },
    {
      "cell_type": "code",
      "metadata": {
        "id": "cdVJV1PqCbdx"
      },
      "source": [
        "Accelerate = greatplayers['Acceleration'].mean()   #getting means of great player physical attributes\n",
        "SprintSpeed = greatplayers['SprintSpeed'].mean()\n",
        "Agility = greatplayers['Agility'].mean()\n",
        "Reactions = greatplayers['Reactions'].mean()\n",
        "Balance = greatplayers['Balance'].mean()\n",
        "Jumping = greatplayers['Jumping'].mean()\n",
        "Stamina = greatplayers['Stamina'].mean()\n",
        "Strength = greatplayers['Strength'].mean()"
      ],
      "execution_count": null,
      "outputs": []
    },
    {
      "cell_type": "code",
      "metadata": {
        "id": "vHaT7Q9oM5dj",
        "colab": {
          "base_uri": "https://localhost:8080/",
          "height": 153
        },
        "outputId": "9c398dbc-545c-4e93-b3d8-1088f973e048"
      },
      "source": [
        "print(\"Acceleration: \", Accelerate)   #getting means of great player physical attributes\n",
        "print(\"SprintSpeed: \", SprintSpeed)\n",
        "print(\"Agility: \", Agility)\n",
        "print(\"Reactions: \", Reactions)\n",
        "print(\"Balance: \", Balance)\n",
        "print(\"Jumping: \", Jumping)\n",
        "print(\"Stamina: \", Stamina)\n",
        "print(\"Strength: \", Strength)"
      ],
      "execution_count": null,
      "outputs": [
        {
          "output_type": "stream",
          "text": [
            "Acceleration:  76.21428571428571\n",
            "SprintSpeed:  74.5\n",
            "Agility:  80.42857142857143\n",
            "Reactions:  90.21428571428571\n",
            "Balance:  74.85714285714286\n",
            "Jumping:  70.35714285714286\n",
            "Stamina:  75.57142857142857\n",
            "Strength:  70.78571428571429\n"
          ],
          "name": "stdout"
        }
      ]
    },
    {
      "cell_type": "code",
      "metadata": {
        "id": "RRh-r3GEe6lS",
        "colab": {
          "base_uri": "https://localhost:8080/",
          "height": 297
        },
        "outputId": "caa93f90-cd36-4c5b-c064-ddb4bd806072"
      },
      "source": [
        "#dataframe to plot the data\n",
        "\n",
        "\n",
        "q4df = pd.DataFrame({\n",
        "              'Attribute': ['Acceleration', 'Sprint Speed', 'Agility', 'Reactions', 'Balance', 'Jumping', 'Stamina', 'Strength'],\n",
        "              'Great Players': [76.21428571428571, 74.5, 80.42857142857143, 90.21428571428571, 74.85714285714286, 70.35714285714286, 75.57142857142857, 70.78571428571429],\n",
        "    'Good Players': [70.25138632162661, 70.62292051756008, 70.44177449168207, 80.13308687615528,  67.3826247689464, 69.99260628465804, 72.05914972273567, 71.21996303142329 ]})\n",
        "\n",
        "q4df"
      ],
      "execution_count": null,
      "outputs": [
        {
          "output_type": "execute_result",
          "data": {
            "text/html": [
              "<div>\n",
              "<style scoped>\n",
              "    .dataframe tbody tr th:only-of-type {\n",
              "        vertical-align: middle;\n",
              "    }\n",
              "\n",
              "    .dataframe tbody tr th {\n",
              "        vertical-align: top;\n",
              "    }\n",
              "\n",
              "    .dataframe thead th {\n",
              "        text-align: right;\n",
              "    }\n",
              "</style>\n",
              "<table border=\"1\" class=\"dataframe\">\n",
              "  <thead>\n",
              "    <tr style=\"text-align: right;\">\n",
              "      <th></th>\n",
              "      <th>Attribute</th>\n",
              "      <th>Great Players</th>\n",
              "      <th>Good Players</th>\n",
              "    </tr>\n",
              "  </thead>\n",
              "  <tbody>\n",
              "    <tr>\n",
              "      <th>0</th>\n",
              "      <td>Acceleration</td>\n",
              "      <td>76.214286</td>\n",
              "      <td>70.251386</td>\n",
              "    </tr>\n",
              "    <tr>\n",
              "      <th>1</th>\n",
              "      <td>Sprint Speed</td>\n",
              "      <td>74.500000</td>\n",
              "      <td>70.622921</td>\n",
              "    </tr>\n",
              "    <tr>\n",
              "      <th>2</th>\n",
              "      <td>Agility</td>\n",
              "      <td>80.428571</td>\n",
              "      <td>70.441774</td>\n",
              "    </tr>\n",
              "    <tr>\n",
              "      <th>3</th>\n",
              "      <td>Reactions</td>\n",
              "      <td>90.214286</td>\n",
              "      <td>80.133087</td>\n",
              "    </tr>\n",
              "    <tr>\n",
              "      <th>4</th>\n",
              "      <td>Balance</td>\n",
              "      <td>74.857143</td>\n",
              "      <td>67.382625</td>\n",
              "    </tr>\n",
              "    <tr>\n",
              "      <th>5</th>\n",
              "      <td>Jumping</td>\n",
              "      <td>70.357143</td>\n",
              "      <td>69.992606</td>\n",
              "    </tr>\n",
              "    <tr>\n",
              "      <th>6</th>\n",
              "      <td>Stamina</td>\n",
              "      <td>75.571429</td>\n",
              "      <td>72.059150</td>\n",
              "    </tr>\n",
              "    <tr>\n",
              "      <th>7</th>\n",
              "      <td>Strength</td>\n",
              "      <td>70.785714</td>\n",
              "      <td>71.219963</td>\n",
              "    </tr>\n",
              "  </tbody>\n",
              "</table>\n",
              "</div>"
            ],
            "text/plain": [
              "      Attribute  Great Players  Good Players\n",
              "0  Acceleration      76.214286     70.251386\n",
              "1  Sprint Speed      74.500000     70.622921\n",
              "2       Agility      80.428571     70.441774\n",
              "3     Reactions      90.214286     80.133087\n",
              "4       Balance      74.857143     67.382625\n",
              "5       Jumping      70.357143     69.992606\n",
              "6       Stamina      75.571429     72.059150\n",
              "7      Strength      70.785714     71.219963"
            ]
          },
          "metadata": {
            "tags": []
          },
          "execution_count": 81
        }
      ]
    },
    {
      "cell_type": "code",
      "metadata": {
        "id": "g_DldBRPEE_C",
        "colab": {
          "base_uri": "https://localhost:8080/",
          "height": 153
        },
        "outputId": "f7987918-ad55-4623-fe63-3a9372ba71ec"
      },
      "source": [
        "#getting means of good player physical attributes\n",
        "\n",
        "GAccelerate = goodplayers['Acceleration'].mean()\n",
        "GSprintSpeed = goodplayers['SprintSpeed'].mean()\n",
        "GAgility = goodplayers['Agility'].mean()\n",
        "GReactions = goodplayers['Reactions'].mean()\n",
        "GBalance = goodplayers['Balance'].mean()\n",
        "GJumping = goodplayers['Jumping'].mean()\n",
        "GStamina = goodplayers['Stamina'].mean()\n",
        "GStrength = goodplayers['Strength'].mean()\n",
        "\n",
        "print(\"Acceleration: \", GAccelerate)\n",
        "print(\"SprintSpeed: \", GSprintSpeed)\n",
        "print(\"Agility: \", GAgility)\n",
        "print(\"Reactions: \", GReactions)\n",
        "print(\"Balance: \", GBalance)\n",
        "print(\"Jumping: \", GJumping)\n",
        "print(\"Stamina: \", GStamina)\n",
        "print(\"Strength: \", GStrength)"
      ],
      "execution_count": null,
      "outputs": [
        {
          "output_type": "stream",
          "text": [
            "Acceleration:  70.25138632162661\n",
            "SprintSpeed:  70.62292051756008\n",
            "Agility:  70.44177449168207\n",
            "Reactions:  80.13308687615528\n",
            "Balance:  67.3826247689464\n",
            "Jumping:  69.99260628465804\n",
            "Stamina:  72.05914972273567\n",
            "Strength:  71.21996303142329\n"
          ],
          "name": "stdout"
        }
      ]
    },
    {
      "cell_type": "code",
      "metadata": {
        "id": "xN0sAmfzgf74",
        "colab": {
          "base_uri": "https://localhost:8080/",
          "height": 573
        },
        "outputId": "d46e2a7c-1869-4a49-83f6-94df7030ff93"
      },
      "source": [
        "#Comparison of great-player to good-player\n",
        "\n",
        "%matplotlib inline\n",
        "import matplotlib.pyplot as plt; plt.rcdefaults()\n",
        "import numpy as np\n",
        "import seaborn as sns\n",
        "\n",
        "sns.pairplot(q4df, hue=\"Attribute\");"
      ],
      "execution_count": null,
      "outputs": [
        {
          "output_type": "stream",
          "text": [
            "/usr/local/lib/python3.6/dist-packages/numpy/core/_methods.py:140: RuntimeWarning: Degrees of freedom <= 0 for slice\n",
            "  keepdims=keepdims)\n",
            "/usr/local/lib/python3.6/dist-packages/numpy/core/_methods.py:132: RuntimeWarning: invalid value encountered in double_scalars\n",
            "  ret = ret.dtype.type(ret / rcount)\n"
          ],
          "name": "stderr"
        },
        {
          "output_type": "display_data",
          "data": {
            "image/png": "[encoded data removed]",
            "text/plain": [
              "<Figure size 639.375x500 with 6 Axes>"
            ]
          },
          "metadata": {
            "tags": []
          }
        }
      ]
    }
  ]
}