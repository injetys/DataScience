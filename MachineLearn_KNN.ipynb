{
  "nbformat": 4,
  "nbformat_minor": 0,
  "metadata": {
    "colab": {
      "name": "MachineLearn_KNN.ipynb",
      "provenance": [],
      "collapsed_sections": []
    },
    "kernelspec": {
      "display_name": "Python 3",
      "language": "python",
      "name": "python3"
    }
  },
  "cells": [
    {
      "cell_type": "markdown",
      "metadata": {
        "id": "OlHEfOkVUbtY"
      },
      "source": [
        "# Machine Learning & K-Nearest Neighbors\n",
        "\n",
        "K-Nearest Neighbors is a **supervised learning** method that predicts the category of a new sample based on the most common category of its neighbors.  The number of nearest neighbors considered is given the label K.\n",
        "\n",
        "The examples in today's notebook are drawn from a couple of examples: [1](https://github.com/justmarkham/DAT8/blob/master/notebooks/08_knn_sklearn.ipynb) and [2](https://github.com/shoaibb/K-Nearest-Neighbors/blob/master/K-Nearest%20Neighbors.ipynb)"
      ]
    },
    {
      "cell_type": "markdown",
      "metadata": {
        "id": "EygppSsBUbtb"
      },
      "source": [
        "We will be working with the iris data, trying to predict the species of new individual irises based on their measurements.\n",
        "\n",
        "<img src='https://s3.amazonaws.com/assets.datacamp.com/blog_assets/Machine+Learning+R/iris-machinelearning.png' width=600>\n",
        "\n",
        "<img src='https://i0.wp.com/blog.kaggle.com/wp-content/uploads/2015/04/iris_petal_sepal.png' width=300>\n",
        "\n"
      ]
    },
    {
      "cell_type": "code",
      "metadata": {
        "id": "fTBxDSd_Ubtd"
      },
      "source": [
        "# read the iris data into a DataFrame\n",
        "import pandas as pd\n",
        "url = 'http://archive.ics.uci.edu/ml/machine-learning-databases/iris/iris.data'\n",
        "col_names = ['sepal_length', 'sepal_width', 'petal_length', 'petal_width', 'species']\n",
        "iris = pd.read_csv(url, header=None, names=col_names)"
      ],
      "execution_count": null,
      "outputs": []
    },
    {
      "cell_type": "code",
      "metadata": {
        "id": "bJRYVgdQUbtj",
        "colab": {
          "base_uri": "https://localhost:8080/",
          "height": 204
        },
        "outputId": "38c3f63a-5bd2-43a3-88bb-a4b4de33dbbf"
      },
      "source": [
        "iris.head()"
      ],
      "execution_count": null,
      "outputs": [
        {
          "output_type": "execute_result",
          "data": {
            "text/html": [
              "<div>\n",
              "<style scoped>\n",
              "    .dataframe tbody tr th:only-of-type {\n",
              "        vertical-align: middle;\n",
              "    }\n",
              "\n",
              "    .dataframe tbody tr th {\n",
              "        vertical-align: top;\n",
              "    }\n",
              "\n",
              "    .dataframe thead th {\n",
              "        text-align: right;\n",
              "    }\n",
              "</style>\n",
              "<table border=\"1\" class=\"dataframe\">\n",
              "  <thead>\n",
              "    <tr style=\"text-align: right;\">\n",
              "      <th></th>\n",
              "      <th>sepal_length</th>\n",
              "      <th>sepal_width</th>\n",
              "      <th>petal_length</th>\n",
              "      <th>petal_width</th>\n",
              "      <th>species</th>\n",
              "    </tr>\n",
              "  </thead>\n",
              "  <tbody>\n",
              "    <tr>\n",
              "      <th>0</th>\n",
              "      <td>5.1</td>\n",
              "      <td>3.5</td>\n",
              "      <td>1.4</td>\n",
              "      <td>0.2</td>\n",
              "      <td>Iris-setosa</td>\n",
              "    </tr>\n",
              "    <tr>\n",
              "      <th>1</th>\n",
              "      <td>4.9</td>\n",
              "      <td>3.0</td>\n",
              "      <td>1.4</td>\n",
              "      <td>0.2</td>\n",
              "      <td>Iris-setosa</td>\n",
              "    </tr>\n",
              "    <tr>\n",
              "      <th>2</th>\n",
              "      <td>4.7</td>\n",
              "      <td>3.2</td>\n",
              "      <td>1.3</td>\n",
              "      <td>0.2</td>\n",
              "      <td>Iris-setosa</td>\n",
              "    </tr>\n",
              "    <tr>\n",
              "      <th>3</th>\n",
              "      <td>4.6</td>\n",
              "      <td>3.1</td>\n",
              "      <td>1.5</td>\n",
              "      <td>0.2</td>\n",
              "      <td>Iris-setosa</td>\n",
              "    </tr>\n",
              "    <tr>\n",
              "      <th>4</th>\n",
              "      <td>5.0</td>\n",
              "      <td>3.6</td>\n",
              "      <td>1.4</td>\n",
              "      <td>0.2</td>\n",
              "      <td>Iris-setosa</td>\n",
              "    </tr>\n",
              "  </tbody>\n",
              "</table>\n",
              "</div>"
            ],
            "text/plain": [
              "   sepal_length  sepal_width  petal_length  petal_width      species\n",
              "0           5.1          3.5           1.4          0.2  Iris-setosa\n",
              "1           4.9          3.0           1.4          0.2  Iris-setosa\n",
              "2           4.7          3.2           1.3          0.2  Iris-setosa\n",
              "3           4.6          3.1           1.5          0.2  Iris-setosa\n",
              "4           5.0          3.6           1.4          0.2  Iris-setosa"
            ]
          },
          "metadata": {
            "tags": []
          },
          "execution_count": 2
        }
      ]
    },
    {
      "cell_type": "markdown",
      "metadata": {
        "id": "Ib3sq2XlUbtp"
      },
      "source": [
        "### Terminology\n",
        "* **150 observations** (n=150): each observation is one iris flower\n",
        "* **4 features** (p=4): sepal length, sepal width, petal length, and petal width\n",
        "* **Response:** iris species\n",
        "* **Classification problem** since response is categorical\n",
        "\n",
        "Next, let's make some scatter plots of our features so that we can see how they are related to the response.\n",
        "\n",
        "First, some plotting setup."
      ]
    },
    {
      "cell_type": "code",
      "metadata": {
        "id": "L2iYV9qiUbtr"
      },
      "source": [
        "# allow plots to appear in the notebook\n",
        "%matplotlib inline\n",
        "import matplotlib.pyplot as plt\n",
        "\n",
        "# increase default figure and font sizes for easier viewing\n",
        "plt.rcParams['figure.figsize'] = (6, 4)\n",
        "plt.rcParams['font.size'] = 14\n",
        "\n",
        "# create a custom colormap\n",
        "from matplotlib.colors import ListedColormap\n",
        "cmap_bold = ListedColormap(['#FF0000', '#00FF00', '#0000FF'])"
      ],
      "execution_count": null,
      "outputs": []
    },
    {
      "cell_type": "markdown",
      "metadata": {
        "id": "989NRMPhUbtw"
      },
      "source": [
        "Next, we will create a new column in our DataFrame called `species_num` that will be the result of mapping the `species` string to a number."
      ]
    },
    {
      "cell_type": "code",
      "metadata": {
        "id": "XJXpvVjjUbty"
      },
      "source": [
        "# map each iris species to a number\n",
        "iris['species_num'] = iris.species.map({'Iris-setosa':0, 'Iris-versicolor':1, 'Iris-virginica':2})"
      ],
      "execution_count": null,
      "outputs": []
    },
    {
      "cell_type": "code",
      "metadata": {
        "id": "p4s8sNZAUbt5",
        "colab": {
          "base_uri": "https://localhost:8080/",
          "height": 204
        },
        "outputId": "271a3c24-e076-46bf-d864-8adc82725e40"
      },
      "source": [
        "iris.head()"
      ],
      "execution_count": null,
      "outputs": [
        {
          "output_type": "execute_result",
          "data": {
            "text/html": [
              "<div>\n",
              "<style scoped>\n",
              "    .dataframe tbody tr th:only-of-type {\n",
              "        vertical-align: middle;\n",
              "    }\n",
              "\n",
              "    .dataframe tbody tr th {\n",
              "        vertical-align: top;\n",
              "    }\n",
              "\n",
              "    .dataframe thead th {\n",
              "        text-align: right;\n",
              "    }\n",
              "</style>\n",
              "<table border=\"1\" class=\"dataframe\">\n",
              "  <thead>\n",
              "    <tr style=\"text-align: right;\">\n",
              "      <th></th>\n",
              "      <th>sepal_length</th>\n",
              "      <th>sepal_width</th>\n",
              "      <th>petal_length</th>\n",
              "      <th>petal_width</th>\n",
              "      <th>species</th>\n",
              "      <th>species_num</th>\n",
              "    </tr>\n",
              "  </thead>\n",
              "  <tbody>\n",
              "    <tr>\n",
              "      <th>0</th>\n",
              "      <td>5.1</td>\n",
              "      <td>3.5</td>\n",
              "      <td>1.4</td>\n",
              "      <td>0.2</td>\n",
              "      <td>Iris-setosa</td>\n",
              "      <td>0</td>\n",
              "    </tr>\n",
              "    <tr>\n",
              "      <th>1</th>\n",
              "      <td>4.9</td>\n",
              "      <td>3.0</td>\n",
              "      <td>1.4</td>\n",
              "      <td>0.2</td>\n",
              "      <td>Iris-setosa</td>\n",
              "      <td>0</td>\n",
              "    </tr>\n",
              "    <tr>\n",
              "      <th>2</th>\n",
              "      <td>4.7</td>\n",
              "      <td>3.2</td>\n",
              "      <td>1.3</td>\n",
              "      <td>0.2</td>\n",
              "      <td>Iris-setosa</td>\n",
              "      <td>0</td>\n",
              "    </tr>\n",
              "    <tr>\n",
              "      <th>3</th>\n",
              "      <td>4.6</td>\n",
              "      <td>3.1</td>\n",
              "      <td>1.5</td>\n",
              "      <td>0.2</td>\n",
              "      <td>Iris-setosa</td>\n",
              "      <td>0</td>\n",
              "    </tr>\n",
              "    <tr>\n",
              "      <th>4</th>\n",
              "      <td>5.0</td>\n",
              "      <td>3.6</td>\n",
              "      <td>1.4</td>\n",
              "      <td>0.2</td>\n",
              "      <td>Iris-setosa</td>\n",
              "      <td>0</td>\n",
              "    </tr>\n",
              "  </tbody>\n",
              "</table>\n",
              "</div>"
            ],
            "text/plain": [
              "   sepal_length  sepal_width  petal_length  petal_width      species  \\\n",
              "0           5.1          3.5           1.4          0.2  Iris-setosa   \n",
              "1           4.9          3.0           1.4          0.2  Iris-setosa   \n",
              "2           4.7          3.2           1.3          0.2  Iris-setosa   \n",
              "3           4.6          3.1           1.5          0.2  Iris-setosa   \n",
              "4           5.0          3.6           1.4          0.2  Iris-setosa   \n",
              "\n",
              "   species_num  \n",
              "0            0  \n",
              "1            0  \n",
              "2            0  \n",
              "3            0  \n",
              "4            0  "
            ]
          },
          "metadata": {
            "tags": []
          },
          "execution_count": 5
        }
      ]
    },
    {
      "cell_type": "markdown",
      "metadata": {
        "id": "cUjU-e1wUbuC"
      },
      "source": [
        "Now for the plotting."
      ]
    },
    {
      "cell_type": "code",
      "metadata": {
        "id": "U-usSuSRUbuE",
        "colab": {
          "base_uri": "https://localhost:8080/",
          "height": 279
        },
        "outputId": "8b491890-049d-483b-df70-22baeadc93a9"
      },
      "source": [
        "# create a scatter plot of PETAL LENGTH versus PETAL WIDTH and color by SPECIES\n",
        "fig, ax = plt.subplots()\n",
        "iris.plot(kind='scatter', x='petal_length', y='petal_width', c='species_num', colormap=cmap_bold, ax=ax)\n",
        "ax.set_xlabel('Petal Length')\n",
        "ax.set_ylabel('Petal Width')\n",
        "\n",
        "f = plt.gcf()\n",
        "colorbar = f.get_axes()[1]\n",
        "colorbar.get_yaxis().set_ticks([])\n",
        "for j, lab in enumerate(['$0$','$1$','$2$']):\n",
        "    colorbar.text(3.0, (2 * j + 1) / 3.0, lab, ha='left', va='center')\n",
        "colorbar.get_yaxis().labelpad = 25\n",
        "colorbar.set_ylabel('Species Number', rotation=270);"
      ],
      "execution_count": null,
      "outputs": [
        {
          "output_type": "display_data",
          "data": {
            "image/png": "[encoded data removed]",
            "text/plain": [
              "<Figure size 432x288 with 2 Axes>"
            ]
          },
          "metadata": {
            "tags": []
          }
        }
      ]
    },
    {
      "cell_type": "code",
      "metadata": {
        "id": "3IDtuKawUbuI",
        "colab": {
          "base_uri": "https://localhost:8080/",
          "height": 281
        },
        "outputId": "6aaa9829-9002-4a4d-eadb-4180d807969a"
      },
      "source": [
        "# create a scatter plot of SEPAL LENGTH versus SEPAL WIDTH and color by SPECIES\n",
        "fig, ax = plt.subplots()\n",
        "iris.plot(kind='scatter', x='sepal_length', y='sepal_width', c='species_num', colormap=cmap_bold, ax=ax)\n",
        "ax.set_xlabel('Sepal Length')\n",
        "ax.set_ylabel('Sepal Width')\n",
        "\n",
        "f = plt.gcf()\n",
        "colorbar = f.get_axes()[1]\n",
        "colorbar.get_yaxis().set_ticks([])\n",
        "for j, lab in enumerate(['$0$','$1$','$2$']):\n",
        "    colorbar.text(3.0, (2 * j + 1) / 3.0, lab, ha='left', va='center')\n",
        "colorbar.get_yaxis().labelpad = 25\n",
        "colorbar.set_ylabel('Species Number', rotation=270);"
      ],
      "execution_count": null,
      "outputs": [
        {
          "output_type": "display_data",
          "data": {
            "image/png": "[encoded data removed]",
            "text/plain": [
              "<Figure size 432x288 with 2 Axes>"
            ]
          },
          "metadata": {
            "tags": []
          }
        }
      ]
    },
    {
      "cell_type": "markdown",
      "metadata": {
        "id": "23EUKVUJUbuM"
      },
      "source": [
        "## Scikit-learn\n",
        "\n",
        "We will be using the K-nearest neighbors sorting algorithm provided by `scikit-learn`, a machine learning module.  Scikit-learn's default measure of distance is Euclidean distance, although other distance measures can be selected.\n",
        "\n",
        "\n",
        "### Requirements for working with data in scikit-learn\n",
        "Features and response should be separate objects\n",
        "Features and response should be entirely numeric\n",
        "Features and response should be NumPy arrays (or easily converted to NumPy arrays)\n",
        "Features and response should have specific shapes (outlined below)\n",
        "\n",
        "Let's look again at our data."
      ]
    },
    {
      "cell_type": "code",
      "metadata": {
        "id": "2vBZdSTHUbuN",
        "colab": {
          "base_uri": "https://localhost:8080/",
          "height": 204
        },
        "outputId": "9d297aff-d87c-4dc4-ea21-b1386ef639e3"
      },
      "source": [
        "iris.head()"
      ],
      "execution_count": null,
      "outputs": [
        {
          "output_type": "execute_result",
          "data": {
            "text/html": [
              "<div>\n",
              "<style scoped>\n",
              "    .dataframe tbody tr th:only-of-type {\n",
              "        vertical-align: middle;\n",
              "    }\n",
              "\n",
              "    .dataframe tbody tr th {\n",
              "        vertical-align: top;\n",
              "    }\n",
              "\n",
              "    .dataframe thead th {\n",
              "        text-align: right;\n",
              "    }\n",
              "</style>\n",
              "<table border=\"1\" class=\"dataframe\">\n",
              "  <thead>\n",
              "    <tr style=\"text-align: right;\">\n",
              "      <th></th>\n",
              "      <th>sepal_length</th>\n",
              "      <th>sepal_width</th>\n",
              "      <th>petal_length</th>\n",
              "      <th>petal_width</th>\n",
              "      <th>species</th>\n",
              "      <th>species_num</th>\n",
              "    </tr>\n",
              "  </thead>\n",
              "  <tbody>\n",
              "    <tr>\n",
              "      <th>0</th>\n",
              "      <td>5.1</td>\n",
              "      <td>3.5</td>\n",
              "      <td>1.4</td>\n",
              "      <td>0.2</td>\n",
              "      <td>Iris-setosa</td>\n",
              "      <td>0</td>\n",
              "    </tr>\n",
              "    <tr>\n",
              "      <th>1</th>\n",
              "      <td>4.9</td>\n",
              "      <td>3.0</td>\n",
              "      <td>1.4</td>\n",
              "      <td>0.2</td>\n",
              "      <td>Iris-setosa</td>\n",
              "      <td>0</td>\n",
              "    </tr>\n",
              "    <tr>\n",
              "      <th>2</th>\n",
              "      <td>4.7</td>\n",
              "      <td>3.2</td>\n",
              "      <td>1.3</td>\n",
              "      <td>0.2</td>\n",
              "      <td>Iris-setosa</td>\n",
              "      <td>0</td>\n",
              "    </tr>\n",
              "    <tr>\n",
              "      <th>3</th>\n",
              "      <td>4.6</td>\n",
              "      <td>3.1</td>\n",
              "      <td>1.5</td>\n",
              "      <td>0.2</td>\n",
              "      <td>Iris-setosa</td>\n",
              "      <td>0</td>\n",
              "    </tr>\n",
              "    <tr>\n",
              "      <th>4</th>\n",
              "      <td>5.0</td>\n",
              "      <td>3.6</td>\n",
              "      <td>1.4</td>\n",
              "      <td>0.2</td>\n",
              "      <td>Iris-setosa</td>\n",
              "      <td>0</td>\n",
              "    </tr>\n",
              "  </tbody>\n",
              "</table>\n",
              "</div>"
            ],
            "text/plain": [
              "   sepal_length  sepal_width  petal_length  petal_width      species  \\\n",
              "0           5.1          3.5           1.4          0.2  Iris-setosa   \n",
              "1           4.9          3.0           1.4          0.2  Iris-setosa   \n",
              "2           4.7          3.2           1.3          0.2  Iris-setosa   \n",
              "3           4.6          3.1           1.5          0.2  Iris-setosa   \n",
              "4           5.0          3.6           1.4          0.2  Iris-setosa   \n",
              "\n",
              "   species_num  \n",
              "0            0  \n",
              "1            0  \n",
              "2            0  \n",
              "3            0  \n",
              "4            0  "
            ]
          },
          "metadata": {
            "tags": []
          },
          "execution_count": 8
        }
      ]
    },
    {
      "cell_type": "markdown",
      "metadata": {
        "id": "0ctPz1oWUbuQ"
      },
      "source": [
        "We will next want to pick out the feature columns of our data and store them together in a matrix."
      ]
    },
    {
      "cell_type": "code",
      "metadata": {
        "id": "utma4WLvUbuR"
      },
      "source": [
        "# store feature matrix in \"X\"\n",
        "feature_cols = ['sepal_length', 'sepal_width', 'petal_length', 'petal_width']\n",
        "X = iris[feature_cols]"
      ],
      "execution_count": null,
      "outputs": []
    },
    {
      "cell_type": "markdown",
      "metadata": {
        "id": "S9j2oUSkUbuU"
      },
      "source": [
        "Next, we will store the `species_num` data as a vector."
      ]
    },
    {
      "cell_type": "code",
      "metadata": {
        "id": "FtRC-_iIUbuV"
      },
      "source": [
        "# store response vector in \"y\"\n",
        "y = iris.species_num"
      ],
      "execution_count": null,
      "outputs": []
    },
    {
      "cell_type": "code",
      "metadata": {
        "id": "tU5ipeMlUbuY",
        "colab": {
          "base_uri": "https://localhost:8080/",
          "height": 51
        },
        "outputId": "180f1e54-2bc8-421f-ef40-f4fc5529c071"
      },
      "source": [
        "# check X's type\n",
        "print(type(X))\n",
        "print(type(X.values))"
      ],
      "execution_count": null,
      "outputs": [
        {
          "output_type": "stream",
          "text": [
            "<class 'pandas.core.frame.DataFrame'>\n",
            "<class 'numpy.ndarray'>\n"
          ],
          "name": "stdout"
        }
      ]
    },
    {
      "cell_type": "code",
      "metadata": {
        "id": "zI1rdPEZUbua",
        "colab": {
          "base_uri": "https://localhost:8080/",
          "height": 51
        },
        "outputId": "189ba991-f598-48b3-bcdc-9e13c5141230"
      },
      "source": [
        "# check y's type\n",
        "print(type(y))\n",
        "print(type(y.values))"
      ],
      "execution_count": null,
      "outputs": [
        {
          "output_type": "stream",
          "text": [
            "<class 'pandas.core.series.Series'>\n",
            "<class 'numpy.ndarray'>\n"
          ],
          "name": "stdout"
        }
      ]
    },
    {
      "cell_type": "code",
      "metadata": {
        "id": "XjwcjwfLUbud",
        "colab": {
          "base_uri": "https://localhost:8080/",
          "height": 34
        },
        "outputId": "015b3237-bae0-4507-fe5c-885b176db70d"
      },
      "source": [
        "# check X's shape (n = number of observations, p = number of features)\n",
        "print(X.shape)"
      ],
      "execution_count": null,
      "outputs": [
        {
          "output_type": "stream",
          "text": [
            "(150, 4)\n"
          ],
          "name": "stdout"
        }
      ]
    },
    {
      "cell_type": "code",
      "metadata": {
        "id": "oTGhcwcxUbuf",
        "colab": {
          "base_uri": "https://localhost:8080/",
          "height": 34
        },
        "outputId": "5e650e67-1228-4e07-8a3b-706997c50fb9"
      },
      "source": [
        "# check y's shape (single dimension with length n)\n",
        "print(y.shape)"
      ],
      "execution_count": null,
      "outputs": [
        {
          "output_type": "stream",
          "text": [
            "(150,)\n"
          ],
          "name": "stdout"
        }
      ]
    },
    {
      "cell_type": "markdown",
      "metadata": {
        "id": "nOzHSqSTUbuh"
      },
      "source": [
        "### scikit-learn's 4-step modeling pattern\n",
        "**Step 1:** Import the class you plan to use"
      ]
    },
    {
      "cell_type": "code",
      "metadata": {
        "id": "ZGG9nxxLUbuj"
      },
      "source": [
        "from sklearn.neighbors import KNeighborsClassifier"
      ],
      "execution_count": null,
      "outputs": []
    },
    {
      "cell_type": "markdown",
      "metadata": {
        "id": "Dnss3k6FUbul"
      },
      "source": [
        "**Step 2:** \"Instantiate\" the \"estimator\"\n",
        "\n",
        "- \"Estimator\" is scikit-learn's term for \"model\"\n",
        "- \"Instantiate\" means \"make an instance of\""
      ]
    },
    {
      "cell_type": "code",
      "metadata": {
        "id": "SZiTXI93Ubum",
        "colab": {
          "base_uri": "https://localhost:8080/",
          "height": 34
        },
        "outputId": "39853279-bf68-4cba-ab9b-4978c561b0b8"
      },
      "source": [
        "# make an instance of a KNeighborsClassifier object\n",
        "knn = KNeighborsClassifier(n_neighbors=1) # only look at 1 nearest neighbor\n",
        "type(knn)"
      ],
      "execution_count": null,
      "outputs": [
        {
          "output_type": "execute_result",
          "data": {
            "text/plain": [
              "sklearn.neighbors.classification.KNeighborsClassifier"
            ]
          },
          "metadata": {
            "tags": []
          },
          "execution_count": 16
        }
      ]
    },
    {
      "cell_type": "markdown",
      "metadata": {
        "id": "eEcbEqEHUbur"
      },
      "source": [
        "- We just created an object that \"knows\" how to do K-nearest neighbors classification, and is just waiting for data\n",
        "- Name of the object does not matter\n",
        "- Can specify tuning parameters (aka \"hyperparameters\") during this step\n",
        "- All parameters not specified are set to their defaults"
      ]
    },
    {
      "cell_type": "code",
      "metadata": {
        "id": "UuCXxV9PUbur",
        "colab": {
          "base_uri": "https://localhost:8080/",
          "height": 68
        },
        "outputId": "100a59e9-f970-4c37-e233-9ba0277991f2"
      },
      "source": [
        "print(knn)"
      ],
      "execution_count": null,
      "outputs": [
        {
          "output_type": "stream",
          "text": [
            "KNeighborsClassifier(algorithm='auto', leaf_size=30, metric='minkowski',\n",
            "           metric_params=None, n_jobs=None, n_neighbors=1, p=2,\n",
            "           weights='uniform')\n"
          ],
          "name": "stdout"
        }
      ]
    },
    {
      "cell_type": "markdown",
      "metadata": {
        "id": "2trKmCBjUbuu"
      },
      "source": [
        "**Step 3:** Fit the model with data (aka \"model training\")\n",
        "\n",
        "- Model is \"learning\" the relationship between X and y in our \"training data\"\n",
        "- Process through which learning occurs varies by model\n",
        "- Occurs in-place (replaces the previous object)"
      ]
    },
    {
      "cell_type": "code",
      "metadata": {
        "id": "wZkzVyi0Ubuu",
        "colab": {
          "base_uri": "https://localhost:8080/",
          "height": 68
        },
        "outputId": "06048fef-0766-4e4c-e666-158abef8a0d3"
      },
      "source": [
        "knn.fit(X, y)"
      ],
      "execution_count": null,
      "outputs": [
        {
          "output_type": "execute_result",
          "data": {
            "text/plain": [
              "KNeighborsClassifier(algorithm='auto', leaf_size=30, metric='minkowski',\n",
              "           metric_params=None, n_jobs=None, n_neighbors=1, p=2,\n",
              "           weights='uniform')"
            ]
          },
          "metadata": {
            "tags": []
          },
          "execution_count": 18
        }
      ]
    },
    {
      "cell_type": "markdown",
      "metadata": {
        "id": "VARLV5BWUbux"
      },
      "source": [
        "- Once a model has been fit with data, it's called a \"fitted model\""
      ]
    },
    {
      "cell_type": "markdown",
      "metadata": {
        "id": "thHay1KhUbuy"
      },
      "source": [
        "**Step 4:** Predict the response for a new observation\n",
        "\n",
        "- New observations are called \"out-of-sample\" data\n",
        "- Uses the information it learned during the model training process"
      ]
    },
    {
      "cell_type": "code",
      "metadata": {
        "id": "5WjLq76SUbuz",
        "colab": {
          "base_uri": "https://localhost:8080/",
          "height": 34
        },
        "outputId": "c45c797a-84fb-47d7-f33e-b0015076cd41"
      },
      "source": [
        "print(knn.predict([[3, 5, 4, 2]]))"
      ],
      "execution_count": null,
      "outputs": [
        {
          "output_type": "stream",
          "text": [
            "[2]\n"
          ],
          "name": "stdout"
        }
      ]
    },
    {
      "cell_type": "markdown",
      "metadata": {
        "id": "2mEOhkJuUbu2"
      },
      "source": [
        "- Returns a NumPy array, and we keep track of what the numbers \"mean\"\n",
        "\n",
        "We got a species number of 2, which means that K-Nearest neigbors is predicting that our sample is an Iris-virginica.  Look at the scatter plots above.  Does this make sense?\n",
        "\n",
        "- Can predict for multiple observations at once"
      ]
    },
    {
      "cell_type": "code",
      "metadata": {
        "id": "abLq8JfDUbu3",
        "colab": {
          "base_uri": "https://localhost:8080/",
          "height": 34
        },
        "outputId": "1e5e5116-7329-41de-f8de-872e5cea307b"
      },
      "source": [
        "X_new = [[3, 5, 4, 2], [5, 4, 3, 2]]\n",
        "print(knn.predict(X_new))"
      ],
      "execution_count": null,
      "outputs": [
        {
          "output_type": "stream",
          "text": [
            "[2 1]\n"
          ],
          "name": "stdout"
        }
      ]
    },
    {
      "cell_type": "markdown",
      "metadata": {
        "id": "VQEA6LioUbu6"
      },
      "source": [
        "We can calculate the probabilities for our samples belonging to the different iris classes:"
      ]
    },
    {
      "cell_type": "code",
      "metadata": {
        "id": "Qq9VGZNUUbu7",
        "colab": {
          "base_uri": "https://localhost:8080/",
          "height": 51
        },
        "outputId": "eb5d69fd-bb73-4975-cdb6-306caf72b9f6"
      },
      "source": [
        "# calculate predicted probabilities of class membership\n",
        "knn.predict_proba(X_new)"
      ],
      "execution_count": null,
      "outputs": [
        {
          "output_type": "execute_result",
          "data": {
            "text/plain": [
              "array([[0., 0., 1.],\n",
              "       [0., 1., 0.]])"
            ]
          },
          "metadata": {
            "tags": []
          },
          "execution_count": 21
        }
      ]
    },
    {
      "cell_type": "code",
      "metadata": {
        "id": "WvMvUxWpUbu9"
      },
      "source": [
        "# Task 1: Suppose you find an iris with measurements [5, 3, 2, 0.5]\n",
        "# look at the scatter plots above.  What is your prediction for the species\n",
        "# of this sample based on a visual inspection of the scatter plots\n",
        "# Type your answer in this cell as a comment.\n",
        "\n",
        "\n",
        "#Species 0"
      ],
      "execution_count": null,
      "outputs": []
    },
    {
      "cell_type": "code",
      "metadata": {
        "id": "qFZ4WYPUUbu_",
        "colab": {
          "base_uri": "https://localhost:8080/",
          "height": 34
        },
        "outputId": "281116dc-7066-4d80-cacf-4fc3e9e7c6a3"
      },
      "source": [
        "# Task 2: Calculate and print the K-nearest neigbors prediction for\n",
        "# the sample above. Which species is your iris closest to?\n",
        "\n",
        "print(knn.predict([[5, 3, 2, 0.5]]))"
      ],
      "execution_count": null,
      "outputs": [
        {
          "output_type": "stream",
          "text": [
            "[0]\n"
          ],
          "name": "stdout"
        }
      ]
    },
    {
      "cell_type": "markdown",
      "metadata": {
        "id": "sCmRlr0_UbvB"
      },
      "source": [
        "## Evaluating Perfomance\n",
        "\n",
        "How well did our K-nearest classifier do?  We don't know at this point!  We asked it to classify some unknown samples but since we don't know what species those samples should be, we cannot see if we got the right answer.  We need samples that we do know the species of to test how well our classifier does.\n",
        "\n",
        "Often we are not able to collect a second data set.  Standard practice is then to split our data into a training set and an evaluation set.  We train the classifier using the training set and then test on the evaluation set."
      ]
    },
    {
      "cell_type": "markdown",
      "metadata": {
        "id": "p13CfqKoUbvC"
      },
      "source": [
        "### Train Test Split\n",
        "Use `train_test_split` to split your data into a training set and a testing set."
      ]
    },
    {
      "cell_type": "code",
      "metadata": {
        "id": "swmAkwg2UbvD"
      },
      "source": [
        "from sklearn.model_selection import train_test_split"
      ],
      "execution_count": null,
      "outputs": []
    },
    {
      "cell_type": "code",
      "metadata": {
        "id": "4etsAJnFUbvF"
      },
      "source": [
        "# test_sise=0.3 uses a third of the data for testing\n",
        "X_train, X_test, y_train, y_test = train_test_split(X, y, test_size=0.3, random_state=101)"
      ],
      "execution_count": null,
      "outputs": []
    },
    {
      "cell_type": "markdown",
      "metadata": {
        "id": "Ff1SFIioUbvI"
      },
      "source": [
        "Create a new model instance that uses 2 nearest neighbors."
      ]
    },
    {
      "cell_type": "code",
      "metadata": {
        "id": "-V6Dqo7OUbvK"
      },
      "source": [
        "knn = KNeighborsClassifier(n_neighbors = 2)"
      ],
      "execution_count": null,
      "outputs": []
    },
    {
      "cell_type": "markdown",
      "metadata": {
        "id": "d5bwhtfqUbvN"
      },
      "source": [
        "Fit this KNN model to the training data."
      ]
    },
    {
      "cell_type": "code",
      "metadata": {
        "id": "xSHC2qu_UbvO",
        "colab": {
          "base_uri": "https://localhost:8080/",
          "height": 68
        },
        "outputId": "2960ac0e-bc19-4187-eeda-e56250d1ebc9"
      },
      "source": [
        "knn.fit(X_train, y_train)"
      ],
      "execution_count": null,
      "outputs": [
        {
          "output_type": "execute_result",
          "data": {
            "text/plain": [
              "KNeighborsClassifier(algorithm='auto', leaf_size=30, metric='minkowski',\n",
              "           metric_params=None, n_jobs=None, n_neighbors=2, p=2,\n",
              "           weights='uniform')"
            ]
          },
          "metadata": {
            "tags": []
          },
          "execution_count": 27
        }
      ]
    },
    {
      "cell_type": "markdown",
      "metadata": {
        "id": "xQ7PfrAXUbvU"
      },
      "source": [
        "## Predictions and Evaluations\n",
        "### Let's evaluate our KNN model!\n",
        "\n",
        "Use the predict method to predict values using your KNN model and X_test."
      ]
    },
    {
      "cell_type": "code",
      "metadata": {
        "id": "WQQsgssvUbvU"
      },
      "source": [
        "pred = knn.predict(X_test)"
      ],
      "execution_count": null,
      "outputs": []
    },
    {
      "cell_type": "markdown",
      "metadata": {
        "id": "w_8eV1P-UbvX"
      },
      "source": [
        "Create a confusion matrix and classification report."
      ]
    },
    {
      "cell_type": "code",
      "metadata": {
        "id": "Gb_3OD6EUbvY"
      },
      "source": [
        "from sklearn.metrics import classification_report, confusion_matrix"
      ],
      "execution_count": null,
      "outputs": []
    },
    {
      "cell_type": "code",
      "metadata": {
        "id": "v5ZYb8SuUbvf",
        "colab": {
          "base_uri": "https://localhost:8080/",
          "height": 68
        },
        "outputId": "9dbe9616-c30b-45a9-e227-f951280af2b3"
      },
      "source": [
        "print(confusion_matrix(y_test, pred))"
      ],
      "execution_count": null,
      "outputs": [
        {
          "output_type": "stream",
          "text": [
            "[[13  0  0]\n",
            " [ 0 20  0]\n",
            " [ 0  2 10]]\n"
          ],
          "name": "stdout"
        }
      ]
    },
    {
      "cell_type": "code",
      "metadata": {
        "id": "8NwuhTOSUbvj",
        "colab": {
          "base_uri": "https://localhost:8080/",
          "height": 187
        },
        "outputId": "24d45f45-6ba9-421f-a304-f454eba2531d"
      },
      "source": [
        "print(classification_report(y_test, pred))"
      ],
      "execution_count": null,
      "outputs": [
        {
          "output_type": "stream",
          "text": [
            "              precision    recall  f1-score   support\n",
            "\n",
            "           0       1.00      1.00      1.00        13\n",
            "           1       0.91      1.00      0.95        20\n",
            "           2       1.00      0.83      0.91        12\n",
            "\n",
            "   micro avg       0.96      0.96      0.96        45\n",
            "   macro avg       0.97      0.94      0.95        45\n",
            "weighted avg       0.96      0.96      0.95        45\n",
            "\n"
          ],
          "name": "stdout"
        }
      ]
    },
    {
      "cell_type": "markdown",
      "metadata": {
        "id": "iwz2RzlXUbvl"
      },
      "source": [
        "### Choosing a K Value\n",
        "Let's go ahead and do some testing to pick a good K Value!\n",
        "\n",
        "Create a for loop that trains various KNN models with different k values, then keep track of the error_rate for each of these models with a list. "
      ]
    },
    {
      "cell_type": "code",
      "metadata": {
        "id": "1hr2fYFTUbvm"
      },
      "source": [
        "import numpy as np\n",
        "error_rate = []\n",
        "for i in range(1,11):\n",
        "    knn = KNeighborsClassifier(n_neighbors = i)\n",
        "    knn.fit(X_train, y_train)\n",
        "    pred_i = knn.predict(X_test)\n",
        "    error_rate.append(np.mean(pred_i != y_test))"
      ],
      "execution_count": null,
      "outputs": []
    },
    {
      "cell_type": "markdown",
      "metadata": {
        "id": "02Yny3auUbvo"
      },
      "source": [
        "Now create a plot of the error rate for the different values of k."
      ]
    },
    {
      "cell_type": "code",
      "metadata": {
        "id": "rf2RBtHaUbvo",
        "colab": {
          "base_uri": "https://localhost:8080/",
          "height": 388
        },
        "outputId": "1e672b1f-067e-4bc3-f40e-b890811834ad"
      },
      "source": [
        "plt.figure(figsize=(15,6))\n",
        "plt.plot(range(1,11),error_rate,color='blue',linestyle='dashed',marker='o', markerfacecolor='red', markersize='10')\n",
        "plt.xlabel('no. of K')\n",
        "plt.ylabel('Error Rate');"
      ],
      "execution_count": null,
      "outputs": [
        {
          "output_type": "display_data",
          "data": {
            "image/png": "[encoded data removed]",
            "text/plain": [
              "<Figure size 1080x432 with 1 Axes>"
            ]
          },
          "metadata": {
            "tags": []
          }
        }
      ]
    },
    {
      "cell_type": "markdown",
      "metadata": {
        "id": "CP3QG_27Ubvq"
      },
      "source": [
        "All of the choices for k result in very low error rates.  Many choices have zero error.  If we chose different training and testing sets from our sample it is likely that different values of k would be optimal than the ones chosen above.  The iris data set is very small so the statistics we can calculate are limited."
      ]
    },
    {
      "cell_type": "code",
      "metadata": {
        "id": "qiLqrpy1Ubvq"
      },
      "source": [
        "# Task 3: Chose a value of k > 2 and create a knn model.  Train\n",
        "# the model using the X_train and y_train data.  Create a confusion\n",
        "# matrix and classification report for your model using X_test and y_test\n",
        "from sklearn.model_selection import train_test_split\n"
      ],
      "execution_count": null,
      "outputs": []
    },
    {
      "cell_type": "code",
      "metadata": {
        "id": "4VBvQj0YWJ2f"
      },
      "source": [
        "# test_sise=0.3 uses a third of the data for testing\n",
        "X_train, X_test, y_train, y_test = train_test_split(X, y, test_size=0.3, random_state=101)"
      ],
      "execution_count": null,
      "outputs": []
    },
    {
      "cell_type": "code",
      "metadata": {
        "id": "sIf3wnGEXD1x"
      },
      "source": [
        "knn1 = KNeighborsClassifier(n_neighbors = 3)"
      ],
      "execution_count": null,
      "outputs": []
    },
    {
      "cell_type": "code",
      "metadata": {
        "id": "uSvAVdqiXGib",
        "colab": {
          "base_uri": "https://localhost:8080/",
          "height": 68
        },
        "outputId": "6ba11bf0-8a40-4489-8927-e0767914c100"
      },
      "source": [
        "knn1.fit(X_train, y_train)"
      ],
      "execution_count": null,
      "outputs": [
        {
          "output_type": "execute_result",
          "data": {
            "text/plain": [
              "KNeighborsClassifier(algorithm='auto', leaf_size=30, metric='minkowski',\n",
              "           metric_params=None, n_jobs=None, n_neighbors=3, p=2,\n",
              "           weights='uniform')"
            ]
          },
          "metadata": {
            "tags": []
          },
          "execution_count": 37
        }
      ]
    },
    {
      "cell_type": "code",
      "metadata": {
        "id": "S5SE_xZ5XI5u"
      },
      "source": [
        "pred = knn1.predict(X_test)"
      ],
      "execution_count": null,
      "outputs": []
    },
    {
      "cell_type": "code",
      "metadata": {
        "id": "2kSWpWXAXMSY"
      },
      "source": [
        "from sklearn.metrics import classification_report, confusion_matrix"
      ],
      "execution_count": null,
      "outputs": []
    },
    {
      "cell_type": "code",
      "metadata": {
        "id": "KWn-hr1BXP1p",
        "colab": {
          "base_uri": "https://localhost:8080/",
          "height": 68
        },
        "outputId": "8a8939c1-ec2d-41ab-b1b5-48723136b3c3"
      },
      "source": [
        "print(confusion_matrix(y_test, pred))"
      ],
      "execution_count": null,
      "outputs": [
        {
          "output_type": "stream",
          "text": [
            "[[32  0  0]\n",
            " [ 0 32  0]\n",
            " [ 0  5 21]]\n"
          ],
          "name": "stdout"
        }
      ]
    },
    {
      "cell_type": "code",
      "metadata": {
        "id": "962bthrYXTA3",
        "colab": {
          "base_uri": "https://localhost:8080/",
          "height": 187
        },
        "outputId": "62983906-dc88-41e9-d1be-16919e4a6b19"
      },
      "source": [
        "print(classification_report(y_test, pred))"
      ],
      "execution_count": null,
      "outputs": [
        {
          "output_type": "stream",
          "text": [
            "              precision    recall  f1-score   support\n",
            "\n",
            "           0       1.00      1.00      1.00        32\n",
            "           1       0.86      1.00      0.93        32\n",
            "           2       1.00      0.81      0.89        26\n",
            "\n",
            "   micro avg       0.94      0.94      0.94        90\n",
            "   macro avg       0.95      0.94      0.94        90\n",
            "weighted avg       0.95      0.94      0.94        90\n",
            "\n"
          ],
          "name": "stdout"
        }
      ]
    },
    {
      "cell_type": "code",
      "metadata": {
        "id": "bTJH-abQXWia"
      },
      "source": [
        "import numpy as np\n",
        "error_rate = []\n",
        "for i in range(1,11):\n",
        "    knn = KNeighborsClassifier(n_neighbors = i)\n",
        "    knn.fit(X_train, y_train)\n",
        "    pred_i = knn.predict(X_test)\n",
        "    error_rate.append(np.mean(pred_i != y_test))"
      ],
      "execution_count": null,
      "outputs": []
    },
    {
      "cell_type": "code",
      "metadata": {
        "id": "pPgzR5eQXZJE",
        "colab": {
          "base_uri": "https://localhost:8080/",
          "height": 388
        },
        "outputId": "deb3e1a4-fcc4-4b1d-a72d-6cac23a8bf75"
      },
      "source": [
        "plt.figure(figsize=(15,6))\n",
        "plt.plot(range(1,11),error_rate,color='blue',linestyle='dashed',marker='o', markerfacecolor='red', markersize='10')\n",
        "plt.xlabel('no. of K')\n",
        "plt.ylabel('Error Rate');"
      ],
      "execution_count": null,
      "outputs": [
        {
          "output_type": "display_data",
          "data": {
            "image/png": "[encoded data removed]",
            "text/plain": [
              "<Figure size 1080x432 with 1 Axes>"
            ]
          },
          "metadata": {
            "tags": []
          }
        }
      ]
    },
    {
      "cell_type": "markdown",
      "metadata": {
        "id": "UwoKq9hDUbvs"
      },
      "source": [
        "## Breast Cancer Data\n",
        "\n",
        "Now, we will look at a bigger data set.  The Wisconsin Breast Cancer data set was collected by physicians at the University of Wisconsin.  It contains information on suspicous breast tissue lumps that were removed for biopsy.  The features of the data set are described in the table below and you can learn more about the data set [here](https://archive.ics.uci.edu/ml/machine-learning-databases/breast-cancer-wisconsin/breast-cancer-wisconsin.names)\n",
        "\n",
        "|  # | Attribute                   |  Domain |\n",
        "|  --|: ---------------------------|:--------------|\n",
        "|   1| Sample code number          |  id number |\n",
        "|   2| Clump Thickness             |  1 - 10 |\n",
        "|   3| Uniformity of Cell Size     |  1 - 10 |\n",
        "|   4| Uniformity of Cell Shape    |  1 - 10 |\n",
        "|   5| Marginal Adhesion           |  1 - 10 |\n",
        "|   6| Single Epithelial Cell Size |  1 - 10 |\n",
        "|   7| Bare Nuclei                 |  1 - 10 |\n",
        "|   8| Bland Chromatin             |  1 - 10 |\n",
        "|   9| Normal Nucleoli             |  1 - 10 |\n",
        "|  10| Mitoses                     |  1 - 10 |\n",
        "|  11| Class:                      |  (2 for benign, 4 for malignant) |\n"
      ]
    },
    {
      "cell_type": "code",
      "metadata": {
        "id": "kGhYt-s_Ubvt"
      },
      "source": [
        "url = 'https://archive.ics.uci.edu/ml/machine-learning-databases/breast-cancer-wisconsin/breast-cancer-wisconsin.data'\n",
        "col_names = ['id_num', 'clump_thk', 'uni_size', 'uni_shape', 'adheasion', 'epith_size',\n",
        "            'bare_nuc', 'bland_chro', 'norm_nuc', 'mitosis', 'class']\n",
        "wisc_dat = pd.read_csv(url, header=None, names=col_names)"
      ],
      "execution_count": null,
      "outputs": []
    },
    {
      "cell_type": "code",
      "metadata": {
        "id": "uHpzb8KzUbvw",
        "colab": {
          "base_uri": "https://localhost:8080/",
          "height": 204
        },
        "outputId": "68a429a7-e8d3-4eab-e00b-630d9d292d02"
      },
      "source": [
        "wisc_dat.head()"
      ],
      "execution_count": null,
      "outputs": [
        {
          "output_type": "execute_result",
          "data": {
            "text/html": [
              "<div>\n",
              "<style scoped>\n",
              "    .dataframe tbody tr th:only-of-type {\n",
              "        vertical-align: middle;\n",
              "    }\n",
              "\n",
              "    .dataframe tbody tr th {\n",
              "        vertical-align: top;\n",
              "    }\n",
              "\n",
              "    .dataframe thead th {\n",
              "        text-align: right;\n",
              "    }\n",
              "</style>\n",
              "<table border=\"1\" class=\"dataframe\">\n",
              "  <thead>\n",
              "    <tr style=\"text-align: right;\">\n",
              "      <th></th>\n",
              "      <th>id_num</th>\n",
              "      <th>clump_thk</th>\n",
              "      <th>uni_size</th>\n",
              "      <th>uni_shape</th>\n",
              "      <th>adheasion</th>\n",
              "      <th>epith_size</th>\n",
              "      <th>bare_nuc</th>\n",
              "      <th>bland_chro</th>\n",
              "      <th>norm_nuc</th>\n",
              "      <th>mitosis</th>\n",
              "      <th>class</th>\n",
              "    </tr>\n",
              "  </thead>\n",
              "  <tbody>\n",
              "    <tr>\n",
              "      <th>0</th>\n",
              "      <td>1000025</td>\n",
              "      <td>5</td>\n",
              "      <td>1</td>\n",
              "      <td>1</td>\n",
              "      <td>1</td>\n",
              "      <td>2</td>\n",
              "      <td>1</td>\n",
              "      <td>3</td>\n",
              "      <td>1</td>\n",
              "      <td>1</td>\n",
              "      <td>2</td>\n",
              "    </tr>\n",
              "    <tr>\n",
              "      <th>1</th>\n",
              "      <td>1002945</td>\n",
              "      <td>5</td>\n",
              "      <td>4</td>\n",
              "      <td>4</td>\n",
              "      <td>5</td>\n",
              "      <td>7</td>\n",
              "      <td>10</td>\n",
              "      <td>3</td>\n",
              "      <td>2</td>\n",
              "      <td>1</td>\n",
              "      <td>2</td>\n",
              "    </tr>\n",
              "    <tr>\n",
              "      <th>2</th>\n",
              "      <td>1015425</td>\n",
              "      <td>3</td>\n",
              "      <td>1</td>\n",
              "      <td>1</td>\n",
              "      <td>1</td>\n",
              "      <td>2</td>\n",
              "      <td>2</td>\n",
              "      <td>3</td>\n",
              "      <td>1</td>\n",
              "      <td>1</td>\n",
              "      <td>2</td>\n",
              "    </tr>\n",
              "    <tr>\n",
              "      <th>3</th>\n",
              "      <td>1016277</td>\n",
              "      <td>6</td>\n",
              "      <td>8</td>\n",
              "      <td>8</td>\n",
              "      <td>1</td>\n",
              "      <td>3</td>\n",
              "      <td>4</td>\n",
              "      <td>3</td>\n",
              "      <td>7</td>\n",
              "      <td>1</td>\n",
              "      <td>2</td>\n",
              "    </tr>\n",
              "    <tr>\n",
              "      <th>4</th>\n",
              "      <td>1017023</td>\n",
              "      <td>4</td>\n",
              "      <td>1</td>\n",
              "      <td>1</td>\n",
              "      <td>3</td>\n",
              "      <td>2</td>\n",
              "      <td>1</td>\n",
              "      <td>3</td>\n",
              "      <td>1</td>\n",
              "      <td>1</td>\n",
              "      <td>2</td>\n",
              "    </tr>\n",
              "  </tbody>\n",
              "</table>\n",
              "</div>"
            ],
            "text/plain": [
              "    id_num  clump_thk  uni_size  uni_shape  adheasion  epith_size bare_nuc  \\\n",
              "0  1000025          5         1          1          1           2        1   \n",
              "1  1002945          5         4          4          5           7       10   \n",
              "2  1015425          3         1          1          1           2        2   \n",
              "3  1016277          6         8          8          1           3        4   \n",
              "4  1017023          4         1          1          3           2        1   \n",
              "\n",
              "   bland_chro  norm_nuc  mitosis  class  \n",
              "0           3         1        1      2  \n",
              "1           3         2        1      2  \n",
              "2           3         1        1      2  \n",
              "3           3         7        1      2  \n",
              "4           3         1        1      2  "
            ]
          },
          "metadata": {
            "tags": []
          },
          "execution_count": 45
        }
      ]
    },
    {
      "cell_type": "code",
      "metadata": {
        "id": "GqMIZUcUUbvx",
        "colab": {
          "base_uri": "https://localhost:8080/",
          "height": 34
        },
        "outputId": "cf6843ee-5c02-4177-cebb-7498623c4b91"
      },
      "source": [
        "wisc_dat.shape"
      ],
      "execution_count": null,
      "outputs": [
        {
          "output_type": "execute_result",
          "data": {
            "text/plain": [
              "(699, 11)"
            ]
          },
          "metadata": {
            "tags": []
          },
          "execution_count": 46
        }
      ]
    },
    {
      "cell_type": "code",
      "metadata": {
        "id": "-HR1wM4QUbv1",
        "colab": {
          "base_uri": "https://localhost:8080/",
          "height": 221
        },
        "outputId": "895c468d-43f6-48b2-d071-89fcb0b8548e"
      },
      "source": [
        "wisc_dat.dtypes"
      ],
      "execution_count": null,
      "outputs": [
        {
          "output_type": "execute_result",
          "data": {
            "text/plain": [
              "id_num         int64\n",
              "clump_thk      int64\n",
              "uni_size       int64\n",
              "uni_shape      int64\n",
              "adheasion      int64\n",
              "epith_size     int64\n",
              "bare_nuc      object\n",
              "bland_chro     int64\n",
              "norm_nuc       int64\n",
              "mitosis        int64\n",
              "class          int64\n",
              "dtype: object"
            ]
          },
          "metadata": {
            "tags": []
          },
          "execution_count": 47
        }
      ]
    },
    {
      "cell_type": "markdown",
      "metadata": {
        "id": "-jsuq4GUUbv5"
      },
      "source": [
        "Our data will need some cleaning.  A few of the samples have missing attributes, marked with a '?'.  We will remove these rows."
      ]
    },
    {
      "cell_type": "code",
      "metadata": {
        "id": "Ghxmri53UbwC",
        "colab": {
          "base_uri": "https://localhost:8080/",
          "height": 34
        },
        "outputId": "fbe0c4a7-6171-4f3f-f62f-45478a65083e"
      },
      "source": [
        "wisc_dat = wisc_dat.drop(wisc_dat[wisc_dat.bare_nuc == '?'].index)\n",
        "wisc_dat.bare_nuc = pd.to_numeric(wisc_dat.bare_nuc)\n",
        "\n",
        "wisc_dat.shape"
      ],
      "execution_count": null,
      "outputs": [
        {
          "output_type": "execute_result",
          "data": {
            "text/plain": [
              "(683, 11)"
            ]
          },
          "metadata": {
            "tags": []
          },
          "execution_count": 48
        }
      ]
    },
    {
      "cell_type": "code",
      "metadata": {
        "id": "N8kEogGqUbwF",
        "colab": {
          "base_uri": "https://localhost:8080/",
          "height": 221
        },
        "outputId": "867c3a1b-3b39-4ab6-f687-e308b2a999dd"
      },
      "source": [
        "wisc_dat.dtypes"
      ],
      "execution_count": null,
      "outputs": [
        {
          "output_type": "execute_result",
          "data": {
            "text/plain": [
              "id_num        int64\n",
              "clump_thk     int64\n",
              "uni_size      int64\n",
              "uni_shape     int64\n",
              "adheasion     int64\n",
              "epith_size    int64\n",
              "bare_nuc      int64\n",
              "bland_chro    int64\n",
              "norm_nuc      int64\n",
              "mitosis       int64\n",
              "class         int64\n",
              "dtype: object"
            ]
          },
          "metadata": {
            "tags": []
          },
          "execution_count": 49
        }
      ]
    },
    {
      "cell_type": "markdown",
      "metadata": {
        "id": "0x3s7F2gUbwI"
      },
      "source": [
        "The data are clean!  On to the model!"
      ]
    },
    {
      "cell_type": "code",
      "metadata": {
        "id": "tQqz09I1UbwI"
      },
      "source": [
        "# store feature matrix in \"X\"\n",
        "feature_cols = ['clump_thk', 'uni_size', 'uni_shape', 'adheasion', 'epith_size',\n",
        "               'bare_nuc', 'bland_chro', 'norm_nuc', 'mitosis']\n",
        "X = wisc_dat[feature_cols]"
      ],
      "execution_count": null,
      "outputs": []
    },
    {
      "cell_type": "code",
      "metadata": {
        "id": "2ZjhgTMJUbwL"
      },
      "source": [
        "# store response vector in \"y\"\n",
        "y = wisc_dat['class']"
      ],
      "execution_count": null,
      "outputs": []
    },
    {
      "cell_type": "code",
      "metadata": {
        "id": "9ysN1Z-eUbwO",
        "colab": {
          "base_uri": "https://localhost:8080/",
          "height": 68
        },
        "outputId": "c54f44ac-a64d-4537-9674-f6a4f746e91b"
      },
      "source": [
        "# Task4: Use train_test_split to split your data into a training set and a testing set.\n",
        "# The testing set should be a third of the data\n",
        "\n",
        "from sklearn.model_selection import train_test_split\n",
        "\n",
        "X_train, X_test, y_train, y_test = train_test_split(X, y, test_size=0.3, random_state=101)\n",
        "knn = KNeighborsClassifier(n_neighbors = 2)\n",
        "\n",
        "knn.fit(X_train, y_train)"
      ],
      "execution_count": null,
      "outputs": [
        {
          "output_type": "execute_result",
          "data": {
            "text/plain": [
              "KNeighborsClassifier(algorithm='auto', leaf_size=30, metric='minkowski',\n",
              "           metric_params=None, n_jobs=None, n_neighbors=2, p=2,\n",
              "           weights='uniform')"
            ]
          },
          "metadata": {
            "tags": []
          },
          "execution_count": 52
        }
      ]
    },
    {
      "cell_type": "code",
      "metadata": {
        "id": "41CoqhuVYh3z"
      },
      "source": [
        "pred = knn.predict(X_test)"
      ],
      "execution_count": null,
      "outputs": []
    },
    {
      "cell_type": "code",
      "metadata": {
        "id": "IubTPwsIUbwS"
      },
      "source": [
        "# Task5: Repeat the analysis where you create a for loop that trains various KNN \n",
        "# models with different k values, then keep track of the error_rate for each of \n",
        "# these models with a list.\n",
        "\n",
        "import numpy as np\n",
        "error_rate = []\n",
        "for i in range(1,11):\n",
        "    knn = KNeighborsClassifier(n_neighbors = i)\n",
        "    knn.fit(X_train, y_train)\n",
        "    pred_i = knn.predict(X_test)\n",
        "    error_rate.append(np.mean(pred_i != y_test))"
      ],
      "execution_count": null,
      "outputs": []
    },
    {
      "cell_type": "code",
      "metadata": {
        "id": "kg8XL_CCUbwV",
        "colab": {
          "base_uri": "https://localhost:8080/",
          "height": 388
        },
        "outputId": "2ebbd7ad-cbfc-465d-d762-629e76f8f501"
      },
      "source": [
        "# Task6: Make a plot of error_rate vs k\n",
        "\n",
        "plt.figure(figsize=(15,6))\n",
        "plt.plot(range(1,11),error_rate,color='blue',linestyle='dashed',marker='o', markerfacecolor='red', markersize='10')\n",
        "plt.xlabel('no. of K')\n",
        "plt.ylabel('Error Rate');"
      ],
      "execution_count": null,
      "outputs": [
        {
          "output_type": "display_data",
          "data": {
            "image/png": "[encoded data removed]",
            "text/plain": [
              "<Figure size 1080x432 with 1 Axes>"
            ]
          },
          "metadata": {
            "tags": []
          }
        }
      ]
    },
    {
      "cell_type": "code",
      "metadata": {
        "id": "ftvdOe-wUbwZ",
        "colab": {
          "base_uri": "https://localhost:8080/",
          "height": 68
        },
        "outputId": "960f749f-abe3-4bd3-ced9-ef535bf87c80"
      },
      "source": [
        "# Task7: Select a good value for k and create a knn model.  Train\n",
        "# the model using the X_train and y_train data.  Create a confusion\n",
        "# matrix and classification report for your model using X_test and y_test\n",
        "\n",
        "from sklearn.model_selection import train_test_split\n",
        "\n",
        "X_train, X_test, y_train, y_test = train_test_split(X, y, test_size=0.3, random_state=101)\n",
        "knn = KNeighborsClassifier(n_neighbors = 5)\n",
        "\n",
        "knn.fit(X_train, y_train)"
      ],
      "execution_count": null,
      "outputs": [
        {
          "output_type": "execute_result",
          "data": {
            "text/plain": [
              "KNeighborsClassifier(algorithm='auto', leaf_size=30, metric='minkowski',\n",
              "           metric_params=None, n_jobs=None, n_neighbors=5, p=2,\n",
              "           weights='uniform')"
            ]
          },
          "metadata": {
            "tags": []
          },
          "execution_count": 58
        }
      ]
    },
    {
      "cell_type": "code",
      "metadata": {
        "id": "C_Za-amGfR7J"
      },
      "source": [
        "pred = knn.predict(X_test)"
      ],
      "execution_count": null,
      "outputs": []
    },
    {
      "cell_type": "code",
      "metadata": {
        "id": "5uriISI-fdir",
        "colab": {
          "base_uri": "https://localhost:8080/",
          "height": 51
        },
        "outputId": "d8a0abf4-19bd-4406-9a35-d568871dcc19"
      },
      "source": [
        "from sklearn.metrics import classification_report, confusion_matrix\n",
        "\n",
        "print(confusion_matrix(y_test, pred))"
      ],
      "execution_count": null,
      "outputs": [
        {
          "output_type": "stream",
          "text": [
            "[[128   2]\n",
            " [  3  72]]\n"
          ],
          "name": "stdout"
        }
      ]
    },
    {
      "cell_type": "code",
      "metadata": {
        "id": "p4vXwkMBflAu",
        "colab": {
          "base_uri": "https://localhost:8080/",
          "height": 170
        },
        "outputId": "bc14d8bd-ef34-41f6-c46a-656ee6a53f09"
      },
      "source": [
        "print(classification_report(y_test, pred))"
      ],
      "execution_count": null,
      "outputs": [
        {
          "output_type": "stream",
          "text": [
            "              precision    recall  f1-score   support\n",
            "\n",
            "           2       0.98      0.98      0.98       130\n",
            "           4       0.97      0.96      0.97        75\n",
            "\n",
            "   micro avg       0.98      0.98      0.98       205\n",
            "   macro avg       0.98      0.97      0.97       205\n",
            "weighted avg       0.98      0.98      0.98       205\n",
            "\n"
          ],
          "name": "stdout"
        }
      ]
    }
  ]
}