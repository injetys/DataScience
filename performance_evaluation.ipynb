{
  "nbformat": 4,
  "nbformat_minor": 0,
  "metadata": {
    "colab": {
      "name": "performance_evaluation.ipynb",
      "provenance": [],
      "collapsed_sections": [
        "aOMberqqs5jd",
        "2qF8fOICzDXi",
        "ZFmGvaCS3Csa",
        "XgEU8Kn4JR-h",
        "WzFPAcrB_Va8",
        "U9P0FAwx_a6r",
        "7Hipo2T4_crp",
        "BxNfSVAxCo8i",
        "3aGnaeo4_hB1",
        "RvOMj8rh_dtD",
        "Vr-Z7kNyEGk7"
      ]
    },
    "kernelspec": {
      "name": "python3",
      "display_name": "Python 3"
    }
  },
  "cells": [
    {
      "cell_type": "markdown",
      "metadata": {
        "id": "w2R3sm4CoZ_a"
      },
      "source": [
        "# Performance evaluation\n"
      ]
    },
    {
      "cell_type": "markdown",
      "metadata": {
        "id": "k4OC1cw-Nc_4"
      },
      "source": [
        "STeven Injety\n",
        "CPTR Machine Learning"
      ]
    },
    {
      "cell_type": "markdown",
      "metadata": {
        "id": "DsTqDSSUtUId"
      },
      "source": [
        "This notebook demonstrates how to compute precision, recall, AUC and PR curves using Scikit-Learn.\n"
      ]
    },
    {
      "cell_type": "markdown",
      "metadata": {
        "id": "LHy2k5RzosQ2"
      },
      "source": [
        "# Breast cancer dataset\n",
        "With this dataset, we will be predicting whether a tumor is MALIGNANT or BENIGN based on attributes of the tumor.\n",
        "\n",
        "Attributes include:\n",
        "* radius (mean of distances from center to points on the perimeter) \n",
        "* texture (standard deviation of gray-scale values) \n",
        "* perimeter \n",
        "* area \n",
        "* smoothness (local variation in radius lengths) \n",
        "* compactness (perimeter^2 / area - 1.0) \n",
        "* concavity (severity of concave portions of the contour) \n",
        "* concave points (number of concave portions of the contour) \n",
        "* symmetry \n",
        "* fractal dimension (\"coastline approximation\" - 1)\n",
        "\n",
        "The dataset is included in Scikit-Learn. \n",
        "\n",
        "For details, see: \n",
        "\n",
        "https://scikit-learn.org/stable/modules/generated/sklearn.datasets.load_breast_cancer.html#sklearn.datasets.load_breast_cancer\n",
        "\n",
        "https://archive.ics.uci.edu/ml/datasets/Breast+Cancer+Wisconsin+(Diagnostic)"
      ]
    },
    {
      "cell_type": "code",
      "metadata": {
        "id": "D8p2v41lq8Fp"
      },
      "source": [
        "from sklearn import datasets"
      ],
      "execution_count": null,
      "outputs": []
    },
    {
      "cell_type": "code",
      "metadata": {
        "id": "2Q4saCfeoDac"
      },
      "source": [
        "# import dataset\n",
        "cancer = datasets.load_breast_cancer()"
      ],
      "execution_count": null,
      "outputs": []
    },
    {
      "cell_type": "markdown",
      "metadata": {
        "id": "CE3DK7RUsABW"
      },
      "source": [
        "## What are we working with?\n",
        "What does the data structure look like?"
      ]
    },
    {
      "cell_type": "code",
      "metadata": {
        "id": "GouZmPvLsEcr",
        "colab": {
          "base_uri": "https://localhost:8080/",
          "height": 34
        },
        "outputId": "529b6fba-16bc-417c-952d-c5c08a7cb253"
      },
      "source": [
        "print(cancer.keys())"
      ],
      "execution_count": null,
      "outputs": [
        {
          "output_type": "stream",
          "text": [
            "dict_keys(['data', 'target', 'target_names', 'DESCR', 'feature_names', 'filename'])\n"
          ],
          "name": "stdout"
        }
      ]
    },
    {
      "cell_type": "code",
      "metadata": {
        "id": "cpXHKLZNsOPt",
        "colab": {
          "base_uri": "https://localhost:8080/",
          "height": 170
        },
        "outputId": "e782ec2d-1f0f-42e8-d804-50bc51f96a17"
      },
      "source": [
        "print(cancer.feature_names)"
      ],
      "execution_count": null,
      "outputs": [
        {
          "output_type": "stream",
          "text": [
            "['mean radius' 'mean texture' 'mean perimeter' 'mean area'\n",
            " 'mean smoothness' 'mean compactness' 'mean concavity'\n",
            " 'mean concave points' 'mean symmetry' 'mean fractal dimension'\n",
            " 'radius error' 'texture error' 'perimeter error' 'area error'\n",
            " 'smoothness error' 'compactness error' 'concavity error'\n",
            " 'concave points error' 'symmetry error' 'fractal dimension error'\n",
            " 'worst radius' 'worst texture' 'worst perimeter' 'worst area'\n",
            " 'worst smoothness' 'worst compactness' 'worst concavity'\n",
            " 'worst concave points' 'worst symmetry' 'worst fractal dimension']\n"
          ],
          "name": "stdout"
        }
      ]
    },
    {
      "cell_type": "markdown",
      "metadata": {
        "id": "V8klpJkXgSti"
      },
      "source": [
        "What do the feature vectors look like?"
      ]
    },
    {
      "cell_type": "code",
      "metadata": {
        "id": "WY41mkSHsdxv",
        "colab": {
          "base_uri": "https://localhost:8080/",
          "height": 442
        },
        "outputId": "6450f9e6-07e1-4157-f3bc-cdb0aa02a862"
      },
      "source": [
        "print(cancer.data[:5])    # display first 5 feature vectors"
      ],
      "execution_count": null,
      "outputs": [
        {
          "output_type": "stream",
          "text": [
            "[[1.799e+01 1.038e+01 1.228e+02 1.001e+03 1.184e-01 2.776e-01 3.001e-01\n",
            "  1.471e-01 2.419e-01 7.871e-02 1.095e+00 9.053e-01 8.589e+00 1.534e+02\n",
            "  6.399e-03 4.904e-02 5.373e-02 1.587e-02 3.003e-02 6.193e-03 2.538e+01\n",
            "  1.733e+01 1.846e+02 2.019e+03 1.622e-01 6.656e-01 7.119e-01 2.654e-01\n",
            "  4.601e-01 1.189e-01]\n",
            " [2.057e+01 1.777e+01 1.329e+02 1.326e+03 8.474e-02 7.864e-02 8.690e-02\n",
            "  7.017e-02 1.812e-01 5.667e-02 5.435e-01 7.339e-01 3.398e+00 7.408e+01\n",
            "  5.225e-03 1.308e-02 1.860e-02 1.340e-02 1.389e-02 3.532e-03 2.499e+01\n",
            "  2.341e+01 1.588e+02 1.956e+03 1.238e-01 1.866e-01 2.416e-01 1.860e-01\n",
            "  2.750e-01 8.902e-02]\n",
            " [1.969e+01 2.125e+01 1.300e+02 1.203e+03 1.096e-01 1.599e-01 1.974e-01\n",
            "  1.279e-01 2.069e-01 5.999e-02 7.456e-01 7.869e-01 4.585e+00 9.403e+01\n",
            "  6.150e-03 4.006e-02 3.832e-02 2.058e-02 2.250e-02 4.571e-03 2.357e+01\n",
            "  2.553e+01 1.525e+02 1.709e+03 1.444e-01 4.245e-01 4.504e-01 2.430e-01\n",
            "  3.613e-01 8.758e-02]\n",
            " [1.142e+01 2.038e+01 7.758e+01 3.861e+02 1.425e-01 2.839e-01 2.414e-01\n",
            "  1.052e-01 2.597e-01 9.744e-02 4.956e-01 1.156e+00 3.445e+00 2.723e+01\n",
            "  9.110e-03 7.458e-02 5.661e-02 1.867e-02 5.963e-02 9.208e-03 1.491e+01\n",
            "  2.650e+01 9.887e+01 5.677e+02 2.098e-01 8.663e-01 6.869e-01 2.575e-01\n",
            "  6.638e-01 1.730e-01]\n",
            " [2.029e+01 1.434e+01 1.351e+02 1.297e+03 1.003e-01 1.328e-01 1.980e-01\n",
            "  1.043e-01 1.809e-01 5.883e-02 7.572e-01 7.813e-01 5.438e+00 9.444e+01\n",
            "  1.149e-02 2.461e-02 5.688e-02 1.885e-02 1.756e-02 5.115e-03 2.254e+01\n",
            "  1.667e+01 1.522e+02 1.575e+03 1.374e-01 2.050e-01 4.000e-01 1.625e-01\n",
            "  2.364e-01 7.678e-02]]\n"
          ],
          "name": "stdout"
        }
      ]
    },
    {
      "cell_type": "markdown",
      "metadata": {
        "id": "nTZfUgTygckl"
      },
      "source": [
        "What are the output classes?"
      ]
    },
    {
      "cell_type": "code",
      "metadata": {
        "id": "hqd8AUcdrv1A",
        "colab": {
          "base_uri": "https://localhost:8080/",
          "height": 34
        },
        "outputId": "19acabb0-b0f0-4aa6-b223-d8ab24715d7f"
      },
      "source": [
        "print(cancer.target_names)  # output label names"
      ],
      "execution_count": null,
      "outputs": [
        {
          "output_type": "stream",
          "text": [
            "['malignant' 'benign']\n"
          ],
          "name": "stdout"
        }
      ]
    },
    {
      "cell_type": "code",
      "metadata": {
        "id": "iTm-ltTEsp_c",
        "colab": {
          "base_uri": "https://localhost:8080/",
          "height": 255
        },
        "outputId": "e1dc5843-bdd1-4c4f-89fb-8a36c8321341"
      },
      "source": [
        "print(cancer.target[:500])   # output values for first 500 tumors "
      ],
      "execution_count": null,
      "outputs": [
        {
          "output_type": "stream",
          "text": [
            "[0 0 0 0 0 0 0 0 0 0 0 0 0 0 0 0 0 0 0 1 1 1 0 0 0 0 0 0 0 0 0 0 0 0 0 0 0\n",
            " 1 0 0 0 0 0 0 0 0 1 0 1 1 1 1 1 0 0 1 0 0 1 1 1 1 0 1 0 0 1 1 1 1 0 1 0 0\n",
            " 1 0 1 0 0 1 1 1 0 0 1 0 0 0 1 1 1 0 1 1 0 0 1 1 1 0 0 1 1 1 1 0 1 1 0 1 1\n",
            " 1 1 1 1 1 1 0 0 0 1 0 0 1 1 1 0 0 1 0 1 0 0 1 0 0 1 1 0 1 1 0 1 1 1 1 0 1\n",
            " 1 1 1 1 1 1 1 1 0 1 1 1 1 0 0 1 0 1 1 0 0 1 1 0 0 1 1 1 1 0 1 1 0 0 0 1 0\n",
            " 1 0 1 1 1 0 1 1 0 0 1 0 0 0 0 1 0 0 0 1 0 1 0 1 1 0 1 0 0 0 0 1 1 0 0 1 1\n",
            " 1 0 1 1 1 1 1 0 0 1 1 0 1 1 0 0 1 0 1 1 1 1 0 1 1 1 1 1 0 1 0 0 0 0 0 0 0\n",
            " 0 0 0 0 0 0 0 1 1 1 1 1 1 0 1 0 1 1 0 1 1 0 1 0 0 1 1 1 1 1 1 1 1 1 1 1 1\n",
            " 1 0 1 1 0 1 0 1 1 1 1 1 1 1 1 1 1 1 1 1 1 0 1 1 1 0 1 0 1 1 1 1 0 0 0 1 1\n",
            " 1 1 0 1 0 1 0 1 1 1 0 1 1 1 1 1 1 1 0 0 0 1 1 1 1 1 1 1 1 1 1 1 0 0 1 0 0\n",
            " 0 1 0 0 1 1 1 1 1 0 1 1 1 1 1 0 1 1 1 0 1 1 0 0 1 1 1 1 1 1 0 1 1 1 1 1 1\n",
            " 1 0 1 1 1 1 1 0 1 1 0 1 1 1 1 1 1 1 1 1 1 1 1 0 1 0 0 1 0 1 1 1 1 1 0 1 1\n",
            " 0 1 0 1 1 0 1 0 1 1 1 1 1 1 1 1 0 0 1 1 1 1 1 1 0 1 1 1 1 1 1 1 1 1 1 0 1\n",
            " 1 1 1 1 1 1 0 1 0 1 1 0 1 1 1 1 1 0 0]\n"
          ],
          "name": "stdout"
        }
      ]
    },
    {
      "cell_type": "markdown",
      "metadata": {
        "id": "bvKjiMCUhL2A"
      },
      "source": [
        "In this dataset MALIGNANT = 0, BENIGN = 1.\n",
        "\n",
        "What is the class distribution?"
      ]
    },
    {
      "cell_type": "code",
      "metadata": {
        "id": "ktq4SeL2lSga",
        "colab": {
          "base_uri": "https://localhost:8080/",
          "height": 51
        },
        "outputId": "726e8d45-1af6-4f5f-96c1-4fc8fc575bfb"
      },
      "source": [
        "import numpy as np\n",
        "\n",
        "# count the number of each label\n",
        "label_counts = np.bincount(cancer.target)\n",
        "total_counts = cancer.target.shape[0]\n",
        "for counts, label in zip(label_counts, cancer.target_names):\n",
        "  print('{0} instances of {1} ({2:.1f}%)'.format(counts, label, 100.0*counts/total_counts))"
      ],
      "execution_count": null,
      "outputs": [
        {
          "output_type": "stream",
          "text": [
            "212 instances of malignant (37.3%)\n",
            "357 instances of benign (62.7%)\n"
          ],
          "name": "stdout"
        }
      ]
    },
    {
      "cell_type": "markdown",
      "metadata": {
        "id": "aOMberqqs5jd"
      },
      "source": [
        "## Split our dataset"
      ]
    },
    {
      "cell_type": "code",
      "metadata": {
        "id": "__uv2O6py65J",
        "colab": {
          "base_uri": "https://localhost:8080/"
        },
        "outputId": "2ed6da88-18a3-41ab-f825-dbbc0656af36"
      },
      "source": [
        "from sklearn.model_selection import StratifiedShuffleSplit\n",
        "\n",
        "# Split the data set into training and testing (80% testing, 20% training).\n",
        "# Use stratified split to make sure class distribution from train/test is the same.\n",
        "split = StratifiedShuffleSplit(n_splits=1, train_size=0.8, random_state=3)\n",
        "\n",
        "for train_index, test_index in split.split(cancer.data, cancer.target):\n",
        "    print('Training samples: {}, testing samples: {}'\n",
        "          .format(train_index.shape, test_index.shape))\n",
        "    \n",
        "X_train = cancer.data[train_index]\n",
        "X_test = cancer.data[test_index]\n",
        "\n",
        "y_train = cancer.target[train_index]\n",
        "y_test = cancer.target[test_index]"
      ],
      "execution_count": null,
      "outputs": [
        {
          "output_type": "stream",
          "text": [
            "Training samples: (455,), testing samples: (114,)\n"
          ],
          "name": "stdout"
        }
      ]
    },
    {
      "cell_type": "code",
      "metadata": {
        "id": "tc1k1vRytBHv",
        "colab": {
          "base_uri": "https://localhost:8080/"
        },
        "outputId": "0f385770-0dab-4112-b9a8-0afec8a0b737"
      },
      "source": [
        "print(\"X_train shape: {}\".format(X_train.shape))\n",
        "print(\"y_train shape: {}\".format(y_train.shape))\n",
        "\n",
        "print(\"X_test shape: {}\".format(X_test.shape))\n",
        "print(\"y_test shape: {}\".format(y_test.shape))\n",
        "\n",
        "label_counts = np.bincount(y_train)\n",
        "total_counts = y_train.shape[0]\n",
        "for counts, label in zip(label_counts, cancer.target_names):\n",
        "  print('{0} training instances of {1} ({2:.1f}%)'.format(counts, label, 100.0*counts/total_counts))"
      ],
      "execution_count": null,
      "outputs": [
        {
          "output_type": "stream",
          "text": [
            "X_train shape: (455, 30)\n",
            "y_train shape: (455,)\n",
            "X_test shape: (114, 30)\n",
            "y_test shape: (114,)\n",
            "170 training instances of malignant (37.4%)\n",
            "285 training instances of benign (62.6%)\n"
          ],
          "name": "stdout"
        }
      ]
    },
    {
      "cell_type": "markdown",
      "metadata": {
        "id": "hV4htN-ptM-r"
      },
      "source": [
        "# Create the logistic regression model\n",
        "We will use a logistic regression classifier model. However, we could use other models: knn, decision trees, perceptron."
      ]
    },
    {
      "cell_type": "code",
      "metadata": {
        "id": "1snjB0e-tIaX"
      },
      "source": [
        "from sklearn import linear_model"
      ],
      "execution_count": null,
      "outputs": []
    },
    {
      "cell_type": "code",
      "metadata": {
        "id": "TO8tVg2ytovR"
      },
      "source": [
        "logit_reg = linear_model.LogisticRegression(max_iter=5000)"
      ],
      "execution_count": null,
      "outputs": []
    },
    {
      "cell_type": "markdown",
      "metadata": {
        "id": "93xAjoSot6u1"
      },
      "source": [
        "# Train the model"
      ]
    },
    {
      "cell_type": "code",
      "metadata": {
        "id": "QqmXjENNt5U7",
        "colab": {
          "base_uri": "https://localhost:8080/",
          "height": 102
        },
        "outputId": "435414d9-aa06-40af-dfb3-c082fd505b36"
      },
      "source": [
        "logit_reg.fit(X_train, y_train)"
      ],
      "execution_count": null,
      "outputs": [
        {
          "output_type": "execute_result",
          "data": {
            "text/plain": [
              "LogisticRegression(C=1.0, class_weight=None, dual=False, fit_intercept=True,\n",
              "                   intercept_scaling=1, l1_ratio=None, max_iter=5000,\n",
              "                   multi_class='auto', n_jobs=None, penalty='l2',\n",
              "                   random_state=None, solver='lbfgs', tol=0.0001, verbose=0,\n",
              "                   warm_start=False)"
            ]
          },
          "metadata": {
            "tags": []
          },
          "execution_count": 13
        }
      ]
    },
    {
      "cell_type": "markdown",
      "metadata": {
        "id": "dCFdWlfSuL_E"
      },
      "source": [
        "# Evaluate the model"
      ]
    },
    {
      "cell_type": "code",
      "metadata": {
        "id": "W9OukzdguRVr",
        "colab": {
          "base_uri": "https://localhost:8080/",
          "height": 34
        },
        "outputId": "038869f6-148f-4c8c-a0e7-b1a33ff2ecca"
      },
      "source": [
        "print(\"Test set score: {:.2f}\".format(logit_reg.score(X_test, y_test)))"
      ],
      "execution_count": null,
      "outputs": [
        {
          "output_type": "stream",
          "text": [
            "Test set score: 0.96\n"
          ],
          "name": "stdout"
        }
      ]
    },
    {
      "cell_type": "markdown",
      "metadata": {
        "id": "c-diqVlzwQPY"
      },
      "source": [
        "# Predicted probabilities\n",
        "A logistic regression model outputs the class probability. To classify a sample, a threshold is applied to the output. \n",
        "\n",
        "- Output greater than 0.5 is labeled positive (e.g. Malignant). \n",
        "- Output less than 0.5 is labeled negative (e.g. Benign)\n",
        "\n",
        "The `predict` function outputs class labels (using 0.5 as a threshold), not probabilities. \n",
        "\n",
        "However, the `predict_proba` function does output probabilities for both classes.\n",
        "\n",
        "If the classification threshold is increased/decrease from 0.5, this may change the recall/precision tradeoff."
      ]
    },
    {
      "cell_type": "code",
      "metadata": {
        "id": "Uj_8UAU0wOhY"
      },
      "source": [
        "lr_pred = logit_reg.predict(X_test)"
      ],
      "execution_count": null,
      "outputs": []
    },
    {
      "cell_type": "code",
      "metadata": {
        "id": "aYFsOtV9wbTs",
        "colab": {
          "base_uri": "https://localhost:8080/",
          "height": 34
        },
        "outputId": "452c3398-acd8-47ff-e389-9beab5087272"
      },
      "source": [
        "print(lr_pred[:10])"
      ],
      "execution_count": null,
      "outputs": [
        {
          "output_type": "stream",
          "text": [
            "[0 1 1 1 1 1 1 1 1 0]\n"
          ],
          "name": "stdout"
        }
      ]
    },
    {
      "cell_type": "code",
      "metadata": {
        "id": "zrOD5UdVwfBf"
      },
      "source": [
        "lr_pred_prob = logit_reg.predict_proba(X_test)\n"
      ],
      "execution_count": null,
      "outputs": []
    },
    {
      "cell_type": "code",
      "metadata": {
        "id": "gHo9agikxXFH",
        "colab": {
          "base_uri": "https://localhost:8080/",
          "height": 102
        },
        "outputId": "a757fd7c-e6c0-44f4-fd2b-4c81dde65560"
      },
      "source": [
        "lr_pred_prob[:5]"
      ],
      "execution_count": null,
      "outputs": [
        {
          "output_type": "execute_result",
          "data": {
            "text/plain": [
              "array([[9.95796681e-01, 4.20331862e-03],\n",
              "       [9.01587174e-04, 9.99098413e-01],\n",
              "       [1.16314195e-04, 9.99883686e-01],\n",
              "       [4.66158576e-05, 9.99953384e-01],\n",
              "       [4.61342401e-04, 9.99538658e-01]])"
            ]
          },
          "metadata": {
            "tags": []
          },
          "execution_count": 18
        }
      ]
    },
    {
      "cell_type": "code",
      "metadata": {
        "id": "Fa2Do8FDw_NT",
        "colab": {
          "base_uri": "https://localhost:8080/",
          "height": 102
        },
        "outputId": "6dc7b708-b4cb-45a0-c392-83c071b93620"
      },
      "source": [
        "['Malignant prob=%.2f, Benign prob=%.2f' % (lr_pred_prob[i][0], lr_pred_prob[i][1]) for i in range(0,5)]"
      ],
      "execution_count": null,
      "outputs": [
        {
          "output_type": "execute_result",
          "data": {
            "text/plain": [
              "['Malignant prob=1.00, Benign prob=0.00',\n",
              " 'Malignant prob=0.00, Benign prob=1.00',\n",
              " 'Malignant prob=0.00, Benign prob=1.00',\n",
              " 'Malignant prob=0.00, Benign prob=1.00',\n",
              " 'Malignant prob=0.00, Benign prob=1.00']"
            ]
          },
          "metadata": {
            "tags": []
          },
          "execution_count": 19
        }
      ]
    },
    {
      "cell_type": "markdown",
      "metadata": {
        "id": "HNP5icMADtI9"
      },
      "source": [
        "While logistic regression can classify instances based on predicted probability, the implementation of its `decision_function` in Scikit-Learn outputs the *logit* of the probability of the positive class (BENIGN class is the positive class (label=1) in this dataset).\n",
        "\n",
        "<img src=\"https://upload.wikimedia.org/wikipedia/commons/thumb/c/c8/Logit.svg/1280px-Logit.svg.png\" width=\"50%\">\n",
        "\n",
        "By Krishnavedala - Own work, CC0, https://commons.wikimedia.org/w/index.php?curid=21731574"
      ]
    },
    {
      "cell_type": "code",
      "metadata": {
        "id": "mllIhLmeHMbU",
        "colab": {
          "base_uri": "https://localhost:8080/",
          "height": 34
        },
        "outputId": "60f3c6b4-49df-4cbb-933f-57f01e539883"
      },
      "source": [
        "from scipy.special import logit\n",
        "print(logit(4.20331862e-03))"
      ],
      "execution_count": null,
      "outputs": [
        {
          "output_type": "stream",
          "text": [
            "-5.467668740679456\n"
          ],
          "name": "stdout"
        }
      ]
    },
    {
      "cell_type": "code",
      "metadata": {
        "id": "qtTo6P4lA2wz"
      },
      "source": [
        "lr_score = logit_reg.decision_function(X_test)"
      ],
      "execution_count": null,
      "outputs": []
    },
    {
      "cell_type": "code",
      "metadata": {
        "id": "tmM5cRLcA-Nl",
        "colab": {
          "base_uri": "https://localhost:8080/",
          "height": 34
        },
        "outputId": "3c865f18-688f-4b0e-f380-20a67e129870"
      },
      "source": [
        "lr_score[:5]"
      ],
      "execution_count": null,
      "outputs": [
        {
          "output_type": "execute_result",
          "data": {
            "text/plain": [
              "array([-5.46766874,  7.01045183,  9.05909913,  9.97352317,  7.68090861])"
            ]
          },
          "metadata": {
            "tags": []
          },
          "execution_count": 22
        }
      ]
    },
    {
      "cell_type": "markdown",
      "metadata": {
        "id": "k6xsjEmSzamx"
      },
      "source": [
        "# Handling class imbalance\n",
        "Scikit-Learn provides functions for calculating recall, precision, F1 score, ROC curve, AUC, and PR curves."
      ]
    },
    {
      "cell_type": "code",
      "metadata": {
        "id": "AS18tL-r0Aub"
      },
      "source": [
        "from sklearn.metrics import recall_score, precision_score, f1_score"
      ],
      "execution_count": null,
      "outputs": []
    },
    {
      "cell_type": "code",
      "metadata": {
        "id": "WsQvD7T209h3",
        "colab": {
          "base_uri": "https://localhost:8080/",
          "height": 34
        },
        "outputId": "59c7fcd2-0cfc-4f2d-92df-b11e630a3f85"
      },
      "source": [
        "print('Precision={:.2f}, Recall={:.2f}, F1 score={:.2f}'.format(precision_score(lr_pred, y_test), recall_score(lr_pred, y_test), f1_score(lr_pred, y_test)))"
      ],
      "execution_count": null,
      "outputs": [
        {
          "output_type": "stream",
          "text": [
            "Precision=0.96, Recall=0.97, F1 score=0.97\n"
          ],
          "name": "stdout"
        }
      ]
    },
    {
      "cell_type": "code",
      "metadata": {
        "id": "h9DZyoOC9wQ9"
      },
      "source": [
        "from sklearn.metrics import roc_curve, auc, plot_roc_curve, precision_recall_curve"
      ],
      "execution_count": null,
      "outputs": []
    },
    {
      "cell_type": "markdown",
      "metadata": {
        "id": "3T-M7_cwxxPQ"
      },
      "source": [
        "`roc_curve` function calculates true positive and false positive rates for different threshold values applied to the output of `decision_function` (not `predict_proba`). For this reason you will see negative thresholds."
      ]
    },
    {
      "cell_type": "code",
      "metadata": {
        "id": "PpfAcSF9_EJA"
      },
      "source": [
        "fpr, tpr, thresholds = roc_curve(y_test, lr_score)"
      ],
      "execution_count": null,
      "outputs": []
    },
    {
      "cell_type": "code",
      "metadata": {
        "id": "lqiOH2AAygb1",
        "colab": {
          "base_uri": "https://localhost:8080/",
          "height": 51
        },
        "outputId": "5758f04c-657e-47ea-d460-07e4c9dbb1d5"
      },
      "source": [
        "print(fpr)"
      ],
      "execution_count": null,
      "outputs": [
        {
          "output_type": "stream",
          "text": [
            "[0.         0.         0.         0.02380952 0.02380952 0.04761905\n",
            " 0.04761905 0.11904762 0.11904762 0.14285714 0.14285714 1.        ]\n"
          ],
          "name": "stdout"
        }
      ]
    },
    {
      "cell_type": "code",
      "metadata": {
        "id": "IqNBF0I0DDmN",
        "colab": {
          "base_uri": "https://localhost:8080/",
          "height": 51
        },
        "outputId": "73ff8aeb-0d68-45a4-e1bf-9d554934ad68"
      },
      "source": [
        "print(tpr)"
      ],
      "execution_count": null,
      "outputs": [
        {
          "output_type": "stream",
          "text": [
            "[0.         0.01388889 0.86111111 0.86111111 0.93055556 0.93055556\n",
            " 0.97222222 0.97222222 0.98611111 0.98611111 1.         1.        ]\n"
          ],
          "name": "stdout"
        }
      ]
    },
    {
      "cell_type": "code",
      "metadata": {
        "id": "Q_TmnWrlzBID",
        "colab": {
          "base_uri": "https://localhost:8080/",
          "height": 68
        },
        "outputId": "b4ee7a7b-0635-499a-d68a-2613ab408f21"
      },
      "source": [
        "print(thresholds)"
      ],
      "execution_count": null,
      "outputs": [
        {
          "output_type": "stream",
          "text": [
            "[ 14.45040056  13.45040056   2.61051898   2.33754927   1.62953876\n",
            "   1.46485338  -0.16489954  -1.48620543  -2.29614985  -2.87992327\n",
            "  -3.57927263 -53.73156059]\n"
          ],
          "name": "stdout"
        }
      ]
    },
    {
      "cell_type": "markdown",
      "metadata": {
        "id": "2qF8fOICzDXi"
      },
      "source": [
        "## Plot ROC curve"
      ]
    },
    {
      "cell_type": "code",
      "metadata": {
        "id": "sWJKmpXyzJKA",
        "colab": {
          "base_uri": "https://localhost:8080/"
        },
        "outputId": "95f4d35d-10ce-48c4-8ea8-156124aefc7e"
      },
      "source": [
        "import matplotlib.pyplot as plt\n",
        "\n",
        "plt.plot(fpr, tpr)\n",
        "plt.title('ROC curve')\n",
        "plt.xlabel('False positive rate')\n",
        "plt.ylabel('True positive rate (Recall)')\n",
        "plt.show()"
      ],
      "execution_count": null,
      "outputs": [
        {
          "output_type": "display_data",
          "data": {
            "image/png": "[encoded data removed]",
            "text/plain": [
              "<Figure size 432x288 with 1 Axes>"
            ]
          },
          "metadata": {
            "tags": [],
            "needs_background": "light"
          }
        }
      ]
    },
    {
      "cell_type": "markdown",
      "metadata": {
        "id": "Zggj_dKd0fYu"
      },
      "source": [
        "`plot_roc_curve` computes the ROC curve for different thresholds and plots the curve all in one function."
      ]
    },
    {
      "cell_type": "code",
      "metadata": {
        "id": "QOWEgSPT1BKE",
        "colab": {
          "base_uri": "https://localhost:8080/"
        },
        "outputId": "4dc5d959-1a50-4a9c-e520-4896e8580ccc"
      },
      "source": [
        "roc_display = plot_roc_curve(logit_reg, X_test, y_test)"
      ],
      "execution_count": null,
      "outputs": [
        {
          "output_type": "display_data",
          "data": {
            "image/png": "[encoded data removed]",
            "text/plain": [
              "<Figure size 432x288 with 1 Axes>"
            ]
          },
          "metadata": {
            "tags": [],
            "needs_background": "light"
          }
        }
      ]
    },
    {
      "cell_type": "markdown",
      "metadata": {
        "id": "MdUJO8au1gu3"
      },
      "source": [
        "`plot_roc_curve` also computes AUC of the curve. \n",
        "\n",
        "If you want the AUC value on its own, you can use the function `AUC`."
      ]
    },
    {
      "cell_type": "code",
      "metadata": {
        "id": "RqcchtpS1udJ",
        "colab": {
          "base_uri": "https://localhost:8080/"
        },
        "outputId": "e8fe045b-2708-4cc1-ca01-038fe2ca0d6c"
      },
      "source": [
        "auc(fpr, tpr)"
      ],
      "execution_count": null,
      "outputs": [
        {
          "output_type": "execute_result",
          "data": {
            "text/plain": [
              "0.9927248677248678"
            ]
          },
          "metadata": {
            "tags": []
          },
          "execution_count": 32
        }
      ]
    },
    {
      "cell_type": "markdown",
      "metadata": {
        "id": "CKN9ZbUY2RP4"
      },
      "source": [
        "`auc` will compute the area under any curve using the trapezoidal method.\n",
        "\n",
        "If you don't already have the false positive and true positive rates, you can use `roc_auc_score` to compute the ROC curve and return AUC."
      ]
    },
    {
      "cell_type": "code",
      "metadata": {
        "id": "K-9OdGFs2k-r",
        "colab": {
          "base_uri": "https://localhost:8080/"
        },
        "outputId": "4cff4da4-d477-4b0b-ed63-8feefd912487"
      },
      "source": [
        "from sklearn.metrics import roc_auc_score\n",
        "\n",
        "print(roc_auc_score(y_test, lr_score))"
      ],
      "execution_count": null,
      "outputs": [
        {
          "output_type": "stream",
          "text": [
            "0.9927248677248678\n"
          ],
          "name": "stdout"
        }
      ]
    },
    {
      "cell_type": "markdown",
      "metadata": {
        "id": "ZFmGvaCS3Csa"
      },
      "source": [
        "## Plot PR curve\n",
        "\n",
        "For datasets with very large class imbalance, a precision recall curve can make it easier to identify which classifier is better.\n",
        "\n",
        "`precision_recall_curve` will compute precision and recall for different thresholds similar to `roc_curve`.\n",
        "\n",
        "`plot_precision_recall_curve` will compute and plot the PR curve."
      ]
    },
    {
      "cell_type": "code",
      "metadata": {
        "id": "dPdPnIPw4PNW",
        "colab": {
          "base_uri": "https://localhost:8080/"
        },
        "outputId": "e198cbf2-ed04-47ed-d7e7-ad49447cee2b"
      },
      "source": [
        "from sklearn.metrics import plot_precision_recall_curve\n",
        "\n",
        "pr_display = plot_precision_recall_curve(logit_reg, X_test, y_test)"
      ],
      "execution_count": null,
      "outputs": [
        {
          "output_type": "display_data",
          "data": {
            "image/png": "[encoded data removed]",
            "text/plain": [
              "<Figure size 432x288 with 1 Axes>"
            ]
          },
          "metadata": {
            "tags": [],
            "needs_background": "light"
          }
        }
      ]
    },
    {
      "cell_type": "markdown",
      "metadata": {
        "id": "Oou956-N5jfS"
      },
      "source": [
        "We can use subplots to display both ROC and PR curves in the same window."
      ]
    },
    {
      "cell_type": "code",
      "metadata": {
        "id": "70F8G-w04rtp",
        "colab": {
          "base_uri": "https://localhost:8080/"
        },
        "outputId": "bf680d26-26d3-427a-fe5f-dca5b93199cf"
      },
      "source": [
        "fig, (ax1, ax2) = plt.subplots(1,2, figsize=(12,6))\n",
        "\n",
        "# use our previously computed ROC and PR curves  \n",
        "# created by plot_roc_curve and plot_precision_recall_curve\n",
        "roc_display.plot(ax=ax1)\n",
        "pr_display.plot(ax=ax2)\n",
        "\n",
        "plt.show()"
      ],
      "execution_count": null,
      "outputs": [
        {
          "output_type": "display_data",
          "data": {
            "image/png": "[encoded data removed]",
            "text/plain": [
              "<Figure size 864x432 with 2 Axes>"
            ]
          },
          "metadata": {
            "tags": [],
            "needs_background": "light"
          }
        }
      ]
    },
    {
      "cell_type": "markdown",
      "metadata": {
        "id": "XgEU8Kn4JR-h"
      },
      "source": [
        "## Plotting ROC and PR curves from multiple models\n",
        "ROC and PR curves are typically used to compare the performance from multiple models. \n",
        "\n",
        "Here we create another classifier model (Support vector machine). Train it on the same training data and plot its ROC and PR curves along with those from our logistic regression model.\n"
      ]
    },
    {
      "cell_type": "code",
      "metadata": {
        "id": "f7pv092DJkmG",
        "colab": {
          "base_uri": "https://localhost:8080/"
        },
        "outputId": "408d14fa-2fe7-40b8-85f1-4c80356f142c"
      },
      "source": [
        "from sklearn import svm\n",
        "\n",
        "# create model\n",
        "svm_clf = svm.SVC(kernel='linear') \n",
        "\n",
        "# train model\n",
        "svm_clf.fit(X_train, y_train)       "
      ],
      "execution_count": null,
      "outputs": [
        {
          "output_type": "execute_result",
          "data": {
            "text/plain": [
              "SVC(C=1.0, break_ties=False, cache_size=200, class_weight=None, coef0=0.0,\n",
              "    decision_function_shape='ovr', degree=3, gamma='scale', kernel='linear',\n",
              "    max_iter=-1, probability=False, random_state=None, shrinking=True,\n",
              "    tol=0.001, verbose=False)"
            ]
          },
          "metadata": {
            "tags": []
          },
          "execution_count": 36
        }
      ]
    },
    {
      "cell_type": "markdown",
      "metadata": {
        "id": "D093P1c4Llm_"
      },
      "source": [
        "We can tell the `plot_roc_curve` function to use an existing plot window (specified by the `ax` parameter). \n",
        "\n",
        "We use the `subplots` function to create an Axes object for the plots."
      ]
    },
    {
      "cell_type": "code",
      "metadata": {
        "id": "KIqWJjcyKd5Q",
        "colab": {
          "base_uri": "https://localhost:8080/"
        },
        "outputId": "19ff7e89-cecb-472d-a64c-9d858b58c374"
      },
      "source": [
        "fig, ax = plt.subplots()\n",
        "plot_roc_curve(logit_reg, X_test, y_test, name='Logistic regression', ax=ax)\n",
        "plot_roc_curve(svm_clf, X_test, y_test, name='SVM', ax=ax)"
      ],
      "execution_count": null,
      "outputs": [
        {
          "output_type": "execute_result",
          "data": {
            "text/plain": [
              "<sklearn.metrics._plot.roc_curve.RocCurveDisplay at 0x7f56c9d408d0>"
            ]
          },
          "metadata": {
            "tags": []
          },
          "execution_count": 37
        },
        {
          "output_type": "display_data",
          "data": {
            "image/png": "[encoded data removed]",
            "text/plain": [
              "<Figure size 432x288 with 1 Axes>"
            ]
          },
          "metadata": {
            "tags": [],
            "needs_background": "light"
          }
        }
      ]
    },
    {
      "cell_type": "markdown",
      "metadata": {
        "id": "RPQ1YHA5L56Z"
      },
      "source": [
        "`plot_precision_recall_curve` is similar."
      ]
    },
    {
      "cell_type": "code",
      "metadata": {
        "id": "NpEHQIg1K9Id",
        "colab": {
          "base_uri": "https://localhost:8080/"
        },
        "outputId": "2f4bf970-17e3-4457-c0b4-b2aa11a49fc3"
      },
      "source": [
        "fig, ax = plt.subplots()\n",
        "plot_precision_recall_curve(logit_reg, X_test, y_test, name='Logistic regression', ax=ax)\n",
        "plot_precision_recall_curve(svm_clf, X_test, y_test, name='SVM', ax=ax)"
      ],
      "execution_count": null,
      "outputs": [
        {
          "output_type": "execute_result",
          "data": {
            "text/plain": [
              "<sklearn.metrics._plot.precision_recall_curve.PrecisionRecallDisplay at 0x7f56ca3cd358>"
            ]
          },
          "metadata": {
            "tags": []
          },
          "execution_count": 38
        },
        {
          "output_type": "display_data",
          "data": {
            "image/png": "[encoded data removed]",
            "text/plain": [
              "<Figure size 432x288 with 1 Axes>"
            ]
          },
          "metadata": {
            "tags": [],
            "needs_background": "light"
          }
        }
      ]
    },
    {
      "cell_type": "markdown",
      "metadata": {
        "id": "a7ylHPCSMkl8"
      },
      "source": [
        "From this, it appears that our SVM classifier is performing slightly better when the threshold is set for high recall. \n",
        "\n",
        "The difference is a little more apparent on the PR curve than the ROC curve."
      ]
    },
    {
      "cell_type": "markdown",
      "metadata": {
        "id": "e8LK_aPv7Cp3"
      },
      "source": [
        "# Confusion matrices\n",
        "We can compute *confusion matrices* to visualize how our classifier missclassifies each class. This is especially useful when we have more than 2 classes (i.e. multiclass problem).\n",
        "\n",
        "`confusion_matrix` will calculate the confusion matrix given true and predicted labels."
      ]
    },
    {
      "cell_type": "code",
      "metadata": {
        "id": "we31CETt7pnA"
      },
      "source": [
        "from sklearn.metrics import confusion_matrix\n",
        "\n",
        "cm = confusion_matrix(y_test, lr_pred)"
      ],
      "execution_count": null,
      "outputs": []
    },
    {
      "cell_type": "code",
      "metadata": {
        "id": "nEhjaOmX72bD",
        "colab": {
          "base_uri": "https://localhost:8080/",
          "height": 51
        },
        "outputId": "114faacc-b859-4b95-8e43-81b96955929c"
      },
      "source": [
        "print(cm)"
      ],
      "execution_count": null,
      "outputs": [
        {
          "output_type": "stream",
          "text": [
            "[[40  2]\n",
            " [ 3 69]]\n"
          ],
          "name": "stdout"
        }
      ]
    },
    {
      "cell_type": "markdown",
      "metadata": {
        "id": "4I67fg4K75s9"
      },
      "source": [
        "`plot_confusion_matrix` creates a nice visualization of the confusion matrix."
      ]
    },
    {
      "cell_type": "code",
      "metadata": {
        "id": "7Vh30df_8Pph",
        "colab": {
          "base_uri": "https://localhost:8080/",
          "height": 279
        },
        "outputId": "5a3585b4-933e-4c6c-d0cc-0d2f120c884b"
      },
      "source": [
        "from sklearn.metrics import plot_confusion_matrix\n",
        "\n",
        "cm_display = plot_confusion_matrix(logit_reg, X_test, y_test, \n",
        "                                   display_labels=cancer.target_names)"
      ],
      "execution_count": null,
      "outputs": [
        {
          "output_type": "display_data",
          "data": {
            "image/png": "[encoded data removed]",
            "text/plain": [
              "<Figure size 432x288 with 2 Axes>"
            ]
          },
          "metadata": {
            "tags": [],
            "needs_background": "light"
          }
        }
      ]
    },
    {
      "cell_type": "markdown",
      "metadata": {
        "id": "sVUG7ir6u6Bu"
      },
      "source": [
        "# (30 pts) Lab activity 07 - Compute PRF, ROC, AUC, Confusion matrix using KNN (Due Mon, Oct 5 by 11:59 PM)\n",
        "Apply KNN to the cancer dataset. \n",
        "\n",
        "Compute:\n",
        " - Recall, Precision, F1-score\n",
        " - ROC curve\n",
        " - PR curve\n",
        " - Confusion matrix\n",
        "\n",
        "Compare results with logistic regression.\n",
        "\n"
      ]
    },
    {
      "cell_type": "markdown",
      "metadata": {
        "id": "WzFPAcrB_Va8"
      },
      "source": [
        "## (1) Create KNN model\n",
        "Use a KNN model with k=5."
      ]
    },
    {
      "cell_type": "code",
      "metadata": {
        "id": "ylCtPZT--Y8Z"
      },
      "source": [
        ""
      ],
      "execution_count": null,
      "outputs": []
    },
    {
      "cell_type": "markdown",
      "metadata": {
        "id": "U9P0FAwx_a6r"
      },
      "source": [
        "## (2) Train model"
      ]
    },
    {
      "cell_type": "code",
      "metadata": {
        "id": "XARQxd9t-7JU"
      },
      "source": [
        ""
      ],
      "execution_count": null,
      "outputs": []
    },
    {
      "cell_type": "markdown",
      "metadata": {
        "id": "7Hipo2T4_crp"
      },
      "source": [
        "## (3) Evaluate performance"
      ]
    },
    {
      "cell_type": "code",
      "metadata": {
        "id": "QZhZfNjI_Aei"
      },
      "source": [
        ""
      ],
      "execution_count": null,
      "outputs": []
    },
    {
      "cell_type": "markdown",
      "metadata": {
        "id": "gTxWLlR1_iWr"
      },
      "source": [
        "What is the recall, precision and f1-score for the test set?"
      ]
    },
    {
      "cell_type": "code",
      "metadata": {
        "id": "lMRNjvXQ_TIj"
      },
      "source": [
        ""
      ],
      "execution_count": null,
      "outputs": []
    },
    {
      "cell_type": "markdown",
      "metadata": {
        "id": "x64v_ZyX_o3l"
      },
      "source": [
        "Plot the ROC and PR curves"
      ]
    },
    {
      "cell_type": "code",
      "metadata": {
        "id": "TVIqJFF4_zy0"
      },
      "source": [
        ""
      ],
      "execution_count": null,
      "outputs": []
    },
    {
      "cell_type": "markdown",
      "metadata": {
        "id": "36Mb9SHNBthp"
      },
      "source": [
        "Display the confusion matrix"
      ]
    },
    {
      "cell_type": "code",
      "metadata": {
        "id": "GRobI-MHBw4i"
      },
      "source": [
        ""
      ],
      "execution_count": null,
      "outputs": []
    },
    {
      "cell_type": "markdown",
      "metadata": {
        "id": "BxNfSVAxCo8i"
      },
      "source": [
        "## (4) Compare K=1, 3, 5\n",
        "Train KNN models for k=1 and k=3.\n"
      ]
    },
    {
      "cell_type": "markdown",
      "metadata": {
        "id": "L0ASiYQgFH_S"
      },
      "source": [
        "Create models for k=1 and k=3"
      ]
    },
    {
      "cell_type": "code",
      "metadata": {
        "id": "vzdmsp2UEvEQ"
      },
      "source": [
        ""
      ],
      "execution_count": null,
      "outputs": []
    },
    {
      "cell_type": "code",
      "metadata": {
        "id": "HbqN74I7E2OS"
      },
      "source": [
        ""
      ],
      "execution_count": null,
      "outputs": []
    },
    {
      "cell_type": "markdown",
      "metadata": {
        "id": "sAqbosXIFQRV"
      },
      "source": [
        "Train models for k=1 and k=3"
      ]
    },
    {
      "cell_type": "code",
      "metadata": {
        "id": "DDkNCcHvE626"
      },
      "source": [
        ""
      ],
      "execution_count": null,
      "outputs": []
    },
    {
      "cell_type": "code",
      "metadata": {
        "id": "2HNV9fEEFBJs"
      },
      "source": [
        ""
      ],
      "execution_count": null,
      "outputs": []
    },
    {
      "cell_type": "markdown",
      "metadata": {
        "id": "K62OkoEoDWwY"
      },
      "source": [
        "Plot ROC curves for each KNN model (k=1, 3, 5) on the same plot.\n",
        "\n",
        "(Your plot will have three curves on it.) \n"
      ]
    },
    {
      "cell_type": "code",
      "metadata": {
        "id": "TucO2tcuGE_h"
      },
      "source": [
        ""
      ],
      "execution_count": null,
      "outputs": []
    },
    {
      "cell_type": "markdown",
      "metadata": {
        "id": "YdhmDrwWHMUJ"
      },
      "source": [
        "Plot PR curves for each KNN model (k=1, 3, 5) on the same plot.\n",
        "\n",
        "(Your plot will have three curves on it.) "
      ]
    },
    {
      "cell_type": "code",
      "metadata": {
        "id": "GbqANa7sHUGc"
      },
      "source": [
        ""
      ],
      "execution_count": null,
      "outputs": []
    },
    {
      "cell_type": "markdown",
      "metadata": {
        "id": "GdlRLiERHovs"
      },
      "source": [
        "1. Is there a clear winner? \n",
        "2. Is there a model that is clearly the worst?\n",
        "\n"
      ]
    },
    {
      "cell_type": "markdown",
      "metadata": {
        "id": "9YrpkmyTMJ_A"
      },
      "source": [
        ""
      ]
    },
    {
      "cell_type": "markdown",
      "metadata": {
        "id": "fvXuDF3M_anm"
      },
      "source": [
        "# (10 pts) Participation quiz - Performance evaluation\n",
        "\n",
        "Answer the following questions for participation credit for today's class."
      ]
    },
    {
      "cell_type": "markdown",
      "metadata": {
        "id": "3aGnaeo4_hB1"
      },
      "source": [
        "## (1) What is one thing that you learned in class today?"
      ]
    },
    {
      "cell_type": "markdown",
      "metadata": {
        "id": "ctIfzhG-_j88"
      },
      "source": [
        ""
      ]
    },
    {
      "cell_type": "markdown",
      "metadata": {
        "id": "RvOMj8rh_dtD"
      },
      "source": [
        "## (2) What is one question that you have related to today's class?"
      ]
    },
    {
      "cell_type": "markdown",
      "metadata": {
        "id": "B65t-3fU_k8F"
      },
      "source": [
        ""
      ]
    },
    {
      "cell_type": "markdown",
      "metadata": {
        "id": "Vr-Z7kNyEGk7"
      },
      "source": [
        "## (3) Comparing classifiers \n",
        "Suppose a dataset (the ***test set***) has 20 MALIGNANT tumors and 5000 BENIGN tumors (5020 instances total in test set).\n",
        "- KNN has 200 ***false positives***, 18 ***true positives***.\n",
        "- SVM has 2 ***false positives***, 7 ***true positives***.\n",
        "\n"
      ]
    },
    {
      "cell_type": "markdown",
      "metadata": {
        "id": "BM_vv3z5FJVJ"
      },
      "source": [
        "What is the ***Recall*** (TPR) for both classifiers? "
      ]
    },
    {
      "cell_type": "code",
      "metadata": {
        "id": "5eVcjNDPFuhZ"
      },
      "source": [
        ""
      ],
      "execution_count": null,
      "outputs": []
    },
    {
      "cell_type": "markdown",
      "metadata": {
        "id": "Xx-KSpLfFKu7"
      },
      "source": [
        "What is the ***False positive rate*** for both classifiers?"
      ]
    },
    {
      "cell_type": "code",
      "metadata": {
        "id": "WjgSD7X8Gb0e"
      },
      "source": [
        ""
      ],
      "execution_count": null,
      "outputs": []
    },
    {
      "cell_type": "markdown",
      "metadata": {
        "id": "TtMNVzmyFLVO"
      },
      "source": [
        "What is the ***Precision*** for both classifiers?"
      ]
    },
    {
      "cell_type": "code",
      "metadata": {
        "id": "xLWE5qt3Gy1c"
      },
      "source": [
        ""
      ],
      "execution_count": null,
      "outputs": []
    },
    {
      "cell_type": "markdown",
      "metadata": {
        "id": "qplp7_QcFLx8"
      },
      "source": [
        "How do the two algorithms compare on this dataset? "
      ]
    },
    {
      "cell_type": "markdown",
      "metadata": {
        "id": "M3Aeeu9VLM9J"
      },
      "source": [
        ""
      ]
    },
    {
      "cell_type": "markdown",
      "metadata": {
        "id": "4uff2QCWH28n"
      },
      "source": [
        "If you want to catch more cancerous cases, which is more effective? \n",
        "\n",
        "\n"
      ]
    },
    {
      "cell_type": "markdown",
      "metadata": {
        "id": "b_u0i6wHLLA3"
      },
      "source": [
        ""
      ]
    },
    {
      "cell_type": "markdown",
      "metadata": {
        "id": "CFt5IdVOLHhr"
      },
      "source": [
        "If this classifier is used for screening people in real life, what could be a problem with this choice?"
      ]
    },
    {
      "cell_type": "markdown",
      "metadata": {
        "id": "VXbjh5YpLI8E"
      },
      "source": [
        ""
      ]
    }
  ]
}