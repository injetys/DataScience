{
  "nbformat": 4,
  "nbformat_minor": 0,
  "metadata": {
    "colab": {
      "name": "Data Cleaning.ipynb",
      "provenance": [],
      "collapsed_sections": []
    },
    "language_info": {
      "codemirror_mode": {
        "name": "ipython",
        "version": 3
      },
      "file_extension": ".py",
      "mimetype": "text/x-python",
      "name": "python",
      "nbconvert_exporter": "python",
      "pygments_lexer": "ipython3",
      "version": "3.7.1"
    },
    "kernelspec": {
      "display_name": "Python 3",
      "language": "python",
      "name": "python3"
    }
  },
  "cells": [
    {
      "cell_type": "markdown",
      "metadata": {
        "id": "6ixJ7Jg-LigP"
      },
      "source": [
        "# Data Exploring & Cleaning\n",
        "\n",
        "Today we will focus on taking a first look at some data sets and cleaning the data.\n",
        "\n",
        "## Setting up Kaggle\n",
        "\n",
        "First off Colaboratory users will need to run a couple of cells to get set up to aquire Kaggle data.  The cells below are currently Markdown cells.  Change these cells to Code cells and run them if you are using Colaboratory. (Tools --> Command palette --> Change to Code Cell)"
      ]
    },
    {
      "cell_type": "code",
      "metadata": {
        "id": "uGIzU63FMjJD"
      },
      "source": [
        ""
      ],
      "execution_count": null,
      "outputs": []
    },
    {
      "cell_type": "code",
      "metadata": {
        "id": "pvCF3bq7LigT",
        "colab": {
          "base_uri": "https://localhost:8080/",
          "height": 204
        },
        "outputId": "6efe1bbf-3184-45dd-e902-00678af00ee4"
      },
      "source": [
        "### Run this cell only if using Colaboratory to install the Kaggle API\n",
        "!pip install kaggle"
      ],
      "execution_count": null,
      "outputs": [
        {
          "output_type": "stream",
          "text": [
            "Requirement already satisfied: kaggle in /usr/local/lib/python3.6/dist-packages (1.5.1.1)\n",
            "Requirement already satisfied: urllib3<1.23.0,>=1.15 in /usr/local/lib/python3.6/dist-packages (from kaggle) (1.22)\n",
            "Requirement already satisfied: six>=1.10 in /usr/local/lib/python3.6/dist-packages (from kaggle) (1.11.0)\n",
            "Requirement already satisfied: certifi in /usr/local/lib/python3.6/dist-packages (from kaggle) (2018.11.29)\n",
            "Requirement already satisfied: python-dateutil in /usr/local/lib/python3.6/dist-packages (from kaggle) (2.5.3)\n",
            "Requirement already satisfied: requests in /usr/local/lib/python3.6/dist-packages (from kaggle) (2.18.4)\n",
            "Requirement already satisfied: tqdm in /usr/local/lib/python3.6/dist-packages (from kaggle) (4.28.1)\n",
            "Requirement already satisfied: python-slugify in /usr/local/lib/python3.6/dist-packages (from kaggle) (2.0.1)\n",
            "Requirement already satisfied: chardet<3.1.0,>=3.0.2 in /usr/local/lib/python3.6/dist-packages (from requests->kaggle) (3.0.4)\n",
            "Requirement already satisfied: idna<2.7,>=2.5 in /usr/local/lib/python3.6/dist-packages (from requests->kaggle) (2.6)\n",
            "Requirement already satisfied: Unidecode>=0.04.16 in /usr/local/lib/python3.6/dist-packages (from python-slugify->kaggle) (1.0.23)\n"
          ],
          "name": "stdout"
        }
      ]
    },
    {
      "cell_type": "code",
      "metadata": {
        "id": "o-KeIwRkMn1E"
      },
      "source": [
        ""
      ],
      "execution_count": null,
      "outputs": []
    },
    {
      "cell_type": "markdown",
      "metadata": {
        "id": "ugKDTJ9URuUa"
      },
      "source": [
        "### Run this cell only if using Colaboratory to set up the Kaggle API\n",
        "\n",
        "from googleapiclient.discovery import build\n",
        "import io, os\n",
        "from googleapiclient.http import MediaIoBaseDownload\n",
        "from google.colab import auth\n",
        "\n",
        "auth.authenticate_user()\n",
        "\n",
        "drive_service = build('drive', 'v3')\n",
        "results = drive_service.files().list(\n",
        "        q=\"name = 'kaggle.json'\", fields=\"files(id)\").execute()\n",
        "kaggle_api_key = results.get('files', [])\n",
        "\n",
        "#filename = \"/content/.kaggle/kaggle.json\"\n",
        "filename = \"/root/.kaggle/kaggle.json\"\n",
        "os.makedirs(os.path.dirname(filename), exist_ok=True)\n",
        "\n",
        "request = drive_service.files().get_media(fileId=kaggle_api_key[0]['id'])\n",
        "fh = io.FileIO(filename, 'wb')\n",
        "downloader = MediaIoBaseDownload(fh, request)\n",
        "done = False\n",
        "while done is False:\n",
        "    status, done = downloader.next_chunk()\n",
        "    print(\"Download %d%%.\" % int(status.progress() * 100))\n",
        "os.chmod(filename, 600)"
      ]
    },
    {
      "cell_type": "markdown",
      "metadata": {
        "id": "rz-WgQ2vLiga"
      },
      "source": [
        "## Cleaning and Munging a Simple Data Frame\n",
        "\n",
        "Before working with a large data set, let us first practice with a small amount of data in a simple data frame.  This example comes from [here](https://github.com/ajcr/100-pandas-puzzles/blob/master/100-pandas-puzzles-with-solutions.ipynb). The data consists of some made-up flight information."
      ]
    },
    {
      "cell_type": "code",
      "metadata": {
        "id": "4zlqsyf-Ligc",
        "colab": {
          "base_uri": "https://localhost:8080/",
          "height": 204
        },
        "outputId": "b8faffa7-f728-4290-b097-110057bb53c1"
      },
      "source": [
        "import numpy as np\n",
        "import pandas as pd\n",
        "\n",
        "df = pd.DataFrame({'From_To': ['LoNDon_paris', 'MAdrid_miLAN', 'londON_StockhOlm', \n",
        "                               'Budapest_PaRis', 'Brussels_londOn'],\n",
        "              'FlightNumber': [10045, np.nan, 10065, np.nan, 10085],\n",
        "              'RecentDelays': [[23, 47], [], [24, 43, 87], [13], [67, 32]],\n",
        "                   'Airline': ['KLM(!)', '<Air France> (12)', '(British Airways. )', \n",
        "                               '12. Air France', '\"Swiss Air\"']})\n",
        "df"
      ],
      "execution_count": null,
      "outputs": [
        {
          "output_type": "execute_result",
          "data": {
            "text/html": [
              "<div>\n",
              "<style scoped>\n",
              "    .dataframe tbody tr th:only-of-type {\n",
              "        vertical-align: middle;\n",
              "    }\n",
              "\n",
              "    .dataframe tbody tr th {\n",
              "        vertical-align: top;\n",
              "    }\n",
              "\n",
              "    .dataframe thead th {\n",
              "        text-align: right;\n",
              "    }\n",
              "</style>\n",
              "<table border=\"1\" class=\"dataframe\">\n",
              "  <thead>\n",
              "    <tr style=\"text-align: right;\">\n",
              "      <th></th>\n",
              "      <th>Airline</th>\n",
              "      <th>FlightNumber</th>\n",
              "      <th>From_To</th>\n",
              "      <th>RecentDelays</th>\n",
              "    </tr>\n",
              "  </thead>\n",
              "  <tbody>\n",
              "    <tr>\n",
              "      <th>0</th>\n",
              "      <td>KLM(!)</td>\n",
              "      <td>10045.0</td>\n",
              "      <td>LoNDon_paris</td>\n",
              "      <td>[23, 47]</td>\n",
              "    </tr>\n",
              "    <tr>\n",
              "      <th>1</th>\n",
              "      <td>&lt;Air France&gt; (12)</td>\n",
              "      <td>NaN</td>\n",
              "      <td>MAdrid_miLAN</td>\n",
              "      <td>[]</td>\n",
              "    </tr>\n",
              "    <tr>\n",
              "      <th>2</th>\n",
              "      <td>(British Airways. )</td>\n",
              "      <td>10065.0</td>\n",
              "      <td>londON_StockhOlm</td>\n",
              "      <td>[24, 43, 87]</td>\n",
              "    </tr>\n",
              "    <tr>\n",
              "      <th>3</th>\n",
              "      <td>12. Air France</td>\n",
              "      <td>NaN</td>\n",
              "      <td>Budapest_PaRis</td>\n",
              "      <td>[13]</td>\n",
              "    </tr>\n",
              "    <tr>\n",
              "      <th>4</th>\n",
              "      <td>\"Swiss Air\"</td>\n",
              "      <td>10085.0</td>\n",
              "      <td>Brussels_londOn</td>\n",
              "      <td>[67, 32]</td>\n",
              "    </tr>\n",
              "  </tbody>\n",
              "</table>\n",
              "</div>"
            ],
            "text/plain": [
              "               Airline  FlightNumber           From_To  RecentDelays\n",
              "0               KLM(!)       10045.0      LoNDon_paris      [23, 47]\n",
              "1    <Air France> (12)           NaN      MAdrid_miLAN            []\n",
              "2  (British Airways. )       10065.0  londON_StockhOlm  [24, 43, 87]\n",
              "3       12. Air France           NaN    Budapest_PaRis          [13]\n",
              "4          \"Swiss Air\"       10085.0   Brussels_londOn      [67, 32]"
            ]
          },
          "metadata": {
            "tags": []
          },
          "execution_count": 2
        }
      ]
    },
    {
      "cell_type": "markdown",
      "metadata": {
        "id": "hfFSuiyFLigq"
      },
      "source": [
        "Some values in the the FlightNumber column are missing. These numbers are meant to increase by 10 with each row so 10055 and 10075 need to be put in place. Fill in these missing numbers and make the column an integer column (instead of a float column). The pandas `interpolate` function fills in NaNs with interpolated values and is described [here](http://pandas.pydata.org/pandas-docs/version/0.16.2/generated/pandas.DataFrame.interpolate.html)."
      ]
    },
    {
      "cell_type": "code",
      "metadata": {
        "id": "tnVmhT4BLigt",
        "colab": {
          "base_uri": "https://localhost:8080/",
          "height": 119
        },
        "outputId": "5c73c092-8f69-4bdb-d196-61df9a97bed1"
      },
      "source": [
        "df['FlightNumber'] = df['FlightNumber'].interpolate().astype(int)\n",
        "df['FlightNumber']"
      ],
      "execution_count": null,
      "outputs": [
        {
          "output_type": "execute_result",
          "data": {
            "text/plain": [
              "0    10045\n",
              "1    10055\n",
              "2    10065\n",
              "3    10075\n",
              "4    10085\n",
              "Name: FlightNumber, dtype: int64"
            ]
          },
          "metadata": {
            "tags": []
          },
          "execution_count": 3
        }
      ]
    },
    {
      "cell_type": "markdown",
      "metadata": {
        "id": "rgzZtS2-Lig5"
      },
      "source": [
        "The From_To column would be better as two separate columns! Split each string on the underscore delimiter _ to give a new temporary DataFrame with the correct values. Assign the correct column names to this temporary DataFrame."
      ]
    },
    {
      "cell_type": "code",
      "metadata": {
        "id": "gnoYvh4mLig8",
        "colab": {
          "base_uri": "https://localhost:8080/",
          "height": 204
        },
        "outputId": "16e8ddfe-060e-419e-b9e1-55063d8e37ce"
      },
      "source": [
        "temp = df.From_To.str.split('_', expand=True)\n",
        "temp.columns = ['From', 'To']\n",
        "temp"
      ],
      "execution_count": null,
      "outputs": [
        {
          "output_type": "execute_result",
          "data": {
            "text/html": [
              "<div>\n",
              "<style scoped>\n",
              "    .dataframe tbody tr th:only-of-type {\n",
              "        vertical-align: middle;\n",
              "    }\n",
              "\n",
              "    .dataframe tbody tr th {\n",
              "        vertical-align: top;\n",
              "    }\n",
              "\n",
              "    .dataframe thead th {\n",
              "        text-align: right;\n",
              "    }\n",
              "</style>\n",
              "<table border=\"1\" class=\"dataframe\">\n",
              "  <thead>\n",
              "    <tr style=\"text-align: right;\">\n",
              "      <th></th>\n",
              "      <th>From</th>\n",
              "      <th>To</th>\n",
              "    </tr>\n",
              "  </thead>\n",
              "  <tbody>\n",
              "    <tr>\n",
              "      <th>0</th>\n",
              "      <td>LoNDon</td>\n",
              "      <td>paris</td>\n",
              "    </tr>\n",
              "    <tr>\n",
              "      <th>1</th>\n",
              "      <td>MAdrid</td>\n",
              "      <td>miLAN</td>\n",
              "    </tr>\n",
              "    <tr>\n",
              "      <th>2</th>\n",
              "      <td>londON</td>\n",
              "      <td>StockhOlm</td>\n",
              "    </tr>\n",
              "    <tr>\n",
              "      <th>3</th>\n",
              "      <td>Budapest</td>\n",
              "      <td>PaRis</td>\n",
              "    </tr>\n",
              "    <tr>\n",
              "      <th>4</th>\n",
              "      <td>Brussels</td>\n",
              "      <td>londOn</td>\n",
              "    </tr>\n",
              "  </tbody>\n",
              "</table>\n",
              "</div>"
            ],
            "text/plain": [
              "       From         To\n",
              "0    LoNDon      paris\n",
              "1    MAdrid      miLAN\n",
              "2    londON  StockhOlm\n",
              "3  Budapest      PaRis\n",
              "4  Brussels     londOn"
            ]
          },
          "metadata": {
            "tags": []
          },
          "execution_count": 4
        }
      ]
    },
    {
      "cell_type": "markdown",
      "metadata": {
        "id": "E01GSZd3LihH"
      },
      "source": [
        "Notice how the capitalisation of the city names is all mixed up in this temporary DataFrame. Standardise the strings so that only the first letter is uppercase (e.g. \"LoNDon\" should become \"London\".)  The string method `capitalize()` does just that."
      ]
    },
    {
      "cell_type": "code",
      "metadata": {
        "id": "os9RPzp7LihK",
        "colab": {
          "base_uri": "https://localhost:8080/",
          "height": 204
        },
        "outputId": "4a422a4a-bdb9-419d-bdda-93e7689b6943"
      },
      "source": [
        "temp['From'] = temp['From'].str.capitalize()\n",
        "temp['To'] = temp['To'].str.capitalize()\n",
        "temp"
      ],
      "execution_count": null,
      "outputs": [
        {
          "output_type": "execute_result",
          "data": {
            "text/html": [
              "<div>\n",
              "<style scoped>\n",
              "    .dataframe tbody tr th:only-of-type {\n",
              "        vertical-align: middle;\n",
              "    }\n",
              "\n",
              "    .dataframe tbody tr th {\n",
              "        vertical-align: top;\n",
              "    }\n",
              "\n",
              "    .dataframe thead th {\n",
              "        text-align: right;\n",
              "    }\n",
              "</style>\n",
              "<table border=\"1\" class=\"dataframe\">\n",
              "  <thead>\n",
              "    <tr style=\"text-align: right;\">\n",
              "      <th></th>\n",
              "      <th>From</th>\n",
              "      <th>To</th>\n",
              "    </tr>\n",
              "  </thead>\n",
              "  <tbody>\n",
              "    <tr>\n",
              "      <th>0</th>\n",
              "      <td>London</td>\n",
              "      <td>Paris</td>\n",
              "    </tr>\n",
              "    <tr>\n",
              "      <th>1</th>\n",
              "      <td>Madrid</td>\n",
              "      <td>Milan</td>\n",
              "    </tr>\n",
              "    <tr>\n",
              "      <th>2</th>\n",
              "      <td>London</td>\n",
              "      <td>Stockholm</td>\n",
              "    </tr>\n",
              "    <tr>\n",
              "      <th>3</th>\n",
              "      <td>Budapest</td>\n",
              "      <td>Paris</td>\n",
              "    </tr>\n",
              "    <tr>\n",
              "      <th>4</th>\n",
              "      <td>Brussels</td>\n",
              "      <td>London</td>\n",
              "    </tr>\n",
              "  </tbody>\n",
              "</table>\n",
              "</div>"
            ],
            "text/plain": [
              "       From         To\n",
              "0    London      Paris\n",
              "1    Madrid      Milan\n",
              "2    London  Stockholm\n",
              "3  Budapest      Paris\n",
              "4  Brussels     London"
            ]
          },
          "metadata": {
            "tags": []
          },
          "execution_count": 5
        }
      ]
    },
    {
      "cell_type": "markdown",
      "metadata": {
        "id": "6yeWzxrhLihU"
      },
      "source": [
        "Delete the From_To column from df and attach the temporary DataFrame."
      ]
    },
    {
      "cell_type": "code",
      "metadata": {
        "id": "FgotUdXJLihY",
        "colab": {
          "base_uri": "https://localhost:8080/",
          "height": 204
        },
        "outputId": "e1ef2e70-6efa-44eb-ac28-b19ab2ccecbc"
      },
      "source": [
        "df = df.drop('From_To', axis=1)\n",
        "df = df.join(temp)\n",
        "df"
      ],
      "execution_count": null,
      "outputs": [
        {
          "output_type": "execute_result",
          "data": {
            "text/html": [
              "<div>\n",
              "<style scoped>\n",
              "    .dataframe tbody tr th:only-of-type {\n",
              "        vertical-align: middle;\n",
              "    }\n",
              "\n",
              "    .dataframe tbody tr th {\n",
              "        vertical-align: top;\n",
              "    }\n",
              "\n",
              "    .dataframe thead th {\n",
              "        text-align: right;\n",
              "    }\n",
              "</style>\n",
              "<table border=\"1\" class=\"dataframe\">\n",
              "  <thead>\n",
              "    <tr style=\"text-align: right;\">\n",
              "      <th></th>\n",
              "      <th>Airline</th>\n",
              "      <th>FlightNumber</th>\n",
              "      <th>RecentDelays</th>\n",
              "      <th>From</th>\n",
              "      <th>To</th>\n",
              "    </tr>\n",
              "  </thead>\n",
              "  <tbody>\n",
              "    <tr>\n",
              "      <th>0</th>\n",
              "      <td>KLM(!)</td>\n",
              "      <td>10045</td>\n",
              "      <td>[23, 47]</td>\n",
              "      <td>London</td>\n",
              "      <td>Paris</td>\n",
              "    </tr>\n",
              "    <tr>\n",
              "      <th>1</th>\n",
              "      <td>&lt;Air France&gt; (12)</td>\n",
              "      <td>10055</td>\n",
              "      <td>[]</td>\n",
              "      <td>Madrid</td>\n",
              "      <td>Milan</td>\n",
              "    </tr>\n",
              "    <tr>\n",
              "      <th>2</th>\n",
              "      <td>(British Airways. )</td>\n",
              "      <td>10065</td>\n",
              "      <td>[24, 43, 87]</td>\n",
              "      <td>London</td>\n",
              "      <td>Stockholm</td>\n",
              "    </tr>\n",
              "    <tr>\n",
              "      <th>3</th>\n",
              "      <td>12. Air France</td>\n",
              "      <td>10075</td>\n",
              "      <td>[13]</td>\n",
              "      <td>Budapest</td>\n",
              "      <td>Paris</td>\n",
              "    </tr>\n",
              "    <tr>\n",
              "      <th>4</th>\n",
              "      <td>\"Swiss Air\"</td>\n",
              "      <td>10085</td>\n",
              "      <td>[67, 32]</td>\n",
              "      <td>Brussels</td>\n",
              "      <td>London</td>\n",
              "    </tr>\n",
              "  </tbody>\n",
              "</table>\n",
              "</div>"
            ],
            "text/plain": [
              "               Airline  FlightNumber  RecentDelays      From         To\n",
              "0               KLM(!)         10045      [23, 47]    London      Paris\n",
              "1    <Air France> (12)         10055            []    Madrid      Milan\n",
              "2  (British Airways. )         10065  [24, 43, 87]    London  Stockholm\n",
              "3       12. Air France         10075          [13]  Budapest      Paris\n",
              "4          \"Swiss Air\"         10085      [67, 32]  Brussels     London"
            ]
          },
          "metadata": {
            "tags": []
          },
          "execution_count": 6
        }
      ]
    },
    {
      "cell_type": "markdown",
      "metadata": {
        "id": "vccN0FvQLihl"
      },
      "source": [
        "In the Airline column, you can see some extra puctuation and symbols have appeared around the airline names. Pull out just the airline name. E.g. '(British Airways. )' should become 'British Airways'."
      ]
    },
    {
      "cell_type": "code",
      "metadata": {
        "id": "VfH731OALiho",
        "colab": {
          "base_uri": "https://localhost:8080/",
          "height": 119
        },
        "outputId": "95e44791-c4ea-4dc3-f357-dc4f38d9c6a3"
      },
      "source": [
        "df['Airline'] = df['Airline'].str.extract('([a-zA-Z\\s]+)', expand=False).str.strip()\n",
        "# note: using .strip() gets rid of any leading/trailing spaces\n",
        "df.Airline"
      ],
      "execution_count": null,
      "outputs": [
        {
          "output_type": "execute_result",
          "data": {
            "text/plain": [
              "0                KLM\n",
              "1         Air France\n",
              "2    British Airways\n",
              "3         Air France\n",
              "4          Swiss Air\n",
              "Name: Airline, dtype: object"
            ]
          },
          "metadata": {
            "tags": []
          },
          "execution_count": 7
        }
      ]
    },
    {
      "cell_type": "markdown",
      "metadata": {
        "id": "Q_AlWXx7Lihw"
      },
      "source": [
        "In the RecentDelays column, the values have been entered into the DataFrame as a list. We would like each first value in its own column, each second value in its own column, and so on. If there isn't an Nth value, the value should be NaN.\n",
        "\n",
        "Expand the Series of lists into a DataFrame named delays, rename the columns delay_1, delay_2, etc. and replace the unwanted RecentDelays column in df with delays."
      ]
    },
    {
      "cell_type": "code",
      "metadata": {
        "id": "bI2tc5jjLihy"
      },
      "source": [
        "# there are several ways to do this, but the following approach is possibly the simplest\n",
        "\n",
        "delays = df['RecentDelays'].apply(pd.Series)\n",
        "\n",
        "delays.columns = ['delay_{}'.format(n) for n in range(1, len(delays.columns)+1)]\n",
        "\n",
        "df = df.drop('RecentDelays', axis=1).join(delays)"
      ],
      "execution_count": null,
      "outputs": []
    },
    {
      "cell_type": "markdown",
      "metadata": {
        "id": "g_hjqJnjLih3"
      },
      "source": [
        "The DataFrame should look much better now."
      ]
    },
    {
      "cell_type": "code",
      "metadata": {
        "id": "UmdPiD0NLih4",
        "colab": {
          "base_uri": "https://localhost:8080/",
          "height": 204
        },
        "outputId": "8b38cd1b-87ab-47de-a121-a5d123ce7ff4"
      },
      "source": [
        "df"
      ],
      "execution_count": null,
      "outputs": [
        {
          "output_type": "execute_result",
          "data": {
            "text/html": [
              "<div>\n",
              "<style scoped>\n",
              "    .dataframe tbody tr th:only-of-type {\n",
              "        vertical-align: middle;\n",
              "    }\n",
              "\n",
              "    .dataframe tbody tr th {\n",
              "        vertical-align: top;\n",
              "    }\n",
              "\n",
              "    .dataframe thead th {\n",
              "        text-align: right;\n",
              "    }\n",
              "</style>\n",
              "<table border=\"1\" class=\"dataframe\">\n",
              "  <thead>\n",
              "    <tr style=\"text-align: right;\">\n",
              "      <th></th>\n",
              "      <th>Airline</th>\n",
              "      <th>FlightNumber</th>\n",
              "      <th>From</th>\n",
              "      <th>To</th>\n",
              "      <th>delay_1</th>\n",
              "      <th>delay_2</th>\n",
              "      <th>delay_3</th>\n",
              "    </tr>\n",
              "  </thead>\n",
              "  <tbody>\n",
              "    <tr>\n",
              "      <th>0</th>\n",
              "      <td>KLM</td>\n",
              "      <td>10045</td>\n",
              "      <td>London</td>\n",
              "      <td>Paris</td>\n",
              "      <td>23.0</td>\n",
              "      <td>47.0</td>\n",
              "      <td>NaN</td>\n",
              "    </tr>\n",
              "    <tr>\n",
              "      <th>1</th>\n",
              "      <td>Air France</td>\n",
              "      <td>10055</td>\n",
              "      <td>Madrid</td>\n",
              "      <td>Milan</td>\n",
              "      <td>NaN</td>\n",
              "      <td>NaN</td>\n",
              "      <td>NaN</td>\n",
              "    </tr>\n",
              "    <tr>\n",
              "      <th>2</th>\n",
              "      <td>British Airways</td>\n",
              "      <td>10065</td>\n",
              "      <td>London</td>\n",
              "      <td>Stockholm</td>\n",
              "      <td>24.0</td>\n",
              "      <td>43.0</td>\n",
              "      <td>87.0</td>\n",
              "    </tr>\n",
              "    <tr>\n",
              "      <th>3</th>\n",
              "      <td>Air France</td>\n",
              "      <td>10075</td>\n",
              "      <td>Budapest</td>\n",
              "      <td>Paris</td>\n",
              "      <td>13.0</td>\n",
              "      <td>NaN</td>\n",
              "      <td>NaN</td>\n",
              "    </tr>\n",
              "    <tr>\n",
              "      <th>4</th>\n",
              "      <td>Swiss Air</td>\n",
              "      <td>10085</td>\n",
              "      <td>Brussels</td>\n",
              "      <td>London</td>\n",
              "      <td>67.0</td>\n",
              "      <td>32.0</td>\n",
              "      <td>NaN</td>\n",
              "    </tr>\n",
              "  </tbody>\n",
              "</table>\n",
              "</div>"
            ],
            "text/plain": [
              "           Airline  FlightNumber      From         To  delay_1  delay_2  \\\n",
              "0              KLM         10045    London      Paris     23.0     47.0   \n",
              "1       Air France         10055    Madrid      Milan      NaN      NaN   \n",
              "2  British Airways         10065    London  Stockholm     24.0     43.0   \n",
              "3       Air France         10075  Budapest      Paris     13.0      NaN   \n",
              "4        Swiss Air         10085  Brussels     London     67.0     32.0   \n",
              "\n",
              "   delay_3  \n",
              "0      NaN  \n",
              "1      NaN  \n",
              "2     87.0  \n",
              "3      NaN  \n",
              "4      NaN  "
            ]
          },
          "metadata": {
            "tags": []
          },
          "execution_count": 9
        }
      ]
    },
    {
      "cell_type": "markdown",
      "metadata": {
        "id": "bZDBx99LLih-"
      },
      "source": [
        "Finally, let's replace the NaNs in the delay columns with zeros.  Take a look at the pandas [fillna](https://pandas.pydata.org/pandas-docs/stable/generated/pandas.DataFrame.fillna.html) method for a suggestion on how to do this. Also display the modified DataFrame."
      ]
    },
    {
      "cell_type": "code",
      "metadata": {
        "id": "ZUeXRcanLih_",
        "colab": {
          "base_uri": "https://localhost:8080/",
          "height": 204
        },
        "outputId": "1e03adf5-32ec-4fe9-a291-cb50149db259"
      },
      "source": [
        "# Task 1: Enter code in this cell to change the NaN delays to zeros.  Re-display the modified DataFrame.\n",
        "\n",
        "values = {'delay_1': 0, 'delay_2': 0, 'delay_3': 0}\n",
        "df.fillna(value=values)"
      ],
      "execution_count": null,
      "outputs": [
        {
          "output_type": "execute_result",
          "data": {
            "text/html": [
              "<div>\n",
              "<style scoped>\n",
              "    .dataframe tbody tr th:only-of-type {\n",
              "        vertical-align: middle;\n",
              "    }\n",
              "\n",
              "    .dataframe tbody tr th {\n",
              "        vertical-align: top;\n",
              "    }\n",
              "\n",
              "    .dataframe thead th {\n",
              "        text-align: right;\n",
              "    }\n",
              "</style>\n",
              "<table border=\"1\" class=\"dataframe\">\n",
              "  <thead>\n",
              "    <tr style=\"text-align: right;\">\n",
              "      <th></th>\n",
              "      <th>Airline</th>\n",
              "      <th>FlightNumber</th>\n",
              "      <th>From</th>\n",
              "      <th>To</th>\n",
              "      <th>delay_1</th>\n",
              "      <th>delay_2</th>\n",
              "      <th>delay_3</th>\n",
              "    </tr>\n",
              "  </thead>\n",
              "  <tbody>\n",
              "    <tr>\n",
              "      <th>0</th>\n",
              "      <td>KLM</td>\n",
              "      <td>10045</td>\n",
              "      <td>London</td>\n",
              "      <td>Paris</td>\n",
              "      <td>23.0</td>\n",
              "      <td>47.0</td>\n",
              "      <td>0.0</td>\n",
              "    </tr>\n",
              "    <tr>\n",
              "      <th>1</th>\n",
              "      <td>Air France</td>\n",
              "      <td>10055</td>\n",
              "      <td>Madrid</td>\n",
              "      <td>Milan</td>\n",
              "      <td>0.0</td>\n",
              "      <td>0.0</td>\n",
              "      <td>0.0</td>\n",
              "    </tr>\n",
              "    <tr>\n",
              "      <th>2</th>\n",
              "      <td>British Airways</td>\n",
              "      <td>10065</td>\n",
              "      <td>London</td>\n",
              "      <td>Stockholm</td>\n",
              "      <td>24.0</td>\n",
              "      <td>43.0</td>\n",
              "      <td>87.0</td>\n",
              "    </tr>\n",
              "    <tr>\n",
              "      <th>3</th>\n",
              "      <td>Air France</td>\n",
              "      <td>10075</td>\n",
              "      <td>Budapest</td>\n",
              "      <td>Paris</td>\n",
              "      <td>13.0</td>\n",
              "      <td>0.0</td>\n",
              "      <td>0.0</td>\n",
              "    </tr>\n",
              "    <tr>\n",
              "      <th>4</th>\n",
              "      <td>Swiss Air</td>\n",
              "      <td>10085</td>\n",
              "      <td>Brussels</td>\n",
              "      <td>London</td>\n",
              "      <td>67.0</td>\n",
              "      <td>32.0</td>\n",
              "      <td>0.0</td>\n",
              "    </tr>\n",
              "  </tbody>\n",
              "</table>\n",
              "</div>"
            ],
            "text/plain": [
              "           Airline  FlightNumber      From         To  delay_1  delay_2  \\\n",
              "0              KLM         10045    London      Paris     23.0     47.0   \n",
              "1       Air France         10055    Madrid      Milan      0.0      0.0   \n",
              "2  British Airways         10065    London  Stockholm     24.0     43.0   \n",
              "3       Air France         10075  Budapest      Paris     13.0      0.0   \n",
              "4        Swiss Air         10085  Brussels     London     67.0     32.0   \n",
              "\n",
              "   delay_3  \n",
              "0      0.0  \n",
              "1      0.0  \n",
              "2     87.0  \n",
              "3      0.0  \n",
              "4      0.0  "
            ]
          },
          "metadata": {
            "tags": []
          },
          "execution_count": 10
        }
      ]
    },
    {
      "cell_type": "markdown",
      "metadata": {
        "id": "Uv_D4wh8LiiD"
      },
      "source": [
        "## Building Permit Data \n",
        "\n",
        "Next we will practice cleaning a larger dataset from Kaggle.  This dataset is described in detail [here](https://www.kaggle.com/aparnashastry/building-permit-applications-data).  Go to that page to look at the column details as well as some summary statistics and histograms. The analysis we will perform will follow closely the one from [here](https://www.kaggle.com/chrisbow/cleaning-data-with-python-challenge-day-1).\n",
        "\n",
        "The dataset describes building permits issued for San Francisco from Jan 1, 2013 to Feb 25th 2018.  First, we will download the data."
      ]
    },
    {
      "cell_type": "code",
      "metadata": {
        "id": "0vMhQPqVLiiE",
        "colab": {
          "resources": {
            "http://localhost:8080/nbextensions/google.colab/files.js": {
              "data": "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",
              "ok": true,
              "headers": [
                [
                  "content-type",
                  "application/javascript"
                ]
              ],
              "status": 200,
              "status_text": ""
            }
          },
          "base_uri": "https://localhost:8080/",
          "height": 125
        },
        "outputId": "2fc60c98-9f5c-4f16-ce11-7e0f2b738e7d"
      },
      "source": [
        "from google.colab import files\n",
        "\n",
        "uploaded = files.upload()\n",
        "\n",
        "!unzip building-permit-applications-data"
      ],
      "execution_count": null,
      "outputs": [
        {
          "output_type": "display_data",
          "data": {
            "text/html": [
              "\n",
              "     <input type=\"file\" id=\"files-7fcaadcb-f261-4341-b985-da73e59cd207\" name=\"files[]\" multiple disabled />\n",
              "     <output id=\"result-7fcaadcb-f261-4341-b985-da73e59cd207\">\n",
              "      Upload widget is only available when the cell has been executed in the\n",
              "      current browser session. Please rerun this cell to enable.\n",
              "      </output>\n",
              "      <script src=\"/nbextensions/google.colab/files.js\"></script> "
            ],
            "text/plain": [
              "<IPython.core.display.HTML object>"
            ]
          },
          "metadata": {
            "tags": []
          }
        },
        {
          "output_type": "stream",
          "text": [
            "Saving building-permit-applications-data.zip to building-permit-applications-data.zip\n",
            "Archive:  building-permit-applications-data.zip\n",
            "  inflating: DataDictionaryBuildingPermit.xlsx  \n",
            "  inflating: Building_Permits.csv    \n"
          ],
          "name": "stdout"
        }
      ]
    },
    {
      "cell_type": "markdown",
      "metadata": {
        "id": "FGdRc6_SLiiJ"
      },
      "source": [
        "Next, unzip the file and read the contents into a DataFrame."
      ]
    },
    {
      "cell_type": "code",
      "metadata": {
        "id": "4vcF3PXALiiK",
        "colab": {
          "base_uri": "https://localhost:8080/",
          "height": 164
        },
        "outputId": "dc7e93e3-01eb-4c65-e293-c992712c5eec"
      },
      "source": [
        "sfPermits = pd.read_csv(\"Building_Permits.csv\")"
      ],
      "execution_count": null,
      "outputs": [
        {
          "output_type": "error",
          "ename": "NameError",
          "evalue": "ignored",
          "traceback": [
            "\u001b[0;31m---------------------------------------------------------------------------\u001b[0m",
            "\u001b[0;31mNameError\u001b[0m                                 Traceback (most recent call last)",
            "\u001b[0;32m<ipython-input-2-d736f97cdd1d>\u001b[0m in \u001b[0;36m<module>\u001b[0;34m()\u001b[0m\n\u001b[0;32m----> 1\u001b[0;31m \u001b[0msfPermits\u001b[0m \u001b[0;34m=\u001b[0m \u001b[0mpd\u001b[0m\u001b[0;34m.\u001b[0m\u001b[0mread_csv\u001b[0m\u001b[0;34m(\u001b[0m\u001b[0;34m\"Building_Permits.csv\"\u001b[0m\u001b[0;34m)\u001b[0m\u001b[0;34m\u001b[0m\u001b[0;34m\u001b[0m\u001b[0m\n\u001b[0m",
            "\u001b[0;31mNameError\u001b[0m: name 'pd' is not defined"
          ]
        }
      ]
    },
    {
      "cell_type": "markdown",
      "metadata": {
        "id": "ikdxIk9oLiiP"
      },
      "source": [
        "Next, let us take a first look at the data.  Display some randomly selected rows from our data.  We will first set the random seed so that we get the same rows picked if we re-run the notebook."
      ]
    },
    {
      "cell_type": "code",
      "metadata": {
        "id": "_7PndLKpLiiQ",
        "colab": {
          "base_uri": "https://localhost:8080/",
          "height": 474
        },
        "outputId": "94efebbf-38d8-45e8-a675-3e373a0349f9"
      },
      "source": [
        "np.random.seed(0)\n",
        "sfPermits.sample(5)"
      ],
      "execution_count": null,
      "outputs": [
        {
          "output_type": "execute_result",
          "data": {
            "text/html": [
              "<div>\n",
              "<style scoped>\n",
              "    .dataframe tbody tr th:only-of-type {\n",
              "        vertical-align: middle;\n",
              "    }\n",
              "\n",
              "    .dataframe tbody tr th {\n",
              "        vertical-align: top;\n",
              "    }\n",
              "\n",
              "    .dataframe thead th {\n",
              "        text-align: right;\n",
              "    }\n",
              "</style>\n",
              "<table border=\"1\" class=\"dataframe\">\n",
              "  <thead>\n",
              "    <tr style=\"text-align: right;\">\n",
              "      <th></th>\n",
              "      <th>Permit Number</th>\n",
              "      <th>Permit Type</th>\n",
              "      <th>Permit Type Definition</th>\n",
              "      <th>Permit Creation Date</th>\n",
              "      <th>Block</th>\n",
              "      <th>Lot</th>\n",
              "      <th>Street Number</th>\n",
              "      <th>Street Number Suffix</th>\n",
              "      <th>Street Name</th>\n",
              "      <th>Street Suffix</th>\n",
              "      <th>...</th>\n",
              "      <th>Existing Construction Type</th>\n",
              "      <th>Existing Construction Type Description</th>\n",
              "      <th>Proposed Construction Type</th>\n",
              "      <th>Proposed Construction Type Description</th>\n",
              "      <th>Site Permit</th>\n",
              "      <th>Supervisor District</th>\n",
              "      <th>Neighborhoods - Analysis Boundaries</th>\n",
              "      <th>Zipcode</th>\n",
              "      <th>Location</th>\n",
              "      <th>Record ID</th>\n",
              "    </tr>\n",
              "  </thead>\n",
              "  <tbody>\n",
              "    <tr>\n",
              "      <th>40553</th>\n",
              "      <td>201403039652</td>\n",
              "      <td>8</td>\n",
              "      <td>otc alterations permit</td>\n",
              "      <td>03/03/2014</td>\n",
              "      <td>3732</td>\n",
              "      <td>008</td>\n",
              "      <td>400</td>\n",
              "      <td>NaN</td>\n",
              "      <td>Clementina</td>\n",
              "      <td>St</td>\n",
              "      <td>...</td>\n",
              "      <td>NaN</td>\n",
              "      <td>NaN</td>\n",
              "      <td>1.0</td>\n",
              "      <td>constr type 1</td>\n",
              "      <td>NaN</td>\n",
              "      <td>6.0</td>\n",
              "      <td>South of Market</td>\n",
              "      <td>94103.0</td>\n",
              "      <td>(37.780460571778164, -122.40450626524974)</td>\n",
              "      <td>1334094491645</td>\n",
              "    </tr>\n",
              "    <tr>\n",
              "      <th>169731</th>\n",
              "      <td>201510159735</td>\n",
              "      <td>3</td>\n",
              "      <td>additions alterations or repairs</td>\n",
              "      <td>10/15/2015</td>\n",
              "      <td>2609</td>\n",
              "      <td>028</td>\n",
              "      <td>79</td>\n",
              "      <td>NaN</td>\n",
              "      <td>Buena Vista</td>\n",
              "      <td>Tr</td>\n",
              "      <td>...</td>\n",
              "      <td>5.0</td>\n",
              "      <td>wood frame (5)</td>\n",
              "      <td>5.0</td>\n",
              "      <td>wood frame (5)</td>\n",
              "      <td>NaN</td>\n",
              "      <td>8.0</td>\n",
              "      <td>Castro/Upper Market</td>\n",
              "      <td>94117.0</td>\n",
              "      <td>(37.76757916496494, -122.43793170417105)</td>\n",
              "      <td>1399356139170</td>\n",
              "    </tr>\n",
              "    <tr>\n",
              "      <th>19180</th>\n",
              "      <td>M409787</td>\n",
              "      <td>8</td>\n",
              "      <td>otc alterations permit</td>\n",
              "      <td>07/22/2013</td>\n",
              "      <td>4624</td>\n",
              "      <td>031</td>\n",
              "      <td>178</td>\n",
              "      <td>NaN</td>\n",
              "      <td>West Point</td>\n",
              "      <td>Rd</td>\n",
              "      <td>...</td>\n",
              "      <td>NaN</td>\n",
              "      <td>NaN</td>\n",
              "      <td>NaN</td>\n",
              "      <td>NaN</td>\n",
              "      <td>NaN</td>\n",
              "      <td>10.0</td>\n",
              "      <td>Bayview Hunters Point</td>\n",
              "      <td>94124.0</td>\n",
              "      <td>(37.73524725436046, -122.38063828309745)</td>\n",
              "      <td>1311685491725</td>\n",
              "    </tr>\n",
              "    <tr>\n",
              "      <th>68047</th>\n",
              "      <td>201411191888</td>\n",
              "      <td>8</td>\n",
              "      <td>otc alterations permit</td>\n",
              "      <td>11/19/2014</td>\n",
              "      <td>0039</td>\n",
              "      <td>109</td>\n",
              "      <td>294</td>\n",
              "      <td>NaN</td>\n",
              "      <td>Francisco</td>\n",
              "      <td>St</td>\n",
              "      <td>...</td>\n",
              "      <td>5.0</td>\n",
              "      <td>wood frame (5)</td>\n",
              "      <td>5.0</td>\n",
              "      <td>wood frame (5)</td>\n",
              "      <td>NaN</td>\n",
              "      <td>3.0</td>\n",
              "      <td>North Beach</td>\n",
              "      <td>94133.0</td>\n",
              "      <td>(37.805257822817126, -122.40998545760392)</td>\n",
              "      <td>1362881288870</td>\n",
              "    </tr>\n",
              "    <tr>\n",
              "      <th>64238</th>\n",
              "      <td>M527228</td>\n",
              "      <td>8</td>\n",
              "      <td>otc alterations permit</td>\n",
              "      <td>10/14/2014</td>\n",
              "      <td>1251</td>\n",
              "      <td>002</td>\n",
              "      <td>707</td>\n",
              "      <td>NaN</td>\n",
              "      <td>Cole</td>\n",
              "      <td>St</td>\n",
              "      <td>...</td>\n",
              "      <td>NaN</td>\n",
              "      <td>NaN</td>\n",
              "      <td>NaN</td>\n",
              "      <td>NaN</td>\n",
              "      <td>NaN</td>\n",
              "      <td>5.0</td>\n",
              "      <td>Haight Ashbury</td>\n",
              "      <td>94117.0</td>\n",
              "      <td>(37.76836885973765, -122.45074431487859)</td>\n",
              "      <td>135886493776</td>\n",
              "    </tr>\n",
              "  </tbody>\n",
              "</table>\n",
              "<p>5 rows × 43 columns</p>\n",
              "</div>"
            ],
            "text/plain": [
              "       Permit Number  Permit Type            Permit Type Definition  \\\n",
              "40553   201403039652            8            otc alterations permit   \n",
              "169731  201510159735            3  additions alterations or repairs   \n",
              "19180        M409787            8            otc alterations permit   \n",
              "68047   201411191888            8            otc alterations permit   \n",
              "64238        M527228            8            otc alterations permit   \n",
              "\n",
              "       Permit Creation Date Block  Lot  Street Number Street Number Suffix  \\\n",
              "40553            03/03/2014  3732  008            400                  NaN   \n",
              "169731           10/15/2015  2609  028             79                  NaN   \n",
              "19180            07/22/2013  4624  031            178                  NaN   \n",
              "68047            11/19/2014  0039  109            294                  NaN   \n",
              "64238            10/14/2014  1251  002            707                  NaN   \n",
              "\n",
              "        Street Name Street Suffix      ...        Existing Construction Type  \\\n",
              "40553    Clementina            St      ...                               NaN   \n",
              "169731  Buena Vista            Tr      ...                               5.0   \n",
              "19180    West Point            Rd      ...                               NaN   \n",
              "68047     Francisco            St      ...                               5.0   \n",
              "64238          Cole            St      ...                               NaN   \n",
              "\n",
              "       Existing Construction Type Description Proposed Construction Type  \\\n",
              "40553                                     NaN                        1.0   \n",
              "169731                         wood frame (5)                        5.0   \n",
              "19180                                     NaN                        NaN   \n",
              "68047                          wood frame (5)                        5.0   \n",
              "64238                                     NaN                        NaN   \n",
              "\n",
              "       Proposed Construction Type Description Site Permit Supervisor District  \\\n",
              "40553                           constr type 1         NaN                 6.0   \n",
              "169731                         wood frame (5)         NaN                 8.0   \n",
              "19180                                     NaN         NaN                10.0   \n",
              "68047                          wood frame (5)         NaN                 3.0   \n",
              "64238                                     NaN         NaN                 5.0   \n",
              "\n",
              "       Neighborhoods - Analysis Boundaries  Zipcode  \\\n",
              "40553                      South of Market  94103.0   \n",
              "169731                 Castro/Upper Market  94117.0   \n",
              "19180                Bayview Hunters Point  94124.0   \n",
              "68047                          North Beach  94133.0   \n",
              "64238                       Haight Ashbury  94117.0   \n",
              "\n",
              "                                         Location      Record ID  \n",
              "40553   (37.780460571778164, -122.40450626524974)  1334094491645  \n",
              "169731   (37.76757916496494, -122.43793170417105)  1399356139170  \n",
              "19180    (37.73524725436046, -122.38063828309745)  1311685491725  \n",
              "68047   (37.805257822817126, -122.40998545760392)  1362881288870  \n",
              "64238    (37.76836885973765, -122.45074431487859)   135886493776  \n",
              "\n",
              "[5 rows x 43 columns]"
            ]
          },
          "metadata": {
            "tags": []
          },
          "execution_count": 13
        }
      ]
    },
    {
      "cell_type": "markdown",
      "metadata": {
        "id": "m71eedC2LiiU"
      },
      "source": [
        "Quite a few missing values visible already, and we've only looked at five rows of the dataset, cleaning will be required...\n",
        "\n",
        "### Find out what percent of the sf_permit dataset is missing"
      ]
    },
    {
      "cell_type": "code",
      "metadata": {
        "id": "TCusuiIALiiV",
        "colab": {
          "base_uri": "https://localhost:8080/",
          "height": 34
        },
        "outputId": "8bc437eb-97d2-4bc9-a5a7-30f77b0cbc23"
      },
      "source": [
        "# Calculate total number of cells in dataframe\n",
        "totalCells = np.product(sfPermits.shape)\n",
        "\n",
        "# Count number of missing values per column\n",
        "missingCount = sfPermits.isnull().sum()\n",
        "\n",
        "# Calculate total number of missing values\n",
        "totalMissing = missingCount.sum()\n",
        "\n",
        "# Calculate percentage of missing values\n",
        "print(\"The SF Permits dataset contains\", round(((totalMissing/totalCells) * 100), 2), \"%\", \"missing values.\")"
      ],
      "execution_count": null,
      "outputs": [
        {
          "output_type": "stream",
          "text": [
            "The SF Permits dataset contains 26.26 % missing values.\n"
          ],
          "name": "stdout"
        }
      ]
    },
    {
      "cell_type": "markdown",
      "metadata": {
        "id": "xf8slJF3LiiY"
      },
      "source": [
        "Look at the columns Street Number Suffix and Zipcode from the sf_permits datasets. Both of these contain missing values. Which, if either, of these are missing because they don't exist? Which, if either, are missing because they weren't recorded?"
      ]
    },
    {
      "cell_type": "code",
      "metadata": {
        "id": "W1tNAlTYLiia",
        "colab": {
          "base_uri": "https://localhost:8080/",
          "height": 68
        },
        "outputId": "1e44fbca-7934-4fbb-ec33-1b5c88dacb63"
      },
      "source": [
        "missingCount[['Street Number Suffix', 'Zipcode']]"
      ],
      "execution_count": null,
      "outputs": [
        {
          "output_type": "execute_result",
          "data": {
            "text/plain": [
              "Street Number Suffix    196684\n",
              "Zipcode                   1716\n",
              "dtype: int64"
            ]
          },
          "metadata": {
            "tags": []
          },
          "execution_count": 15
        }
      ]
    },
    {
      "cell_type": "markdown",
      "metadata": {
        "id": "MrUEPnQvLiie"
      },
      "source": [
        "Looks like a lot more missing values for street number suffix than zipcode. Let's check out the percentages:"
      ]
    },
    {
      "cell_type": "code",
      "metadata": {
        "id": "Ba5w7gwdLiie",
        "colab": {
          "base_uri": "https://localhost:8080/",
          "height": 51
        },
        "outputId": "bcdef605-c7a3-4596-ec19-4428d46d3392"
      },
      "source": [
        "print(\"Percent missing data in Street Number Suffix column =\", (round(((missingCount['Street Number Suffix'] / sfPermits.shape[0]) * 100), 2)))\n",
        "print(\"Percent missing data in Zipcode column =\", (round(((missingCount['Zipcode'] / sfPermits.shape[0]) * 100), 2)))"
      ],
      "execution_count": null,
      "outputs": [
        {
          "output_type": "stream",
          "text": [
            "Percent missing data in Street Number Suffix column = 98.89\n",
            "Percent missing data in Zipcode column = 0.86\n"
          ],
          "name": "stdout"
        }
      ]
    },
    {
      "cell_type": "markdown",
      "metadata": {
        "id": "lhapwxvJLiih"
      },
      "source": [
        "As every address has a Zipcode, it looks like the missing values for this column are due to the values not being recorded. For the Street Number Suffix column, it is likely very few properties will have a suffix to the number, I see a lot of 3s, 18s, 46s, but not nearly as many 36A or 18B, so it is likely that these are missing as they don't exist.\n",
        "\n",
        "### Try removing all the rows from the sf_permits dataset that contain missing values. How many are left?"
      ]
    },
    {
      "cell_type": "code",
      "metadata": {
        "id": "t-sud7WBLiii",
        "colab": {
          "base_uri": "https://localhost:8080/",
          "height": 149
        },
        "outputId": "3acc7f41-788e-4f97-eb0d-bfcc1ffe1457"
      },
      "source": [
        "sfPermits.dropna()"
      ],
      "execution_count": null,
      "outputs": [
        {
          "output_type": "execute_result",
          "data": {
            "text/html": [
              "<div>\n",
              "<style scoped>\n",
              "    .dataframe tbody tr th:only-of-type {\n",
              "        vertical-align: middle;\n",
              "    }\n",
              "\n",
              "    .dataframe tbody tr th {\n",
              "        vertical-align: top;\n",
              "    }\n",
              "\n",
              "    .dataframe thead th {\n",
              "        text-align: right;\n",
              "    }\n",
              "</style>\n",
              "<table border=\"1\" class=\"dataframe\">\n",
              "  <thead>\n",
              "    <tr style=\"text-align: right;\">\n",
              "      <th></th>\n",
              "      <th>Permit Number</th>\n",
              "      <th>Permit Type</th>\n",
              "      <th>Permit Type Definition</th>\n",
              "      <th>Permit Creation Date</th>\n",
              "      <th>Block</th>\n",
              "      <th>Lot</th>\n",
              "      <th>Street Number</th>\n",
              "      <th>Street Number Suffix</th>\n",
              "      <th>Street Name</th>\n",
              "      <th>Street Suffix</th>\n",
              "      <th>...</th>\n",
              "      <th>Existing Construction Type</th>\n",
              "      <th>Existing Construction Type Description</th>\n",
              "      <th>Proposed Construction Type</th>\n",
              "      <th>Proposed Construction Type Description</th>\n",
              "      <th>Site Permit</th>\n",
              "      <th>Supervisor District</th>\n",
              "      <th>Neighborhoods - Analysis Boundaries</th>\n",
              "      <th>Zipcode</th>\n",
              "      <th>Location</th>\n",
              "      <th>Record ID</th>\n",
              "    </tr>\n",
              "  </thead>\n",
              "  <tbody>\n",
              "  </tbody>\n",
              "</table>\n",
              "<p>0 rows × 43 columns</p>\n",
              "</div>"
            ],
            "text/plain": [
              "Empty DataFrame\n",
              "Columns: [Permit Number, Permit Type, Permit Type Definition, Permit Creation Date, Block, Lot, Street Number, Street Number Suffix, Street Name, Street Suffix, Unit, Unit Suffix, Description, Current Status, Current Status Date, Filed Date, Issued Date, Completed Date, First Construction Document Date, Structural Notification, Number of Existing Stories, Number of Proposed Stories, Voluntary Soft-Story Retrofit, Fire Only Permit, Permit Expiration Date, Estimated Cost, Revised Cost, Existing Use, Existing Units, Proposed Use, Proposed Units, Plansets, TIDF Compliance, Existing Construction Type, Existing Construction Type Description, Proposed Construction Type, Proposed Construction Type Description, Site Permit, Supervisor District, Neighborhoods - Analysis Boundaries, Zipcode, Location, Record ID]\n",
              "Index: []\n",
              "\n",
              "[0 rows x 43 columns]"
            ]
          },
          "metadata": {
            "tags": []
          },
          "execution_count": 17
        }
      ]
    },
    {
      "cell_type": "markdown",
      "metadata": {
        "id": "boulGkjQLiik"
      },
      "source": [
        "If we drop all rows that contain a missing value, we greatly simplify our dataset. So simple, we can go for an early lunch. Every row contains at least one missing value (well, we know from our Street Number Suffix answer above that simply eliminating those gets rid of nearly 99% of our data), so we end up with a dataframe of column headers.\n",
        "\n",
        "### Now try removing all the columns with empty values. Now how much of your data is left?"
      ]
    },
    {
      "cell_type": "code",
      "metadata": {
        "id": "VahnOkLdLiim",
        "colab": {
          "base_uri": "https://localhost:8080/",
          "height": 238
        },
        "outputId": "5e4c40d2-7aaf-439b-e587-088190a14120"
      },
      "source": [
        "sfPermitsCleanCols = sfPermits.dropna(axis=1)\n",
        "sfPermitsCleanCols.head()"
      ],
      "execution_count": null,
      "outputs": [
        {
          "output_type": "execute_result",
          "data": {
            "text/html": [
              "<div>\n",
              "<style scoped>\n",
              "    .dataframe tbody tr th:only-of-type {\n",
              "        vertical-align: middle;\n",
              "    }\n",
              "\n",
              "    .dataframe tbody tr th {\n",
              "        vertical-align: top;\n",
              "    }\n",
              "\n",
              "    .dataframe thead th {\n",
              "        text-align: right;\n",
              "    }\n",
              "</style>\n",
              "<table border=\"1\" class=\"dataframe\">\n",
              "  <thead>\n",
              "    <tr style=\"text-align: right;\">\n",
              "      <th></th>\n",
              "      <th>Permit Number</th>\n",
              "      <th>Permit Type</th>\n",
              "      <th>Permit Type Definition</th>\n",
              "      <th>Permit Creation Date</th>\n",
              "      <th>Block</th>\n",
              "      <th>Lot</th>\n",
              "      <th>Street Number</th>\n",
              "      <th>Street Name</th>\n",
              "      <th>Current Status</th>\n",
              "      <th>Current Status Date</th>\n",
              "      <th>Filed Date</th>\n",
              "      <th>Record ID</th>\n",
              "    </tr>\n",
              "  </thead>\n",
              "  <tbody>\n",
              "    <tr>\n",
              "      <th>0</th>\n",
              "      <td>201505065519</td>\n",
              "      <td>4</td>\n",
              "      <td>sign - erect</td>\n",
              "      <td>05/06/2015</td>\n",
              "      <td>0326</td>\n",
              "      <td>023</td>\n",
              "      <td>140</td>\n",
              "      <td>Ellis</td>\n",
              "      <td>expired</td>\n",
              "      <td>12/21/2017</td>\n",
              "      <td>05/06/2015</td>\n",
              "      <td>1380611233945</td>\n",
              "    </tr>\n",
              "    <tr>\n",
              "      <th>1</th>\n",
              "      <td>201604195146</td>\n",
              "      <td>4</td>\n",
              "      <td>sign - erect</td>\n",
              "      <td>04/19/2016</td>\n",
              "      <td>0306</td>\n",
              "      <td>007</td>\n",
              "      <td>440</td>\n",
              "      <td>Geary</td>\n",
              "      <td>issued</td>\n",
              "      <td>08/03/2017</td>\n",
              "      <td>04/19/2016</td>\n",
              "      <td>1420164406718</td>\n",
              "    </tr>\n",
              "    <tr>\n",
              "      <th>2</th>\n",
              "      <td>201605278609</td>\n",
              "      <td>3</td>\n",
              "      <td>additions alterations or repairs</td>\n",
              "      <td>05/27/2016</td>\n",
              "      <td>0595</td>\n",
              "      <td>203</td>\n",
              "      <td>1647</td>\n",
              "      <td>Pacific</td>\n",
              "      <td>withdrawn</td>\n",
              "      <td>09/26/2017</td>\n",
              "      <td>05/27/2016</td>\n",
              "      <td>1424856504716</td>\n",
              "    </tr>\n",
              "    <tr>\n",
              "      <th>3</th>\n",
              "      <td>201611072166</td>\n",
              "      <td>8</td>\n",
              "      <td>otc alterations permit</td>\n",
              "      <td>11/07/2016</td>\n",
              "      <td>0156</td>\n",
              "      <td>011</td>\n",
              "      <td>1230</td>\n",
              "      <td>Pacific</td>\n",
              "      <td>complete</td>\n",
              "      <td>07/24/2017</td>\n",
              "      <td>11/07/2016</td>\n",
              "      <td>1443574295566</td>\n",
              "    </tr>\n",
              "    <tr>\n",
              "      <th>4</th>\n",
              "      <td>201611283529</td>\n",
              "      <td>6</td>\n",
              "      <td>demolitions</td>\n",
              "      <td>11/28/2016</td>\n",
              "      <td>0342</td>\n",
              "      <td>001</td>\n",
              "      <td>950</td>\n",
              "      <td>Market</td>\n",
              "      <td>issued</td>\n",
              "      <td>12/01/2017</td>\n",
              "      <td>11/28/2016</td>\n",
              "      <td>144548169992</td>\n",
              "    </tr>\n",
              "  </tbody>\n",
              "</table>\n",
              "</div>"
            ],
            "text/plain": [
              "  Permit Number  Permit Type            Permit Type Definition  \\\n",
              "0  201505065519            4                      sign - erect   \n",
              "1  201604195146            4                      sign - erect   \n",
              "2  201605278609            3  additions alterations or repairs   \n",
              "3  201611072166            8            otc alterations permit   \n",
              "4  201611283529            6                       demolitions   \n",
              "\n",
              "  Permit Creation Date Block  Lot  Street Number Street Name Current Status  \\\n",
              "0           05/06/2015  0326  023            140       Ellis        expired   \n",
              "1           04/19/2016  0306  007            440       Geary         issued   \n",
              "2           05/27/2016  0595  203           1647     Pacific      withdrawn   \n",
              "3           11/07/2016  0156  011           1230     Pacific       complete   \n",
              "4           11/28/2016  0342  001            950      Market         issued   \n",
              "\n",
              "  Current Status Date  Filed Date      Record ID  \n",
              "0          12/21/2017  05/06/2015  1380611233945  \n",
              "1          08/03/2017  04/19/2016  1420164406718  \n",
              "2          09/26/2017  05/27/2016  1424856504716  \n",
              "3          07/24/2017  11/07/2016  1443574295566  \n",
              "4          12/01/2017  11/28/2016   144548169992  "
            ]
          },
          "metadata": {
            "tags": []
          },
          "execution_count": 18
        }
      ]
    },
    {
      "cell_type": "code",
      "metadata": {
        "id": "bep1dFHRLiip",
        "colab": {
          "base_uri": "https://localhost:8080/",
          "height": 68
        },
        "outputId": "629afe45-2f17-4096-9d55-820b3f5fe553"
      },
      "source": [
        "print(\"Columns in original dataset: %d \\n\" % sfPermits.shape[1])\n",
        "print(\"Columns with na's dropped: %d\" % sfPermitsCleanCols.shape[1])"
      ],
      "execution_count": null,
      "outputs": [
        {
          "output_type": "stream",
          "text": [
            "Columns in original dataset: 43 \n",
            "\n",
            "Columns with na's dropped: 12\n"
          ],
          "name": "stdout"
        }
      ]
    },
    {
      "cell_type": "markdown",
      "metadata": {
        "id": "WjCtnXcdLiit"
      },
      "source": [
        "Well, that gives us a clean set of values, but we've sacrificed a lot of variables in the process...\n",
        "\n",
        "Try replacing all the NaN's in the sf_permit data with data from the row that comes directly before it and then replace all the remaining na's with 0. Since the building permits in each row are likely unrelated to the ones before and after, this is not an awesome technique but is a simple way to fill in missing data."
      ]
    },
    {
      "cell_type": "code",
      "metadata": {
        "id": "7hkDi-44Liiv",
        "colab": {
          "base_uri": "https://localhost:8080/",
          "height": 423
        },
        "outputId": "e9b101d9-a0f5-41cb-8edc-de91f467806a"
      },
      "source": [
        "imputeSfPermits = sfPermits.fillna(method='ffill', axis=0).fillna(\"0\")\n",
        "\n",
        "imputeSfPermits.head()"
      ],
      "execution_count": null,
      "outputs": [
        {
          "output_type": "execute_result",
          "data": {
            "text/html": [
              "<div>\n",
              "<style scoped>\n",
              "    .dataframe tbody tr th:only-of-type {\n",
              "        vertical-align: middle;\n",
              "    }\n",
              "\n",
              "    .dataframe tbody tr th {\n",
              "        vertical-align: top;\n",
              "    }\n",
              "\n",
              "    .dataframe thead th {\n",
              "        text-align: right;\n",
              "    }\n",
              "</style>\n",
              "<table border=\"1\" class=\"dataframe\">\n",
              "  <thead>\n",
              "    <tr style=\"text-align: right;\">\n",
              "      <th></th>\n",
              "      <th>Permit Number</th>\n",
              "      <th>Permit Type</th>\n",
              "      <th>Permit Type Definition</th>\n",
              "      <th>Permit Creation Date</th>\n",
              "      <th>Block</th>\n",
              "      <th>Lot</th>\n",
              "      <th>Street Number</th>\n",
              "      <th>Street Number Suffix</th>\n",
              "      <th>Street Name</th>\n",
              "      <th>Street Suffix</th>\n",
              "      <th>...</th>\n",
              "      <th>Existing Construction Type</th>\n",
              "      <th>Existing Construction Type Description</th>\n",
              "      <th>Proposed Construction Type</th>\n",
              "      <th>Proposed Construction Type Description</th>\n",
              "      <th>Site Permit</th>\n",
              "      <th>Supervisor District</th>\n",
              "      <th>Neighborhoods - Analysis Boundaries</th>\n",
              "      <th>Zipcode</th>\n",
              "      <th>Location</th>\n",
              "      <th>Record ID</th>\n",
              "    </tr>\n",
              "  </thead>\n",
              "  <tbody>\n",
              "    <tr>\n",
              "      <th>0</th>\n",
              "      <td>201505065519</td>\n",
              "      <td>4</td>\n",
              "      <td>sign - erect</td>\n",
              "      <td>05/06/2015</td>\n",
              "      <td>0326</td>\n",
              "      <td>023</td>\n",
              "      <td>140</td>\n",
              "      <td>0</td>\n",
              "      <td>Ellis</td>\n",
              "      <td>St</td>\n",
              "      <td>...</td>\n",
              "      <td>3.0</td>\n",
              "      <td>constr type 3</td>\n",
              "      <td>0</td>\n",
              "      <td>0</td>\n",
              "      <td>0</td>\n",
              "      <td>3.0</td>\n",
              "      <td>Tenderloin</td>\n",
              "      <td>94102.0</td>\n",
              "      <td>(37.785719256680785, -122.40852313194863)</td>\n",
              "      <td>1380611233945</td>\n",
              "    </tr>\n",
              "    <tr>\n",
              "      <th>1</th>\n",
              "      <td>201604195146</td>\n",
              "      <td>4</td>\n",
              "      <td>sign - erect</td>\n",
              "      <td>04/19/2016</td>\n",
              "      <td>0306</td>\n",
              "      <td>007</td>\n",
              "      <td>440</td>\n",
              "      <td>0</td>\n",
              "      <td>Geary</td>\n",
              "      <td>St</td>\n",
              "      <td>...</td>\n",
              "      <td>3.0</td>\n",
              "      <td>constr type 3</td>\n",
              "      <td>0</td>\n",
              "      <td>0</td>\n",
              "      <td>0</td>\n",
              "      <td>3.0</td>\n",
              "      <td>Tenderloin</td>\n",
              "      <td>94102.0</td>\n",
              "      <td>(37.78733980600732, -122.41063199757738)</td>\n",
              "      <td>1420164406718</td>\n",
              "    </tr>\n",
              "    <tr>\n",
              "      <th>2</th>\n",
              "      <td>201605278609</td>\n",
              "      <td>3</td>\n",
              "      <td>additions alterations or repairs</td>\n",
              "      <td>05/27/2016</td>\n",
              "      <td>0595</td>\n",
              "      <td>203</td>\n",
              "      <td>1647</td>\n",
              "      <td>0</td>\n",
              "      <td>Pacific</td>\n",
              "      <td>Av</td>\n",
              "      <td>...</td>\n",
              "      <td>1.0</td>\n",
              "      <td>constr type 1</td>\n",
              "      <td>1</td>\n",
              "      <td>constr type 1</td>\n",
              "      <td>0</td>\n",
              "      <td>3.0</td>\n",
              "      <td>Russian Hill</td>\n",
              "      <td>94109.0</td>\n",
              "      <td>(37.7946573324287, -122.42232562979227)</td>\n",
              "      <td>1424856504716</td>\n",
              "    </tr>\n",
              "    <tr>\n",
              "      <th>3</th>\n",
              "      <td>201611072166</td>\n",
              "      <td>8</td>\n",
              "      <td>otc alterations permit</td>\n",
              "      <td>11/07/2016</td>\n",
              "      <td>0156</td>\n",
              "      <td>011</td>\n",
              "      <td>1230</td>\n",
              "      <td>0</td>\n",
              "      <td>Pacific</td>\n",
              "      <td>Av</td>\n",
              "      <td>...</td>\n",
              "      <td>5.0</td>\n",
              "      <td>wood frame (5)</td>\n",
              "      <td>5</td>\n",
              "      <td>wood frame (5)</td>\n",
              "      <td>0</td>\n",
              "      <td>3.0</td>\n",
              "      <td>Nob Hill</td>\n",
              "      <td>94109.0</td>\n",
              "      <td>(37.79595867909168, -122.41557405519474)</td>\n",
              "      <td>1443574295566</td>\n",
              "    </tr>\n",
              "    <tr>\n",
              "      <th>4</th>\n",
              "      <td>201611283529</td>\n",
              "      <td>6</td>\n",
              "      <td>demolitions</td>\n",
              "      <td>11/28/2016</td>\n",
              "      <td>0342</td>\n",
              "      <td>001</td>\n",
              "      <td>950</td>\n",
              "      <td>0</td>\n",
              "      <td>Market</td>\n",
              "      <td>St</td>\n",
              "      <td>...</td>\n",
              "      <td>3.0</td>\n",
              "      <td>constr type 3</td>\n",
              "      <td>5</td>\n",
              "      <td>wood frame (5)</td>\n",
              "      <td>0</td>\n",
              "      <td>6.0</td>\n",
              "      <td>Tenderloin</td>\n",
              "      <td>94102.0</td>\n",
              "      <td>(37.78315261897309, -122.40950883997789)</td>\n",
              "      <td>144548169992</td>\n",
              "    </tr>\n",
              "  </tbody>\n",
              "</table>\n",
              "<p>5 rows × 43 columns</p>\n",
              "</div>"
            ],
            "text/plain": [
              "  Permit Number  Permit Type            Permit Type Definition  \\\n",
              "0  201505065519            4                      sign - erect   \n",
              "1  201604195146            4                      sign - erect   \n",
              "2  201605278609            3  additions alterations or repairs   \n",
              "3  201611072166            8            otc alterations permit   \n",
              "4  201611283529            6                       demolitions   \n",
              "\n",
              "  Permit Creation Date Block  Lot  Street Number Street Number Suffix  \\\n",
              "0           05/06/2015  0326  023            140                    0   \n",
              "1           04/19/2016  0306  007            440                    0   \n",
              "2           05/27/2016  0595  203           1647                    0   \n",
              "3           11/07/2016  0156  011           1230                    0   \n",
              "4           11/28/2016  0342  001            950                    0   \n",
              "\n",
              "  Street Name Street Suffix      ...       Existing Construction Type  \\\n",
              "0       Ellis            St      ...                              3.0   \n",
              "1       Geary            St      ...                              3.0   \n",
              "2     Pacific            Av      ...                              1.0   \n",
              "3     Pacific            Av      ...                              5.0   \n",
              "4      Market            St      ...                              3.0   \n",
              "\n",
              "  Existing Construction Type Description Proposed Construction Type  \\\n",
              "0                          constr type 3                          0   \n",
              "1                          constr type 3                          0   \n",
              "2                          constr type 1                          1   \n",
              "3                         wood frame (5)                          5   \n",
              "4                          constr type 3                          5   \n",
              "\n",
              "  Proposed Construction Type Description Site Permit Supervisor District  \\\n",
              "0                                      0           0                 3.0   \n",
              "1                                      0           0                 3.0   \n",
              "2                          constr type 1           0                 3.0   \n",
              "3                         wood frame (5)           0                 3.0   \n",
              "4                         wood frame (5)           0                 6.0   \n",
              "\n",
              "  Neighborhoods - Analysis Boundaries  Zipcode  \\\n",
              "0                          Tenderloin  94102.0   \n",
              "1                          Tenderloin  94102.0   \n",
              "2                        Russian Hill  94109.0   \n",
              "3                            Nob Hill  94109.0   \n",
              "4                          Tenderloin  94102.0   \n",
              "\n",
              "                                    Location      Record ID  \n",
              "0  (37.785719256680785, -122.40852313194863)  1380611233945  \n",
              "1   (37.78733980600732, -122.41063199757738)  1420164406718  \n",
              "2    (37.7946573324287, -122.42232562979227)  1424856504716  \n",
              "3   (37.79595867909168, -122.41557405519474)  1443574295566  \n",
              "4   (37.78315261897309, -122.40950883997789)   144548169992  \n",
              "\n",
              "[5 rows x 43 columns]"
            ]
          },
          "metadata": {
            "tags": []
          },
          "execution_count": 20
        }
      ]
    },
    {
      "cell_type": "markdown",
      "metadata": {
        "id": "Q-iLMLoKLiiz"
      },
      "source": [
        "### Calculate the average GPS coordinates for San Francisco building permits\n",
        "\n",
        "The Location column holds two values per building permit that look like (37.785719256680785, -122.40852313194863).  The first number is the GPS latitude and the second the GPS longitude.  Replace the Location column with two columns, one named GPS Lat and the other names GPS Lon that separately hold the latitude and longitude data. There are multiple methods for doing this, one uses `.str.split`, `.str.replace`, and `.astype('float')`."
      ]
    },
    {
      "cell_type": "code",
      "metadata": {
        "id": "o0HzyausLii0",
        "colab": {
          "base_uri": "https://localhost:8080/",
          "height": 204
        },
        "outputId": "65075123-cee7-4f46-fe2c-eef603dffd42"
      },
      "source": [
        "# Task 2: Enter code in this cell to replace the Location column of imputeSFPermits with two columns\n",
        "# that hold the GPS latitude and longitude, respectively.\n",
        "\n",
        "temp = imputeSfPermits.Location.str.split(' ', expand=True)\n",
        "temp.columns = ['Latitude', 'Longtitude']\n",
        "temp.head()\n"
      ],
      "execution_count": null,
      "outputs": [
        {
          "output_type": "execute_result",
          "data": {
            "text/html": [
              "<div>\n",
              "<style scoped>\n",
              "    .dataframe tbody tr th:only-of-type {\n",
              "        vertical-align: middle;\n",
              "    }\n",
              "\n",
              "    .dataframe tbody tr th {\n",
              "        vertical-align: top;\n",
              "    }\n",
              "\n",
              "    .dataframe thead th {\n",
              "        text-align: right;\n",
              "    }\n",
              "</style>\n",
              "<table border=\"1\" class=\"dataframe\">\n",
              "  <thead>\n",
              "    <tr style=\"text-align: right;\">\n",
              "      <th></th>\n",
              "      <th>Latitude</th>\n",
              "      <th>Longtitude</th>\n",
              "    </tr>\n",
              "  </thead>\n",
              "  <tbody>\n",
              "    <tr>\n",
              "      <th>0</th>\n",
              "      <td>(37.785719256680785,</td>\n",
              "      <td>-122.40852313194863)</td>\n",
              "    </tr>\n",
              "    <tr>\n",
              "      <th>1</th>\n",
              "      <td>(37.78733980600732,</td>\n",
              "      <td>-122.41063199757738)</td>\n",
              "    </tr>\n",
              "    <tr>\n",
              "      <th>2</th>\n",
              "      <td>(37.7946573324287,</td>\n",
              "      <td>-122.42232562979227)</td>\n",
              "    </tr>\n",
              "    <tr>\n",
              "      <th>3</th>\n",
              "      <td>(37.79595867909168,</td>\n",
              "      <td>-122.41557405519474)</td>\n",
              "    </tr>\n",
              "    <tr>\n",
              "      <th>4</th>\n",
              "      <td>(37.78315261897309,</td>\n",
              "      <td>-122.40950883997789)</td>\n",
              "    </tr>\n",
              "  </tbody>\n",
              "</table>\n",
              "</div>"
            ],
            "text/plain": [
              "               Latitude            Longtitude\n",
              "0  (37.785719256680785,  -122.40852313194863)\n",
              "1   (37.78733980600732,  -122.41063199757738)\n",
              "2    (37.7946573324287,  -122.42232562979227)\n",
              "3   (37.79595867909168,  -122.41557405519474)\n",
              "4   (37.78315261897309,  -122.40950883997789)"
            ]
          },
          "metadata": {
            "tags": []
          },
          "execution_count": 21
        }
      ]
    },
    {
      "cell_type": "markdown",
      "metadata": {
        "id": "TJ1KXgKNLii3"
      },
      "source": [
        "Finally, calculate the average latitude and average longitude of the San Francisco Permit locations"
      ]
    },
    {
      "cell_type": "code",
      "metadata": {
        "id": "SutEDQ53Lii4",
        "colab": {
          "base_uri": "https://localhost:8080/",
          "height": 1065
        },
        "outputId": "47354a66-d6f4-4747-b5a0-a605ef77bfd8"
      },
      "source": [
        "# Task 3: Enter code to compute the average lat and lon values.\n",
        "\n",
        "lat = imputeSfPermits['Latitude'].mean()\n",
        "lon = imputeSfPermits['Longtitude'].mean()\n"
      ],
      "execution_count": null,
      "outputs": [
        {
          "output_type": "error",
          "ename": "NameError",
          "evalue": "name 'imputeSfPermits' is not defined",
          "traceback": [
            "\u001b[1;31m---------------------------------------------------------------------------\u001b[0m",
            "\u001b[1;31mNameError\u001b[0m                                 Traceback (most recent call last)",
            "\u001b[1;32m<ipython-input-2-70de4f258a2f>\u001b[0m in \u001b[0;36m<module>\u001b[1;34m\u001b[0m\n\u001b[0;32m      1\u001b[0m \u001b[1;31m# Task 3: Enter code to compute the average lat and lon values.\u001b[0m\u001b[1;33m\u001b[0m\u001b[1;33m\u001b[0m\u001b[1;33m\u001b[0m\u001b[0m\n\u001b[0;32m      2\u001b[0m \u001b[1;33m\u001b[0m\u001b[0m\n\u001b[1;32m----> 3\u001b[1;33m \u001b[0mlat\u001b[0m \u001b[1;33m=\u001b[0m \u001b[0mimputeSfPermits\u001b[0m\u001b[1;33m[\u001b[0m\u001b[1;34m'Latitude'\u001b[0m\u001b[1;33m]\u001b[0m\u001b[1;33m.\u001b[0m\u001b[0mmean\u001b[0m\u001b[1;33m(\u001b[0m\u001b[1;33m)\u001b[0m\u001b[1;33m\u001b[0m\u001b[1;33m\u001b[0m\u001b[0m\n\u001b[0m\u001b[0;32m      4\u001b[0m \u001b[0mlon\u001b[0m \u001b[1;33m=\u001b[0m \u001b[0mimputeSfPermits\u001b[0m\u001b[1;33m[\u001b[0m\u001b[1;34m'Longtitude'\u001b[0m\u001b[1;33m]\u001b[0m\u001b[1;33m.\u001b[0m\u001b[0mmean\u001b[0m\u001b[1;33m(\u001b[0m\u001b[1;33m)\u001b[0m\u001b[1;33m\u001b[0m\u001b[1;33m\u001b[0m\u001b[0m\n",
            "\u001b[1;31mNameError\u001b[0m: name 'imputeSfPermits' is not defined"
          ]
        }
      ]
    },
    {
      "cell_type": "markdown",
      "metadata": {
        "id": "EJJ-f5CrLii9"
      },
      "source": [
        "## IMDB Movie Data\n",
        "\n",
        "Next we will be inspecting and cleaning a dataset from Kaggle that consists of data scraped from the IMDB website.  The Kaggle site for the data is [here](https://www.kaggle.com/carolzhangdc/imdb-5000-movie-dataset) and we will be following an analysis recommended by [this site](http://www.developintelligence.com/blog/2017/08/data-cleaning-pandas-python/).\n",
        "\n",
        "First, we will download and unzip the data."
      ]
    },
    {
      "cell_type": "code",
      "metadata": {
        "id": "CCs5DzxZLii_"
      },
      "source": [
        "! kaggle datasets download -d carolzhangdc/imdb-5000-movie-dataset"
      ],
      "execution_count": null,
      "outputs": []
    },
    {
      "cell_type": "code",
      "metadata": {
        "id": "wvWTe4DuLijB",
        "outputId": "91a46708-b5a4-4c67-edbc-b96a47b9ffbf"
      },
      "source": [
        "! unzip imdb-5000-movie-dataset.zip"
      ],
      "execution_count": null,
      "outputs": [
        {
          "output_type": "stream",
          "text": [
            "Archive:  imdb-5000-movie-dataset.zip\r\n",
            "  inflating: movie_metadata.csv      \r\n"
          ],
          "name": "stdout"
        }
      ]
    },
    {
      "cell_type": "markdown",
      "metadata": {
        "id": "LW6SjbepLijD"
      },
      "source": [
        "Then read the data into a DataFrame"
      ]
    },
    {
      "cell_type": "code",
      "metadata": {
        "id": "PtVzNl_cLijE",
        "outputId": "fb803659-5299-4625-8fba-62de4925d166"
      },
      "source": [
        "imdb_df = pd.read_csv('movie_metadata.csv')\n",
        "imdb_df.head(10)"
      ],
      "execution_count": null,
      "outputs": [
        {
          "output_type": "execute_result",
          "data": {
            "text/html": [
              "<div>\n",
              "<style scoped>\n",
              "    .dataframe tbody tr th:only-of-type {\n",
              "        vertical-align: middle;\n",
              "    }\n",
              "\n",
              "    .dataframe tbody tr th {\n",
              "        vertical-align: top;\n",
              "    }\n",
              "\n",
              "    .dataframe thead th {\n",
              "        text-align: right;\n",
              "    }\n",
              "</style>\n",
              "<table border=\"1\" class=\"dataframe\">\n",
              "  <thead>\n",
              "    <tr style=\"text-align: right;\">\n",
              "      <th></th>\n",
              "      <th>color</th>\n",
              "      <th>director_name</th>\n",
              "      <th>num_critic_for_reviews</th>\n",
              "      <th>duration</th>\n",
              "      <th>director_facebook_likes</th>\n",
              "      <th>actor_3_facebook_likes</th>\n",
              "      <th>actor_2_name</th>\n",
              "      <th>actor_1_facebook_likes</th>\n",
              "      <th>gross</th>\n",
              "      <th>genres</th>\n",
              "      <th>...</th>\n",
              "      <th>num_user_for_reviews</th>\n",
              "      <th>language</th>\n",
              "      <th>country</th>\n",
              "      <th>content_rating</th>\n",
              "      <th>budget</th>\n",
              "      <th>title_year</th>\n",
              "      <th>actor_2_facebook_likes</th>\n",
              "      <th>imdb_score</th>\n",
              "      <th>aspect_ratio</th>\n",
              "      <th>movie_facebook_likes</th>\n",
              "    </tr>\n",
              "  </thead>\n",
              "  <tbody>\n",
              "    <tr>\n",
              "      <th>0</th>\n",
              "      <td>Color</td>\n",
              "      <td>James Cameron</td>\n",
              "      <td>723.0</td>\n",
              "      <td>178.0</td>\n",
              "      <td>0.0</td>\n",
              "      <td>855.0</td>\n",
              "      <td>Joel David Moore</td>\n",
              "      <td>1000.0</td>\n",
              "      <td>760505847.0</td>\n",
              "      <td>Action|Adventure|Fantasy|Sci-Fi</td>\n",
              "      <td>...</td>\n",
              "      <td>3054.0</td>\n",
              "      <td>English</td>\n",
              "      <td>USA</td>\n",
              "      <td>PG-13</td>\n",
              "      <td>237000000.0</td>\n",
              "      <td>2009.0</td>\n",
              "      <td>936.0</td>\n",
              "      <td>7.9</td>\n",
              "      <td>1.78</td>\n",
              "      <td>33000</td>\n",
              "    </tr>\n",
              "    <tr>\n",
              "      <th>1</th>\n",
              "      <td>Color</td>\n",
              "      <td>Gore Verbinski</td>\n",
              "      <td>302.0</td>\n",
              "      <td>169.0</td>\n",
              "      <td>563.0</td>\n",
              "      <td>1000.0</td>\n",
              "      <td>Orlando Bloom</td>\n",
              "      <td>40000.0</td>\n",
              "      <td>309404152.0</td>\n",
              "      <td>Action|Adventure|Fantasy</td>\n",
              "      <td>...</td>\n",
              "      <td>1238.0</td>\n",
              "      <td>English</td>\n",
              "      <td>USA</td>\n",
              "      <td>PG-13</td>\n",
              "      <td>300000000.0</td>\n",
              "      <td>2007.0</td>\n",
              "      <td>5000.0</td>\n",
              "      <td>7.1</td>\n",
              "      <td>2.35</td>\n",
              "      <td>0</td>\n",
              "    </tr>\n",
              "    <tr>\n",
              "      <th>2</th>\n",
              "      <td>Color</td>\n",
              "      <td>Sam Mendes</td>\n",
              "      <td>602.0</td>\n",
              "      <td>148.0</td>\n",
              "      <td>0.0</td>\n",
              "      <td>161.0</td>\n",
              "      <td>Rory Kinnear</td>\n",
              "      <td>11000.0</td>\n",
              "      <td>200074175.0</td>\n",
              "      <td>Action|Adventure|Thriller</td>\n",
              "      <td>...</td>\n",
              "      <td>994.0</td>\n",
              "      <td>English</td>\n",
              "      <td>UK</td>\n",
              "      <td>PG-13</td>\n",
              "      <td>245000000.0</td>\n",
              "      <td>2015.0</td>\n",
              "      <td>393.0</td>\n",
              "      <td>6.8</td>\n",
              "      <td>2.35</td>\n",
              "      <td>85000</td>\n",
              "    </tr>\n",
              "    <tr>\n",
              "      <th>3</th>\n",
              "      <td>Color</td>\n",
              "      <td>Christopher Nolan</td>\n",
              "      <td>813.0</td>\n",
              "      <td>164.0</td>\n",
              "      <td>22000.0</td>\n",
              "      <td>23000.0</td>\n",
              "      <td>Christian Bale</td>\n",
              "      <td>27000.0</td>\n",
              "      <td>448130642.0</td>\n",
              "      <td>Action|Thriller</td>\n",
              "      <td>...</td>\n",
              "      <td>2701.0</td>\n",
              "      <td>English</td>\n",
              "      <td>USA</td>\n",
              "      <td>PG-13</td>\n",
              "      <td>250000000.0</td>\n",
              "      <td>2012.0</td>\n",
              "      <td>23000.0</td>\n",
              "      <td>8.5</td>\n",
              "      <td>2.35</td>\n",
              "      <td>164000</td>\n",
              "    </tr>\n",
              "    <tr>\n",
              "      <th>4</th>\n",
              "      <td>NaN</td>\n",
              "      <td>Doug Walker</td>\n",
              "      <td>NaN</td>\n",
              "      <td>NaN</td>\n",
              "      <td>131.0</td>\n",
              "      <td>NaN</td>\n",
              "      <td>Rob Walker</td>\n",
              "      <td>131.0</td>\n",
              "      <td>NaN</td>\n",
              "      <td>Documentary</td>\n",
              "      <td>...</td>\n",
              "      <td>NaN</td>\n",
              "      <td>NaN</td>\n",
              "      <td>NaN</td>\n",
              "      <td>NaN</td>\n",
              "      <td>NaN</td>\n",
              "      <td>NaN</td>\n",
              "      <td>12.0</td>\n",
              "      <td>7.1</td>\n",
              "      <td>NaN</td>\n",
              "      <td>0</td>\n",
              "    </tr>\n",
              "    <tr>\n",
              "      <th>5</th>\n",
              "      <td>Color</td>\n",
              "      <td>Andrew Stanton</td>\n",
              "      <td>462.0</td>\n",
              "      <td>132.0</td>\n",
              "      <td>475.0</td>\n",
              "      <td>530.0</td>\n",
              "      <td>Samantha Morton</td>\n",
              "      <td>640.0</td>\n",
              "      <td>73058679.0</td>\n",
              "      <td>Action|Adventure|Sci-Fi</td>\n",
              "      <td>...</td>\n",
              "      <td>738.0</td>\n",
              "      <td>English</td>\n",
              "      <td>USA</td>\n",
              "      <td>PG-13</td>\n",
              "      <td>263700000.0</td>\n",
              "      <td>2012.0</td>\n",
              "      <td>632.0</td>\n",
              "      <td>6.6</td>\n",
              "      <td>2.35</td>\n",
              "      <td>24000</td>\n",
              "    </tr>\n",
              "    <tr>\n",
              "      <th>6</th>\n",
              "      <td>Color</td>\n",
              "      <td>Sam Raimi</td>\n",
              "      <td>392.0</td>\n",
              "      <td>156.0</td>\n",
              "      <td>0.0</td>\n",
              "      <td>4000.0</td>\n",
              "      <td>James Franco</td>\n",
              "      <td>24000.0</td>\n",
              "      <td>336530303.0</td>\n",
              "      <td>Action|Adventure|Romance</td>\n",
              "      <td>...</td>\n",
              "      <td>1902.0</td>\n",
              "      <td>English</td>\n",
              "      <td>USA</td>\n",
              "      <td>PG-13</td>\n",
              "      <td>258000000.0</td>\n",
              "      <td>2007.0</td>\n",
              "      <td>11000.0</td>\n",
              "      <td>6.2</td>\n",
              "      <td>2.35</td>\n",
              "      <td>0</td>\n",
              "    </tr>\n",
              "    <tr>\n",
              "      <th>7</th>\n",
              "      <td>Color</td>\n",
              "      <td>Nathan Greno</td>\n",
              "      <td>324.0</td>\n",
              "      <td>100.0</td>\n",
              "      <td>15.0</td>\n",
              "      <td>284.0</td>\n",
              "      <td>Donna Murphy</td>\n",
              "      <td>799.0</td>\n",
              "      <td>200807262.0</td>\n",
              "      <td>Adventure|Animation|Comedy|Family|Fantasy|Musi...</td>\n",
              "      <td>...</td>\n",
              "      <td>387.0</td>\n",
              "      <td>English</td>\n",
              "      <td>USA</td>\n",
              "      <td>PG</td>\n",
              "      <td>260000000.0</td>\n",
              "      <td>2010.0</td>\n",
              "      <td>553.0</td>\n",
              "      <td>7.8</td>\n",
              "      <td>1.85</td>\n",
              "      <td>29000</td>\n",
              "    </tr>\n",
              "    <tr>\n",
              "      <th>8</th>\n",
              "      <td>Color</td>\n",
              "      <td>Joss Whedon</td>\n",
              "      <td>635.0</td>\n",
              "      <td>141.0</td>\n",
              "      <td>0.0</td>\n",
              "      <td>19000.0</td>\n",
              "      <td>Robert Downey Jr.</td>\n",
              "      <td>26000.0</td>\n",
              "      <td>458991599.0</td>\n",
              "      <td>Action|Adventure|Sci-Fi</td>\n",
              "      <td>...</td>\n",
              "      <td>1117.0</td>\n",
              "      <td>English</td>\n",
              "      <td>USA</td>\n",
              "      <td>PG-13</td>\n",
              "      <td>250000000.0</td>\n",
              "      <td>2015.0</td>\n",
              "      <td>21000.0</td>\n",
              "      <td>7.5</td>\n",
              "      <td>2.35</td>\n",
              "      <td>118000</td>\n",
              "    </tr>\n",
              "    <tr>\n",
              "      <th>9</th>\n",
              "      <td>Color</td>\n",
              "      <td>David Yates</td>\n",
              "      <td>375.0</td>\n",
              "      <td>153.0</td>\n",
              "      <td>282.0</td>\n",
              "      <td>10000.0</td>\n",
              "      <td>Daniel Radcliffe</td>\n",
              "      <td>25000.0</td>\n",
              "      <td>301956980.0</td>\n",
              "      <td>Adventure|Family|Fantasy|Mystery</td>\n",
              "      <td>...</td>\n",
              "      <td>973.0</td>\n",
              "      <td>English</td>\n",
              "      <td>UK</td>\n",
              "      <td>PG</td>\n",
              "      <td>250000000.0</td>\n",
              "      <td>2009.0</td>\n",
              "      <td>11000.0</td>\n",
              "      <td>7.5</td>\n",
              "      <td>2.35</td>\n",
              "      <td>10000</td>\n",
              "    </tr>\n",
              "  </tbody>\n",
              "</table>\n",
              "<p>10 rows × 28 columns</p>\n",
              "</div>"
            ],
            "text/plain": [
              "   color      director_name  num_critic_for_reviews  duration  \\\n",
              "0  Color      James Cameron                   723.0     178.0   \n",
              "1  Color     Gore Verbinski                   302.0     169.0   \n",
              "2  Color         Sam Mendes                   602.0     148.0   \n",
              "3  Color  Christopher Nolan                   813.0     164.0   \n",
              "4    NaN        Doug Walker                     NaN       NaN   \n",
              "5  Color     Andrew Stanton                   462.0     132.0   \n",
              "6  Color          Sam Raimi                   392.0     156.0   \n",
              "7  Color       Nathan Greno                   324.0     100.0   \n",
              "8  Color        Joss Whedon                   635.0     141.0   \n",
              "9  Color        David Yates                   375.0     153.0   \n",
              "\n",
              "   director_facebook_likes  actor_3_facebook_likes       actor_2_name  \\\n",
              "0                      0.0                   855.0   Joel David Moore   \n",
              "1                    563.0                  1000.0      Orlando Bloom   \n",
              "2                      0.0                   161.0       Rory Kinnear   \n",
              "3                  22000.0                 23000.0     Christian Bale   \n",
              "4                    131.0                     NaN         Rob Walker   \n",
              "5                    475.0                   530.0    Samantha Morton   \n",
              "6                      0.0                  4000.0       James Franco   \n",
              "7                     15.0                   284.0       Donna Murphy   \n",
              "8                      0.0                 19000.0  Robert Downey Jr.   \n",
              "9                    282.0                 10000.0   Daniel Radcliffe   \n",
              "\n",
              "   actor_1_facebook_likes        gross  \\\n",
              "0                  1000.0  760505847.0   \n",
              "1                 40000.0  309404152.0   \n",
              "2                 11000.0  200074175.0   \n",
              "3                 27000.0  448130642.0   \n",
              "4                   131.0          NaN   \n",
              "5                   640.0   73058679.0   \n",
              "6                 24000.0  336530303.0   \n",
              "7                   799.0  200807262.0   \n",
              "8                 26000.0  458991599.0   \n",
              "9                 25000.0  301956980.0   \n",
              "\n",
              "                                              genres         ...           \\\n",
              "0                    Action|Adventure|Fantasy|Sci-Fi         ...            \n",
              "1                           Action|Adventure|Fantasy         ...            \n",
              "2                          Action|Adventure|Thriller         ...            \n",
              "3                                    Action|Thriller         ...            \n",
              "4                                        Documentary         ...            \n",
              "5                            Action|Adventure|Sci-Fi         ...            \n",
              "6                           Action|Adventure|Romance         ...            \n",
              "7  Adventure|Animation|Comedy|Family|Fantasy|Musi...         ...            \n",
              "8                            Action|Adventure|Sci-Fi         ...            \n",
              "9                   Adventure|Family|Fantasy|Mystery         ...            \n",
              "\n",
              "  num_user_for_reviews language  country  content_rating       budget  \\\n",
              "0               3054.0  English      USA           PG-13  237000000.0   \n",
              "1               1238.0  English      USA           PG-13  300000000.0   \n",
              "2                994.0  English       UK           PG-13  245000000.0   \n",
              "3               2701.0  English      USA           PG-13  250000000.0   \n",
              "4                  NaN      NaN      NaN             NaN          NaN   \n",
              "5                738.0  English      USA           PG-13  263700000.0   \n",
              "6               1902.0  English      USA           PG-13  258000000.0   \n",
              "7                387.0  English      USA              PG  260000000.0   \n",
              "8               1117.0  English      USA           PG-13  250000000.0   \n",
              "9                973.0  English       UK              PG  250000000.0   \n",
              "\n",
              "   title_year actor_2_facebook_likes imdb_score  aspect_ratio  \\\n",
              "0      2009.0                  936.0        7.9          1.78   \n",
              "1      2007.0                 5000.0        7.1          2.35   \n",
              "2      2015.0                  393.0        6.8          2.35   \n",
              "3      2012.0                23000.0        8.5          2.35   \n",
              "4         NaN                   12.0        7.1           NaN   \n",
              "5      2012.0                  632.0        6.6          2.35   \n",
              "6      2007.0                11000.0        6.2          2.35   \n",
              "7      2010.0                  553.0        7.8          1.85   \n",
              "8      2015.0                21000.0        7.5          2.35   \n",
              "9      2009.0                11000.0        7.5          2.35   \n",
              "\n",
              "  movie_facebook_likes  \n",
              "0                33000  \n",
              "1                    0  \n",
              "2                85000  \n",
              "3               164000  \n",
              "4                    0  \n",
              "5                24000  \n",
              "6                    0  \n",
              "7                29000  \n",
              "8               118000  \n",
              "9                10000  \n",
              "\n",
              "[10 rows x 28 columns]"
            ]
          },
          "metadata": {
            "tags": []
          },
          "execution_count": 3
        }
      ]
    },
    {
      "cell_type": "markdown",
      "metadata": {
        "id": "fArtMovJLijH"
      },
      "source": [
        "We can see that there are some missing values and that some movies have very incomplete information (look at row 4, for example).  We can eliminate these rows from our set. With the `dropna` method used below, axis = 0 means go by row (axis = 1 means go by column) and thresh = 10 means drop any rows with fewer than 10 non-NaN values."
      ]
    },
    {
      "cell_type": "code",
      "metadata": {
        "id": "miWkusH_LijH",
        "outputId": "200ae27f-ae98-4a13-d013-1dd92ea4f273"
      },
      "source": [
        "numrows_before, _ = imdb_df.shape\n",
        "imdb_df = imdb_df.dropna(axis=0, thresh=20) \n",
        "numrows_after, _ = imdb_df.shape\n",
        "numrows_removed = numrows_before - numrows_after\n",
        "\n",
        "print('{} rows removed'.format(numrows_removed))"
      ],
      "execution_count": null,
      "outputs": [
        {
          "output_type": "stream",
          "text": [
            "5 rows removed\n"
          ],
          "name": "stdout"
        }
      ]
    },
    {
      "cell_type": "code",
      "metadata": {
        "id": "Sp64iGUuLijK",
        "outputId": "ac610ad6-69ec-4474-e2e7-c0163b942f56"
      },
      "source": [
        "imdb_df.head(10)"
      ],
      "execution_count": null,
      "outputs": [
        {
          "output_type": "execute_result",
          "data": {
            "text/html": [
              "<div>\n",
              "<style scoped>\n",
              "    .dataframe tbody tr th:only-of-type {\n",
              "        vertical-align: middle;\n",
              "    }\n",
              "\n",
              "    .dataframe tbody tr th {\n",
              "        vertical-align: top;\n",
              "    }\n",
              "\n",
              "    .dataframe thead th {\n",
              "        text-align: right;\n",
              "    }\n",
              "</style>\n",
              "<table border=\"1\" class=\"dataframe\">\n",
              "  <thead>\n",
              "    <tr style=\"text-align: right;\">\n",
              "      <th></th>\n",
              "      <th>color</th>\n",
              "      <th>director_name</th>\n",
              "      <th>num_critic_for_reviews</th>\n",
              "      <th>duration</th>\n",
              "      <th>director_facebook_likes</th>\n",
              "      <th>actor_3_facebook_likes</th>\n",
              "      <th>actor_2_name</th>\n",
              "      <th>actor_1_facebook_likes</th>\n",
              "      <th>gross</th>\n",
              "      <th>genres</th>\n",
              "      <th>...</th>\n",
              "      <th>num_user_for_reviews</th>\n",
              "      <th>language</th>\n",
              "      <th>country</th>\n",
              "      <th>content_rating</th>\n",
              "      <th>budget</th>\n",
              "      <th>title_year</th>\n",
              "      <th>actor_2_facebook_likes</th>\n",
              "      <th>imdb_score</th>\n",
              "      <th>aspect_ratio</th>\n",
              "      <th>movie_facebook_likes</th>\n",
              "    </tr>\n",
              "  </thead>\n",
              "  <tbody>\n",
              "    <tr>\n",
              "      <th>0</th>\n",
              "      <td>Color</td>\n",
              "      <td>James Cameron</td>\n",
              "      <td>723.0</td>\n",
              "      <td>178.0</td>\n",
              "      <td>0.0</td>\n",
              "      <td>855.0</td>\n",
              "      <td>Joel David Moore</td>\n",
              "      <td>1000.0</td>\n",
              "      <td>760505847.0</td>\n",
              "      <td>Action|Adventure|Fantasy|Sci-Fi</td>\n",
              "      <td>...</td>\n",
              "      <td>3054.0</td>\n",
              "      <td>English</td>\n",
              "      <td>USA</td>\n",
              "      <td>PG-13</td>\n",
              "      <td>237000000.0</td>\n",
              "      <td>2009.0</td>\n",
              "      <td>936.0</td>\n",
              "      <td>7.9</td>\n",
              "      <td>1.78</td>\n",
              "      <td>33000</td>\n",
              "    </tr>\n",
              "    <tr>\n",
              "      <th>1</th>\n",
              "      <td>Color</td>\n",
              "      <td>Gore Verbinski</td>\n",
              "      <td>302.0</td>\n",
              "      <td>169.0</td>\n",
              "      <td>563.0</td>\n",
              "      <td>1000.0</td>\n",
              "      <td>Orlando Bloom</td>\n",
              "      <td>40000.0</td>\n",
              "      <td>309404152.0</td>\n",
              "      <td>Action|Adventure|Fantasy</td>\n",
              "      <td>...</td>\n",
              "      <td>1238.0</td>\n",
              "      <td>English</td>\n",
              "      <td>USA</td>\n",
              "      <td>PG-13</td>\n",
              "      <td>300000000.0</td>\n",
              "      <td>2007.0</td>\n",
              "      <td>5000.0</td>\n",
              "      <td>7.1</td>\n",
              "      <td>2.35</td>\n",
              "      <td>0</td>\n",
              "    </tr>\n",
              "    <tr>\n",
              "      <th>2</th>\n",
              "      <td>Color</td>\n",
              "      <td>Sam Mendes</td>\n",
              "      <td>602.0</td>\n",
              "      <td>148.0</td>\n",
              "      <td>0.0</td>\n",
              "      <td>161.0</td>\n",
              "      <td>Rory Kinnear</td>\n",
              "      <td>11000.0</td>\n",
              "      <td>200074175.0</td>\n",
              "      <td>Action|Adventure|Thriller</td>\n",
              "      <td>...</td>\n",
              "      <td>994.0</td>\n",
              "      <td>English</td>\n",
              "      <td>UK</td>\n",
              "      <td>PG-13</td>\n",
              "      <td>245000000.0</td>\n",
              "      <td>2015.0</td>\n",
              "      <td>393.0</td>\n",
              "      <td>6.8</td>\n",
              "      <td>2.35</td>\n",
              "      <td>85000</td>\n",
              "    </tr>\n",
              "    <tr>\n",
              "      <th>3</th>\n",
              "      <td>Color</td>\n",
              "      <td>Christopher Nolan</td>\n",
              "      <td>813.0</td>\n",
              "      <td>164.0</td>\n",
              "      <td>22000.0</td>\n",
              "      <td>23000.0</td>\n",
              "      <td>Christian Bale</td>\n",
              "      <td>27000.0</td>\n",
              "      <td>448130642.0</td>\n",
              "      <td>Action|Thriller</td>\n",
              "      <td>...</td>\n",
              "      <td>2701.0</td>\n",
              "      <td>English</td>\n",
              "      <td>USA</td>\n",
              "      <td>PG-13</td>\n",
              "      <td>250000000.0</td>\n",
              "      <td>2012.0</td>\n",
              "      <td>23000.0</td>\n",
              "      <td>8.5</td>\n",
              "      <td>2.35</td>\n",
              "      <td>164000</td>\n",
              "    </tr>\n",
              "    <tr>\n",
              "      <th>5</th>\n",
              "      <td>Color</td>\n",
              "      <td>Andrew Stanton</td>\n",
              "      <td>462.0</td>\n",
              "      <td>132.0</td>\n",
              "      <td>475.0</td>\n",
              "      <td>530.0</td>\n",
              "      <td>Samantha Morton</td>\n",
              "      <td>640.0</td>\n",
              "      <td>73058679.0</td>\n",
              "      <td>Action|Adventure|Sci-Fi</td>\n",
              "      <td>...</td>\n",
              "      <td>738.0</td>\n",
              "      <td>English</td>\n",
              "      <td>USA</td>\n",
              "      <td>PG-13</td>\n",
              "      <td>263700000.0</td>\n",
              "      <td>2012.0</td>\n",
              "      <td>632.0</td>\n",
              "      <td>6.6</td>\n",
              "      <td>2.35</td>\n",
              "      <td>24000</td>\n",
              "    </tr>\n",
              "    <tr>\n",
              "      <th>6</th>\n",
              "      <td>Color</td>\n",
              "      <td>Sam Raimi</td>\n",
              "      <td>392.0</td>\n",
              "      <td>156.0</td>\n",
              "      <td>0.0</td>\n",
              "      <td>4000.0</td>\n",
              "      <td>James Franco</td>\n",
              "      <td>24000.0</td>\n",
              "      <td>336530303.0</td>\n",
              "      <td>Action|Adventure|Romance</td>\n",
              "      <td>...</td>\n",
              "      <td>1902.0</td>\n",
              "      <td>English</td>\n",
              "      <td>USA</td>\n",
              "      <td>PG-13</td>\n",
              "      <td>258000000.0</td>\n",
              "      <td>2007.0</td>\n",
              "      <td>11000.0</td>\n",
              "      <td>6.2</td>\n",
              "      <td>2.35</td>\n",
              "      <td>0</td>\n",
              "    </tr>\n",
              "    <tr>\n",
              "      <th>7</th>\n",
              "      <td>Color</td>\n",
              "      <td>Nathan Greno</td>\n",
              "      <td>324.0</td>\n",
              "      <td>100.0</td>\n",
              "      <td>15.0</td>\n",
              "      <td>284.0</td>\n",
              "      <td>Donna Murphy</td>\n",
              "      <td>799.0</td>\n",
              "      <td>200807262.0</td>\n",
              "      <td>Adventure|Animation|Comedy|Family|Fantasy|Musi...</td>\n",
              "      <td>...</td>\n",
              "      <td>387.0</td>\n",
              "      <td>English</td>\n",
              "      <td>USA</td>\n",
              "      <td>PG</td>\n",
              "      <td>260000000.0</td>\n",
              "      <td>2010.0</td>\n",
              "      <td>553.0</td>\n",
              "      <td>7.8</td>\n",
              "      <td>1.85</td>\n",
              "      <td>29000</td>\n",
              "    </tr>\n",
              "    <tr>\n",
              "      <th>8</th>\n",
              "      <td>Color</td>\n",
              "      <td>Joss Whedon</td>\n",
              "      <td>635.0</td>\n",
              "      <td>141.0</td>\n",
              "      <td>0.0</td>\n",
              "      <td>19000.0</td>\n",
              "      <td>Robert Downey Jr.</td>\n",
              "      <td>26000.0</td>\n",
              "      <td>458991599.0</td>\n",
              "      <td>Action|Adventure|Sci-Fi</td>\n",
              "      <td>...</td>\n",
              "      <td>1117.0</td>\n",
              "      <td>English</td>\n",
              "      <td>USA</td>\n",
              "      <td>PG-13</td>\n",
              "      <td>250000000.0</td>\n",
              "      <td>2015.0</td>\n",
              "      <td>21000.0</td>\n",
              "      <td>7.5</td>\n",
              "      <td>2.35</td>\n",
              "      <td>118000</td>\n",
              "    </tr>\n",
              "    <tr>\n",
              "      <th>9</th>\n",
              "      <td>Color</td>\n",
              "      <td>David Yates</td>\n",
              "      <td>375.0</td>\n",
              "      <td>153.0</td>\n",
              "      <td>282.0</td>\n",
              "      <td>10000.0</td>\n",
              "      <td>Daniel Radcliffe</td>\n",
              "      <td>25000.0</td>\n",
              "      <td>301956980.0</td>\n",
              "      <td>Adventure|Family|Fantasy|Mystery</td>\n",
              "      <td>...</td>\n",
              "      <td>973.0</td>\n",
              "      <td>English</td>\n",
              "      <td>UK</td>\n",
              "      <td>PG</td>\n",
              "      <td>250000000.0</td>\n",
              "      <td>2009.0</td>\n",
              "      <td>11000.0</td>\n",
              "      <td>7.5</td>\n",
              "      <td>2.35</td>\n",
              "      <td>10000</td>\n",
              "    </tr>\n",
              "    <tr>\n",
              "      <th>10</th>\n",
              "      <td>Color</td>\n",
              "      <td>Zack Snyder</td>\n",
              "      <td>673.0</td>\n",
              "      <td>183.0</td>\n",
              "      <td>0.0</td>\n",
              "      <td>2000.0</td>\n",
              "      <td>Lauren Cohan</td>\n",
              "      <td>15000.0</td>\n",
              "      <td>330249062.0</td>\n",
              "      <td>Action|Adventure|Sci-Fi</td>\n",
              "      <td>...</td>\n",
              "      <td>3018.0</td>\n",
              "      <td>English</td>\n",
              "      <td>USA</td>\n",
              "      <td>PG-13</td>\n",
              "      <td>250000000.0</td>\n",
              "      <td>2016.0</td>\n",
              "      <td>4000.0</td>\n",
              "      <td>6.9</td>\n",
              "      <td>2.35</td>\n",
              "      <td>197000</td>\n",
              "    </tr>\n",
              "  </tbody>\n",
              "</table>\n",
              "<p>10 rows × 28 columns</p>\n",
              "</div>"
            ],
            "text/plain": [
              "    color      director_name  num_critic_for_reviews  duration  \\\n",
              "0   Color      James Cameron                   723.0     178.0   \n",
              "1   Color     Gore Verbinski                   302.0     169.0   \n",
              "2   Color         Sam Mendes                   602.0     148.0   \n",
              "3   Color  Christopher Nolan                   813.0     164.0   \n",
              "5   Color     Andrew Stanton                   462.0     132.0   \n",
              "6   Color          Sam Raimi                   392.0     156.0   \n",
              "7   Color       Nathan Greno                   324.0     100.0   \n",
              "8   Color        Joss Whedon                   635.0     141.0   \n",
              "9   Color        David Yates                   375.0     153.0   \n",
              "10  Color        Zack Snyder                   673.0     183.0   \n",
              "\n",
              "    director_facebook_likes  actor_3_facebook_likes       actor_2_name  \\\n",
              "0                       0.0                   855.0   Joel David Moore   \n",
              "1                     563.0                  1000.0      Orlando Bloom   \n",
              "2                       0.0                   161.0       Rory Kinnear   \n",
              "3                   22000.0                 23000.0     Christian Bale   \n",
              "5                     475.0                   530.0    Samantha Morton   \n",
              "6                       0.0                  4000.0       James Franco   \n",
              "7                      15.0                   284.0       Donna Murphy   \n",
              "8                       0.0                 19000.0  Robert Downey Jr.   \n",
              "9                     282.0                 10000.0   Daniel Radcliffe   \n",
              "10                      0.0                  2000.0       Lauren Cohan   \n",
              "\n",
              "    actor_1_facebook_likes        gross  \\\n",
              "0                   1000.0  760505847.0   \n",
              "1                  40000.0  309404152.0   \n",
              "2                  11000.0  200074175.0   \n",
              "3                  27000.0  448130642.0   \n",
              "5                    640.0   73058679.0   \n",
              "6                  24000.0  336530303.0   \n",
              "7                    799.0  200807262.0   \n",
              "8                  26000.0  458991599.0   \n",
              "9                  25000.0  301956980.0   \n",
              "10                 15000.0  330249062.0   \n",
              "\n",
              "                                               genres         ...           \\\n",
              "0                     Action|Adventure|Fantasy|Sci-Fi         ...            \n",
              "1                            Action|Adventure|Fantasy         ...            \n",
              "2                           Action|Adventure|Thriller         ...            \n",
              "3                                     Action|Thriller         ...            \n",
              "5                             Action|Adventure|Sci-Fi         ...            \n",
              "6                            Action|Adventure|Romance         ...            \n",
              "7   Adventure|Animation|Comedy|Family|Fantasy|Musi...         ...            \n",
              "8                             Action|Adventure|Sci-Fi         ...            \n",
              "9                    Adventure|Family|Fantasy|Mystery         ...            \n",
              "10                            Action|Adventure|Sci-Fi         ...            \n",
              "\n",
              "   num_user_for_reviews language  country  content_rating       budget  \\\n",
              "0                3054.0  English      USA           PG-13  237000000.0   \n",
              "1                1238.0  English      USA           PG-13  300000000.0   \n",
              "2                 994.0  English       UK           PG-13  245000000.0   \n",
              "3                2701.0  English      USA           PG-13  250000000.0   \n",
              "5                 738.0  English      USA           PG-13  263700000.0   \n",
              "6                1902.0  English      USA           PG-13  258000000.0   \n",
              "7                 387.0  English      USA              PG  260000000.0   \n",
              "8                1117.0  English      USA           PG-13  250000000.0   \n",
              "9                 973.0  English       UK              PG  250000000.0   \n",
              "10               3018.0  English      USA           PG-13  250000000.0   \n",
              "\n",
              "    title_year actor_2_facebook_likes imdb_score  aspect_ratio  \\\n",
              "0       2009.0                  936.0        7.9          1.78   \n",
              "1       2007.0                 5000.0        7.1          2.35   \n",
              "2       2015.0                  393.0        6.8          2.35   \n",
              "3       2012.0                23000.0        8.5          2.35   \n",
              "5       2012.0                  632.0        6.6          2.35   \n",
              "6       2007.0                11000.0        6.2          2.35   \n",
              "7       2010.0                  553.0        7.8          1.85   \n",
              "8       2015.0                21000.0        7.5          2.35   \n",
              "9       2009.0                11000.0        7.5          2.35   \n",
              "10      2016.0                 4000.0        6.9          2.35   \n",
              "\n",
              "   movie_facebook_likes  \n",
              "0                 33000  \n",
              "1                     0  \n",
              "2                 85000  \n",
              "3                164000  \n",
              "5                 24000  \n",
              "6                     0  \n",
              "7                 29000  \n",
              "8                118000  \n",
              "9                 10000  \n",
              "10               197000  \n",
              "\n",
              "[10 rows x 28 columns]"
            ]
          },
          "metadata": {
            "tags": []
          },
          "execution_count": 11
        }
      ]
    },
    {
      "cell_type": "markdown",
      "metadata": {
        "id": "h8aonvNCLijN"
      },
      "source": [
        "Of course, we could also drop rows with any missing information via `.dropna()` but we would likely lose a lot of our dataset.  If we want to drop rows that contain only missing information values, we can use `.dropna(how='all')` but it is unlikely that we would have rows with absolutely no information.\n",
        "\n",
        "Let us next investigate which are the most problematic columns."
      ]
    },
    {
      "cell_type": "code",
      "metadata": {
        "id": "6aFhGfH7LijP",
        "outputId": "ab1a0ab6-e532-48dd-b52f-14187eab68a8"
      },
      "source": [
        "missingCount = imdb_df.isnull().sum()\n",
        "missingCount"
      ],
      "execution_count": null,
      "outputs": [
        {
          "output_type": "execute_result",
          "data": {
            "text/plain": [
              "color                         16\n",
              "director_name                100\n",
              "num_critic_for_reviews        46\n",
              "duration                      14\n",
              "director_facebook_likes      100\n",
              "actor_3_facebook_likes        18\n",
              "actor_2_name                   9\n",
              "actor_1_facebook_likes         6\n",
              "gross                        877\n",
              "genres                         0\n",
              "actor_1_name                   6\n",
              "movie_title                    0\n",
              "num_voted_users                0\n",
              "cast_total_facebook_likes      0\n",
              "actor_3_name                  18\n",
              "facenumber_in_poster          13\n",
              "plot_keywords                150\n",
              "movie_imdb_link                0\n",
              "num_user_for_reviews          17\n",
              "language                       9\n",
              "country                        3\n",
              "content_rating               296\n",
              "budget                       487\n",
              "title_year                   102\n",
              "actor_2_facebook_likes         9\n",
              "imdb_score                     0\n",
              "aspect_ratio                 322\n",
              "movie_facebook_likes           0\n",
              "dtype: int64"
            ]
          },
          "metadata": {
            "tags": []
          },
          "execution_count": 13
        }
      ]
    },
    {
      "cell_type": "markdown",
      "metadata": {
        "id": "TVy9RMTgLijV"
      },
      "source": [
        "Some columns contain strings.  It would be appropriate to replace missing string values with an empty string"
      ]
    },
    {
      "cell_type": "code",
      "metadata": {
        "id": "n0J3B1eaLijc",
        "outputId": "ebd48e01-c971-40b5-f867-2e221d5b99fd"
      },
      "source": [
        "imdb_df['color'] = imdb_df['color'].fillna('')\n",
        "missingCount = imdb_df.isnull().sum()\n",
        "missingCount"
      ],
      "execution_count": null,
      "outputs": [
        {
          "output_type": "execute_result",
          "data": {
            "text/plain": [
              "color                          0\n",
              "director_name                100\n",
              "num_critic_for_reviews        46\n",
              "duration                      14\n",
              "director_facebook_likes      100\n",
              "actor_3_facebook_likes        18\n",
              "actor_2_name                   9\n",
              "actor_1_facebook_likes         6\n",
              "gross                        877\n",
              "genres                         0\n",
              "actor_1_name                   6\n",
              "movie_title                    0\n",
              "num_voted_users                0\n",
              "cast_total_facebook_likes      0\n",
              "actor_3_name                  18\n",
              "facenumber_in_poster          13\n",
              "plot_keywords                150\n",
              "movie_imdb_link                0\n",
              "num_user_for_reviews          17\n",
              "language                       9\n",
              "country                        3\n",
              "content_rating               296\n",
              "budget                       487\n",
              "title_year                   102\n",
              "actor_2_facebook_likes         9\n",
              "imdb_score                     0\n",
              "aspect_ratio                 322\n",
              "movie_facebook_likes           0\n",
              "dtype: int64"
            ]
          },
          "metadata": {
            "tags": []
          },
          "execution_count": 14
        }
      ]
    },
    {
      "cell_type": "code",
      "metadata": {
        "id": "7x4DfHgZLijf"
      },
      "source": [
        "# Task 4: Enter code to replace the rest of the missing string values with empty strings"
      ],
      "execution_count": null,
      "outputs": []
    },
    {
      "cell_type": "markdown",
      "metadata": {
        "id": "TJ2E_aYVLiji"
      },
      "source": [
        "Let's say that the year that the movie came out is very important to us and we just don't care about movies where that information is not available."
      ]
    },
    {
      "cell_type": "code",
      "metadata": {
        "id": "KbVLBAIlLijj"
      },
      "source": [
        "imdb_df = imdb_df.dropna(subset=['title_year'])"
      ],
      "execution_count": null,
      "outputs": []
    },
    {
      "cell_type": "markdown",
      "metadata": {
        "id": "MO5FWTzLLijl"
      },
      "source": [
        "`title_year` may be a confusing column header, so we can rename it."
      ]
    },
    {
      "cell_type": "code",
      "metadata": {
        "id": "Ezei7HxfLijl",
        "outputId": "8a4ab738-351d-4cec-9602-79f997bdecc1"
      },
      "source": [
        "imdb_df = imdb_df.rename(columns = {'title_year':'release_date'})\n",
        "imdb_df.columns"
      ],
      "execution_count": null,
      "outputs": [
        {
          "output_type": "execute_result",
          "data": {
            "text/plain": [
              "Index(['color', 'director_name', 'num_critic_for_reviews', 'duration',\n",
              "       'director_facebook_likes', 'actor_3_facebook_likes', 'actor_2_name',\n",
              "       'actor_1_facebook_likes', 'gross', 'genres', 'actor_1_name',\n",
              "       'movie_title', 'num_voted_users', 'cast_total_facebook_likes',\n",
              "       'actor_3_name', 'facenumber_in_poster', 'plot_keywords',\n",
              "       'movie_imdb_link', 'num_user_for_reviews', 'language', 'country',\n",
              "       'content_rating', 'budget', 'release_date', 'actor_2_facebook_likes',\n",
              "       'imdb_score', 'aspect_ratio', 'movie_facebook_likes'],\n",
              "      dtype='object')"
            ]
          },
          "metadata": {
            "tags": []
          },
          "execution_count": 19
        }
      ]
    },
    {
      "cell_type": "markdown",
      "metadata": {
        "id": "HivsoCPXLijn"
      },
      "source": [
        "Let's make a histogram of release dates."
      ]
    },
    {
      "cell_type": "code",
      "metadata": {
        "id": "tyb0ScN7Lijo",
        "outputId": "3ce98373-dc9d-473b-ca03-fc058d4801cd"
      },
      "source": [
        "%matplotlib inline\n",
        "\n",
        "imdb_df.hist(column='release_date', bins=20)"
      ],
      "execution_count": null,
      "outputs": [
        {
          "output_type": "execute_result",
          "data": {
            "text/plain": [
              "array([[<matplotlib.axes._subplots.AxesSubplot object at 0x121f3cd68>]],\n",
              "      dtype=object)"
            ]
          },
          "metadata": {
            "tags": []
          },
          "execution_count": 21
        },
        {
          "output_type": "display_data",
          "data": {
            "image/png": "[encoded data removed]",
            "text/plain": [
              "<Figure size 432x288 with 1 Axes>"
            ]
          },
          "metadata": {
            "tags": [],
            "needs_background": "light"
          }
        }
      ]
    },
    {
      "cell_type": "code",
      "metadata": {
        "id": "QcfkqSFRLijr"
      },
      "source": [
        "# Task 5: Calculate and output the min, max, mean, and standard deviation of the imdb_score.\n",
        "# Also plot a histogram of the values stored in this column."
      ],
      "execution_count": null,
      "outputs": []
    },
    {
      "cell_type": "markdown",
      "metadata": {
        "id": "Armm6zQ8Lijt"
      },
      "source": [
        "Looking back at what data is missing, we can see that not every movie has a duration available.  If we want to fill in these missing duration values, a crude way of doing this would be to replace the missing values with the mean movie duration.  Since most movies have durations that fall within a range of times, this would be better than simply setting the missing values to zero."
      ]
    },
    {
      "cell_type": "code",
      "metadata": {
        "id": "0QQZNhjsLiju"
      },
      "source": [
        "imdb_df.duration = imdb_df.duration.fillna(imdb_df.duration.mean())"
      ],
      "execution_count": null,
      "outputs": []
    },
    {
      "cell_type": "code",
      "metadata": {
        "id": "e9TXPiGvLij0",
        "outputId": "fe713b10-9f6e-44ab-adc4-e4eab6e9d833"
      },
      "source": [
        "missingCount = imdb_df.isnull().sum()\n",
        "missingCount"
      ],
      "execution_count": null,
      "outputs": [
        {
          "output_type": "execute_result",
          "data": {
            "text/plain": [
              "color                          0\n",
              "director_name                  0\n",
              "num_critic_for_reviews        40\n",
              "duration                       0\n",
              "director_facebook_likes        0\n",
              "actor_3_facebook_likes        17\n",
              "actor_2_name                   9\n",
              "actor_1_facebook_likes         6\n",
              "gross                        778\n",
              "genres                         0\n",
              "actor_1_name                   6\n",
              "movie_title                    0\n",
              "num_voted_users                0\n",
              "cast_total_facebook_likes      0\n",
              "actor_3_name                  17\n",
              "facenumber_in_poster          13\n",
              "plot_keywords                140\n",
              "movie_imdb_link                0\n",
              "num_user_for_reviews          14\n",
              "language                       9\n",
              "country                        1\n",
              "content_rating               260\n",
              "budget                       392\n",
              "release_date                   0\n",
              "actor_2_facebook_likes         9\n",
              "imdb_score                     0\n",
              "aspect_ratio                 306\n",
              "movie_facebook_likes           0\n",
              "dtype: int64"
            ]
          },
          "metadata": {
            "tags": []
          },
          "execution_count": 24
        }
      ]
    },
    {
      "cell_type": "code",
      "metadata": {
        "id": "0d7632agLij4"
      },
      "source": [
        "# Task 6: Replace the missing values in the remaining columns. \n",
        "# Re-calculate missingCount to show that you have successfully replaced them."
      ],
      "execution_count": null,
      "outputs": []
    }
  ]
}