{
  "nbformat": 4,
  "nbformat_minor": 0,
  "metadata": {
    "colab": {
      "name": "Decision_Tree-Neural_Network.ipynb",
      "provenance": [],
      "collapsed_sections": []
    },
    "kernelspec": {
      "display_name": "Python 3",
      "language": "python",
      "name": "python3"
    }
  },
  "cells": [
    {
      "cell_type": "markdown",
      "metadata": {
        "id": "hGWX1suDerwz"
      },
      "source": [
        "# Decision Trees and Neural Networks\n",
        "\n",
        "We will first be looking at decision trees which allow us to sort samples into categories based on questions we ask about the sample attributes.\n",
        "\n",
        "Suppose we are asked to build a decision tree based on the experience of our company in hiring candidates.  The data we are supplied with consists of a tuple of (`input`, `label`) pairs.  The `label` tells us if the candidate was hired or not, whereas the `input` is a dictionary of the attribues: level, primary programming language, active twitter user and whether they have a Ph.D."
      ]
    },
    {
      "cell_type": "code",
      "metadata": {
        "id": "cpo3WC9Berw2"
      },
      "source": [
        "import numpy as np\n",
        "\n",
        "hire_data = [\n",
        "    ({'level':'Senior', 'lang':'Java', 'tweets':'no', 'phd':'no'},    False),\n",
        "    ({'level':'Senior', 'lang':'Java', 'tweets':'no', 'phd':'yes'},   False),\n",
        "    ({'level':'Mid', 'lang':'Python', 'tweets':'no', 'phd':'no'},      True),\n",
        "    ({'level':'Junior', 'lang':'Python', 'tweets':'no', 'phd':'no'},   True),\n",
        "    ({'level':'Junior', 'lang':'R', 'tweets':'yes', 'phd':'no'},       True),\n",
        "    ({'level':'Junior', 'lang':'R', 'tweets':'yes', 'phd':'yes'},     False),\n",
        "    ({'level':'Mid', 'lang':'R', 'tweets':'yes', 'phd':'yes'},         True),\n",
        "    ({'level':'Senior', 'lang':'Python', 'tweets':'no', 'phd':'no'},  False),\n",
        "    ({'level':'Senior', 'lang':'R', 'tweets':'yes', 'phd':'no'},       True),\n",
        "    ({'level':'Junior', 'lang':'Python', 'tweets':'yes', 'phd':'no'},  True),\n",
        "    ({'level':'Senior', 'lang':'Python', 'tweets':'yes', 'phd':'yes'}, True),\n",
        "    ({'level':'Mid', 'lang':'Python', 'tweets':'no', 'phd':'yes'},     True),\n",
        "    ({'level':'Mid', 'lang':'Java', 'tweets':'yes', 'phd':'no'},       True),\n",
        "    ({'level':'Junior', 'lang':'Python', 'tweets':'no', 'phd':'yes'}, False)\n",
        "]\n"
      ],
      "execution_count": null,
      "outputs": []
    },
    {
      "cell_type": "markdown",
      "metadata": {
        "id": "dad2SQsLerw7"
      },
      "source": [
        "In order to build a decision tree to sort new applicants, we can follow a greedy algorithm to find the best decision nodes.\n",
        "\n",
        "**Step 1:** If the data all have the same label, create a leaf node that predicts the label and then stop.\n",
        "\n",
        "- Nope, there are a bunch of \"False\" and \"True\" labels currently, so we need to continue.\n",
        "\n",
        "**Step 2:** If the list of attributes is empty (no more possible questions to ask) create a leaf node that predicts the most common label and then stop.\n",
        "\n",
        "- No, we are just getting started.\n",
        "\n",
        "**Step 3:** Partition the data by each of the attributes and calculate the partition entropy.\n",
        "\n",
        "- Ok, now we can get to work"
      ]
    },
    {
      "cell_type": "markdown",
      "metadata": {
        "id": "ePOZroEderw8"
      },
      "source": [
        "Remember that the entropy of a set $S$ that can be divided up into a number of classes $C_1, C_2, \\ldots, C_n$ is\n",
        "\n",
        "$$ H(S) = -p_1 \\log_2 p_1 - p_2 \\log_2 p_2 - \\ldots - p_n \\log_2 p_n $$\n",
        "\n",
        "where $p_n$ is the proportion of the data belonging to class $C_n$\n",
        "\n",
        "Then, the entropy of a partition (question that divides the data into sets) is \n",
        "\n",
        "$$ H = q_1H(S_1) + \\ldots + q_mH(S_m) $$\n",
        "\n",
        "where $q_m$ is the proportion of the data in set $S_n$"
      ]
    },
    {
      "cell_type": "markdown",
      "metadata": {
        "id": "eu7ATVP8erw9"
      },
      "source": [
        "Let's start with the attribute `level`.  If we partition on level, there are 3 possibilities: Senior, Mid, and Junior.  These 3 are our sets.  'True' and 'False' are the classes those set items fall into.  So now we can calculate our $p$ and $q$ values."
      ]
    },
    {
      "cell_type": "code",
      "metadata": {
        "id": "mOgfaeKgerw-"
      },
      "source": [
        "# Define a function to calculate the entropy of a set, given\n",
        "# the proportion of data in each class (p_1 ... p_n)\n",
        "# By convention, the entropy of an empty class is zero.\n",
        "\n",
        "def entropy(pvec):\n",
        "    H = 0\n",
        "    for p in pvec:\n",
        "        if p != 0: \n",
        "            H += -p*np.log2(p)\n",
        "            \n",
        "    return H"
      ],
      "execution_count": null,
      "outputs": []
    },
    {
      "cell_type": "code",
      "metadata": {
        "id": "UMGKXyh3erxB"
      },
      "source": [
        "# Define a function to calculate the entropy of a partition\n",
        "# given an attribute to perform the partition, the possible\n",
        "# values of the attribute, and the data set\n",
        "\n",
        "def entropy_part(attr, sets, data):\n",
        "    \"\"\"\n",
        "    H_part = entropy_part(attr, sets, data)\n",
        "    calculates the entropy of a partition\n",
        "    INPUTS: attr - attribute of the partition\n",
        "            sets - list of possible values of the attribute\n",
        "            data - input data \n",
        "    \"\"\"\n",
        "    q = np.zeros(len(sets))\n",
        "    H = np.zeros(len(sets))\n",
        "\n",
        "    nrecords = len(data)\n",
        "\n",
        "    set_index = 0\n",
        "    for S in sets:\n",
        "        \n",
        "        # There are two classes, true and false\n",
        "        set_true = 0\n",
        "        set_false = 0\n",
        "        p_class = np.zeros(2)\n",
        "        \n",
        "        for samp in data:\n",
        "            if samp[0][attr] == S:\n",
        "                if samp[1] == True:\n",
        "                    set_true += 1\n",
        "                else:\n",
        "                    set_false += 1\n",
        "        \n",
        "        nsamps = set_true + set_false\n",
        "        if nsamps != 0:\n",
        "            # proportion of samples in the true class per set\n",
        "            p_class[0] = set_true/(nsamps)\n",
        "            # proportion of samples in the false class per set\n",
        "            p_class[1] = set_false/(nsamps)\n",
        "    \n",
        "        H[set_index] = np.sum(entropy(p_class))\n",
        "        \n",
        "        if nrecords != 0:\n",
        "            q[set_index] = nsamps/nrecords\n",
        "    \n",
        "        set_index += 1\n",
        "    \n",
        "    H_part = np.dot(q,H)\n",
        "  \n",
        "    return H_part  "
      ],
      "execution_count": null,
      "outputs": []
    },
    {
      "cell_type": "code",
      "metadata": {
        "id": "aOCDXGZkerxF",
        "colab": {
          "base_uri": "https://localhost:8080/",
          "height": 34
        },
        "outputId": "e12c4f91-8f5f-4ef2-e719-b4a7e929b899"
      },
      "source": [
        "attr = 'level'\n",
        "sets = ['Senior', 'Mid', 'Junior']\n",
        "\n",
        "H_part = entropy_part(attr, sets, hire_data)\n",
        "\n",
        "print('Entropy of {} partition is {:.4f}'.format(attr, H_part))"
      ],
      "execution_count": null,
      "outputs": [
        {
          "output_type": "stream",
          "text": [
            "Entropy of level partition is 0.6935\n"
          ],
          "name": "stdout"
        }
      ]
    },
    {
      "cell_type": "code",
      "metadata": {
        "id": "dzrZMnPverxJ",
        "colab": {
          "base_uri": "https://localhost:8080/",
          "height": 34
        },
        "outputId": "07a0e8de-8f8d-4bdc-c90d-d252b947d280"
      },
      "source": [
        "attr = 'lang'\n",
        "sets = ['Java', 'R', 'Python']\n",
        "\n",
        "H_part = entropy_part(attr, sets, hire_data)\n",
        "\n",
        "print('Entropy of {} partition is {:.4f}'.format(attr, H_part))"
      ],
      "execution_count": null,
      "outputs": [
        {
          "output_type": "stream",
          "text": [
            "Entropy of lang partition is 0.8601\n"
          ],
          "name": "stdout"
        }
      ]
    },
    {
      "cell_type": "code",
      "metadata": {
        "id": "0uF8_K-XerxO",
        "colab": {
          "base_uri": "https://localhost:8080/",
          "height": 34
        },
        "outputId": "0b94aeab-5a6e-4504-9ce4-f9c0f17b75b0"
      },
      "source": [
        "attr = 'tweets'\n",
        "sets = ['yes', 'no']\n",
        "\n",
        "H_part = entropy_part(attr, sets, hire_data)\n",
        "\n",
        "print('Entropy of {} partition is {:.4f}'.format(attr, H_part))"
      ],
      "execution_count": null,
      "outputs": [
        {
          "output_type": "stream",
          "text": [
            "Entropy of tweets partition is 0.7885\n"
          ],
          "name": "stdout"
        }
      ]
    },
    {
      "cell_type": "code",
      "metadata": {
        "id": "YqkRnIa9erxS",
        "colab": {
          "base_uri": "https://localhost:8080/",
          "height": 34
        },
        "outputId": "33393b13-c966-4679-e4e3-4d3ae54fdd78"
      },
      "source": [
        "attr = 'phd'\n",
        "sets = ['yes', 'no']\n",
        "\n",
        "H_part = entropy_part(attr, sets, hire_data)\n",
        "\n",
        "print('Entropy of {} partition is {:.4f}'.format(attr, H_part))"
      ],
      "execution_count": null,
      "outputs": [
        {
          "output_type": "stream",
          "text": [
            "Entropy of phd partition is 0.8922\n"
          ],
          "name": "stdout"
        }
      ]
    },
    {
      "cell_type": "markdown",
      "metadata": {
        "id": "lOPHKrzOerxW"
      },
      "source": [
        "**Step 4:** Select the partition with the lowest entropy\n",
        "\n",
        "- The `level` attribute partition gives the lowest entropy\n",
        "\n",
        "**Step 5:** Add a decision node based on the chosen attribute\n",
        "\n",
        "- We would add a level decision node.\n",
        "\n",
        "Now our decision tree looks like this:\n",
        "\n",
        "<img src=\"https://www.andrews.edu/~tzs/DataScience/decisiontree1.png\" width=250>\n",
        "\n",
        "\n",
        "**Step 6:** Apply steps 1-6 on all subsets\n"
      ]
    },
    {
      "cell_type": "code",
      "metadata": {
        "id": "3NJpxG39erxY"
      },
      "source": [
        "# Break the data up into subsets\n",
        "\n",
        "lev_senior_data = [record for record in hire_data if record[0]['level'] == 'Senior']\n",
        "lev_mid_data = [record for record in hire_data if record[0]['level'] == 'Mid']\n",
        "lev_junior_data = [record for record in hire_data if record[0]['level'] == 'Junior']"
      ],
      "execution_count": null,
      "outputs": []
    },
    {
      "cell_type": "markdown",
      "metadata": {
        "id": "gqKBCRpeerxe"
      },
      "source": [
        "Let's start with the level = 'Senior' set.\n",
        "\n",
        "**Step 1:** Do the data have the same label class?"
      ]
    },
    {
      "cell_type": "code",
      "metadata": {
        "id": "BAo2dh5Zerxf",
        "colab": {
          "base_uri": "https://localhost:8080/",
          "height": 102
        },
        "outputId": "30eb6c9d-3187-4e62-c54d-28377325f820"
      },
      "source": [
        "lev_senior_data"
      ],
      "execution_count": null,
      "outputs": [
        {
          "output_type": "execute_result",
          "data": {
            "text/plain": [
              "[({'lang': 'Java', 'level': 'Senior', 'phd': 'no', 'tweets': 'no'}, False),\n",
              " ({'lang': 'Java', 'level': 'Senior', 'phd': 'yes', 'tweets': 'no'}, False),\n",
              " ({'lang': 'Python', 'level': 'Senior', 'phd': 'no', 'tweets': 'no'}, False),\n",
              " ({'lang': 'R', 'level': 'Senior', 'phd': 'no', 'tweets': 'yes'}, True),\n",
              " ({'lang': 'Python', 'level': 'Senior', 'phd': 'yes', 'tweets': 'yes'}, True)]"
            ]
          },
          "metadata": {
            "tags": []
          },
          "execution_count": 9
        }
      ]
    },
    {
      "cell_type": "markdown",
      "metadata": {
        "id": "VROAf6GJerxj"
      },
      "source": [
        "No, there is a mixture of 'True' and 'False' labels.\n",
        "\n",
        "**Step 2:** List of attributes used up?  - no\n",
        "\n",
        "**Step 3:** Partition on remaining attributes and calculate partition entropy.\n",
        "\n",
        "**Step 4:** Select the attribute with the lowest partition entropy."
      ]
    },
    {
      "cell_type": "code",
      "metadata": {
        "id": "M7LNoEenerxk",
        "colab": {
          "base_uri": "https://localhost:8080/",
          "height": 68
        },
        "outputId": "8549b510-a8ec-4662-8b66-401f1533f17a"
      },
      "source": [
        "attr = 'lang'\n",
        "sets = ['Java', 'R', 'Python']\n",
        "\n",
        "H_part = entropy_part(attr, sets, lev_senior_data)\n",
        "\n",
        "print('Entropy of {} partition is {:.4f}'.format(attr, H_part))\n",
        "\n",
        "attr = 'tweets'\n",
        "sets = ['yes', 'no']\n",
        "\n",
        "H_part = entropy_part(attr, sets, lev_senior_data)\n",
        "\n",
        "print('Entropy of {} partition is {:.4f}'.format(attr, H_part))\n",
        "\n",
        "attr = 'phd'\n",
        "sets = ['yes', 'no']\n",
        "\n",
        "H_part = entropy_part(attr, sets, lev_senior_data)\n",
        "\n",
        "print('Entropy of {} partition is {:.4f}'.format(attr, H_part))"
      ],
      "execution_count": null,
      "outputs": [
        {
          "output_type": "stream",
          "text": [
            "Entropy of lang partition is 0.4000\n",
            "Entropy of tweets partition is 0.0000\n",
            "Entropy of phd partition is 0.9510\n"
          ],
          "name": "stdout"
        }
      ]
    },
    {
      "cell_type": "markdown",
      "metadata": {
        "id": "-pGlWqO0erxp"
      },
      "source": [
        "Tweets is the winner!\n",
        "\n",
        "**Step 5:** Add a decision node based on the chosen attribute.\n",
        "\n",
        "Now our decision tree looks like this\n",
        "\n",
        "<img src='https://www.andrews.edu/~tzs/DataScience/decisiontree2.png' width=300>\n",
        "\n",
        "**Step 6:** Apply steps 1-6 on all subsets"
      ]
    },
    {
      "cell_type": "code",
      "metadata": {
        "id": "u1WSHkG9erxq"
      },
      "source": [
        "# Break data into subsets\n",
        "lev_senior_tweets_y = [record for record in lev_senior_data if record[0]['tweets'] == 'yes']\n",
        "lev_senior_tweets_n = [record for record in lev_senior_data if record[0]['tweets'] == 'no']"
      ],
      "execution_count": null,
      "outputs": []
    },
    {
      "cell_type": "markdown",
      "metadata": {
        "id": "Gcr9Hrt6erxt"
      },
      "source": [
        "Look at the 'tweets' = 'yes' subset\n",
        "\n",
        "**Step 1:** Do the data have the same level class?"
      ]
    },
    {
      "cell_type": "code",
      "metadata": {
        "id": "J5ovvXpLerxu",
        "colab": {
          "base_uri": "https://localhost:8080/",
          "height": 51
        },
        "outputId": "e3660800-972d-4deb-a6eb-b4c93c5022a4"
      },
      "source": [
        "lev_senior_tweets_y"
      ],
      "execution_count": null,
      "outputs": [
        {
          "output_type": "execute_result",
          "data": {
            "text/plain": [
              "[({'lang': 'R', 'level': 'Senior', 'phd': 'no', 'tweets': 'yes'}, True),\n",
              " ({'lang': 'Python', 'level': 'Senior', 'phd': 'yes', 'tweets': 'yes'}, True)]"
            ]
          },
          "metadata": {
            "tags": []
          },
          "execution_count": 12
        }
      ]
    },
    {
      "cell_type": "markdown",
      "metadata": {
        "id": "ds9qz19aerxw"
      },
      "source": [
        "Yes! Create a leaf node and then stop\n",
        "\n",
        "The same goes for the 'tweets' = 'no' subset"
      ]
    },
    {
      "cell_type": "code",
      "metadata": {
        "id": "q82yWeI8erxw",
        "colab": {
          "base_uri": "https://localhost:8080/",
          "height": 68
        },
        "outputId": "fe947240-80c9-4794-8d3e-8eb586eba2ef"
      },
      "source": [
        "lev_senior_tweets_n"
      ],
      "execution_count": null,
      "outputs": [
        {
          "output_type": "execute_result",
          "data": {
            "text/plain": [
              "[({'lang': 'Java', 'level': 'Senior', 'phd': 'no', 'tweets': 'no'}, False),\n",
              " ({'lang': 'Java', 'level': 'Senior', 'phd': 'yes', 'tweets': 'no'}, False),\n",
              " ({'lang': 'Python', 'level': 'Senior', 'phd': 'no', 'tweets': 'no'}, False)]"
            ]
          },
          "metadata": {
            "tags": []
          },
          "execution_count": 13
        }
      ]
    },
    {
      "cell_type": "markdown",
      "metadata": {
        "id": "8Us5xhwBerxz"
      },
      "source": [
        "So now we are done with the level = 'Senior' branch of our decision tree, which looks like this:\n",
        "\n",
        "<img src='https://www.andrews.edu/~tzs/DataScience/decisiontree3.png' width=350>\n"
      ]
    },
    {
      "cell_type": "code",
      "metadata": {
        "id": "DaYIPfL5erx0",
        "colab": {
          "base_uri": "https://localhost:8080/",
          "height": 85
        },
        "outputId": "15e9fe44-d186-4c49-e235-faa423ce390e"
      },
      "source": [
        "# Task 1: Apply the greedy algorithm to the level = 'Mid' set to \n",
        "# fill out that part of the decision tree\n",
        "\n",
        "lev_mid_data\n",
        "\n"
      ],
      "execution_count": null,
      "outputs": [
        {
          "output_type": "execute_result",
          "data": {
            "text/plain": [
              "[({'lang': 'Python', 'level': 'Mid', 'phd': 'no', 'tweets': 'no'}, True),\n",
              " ({'lang': 'R', 'level': 'Mid', 'phd': 'yes', 'tweets': 'yes'}, True),\n",
              " ({'lang': 'Python', 'level': 'Mid', 'phd': 'yes', 'tweets': 'no'}, True),\n",
              " ({'lang': 'Java', 'level': 'Mid', 'phd': 'no', 'tweets': 'yes'}, True)]"
            ]
          },
          "metadata": {
            "tags": []
          },
          "execution_count": 14
        }
      ]
    },
    {
      "cell_type": "code",
      "metadata": {
        "id": "2ZFqdkJ7erx3",
        "colab": {
          "base_uri": "https://localhost:8080/",
          "height": 102
        },
        "outputId": "c26e22c4-e527-4815-e2f2-e0e2e4acf3c2"
      },
      "source": [
        "# Task 2: Apply the greedy algorithm to the level = 'Junior' set\n",
        "# to fill out that part of the decision tree\n",
        "\n",
        "lev_junior_data"
      ],
      "execution_count": null,
      "outputs": [
        {
          "output_type": "execute_result",
          "data": {
            "text/plain": [
              "[({'lang': 'Python', 'level': 'Junior', 'phd': 'no', 'tweets': 'no'}, True),\n",
              " ({'lang': 'R', 'level': 'Junior', 'phd': 'no', 'tweets': 'yes'}, True),\n",
              " ({'lang': 'R', 'level': 'Junior', 'phd': 'yes', 'tweets': 'yes'}, False),\n",
              " ({'lang': 'Python', 'level': 'Junior', 'phd': 'no', 'tweets': 'yes'}, True),\n",
              " ({'lang': 'Python', 'level': 'Junior', 'phd': 'yes', 'tweets': 'no'}, False)]"
            ]
          },
          "metadata": {
            "tags": []
          },
          "execution_count": 18
        }
      ]
    },
    {
      "cell_type": "code",
      "metadata": {
        "id": "II73JNAmgBt_",
        "colab": {
          "base_uri": "https://localhost:8080/",
          "height": 68
        },
        "outputId": "d43d07d0-9710-40c6-8a4e-8dfbbfc13d43"
      },
      "source": [
        "attr = 'lang'\n",
        "sets = ['Java', 'R', 'Python']\n",
        "\n",
        "H_part = entropy_part(attr, sets, lev_junior_data)\n",
        "\n",
        "print('Entropy of {} partition is {:.4f}'.format(attr, H_part))\n",
        "\n",
        "attr = 'tweets'\n",
        "sets = ['yes', 'no']\n",
        "\n",
        "H_part = entropy_part(attr, sets, lev_junior_data)\n",
        "\n",
        "print('Entropy of {} partition is {:.4f}'.format(attr, H_part))\n",
        "\n",
        "attr = 'phd'\n",
        "sets = ['yes', 'no']\n",
        "\n",
        "H_part = entropy_part(attr, sets, lev_junior_data)\n",
        "\n",
        "print('Entropy of {} partition is {:.4f}'.format(attr, H_part))"
      ],
      "execution_count": null,
      "outputs": [
        {
          "output_type": "stream",
          "text": [
            "Entropy of lang partition is 0.9510\n",
            "Entropy of tweets partition is 0.9510\n",
            "Entropy of phd partition is 0.0000\n"
          ],
          "name": "stdout"
        }
      ]
    },
    {
      "cell_type": "code",
      "metadata": {
        "id": "_s2CwkltgKLg"
      },
      "source": [
        "# Break data into subsets\n",
        "lev_junior_tweets_y = [record for record in lev_junior_data if record[0]['phd'] == 'yes']\n",
        "lev_junior_tweets_n = [record for record in lev_junior_data if record[0]['phd'] == 'no']"
      ],
      "execution_count": null,
      "outputs": []
    },
    {
      "cell_type": "code",
      "metadata": {
        "id": "z-q3jDRomNfg",
        "colab": {
          "base_uri": "https://localhost:8080/",
          "height": 51
        },
        "outputId": "29e801f2-99ee-40da-d7ba-c6f24d8901b6"
      },
      "source": [
        "lev_junior_tweets_y"
      ],
      "execution_count": null,
      "outputs": [
        {
          "output_type": "execute_result",
          "data": {
            "text/plain": [
              "[({'lang': 'R', 'level': 'Junior', 'phd': 'yes', 'tweets': 'yes'}, False),\n",
              " ({'lang': 'Python', 'level': 'Junior', 'phd': 'yes', 'tweets': 'no'}, False)]"
            ]
          },
          "metadata": {
            "tags": []
          },
          "execution_count": 49
        }
      ]
    },
    {
      "cell_type": "code",
      "metadata": {
        "id": "HUsqQ_cegQkx",
        "colab": {
          "base_uri": "https://localhost:8080/",
          "height": 68
        },
        "outputId": "68b302f2-683d-4915-c6bd-f95cbaa2a2d3"
      },
      "source": [
        "lev_junior_tweets_n"
      ],
      "execution_count": null,
      "outputs": [
        {
          "output_type": "execute_result",
          "data": {
            "text/plain": [
              "[({'lang': 'Python', 'level': 'Junior', 'phd': 'no', 'tweets': 'no'}, True),\n",
              " ({'lang': 'R', 'level': 'Junior', 'phd': 'no', 'tweets': 'yes'}, True),\n",
              " ({'lang': 'Python', 'level': 'Junior', 'phd': 'no', 'tweets': 'yes'}, True)]"
            ]
          },
          "metadata": {
            "tags": []
          },
          "execution_count": 50
        }
      ]
    },
    {
      "cell_type": "code",
      "metadata": {
        "id": "hz1RlQGaerx5"
      },
      "source": [
        "# Task 3: Complete the ascii art decision tree below, showing your\n",
        "# completed tree\n",
        "\n",
        "\"\"\"\n",
        "                      L E V E L\n",
        "                 /        |       \\\n",
        "               Senior    Mid    Junior\n",
        "               /          |         \\\n",
        "            tweets       hire       phd\n",
        "             / \\                    / \\\n",
        "           yes  no               yes   no\n",
        "           /     \\                /     \\ \n",
        "       hire    no hire         no hire  hire\n",
        "\"\"\";"
      ],
      "execution_count": null,
      "outputs": []
    },
    {
      "cell_type": "markdown",
      "metadata": {
        "id": "hTwDGxyeerx7"
      },
      "source": [
        "## Neural Networks\n",
        "\n",
        "We will be building a neural network to defeat a too-simple CAPCHA.  The CAPCHA consists of a picture of a single digit, made up of 25 pixels.  We want our nural network to take as input those pixel values and output the number that it correponds to.\n",
        "\n",
        "Our training data inputs will consist of all of the possible numbers."
      ]
    },
    {
      "cell_type": "code",
      "metadata": {
        "id": "-xGEPQRIerx8"
      },
      "source": [
        "zero_digit = [1,1,1,1,1,  # the 1s are the pixels that are dark\n",
        "              1,0,0,0,1,  # can you see the zero?\n",
        "              1,0,0,0,1,\n",
        "              1,0,0,0,1,\n",
        "              1,1,1,1,1]\n",
        "\n",
        "one_digit = [0,0,1,0,0, #   *\n",
        "             0,0,1,0,0, #   *\n",
        "             0,0,1,0,0, #   *\n",
        "             0,0,1,0,0, #   *\n",
        "             0,0,1,0,0] #   *\n",
        "\n",
        "two_digit = [1,1,1,1,1, # *****\n",
        "             0,0,0,0,1, #     *\n",
        "             1,1,1,1,1, # *****\n",
        "             1,0,0,0,0, # *\n",
        "             1,1,1,1,1] # *****\n",
        "\n",
        "thr_digit = [1,1,1,1,1, # *****\n",
        "             0,0,0,0,1, #     *\n",
        "             1,1,1,1,1, # *****\n",
        "             0,0,0,0,1, #     *\n",
        "             1,1,1,1,1] # *****\n",
        "\n",
        "fou_digit = [1,0,0,0,1, # *   *\n",
        "             1,0,0,0,1, # *   *\n",
        "             1,1,1,1,1, # *****\n",
        "             0,0,0,0,1, #     *\n",
        "             0,0,0,0,1] #     *\n",
        "\n",
        "fiv_digit = [1,1,1,1,1, # *****\n",
        "             1,0,0,0,0, # *    \n",
        "             1,1,1,1,1, # *****\n",
        "             0,0,0,0,1, #     *\n",
        "             1,1,1,1,1] # *****\n",
        "\n",
        "six_digit = [1,1,1,1,1, # *****\n",
        "             1,0,0,0,0, # *    \n",
        "             1,1,1,1,1, # *****\n",
        "             1,0,0,0,1, # *   *\n",
        "             1,1,1,1,1] # *****\n",
        "\n",
        "sev_digit = [1,1,1,1,1, # *****\n",
        "             0,0,0,0,1, #     *\n",
        "             0,0,0,0,1, #     *\n",
        "             0,0,0,0,1, #     *\n",
        "             0,0,0,0,1] #     *\n",
        "            \n",
        "eig_digit = [1,1,1,1,1, # *****\n",
        "             1,0,0,0,1, # *   *\n",
        "             1,1,1,1,1, # *****\n",
        "             1,0,0,0,1, # *   *\n",
        "             1,1,1,1,1] # *****\n",
        "\n",
        "nin_digit = [1,1,1,1,1, # *****\n",
        "             1,0,0,0,1, # *   *\n",
        "             1,1,1,1,1, # *****\n",
        "             0,0,0,0,1, #     *\n",
        "             1,1,1,1,1] # *****\n",
        "\n",
        "inputs = [zero_digit, one_digit, two_digit, thr_digit,\n",
        "          fou_digit, fiv_digit, six_digit, sev_digit,\n",
        "          eig_digit, nin_digit]"
      ],
      "execution_count": null,
      "outputs": []
    },
    {
      "cell_type": "markdown",
      "metadata": {
        "id": "XNXLBaVderx9"
      },
      "source": [
        "We want our output to indicate which digit the neural network thinks it is, so we'll need 10 outputs.  The correct output for digit 4, for instance, would be:\n",
        "\n",
        "[0, 0, 0, 0, 1, 0, 0, 0, 0, 0]\n",
        "\n",
        "so assuming the inputs are ordered from 0 to 9, the corresponding target outputs would be:"
      ]
    },
    {
      "cell_type": "code",
      "metadata": {
        "id": "s-XNZPzPerx_"
      },
      "source": [
        "targets = [[1 if i == j else 0 for i in range(10)] for j in range(10)]"
      ],
      "execution_count": null,
      "outputs": []
    },
    {
      "cell_type": "code",
      "metadata": {
        "id": "rkmo4_9ReryB",
        "colab": {
          "base_uri": "https://localhost:8080/",
          "height": 54
        },
        "outputId": "469a7134-29c9-4b52-ac5f-1bc0f9102439"
      },
      "source": [
        "print(targets)"
      ],
      "execution_count": null,
      "outputs": [
        {
          "output_type": "stream",
          "text": [
            "[[1, 0, 0, 0, 0, 0, 0, 0, 0, 0], [0, 1, 0, 0, 0, 0, 0, 0, 0, 0], [0, 0, 1, 0, 0, 0, 0, 0, 0, 0], [0, 0, 0, 1, 0, 0, 0, 0, 0, 0], [0, 0, 0, 0, 1, 0, 0, 0, 0, 0], [0, 0, 0, 0, 0, 1, 0, 0, 0, 0], [0, 0, 0, 0, 0, 0, 1, 0, 0, 0], [0, 0, 0, 0, 0, 0, 0, 1, 0, 0], [0, 0, 0, 0, 0, 0, 0, 0, 1, 0], [0, 0, 0, 0, 0, 0, 0, 0, 0, 1]]\n"
          ],
          "name": "stdout"
        }
      ]
    },
    {
      "cell_type": "code",
      "metadata": {
        "id": "e3pIG-h0eryE",
        "colab": {
          "base_uri": "https://localhost:8080/",
          "height": 34
        },
        "outputId": "8baa8343-2046-4d5b-d1ab-817af056e9a1"
      },
      "source": [
        "print(targets[4])"
      ],
      "execution_count": null,
      "outputs": [
        {
          "output_type": "stream",
          "text": [
            "[0, 0, 0, 0, 1, 0, 0, 0, 0, 0]\n"
          ],
          "name": "stdout"
        }
      ]
    },
    {
      "cell_type": "markdown",
      "metadata": {
        "id": "qyZAtI6NeryI"
      },
      "source": [
        "Now we are ready to build our neural network"
      ]
    },
    {
      "cell_type": "code",
      "metadata": {
        "id": "ylzMCNcferyJ"
      },
      "source": [
        "import random\n",
        "\n",
        "random.seed(0)   # to get repeatable results\n",
        "input_size = 25  # each input is a vector of length 25 (pixels)\n",
        "num_hidden = 5   # 5 neurons in the hidden layer\n",
        "output_size = 10 # output vector of length 10"
      ],
      "execution_count": null,
      "outputs": []
    },
    {
      "cell_type": "code",
      "metadata": {
        "id": "2-Bx5GzreryL"
      },
      "source": [
        "# Each hidden neuron has one weight per input, plus a bias weight\n",
        "\n",
        "hidden_layer = [[random.random() for _ in range(input_size + 1)]\n",
        "                for _ in range(num_hidden)]"
      ],
      "execution_count": null,
      "outputs": []
    },
    {
      "cell_type": "code",
      "metadata": {
        "id": "IMkoWqW2eryM"
      },
      "source": [
        "# Each output neuron has one weight per hidden neuron, plus a bias weight\n",
        "\n",
        "output_layer = [[random.random() for _ in range(num_hidden + 1)]\n",
        "                for _ in range(output_size)]"
      ],
      "execution_count": null,
      "outputs": []
    },
    {
      "cell_type": "code",
      "metadata": {
        "id": "PqpdquoIeryO"
      },
      "source": [
        "# The network starts out with random weights\n",
        "\n",
        "network = [hidden_layer, output_layer]"
      ],
      "execution_count": null,
      "outputs": []
    },
    {
      "cell_type": "markdown",
      "metadata": {
        "id": "SYlXo1zkeryQ"
      },
      "source": [
        "We have set up our neural network, now we need to train it with our inputs and target outputs.  We can do this with a series of back propagation and feed forward steps."
      ]
    },
    {
      "cell_type": "markdown",
      "metadata": {
        "id": "tSohd7yHeryR"
      },
      "source": [
        "### Feed forward\n",
        "\n",
        "Feeding forward means to run through the neural network, one layer at a time to go from inputs to outputs."
      ]
    },
    {
      "cell_type": "code",
      "metadata": {
        "id": "LXsFOum7eryR"
      },
      "source": [
        "import math\n",
        "\n",
        "# Define the sigmoid function which returns a zero for inputs\n",
        "# slightly less than zero and a one for inputs slightly greater\n",
        "# than zero and varies smoothly in between.\n",
        "def sigmoid(t):\n",
        "    return 1 / (1 + math.exp(-t))\n",
        "\n",
        "# Compute the neuron output based on weights and inputs\n",
        "def neuron_output(weights, inputs):\n",
        "    return sigmoid(np.dot(weights, inputs))\n",
        "\n",
        "def feed_forward(neural_network, input_vector):\n",
        "    \"\"\"takes in a neural network (represented as a list of \n",
        "    lists of lists of weights) and returns the output from \n",
        "    forward-propagating the input\"\"\"\n",
        "\n",
        "    outputs = []\n",
        "\n",
        "    for layer in neural_network:\n",
        "\n",
        "        input_with_bias = input_vector + [1]             # add a bias input\n",
        "        output = [neuron_output(neuron, input_with_bias) # compute the output\n",
        "                  for neuron in layer]                   # for this layer\n",
        "        outputs.append(output)                           # and remember it\n",
        "\n",
        "        # the input to the next layer is the output of this one\n",
        "        input_vector = output\n",
        "\n",
        "    return outputs"
      ],
      "execution_count": null,
      "outputs": []
    },
    {
      "cell_type": "markdown",
      "metadata": {
        "id": "Il0-LQ-5eryU"
      },
      "source": [
        "Let's try running a feed-forward on our untrained network"
      ]
    },
    {
      "cell_type": "code",
      "metadata": {
        "id": "p6A0No-meryV",
        "colab": {
          "base_uri": "https://localhost:8080/",
          "height": 54
        },
        "outputId": "61d9acd0-8027-4340-d25e-734b9543eb83"
      },
      "source": [
        "hidden, output = feed_forward(network, inputs[4])\n",
        "print(output)"
      ],
      "execution_count": null,
      "outputs": [
        {
          "output_type": "stream",
          "text": [
            "[0.927214123782649, 0.8741070411267978, 0.9612981708065071, 0.9694698718136389, 0.9339265462644313, 0.9324102446962134, 0.9390268649713612, 0.8963385066787134, 0.9748845384014487, 0.8617949754010217]\n"
          ],
          "name": "stdout"
        }
      ]
    },
    {
      "cell_type": "markdown",
      "metadata": {
        "id": "GJBlgWaUeryX"
      },
      "source": [
        "The output of our neural network is rubbish, but what did we expect?  We haven't trained it yet!"
      ]
    },
    {
      "cell_type": "markdown",
      "metadata": {
        "id": "pvNyDQ0DeryY"
      },
      "source": [
        "### Backpropagation\n",
        "With backpropagation, we work backwards through our neural network, ajusting the weights so that the desired ouptuts are trained into the network.  Backpropagation iterates over the following algorithm:\n",
        "\n",
        "1. Run feed_forward on an input vector to produce the outputs of all of the neurons in the network.\n",
        "2. This results in an error for each output neuron-the difference between its output and its target.\n",
        "3. Compute the gradient of this error as a function of the neuron's weights and adjust the weights in the direction that most decreases the error.\n",
        "4. \"Propagate\" these output errors backward to infer errors for the hidden layer.\n",
        "5. \"Compute the gradients of these errors and adjust the hidden layer's weights in the same manner."
      ]
    },
    {
      "cell_type": "code",
      "metadata": {
        "id": "XNATeWDFeryZ"
      },
      "source": [
        "def backpropagate(network, input_vector, target):\n",
        "\n",
        "    hidden_outputs, outputs = feed_forward(network, input_vector)\n",
        "\n",
        "    # the output * (1 - output) is from the derivative of sigmoid\n",
        "    output_deltas = [output * (1 - output) * (output - target[i])\n",
        "                     for i, output in enumerate(outputs)]\n",
        "\n",
        "    # adjust weights for output layer (network[-1])\n",
        "    for i, output_neuron in enumerate(network[-1]):\n",
        "        for j, hidden_output in enumerate(hidden_outputs + [1]):\n",
        "            output_neuron[j] -= output_deltas[i] * hidden_output\n",
        "\n",
        "    # back-propagate errors to hidden layer\n",
        "    hidden_deltas = [hidden_output * (1 - hidden_output) *\n",
        "                      np.dot(output_deltas, [n[i] for n in network[-1]])\n",
        "                     for i, hidden_output in enumerate(hidden_outputs)]\n",
        "\n",
        "    # adjust weights for hidden layer (network[0])\n",
        "    for i, hidden_neuron in enumerate(network[0]):\n",
        "        for j, input in enumerate(input_vector + [1]):\n",
        "            hidden_neuron[j] -= hidden_deltas[i] * input"
      ],
      "execution_count": null,
      "outputs": []
    },
    {
      "cell_type": "markdown",
      "metadata": {
        "id": "_sP7s4xperyb"
      },
      "source": [
        "Now we can train!"
      ]
    },
    {
      "cell_type": "code",
      "metadata": {
        "id": "aWvNVAkSeryf"
      },
      "source": [
        "# 10,000 iterations seems enough to converge\n",
        "for __ in range(10000):\n",
        "    for input_vector, target_vector in zip(inputs, targets):\n",
        "        backpropagate(network, input_vector, target_vector)"
      ],
      "execution_count": null,
      "outputs": []
    },
    {
      "cell_type": "markdown",
      "metadata": {
        "id": "jEF7VkGperyh"
      },
      "source": [
        "Try again with an input of 4"
      ]
    },
    {
      "cell_type": "code",
      "metadata": {
        "id": "2FC7XFdKeryh",
        "colab": {
          "base_uri": "https://localhost:8080/",
          "height": 34
        },
        "outputId": "a12e6225-bd74-469b-e1a0-1ff8c7c28432"
      },
      "source": [
        "hidden, output = feed_forward(network, inputs[4])\n",
        "print(' '.join('{:.2f}'.format(num) for num in output))\n"
      ],
      "execution_count": null,
      "outputs": [
        {
          "output_type": "stream",
          "text": [
            "0.00 0.02 0.01 0.00 0.99 0.00 0.00 0.00 0.00 0.00\n"
          ],
          "name": "stdout"
        }
      ]
    },
    {
      "cell_type": "code",
      "metadata": {
        "id": "jUoSRIq9eryj",
        "colab": {
          "base_uri": "https://localhost:8080/",
          "height": 34
        },
        "outputId": "37f38f2b-bdd5-4b57-8e38-18777bb1a944"
      },
      "source": [
        "# Task 4 Display the neural network ouput for the number 9 input\n",
        "\n",
        "hidden, output = feed_forward(network, inputs[9])\n",
        "print(' '.join('{:.2f}'.format(num) for num in output))"
      ],
      "execution_count": null,
      "outputs": [
        {
          "output_type": "stream",
          "text": [
            "0.00 0.00 0.00 0.01 0.00 0.01 0.00 0.00 0.03 0.95\n"
          ],
          "name": "stdout"
        }
      ]
    },
    {
      "cell_type": "markdown",
      "metadata": {
        "id": "BPvCyYOFerym"
      },
      "source": [
        "Hooray!  Only the output associated with 4 is close to 1!  The neural network can now correctly identify our inputs.\n",
        "\n",
        "Of course, we tested our neural network with a piece of the training data so it **should** work well.  What if we have an input that is close to, but not quite, our training data?"
      ]
    },
    {
      "cell_type": "code",
      "metadata": {
        "id": "2wW7a8rxeryn",
        "colab": {
          "base_uri": "https://localhost:8080/",
          "height": 34
        },
        "outputId": "74e578d4-2add-43f9-d2ed-6e999099726e"
      },
      "source": [
        "different_three = [0,1,1,1,0, #  *** \n",
        "                   0,0,0,1,1, #    **\n",
        "                   0,0,1,1,0, #   ** \n",
        "                   0,0,0,1,1, #    **\n",
        "                   0,1,1,1,0] #  *** \n",
        "\n",
        "hidden, output = feed_forward(network, different_three)\n",
        "print(' '.join('{:.2f}'.format(num) for num in output))"
      ],
      "execution_count": null,
      "outputs": [
        {
          "output_type": "stream",
          "text": [
            "0.00 0.00 0.00 0.99 0.00 0.00 0.00 0.04 0.00 0.26\n"
          ],
          "name": "stdout"
        }
      ]
    },
    {
      "cell_type": "markdown",
      "metadata": {
        "id": "7aPb_6wPeryq"
      },
      "source": [
        "3 is designated as being highly likely but it is (sometimes) not the only one."
      ]
    },
    {
      "cell_type": "code",
      "metadata": {
        "id": "BM_lHlSxeryr",
        "colab": {
          "base_uri": "https://localhost:8080/",
          "height": 34
        },
        "outputId": "a7ae7e88-c9b2-41cc-c21e-c7b57e9a82cc"
      },
      "source": [
        "# Task 5 create a data set for a different 1 and display\n",
        "# the output of the trained network on that set.\n",
        "\n",
        "different_one =   [0,0,1,0,0, #   *\n",
        "                   0,1,1,0,0, #  **\n",
        "                   1,0,1,0,0, # * *\n",
        "                   0,0,1,0,0, #   *\n",
        "                   1,1,1,1,1] # ****** \n",
        "\n",
        "hidden, output = feed_forward(network, different_one)\n",
        "print(' '.join('{:.2f}'.format(num) for num in output))"
      ],
      "execution_count": null,
      "outputs": [
        {
          "output_type": "stream",
          "text": [
            "0.00 0.99 0.42 0.00 0.01 0.00 0.00 0.00 0.00 0.00\n"
          ],
          "name": "stdout"
        }
      ]
    },
    {
      "cell_type": "markdown",
      "metadata": {
        "id": "qZ9Stacgeryu"
      },
      "source": [
        "Just for fun, let's make some plots of the weights of the hidden neurons so we can see how they look."
      ]
    },
    {
      "cell_type": "code",
      "metadata": {
        "id": "KITXZMaOeryu"
      },
      "source": [
        "import matplotlib\n",
        "import matplotlib.pyplot as plt\n",
        "%matplotlib inline\n",
        "\n",
        "def show_weights(neuron_idx):\n",
        "    weights = network[0][neuron_idx]\n",
        "    abs_weights = [abs(weight) for weight in weights]\n",
        "\n",
        "    grid = [abs_weights[row:(row+5)] # turn the weights into a 5x5 grid\n",
        "            for row in range(0,25,5)] # [weights[0:5], ..., weights[20:25]]\n",
        "\n",
        "    ax = plt.gca() # to use hatching, we'll need the axis\n",
        "\n",
        "    ax.imshow(grid, # here same as plt.imshow\n",
        "              cmap=matplotlib.cm.Blues, # use white-black color scale\n",
        "              interpolation='none') # plot blocks as blocks\n",
        "\n",
        "    plt.show()"
      ],
      "execution_count": null,
      "outputs": []
    },
    {
      "cell_type": "code",
      "metadata": {
        "id": "luyzkCdAeryw",
        "colab": {
          "base_uri": "https://localhost:8080/",
          "height": 269
        },
        "outputId": "a56589d7-289e-4ebc-b001-3f412aba1be4"
      },
      "source": [
        "show_weights(0)"
      ],
      "execution_count": null,
      "outputs": [
        {
          "output_type": "display_data",
          "data": {
            "image/png": "[encoded data removed]",
            "text/plain": [
              "<Figure size 432x288 with 1 Axes>"
            ]
          },
          "metadata": {
            "tags": []
          }
        }
      ]
    },
    {
      "cell_type": "code",
      "metadata": {
        "id": "sPoZy4fHeryx",
        "colab": {
          "base_uri": "https://localhost:8080/",
          "height": 269
        },
        "outputId": "b80c37ad-366b-4fdf-831c-ab2cc4f1725e"
      },
      "source": [
        "show_weights(1)"
      ],
      "execution_count": null,
      "outputs": [
        {
          "output_type": "display_data",
          "data": {
            "image/png": "[encoded data removed]",
            "text/plain": [
              "<Figure size 432x288 with 1 Axes>"
            ]
          },
          "metadata": {
            "tags": []
          }
        }
      ]
    },
    {
      "cell_type": "code",
      "metadata": {
        "id": "Wttzu0PSeryz",
        "colab": {
          "base_uri": "https://localhost:8080/",
          "height": 269
        },
        "outputId": "a159874e-51f0-44f5-e203-a2a15ffbfb88"
      },
      "source": [
        "show_weights(2)"
      ],
      "execution_count": null,
      "outputs": [
        {
          "output_type": "display_data",
          "data": {
            "image/png": "[encoded data removed]",
            "text/plain": [
              "<Figure size 432x288 with 1 Axes>"
            ]
          },
          "metadata": {
            "tags": []
          }
        }
      ]
    },
    {
      "cell_type": "code",
      "metadata": {
        "id": "OyScWvE1ery4",
        "colab": {
          "base_uri": "https://localhost:8080/",
          "height": 269
        },
        "outputId": "21974810-6f20-4dcd-8c9a-4c5a8f6377c6"
      },
      "source": [
        "show_weights(3)"
      ],
      "execution_count": null,
      "outputs": [
        {
          "output_type": "display_data",
          "data": {
            "image/png": "[encoded data removed]",
            "text/plain": [
              "<Figure size 432x288 with 1 Axes>"
            ]
          },
          "metadata": {
            "tags": []
          }
        }
      ]
    },
    {
      "cell_type": "code",
      "metadata": {
        "id": "jeT9UI9rery6",
        "colab": {
          "base_uri": "https://localhost:8080/",
          "height": 269
        },
        "outputId": "1568ae81-7d2e-418f-e392-c2bf8ebd51a3"
      },
      "source": [
        "show_weights(4)"
      ],
      "execution_count": null,
      "outputs": [
        {
          "output_type": "display_data",
          "data": {
            "image/png": "[encoded data removed]",
            "text/plain": [
              "<Figure size 432x288 with 1 Axes>"
            ]
          },
          "metadata": {
            "tags": []
          }
        }
      ]
    },
    {
      "cell_type": "markdown",
      "metadata": {
        "id": "vD93NO3Tery-"
      },
      "source": [
        "It looks like our hidden neurons 1 and 3 would both fire strongly on inputs[1] since they are sensitive to central, vertical pixels.  Let's see if we are right."
      ]
    },
    {
      "cell_type": "code",
      "metadata": {
        "id": "QwaC4o5eery_",
        "colab": {
          "base_uri": "https://localhost:8080/",
          "height": 34
        },
        "outputId": "9fe46abd-d6c6-4b3e-fe09-30d87ffa1da5"
      },
      "source": [
        "hidden, output = feed_forward(network, inputs[1])\n",
        "print(hidden)"
      ],
      "execution_count": null,
      "outputs": [
        {
          "output_type": "stream",
          "text": [
            "[0.0001848992833641413, 0.9995057778648715, 0.9997038490884612, 0.9993306164826646, 0.7173676990713651]\n"
          ],
          "name": "stdout"
        }
      ]
    },
    {
      "cell_type": "markdown",
      "metadata": {
        "id": "LJTupK_qerzB"
      },
      "source": [
        "Hey, we were right."
      ]
    },
    {
      "cell_type": "code",
      "metadata": {
        "id": "vGiFKupperzH",
        "colab": {
          "base_uri": "https://localhost:8080/",
          "height": 34
        },
        "outputId": "b7cab77c-d523-45e0-9fbe-8513c541451b"
      },
      "source": [
        "# Task 6: Make a prediction for which hidden layer neurons \n",
        "# will fire strongly for inputs[7].  Run the network on\n",
        "# this input and print the hidden layer outputs\n",
        "\n",
        "hidden, output = feed_forward(network, inputs[7])\n",
        "print(hidden)"
      ],
      "execution_count": null,
      "outputs": [
        {
          "output_type": "stream",
          "text": [
            "[5.6682748491307504e-09, 0.9993146463418915, 0.08703816693214435, 0.9998023404893324, 1.115510073774802e-06]\n"
          ],
          "name": "stdout"
        }
      ]
    }
  ]
}